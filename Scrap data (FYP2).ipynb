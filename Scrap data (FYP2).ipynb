{
 "cells": [
  {
   "cell_type": "code",
   "execution_count": 1,
   "metadata": {},
   "outputs": [],
   "source": [
    "from bs4 import BeautifulSoup as bs\n",
    "from urllib.request import Request, urlopen\n",
    "import datetime\n",
    "import tqdm"
   ]
  },
  {
   "cell_type": "markdown",
   "metadata": {},
   "source": [
    "<font size=\"30\">Set Up MongoDB for data storage</font>"
   ]
  },
  {
   "cell_type": "code",
   "execution_count": 2,
   "metadata": {},
   "outputs": [
    {
     "name": "stdout",
     "output_type": "stream",
     "text": [
      "Connected successfully!!!\n"
     ]
    }
   ],
   "source": [
    "from pymongo import MongoClient\n",
    "\n",
    "try: \n",
    "    client = MongoClient()\n",
    "    print(\"Connected successfully!!!\") \n",
    "except:\n",
    "    print(\"Could not connect to MongoDB\") \n",
    "\n",
    "db = client.job_advert_db #select database\n",
    "collection = db.job_advert #select collection to insert"
   ]
  },
  {
   "cell_type": "markdown",
   "metadata": {},
   "source": [
    "<font size=\"30\">-------------</font>\n",
    "<font size=\"30\">JobStreet Scraping</font>\n",
    "<font size=\"30\">-------------</font>"
   ]
  },
  {
   "cell_type": "code",
   "execution_count": 3,
   "metadata": {},
   "outputs": [
    {
     "name": "stderr",
     "output_type": "stream",
     "text": [
      "\r",
      "  0%|                                                                                           | 0/47 [00:00<?, ?it/s]"
     ]
    },
    {
     "name": "stdout",
     "output_type": "stream",
     "text": [
      "{'title': 'Business Intelligence Developer', 'desc': ' A software house seeks for Business Intelligence DeveloperDiverse work cultureCompetitive remuneration packageProgressive career growth Our ClientOur client is a key player that produces top notch customized solutions for customers in hospitality industry. They pride themselves with more than 30 years of excellence, serving thousands of hotels worldwide. The RoleThe Business Intelligence Developer has the following day-to-day responsibilities:Involve in end-to-end deployment of BI modules which includes design, development, implementation, and support.Work on existing reports and dashboards for continuous improvement.Prepare relevant technical documentations.Responsible on graphical data presentations and front-end development.Data gathering, analysis, and translating them to visual representations. The Successful ApplicantPossess a Degree in Computer Science, Information Technology, Computer Engineering or any equivalents.More than 5 years of relevant experience in writing SQL Queries for dashboard and reporting.Good understanding on analytics compartment via web element.Hands on experience in BI tools (Tableu, Quickview, Power BI, etc).Good communicator with great presentation skills. How to ApplyContact Wong Kar Yen on +(60) 3 23007202 or APPLY NOW by clicking the button below or email to [email\\xa0protected] quoting ref no. #229125. For similar opportunities, please visit www.ambition.com.my. Only shortlisted candidates will be notified. Data provided is for recruitment purposes only. *LI-ITBusiness Registration Number: 1048918-T. License Number: JTK 2710 ', 'date_rec': '2019-03-12', '_id': ObjectId('5c8738ee7c03e92c903beb6f')}\n"
     ]
    },
    {
     "name": "stderr",
     "output_type": "stream",
     "text": [
      "\r",
      "  2%|█▊                                                                                 | 1/47 [00:05<03:51,  5.04s/it]"
     ]
    },
    {
     "name": "stdout",
     "output_type": "stream",
     "text": [
      "46\n",
      "45\n",
      "{'title': 'Embedded Software Engineer - C/C++/C#', 'desc': ' Our client is Embedded Software Engineers for various development projects\\xa0Job scope includes software analysis, software design, code implementation, software integration, module verification and validationYou will be responsible for the quality and on-time delivery of your work-products throughout the software development lifecyclesRequirements:Degree/Masters in Computer Science/Engineering, or a related discipline,\\xa0Strong understanding to Object-Oriented Analysis and Design (OOAD)Excellent/Strong programming skills in C/C++/C#Experience in embedded development tools (emulators, analyzers, oscilloscopes, etc)Familiar with communication protocols CAN, SPI, i2c, UARTAt least 1-2 year(s) of working experience in the related field is required for this position.Mulitple vacancies availableLocation: Kalland/Boon Keng, Singapore\\xa0If Interested, kindly send in latest cv in MS word format to [email\\xa0protected] OR click Apply Now!We regret to inform that only shortlisted applicants will notified. Thank you!\\xa0Consultant Name: Karen ShiRegistration ID: R1438107EA License No:\\xa0 02C3423\\xa0 ', 'date_rec': '2019-03-12', '_id': ObjectId('5c8738f07c03e92c903beb70')}\n"
     ]
    },
    {
     "name": "stderr",
     "output_type": "stream",
     "text": [
      "\r",
      "  6%|█████▎                                                                             | 3/47 [00:06<02:43,  3.72s/it]"
     ]
    },
    {
     "name": "stdout",
     "output_type": "stream",
     "text": [
      "44\n",
      "{'title': 'Campaign Data Analyst', 'desc': ' A multinational data analytics company seeks for Data AnalystOptimistic and diverse work cultureExtensive training and development programs providedAgile work space with flexible work hours Our ClientOur client is a multinational data analytics institution. They devote a great deal of time and effort in providing the best workplace environment for all their employees. At this juncture, they are looking to hire a Data Analyst to support their expanding business. The RoleThe Data Analyst has the following day-to-day responsibilities:Write SQL codes based on business requirements to generate relevant consumer insights with the collected data.Using solution tools to assist in designing, supporting, and delivering campaigns.Maintain quality control processes and escalate issues as needed. The Successful ApplicantPossess a Degree in Computer Science, Information Technology, Computer Engineering or any numerate discipline.Strong grasp in writing SQL codes for data extraction and segmentationFamiliar with digital marketing principlesGood understanding of RDBMSDirect exposure to marketing management software (Salesforce, IBM Unica, etc)Independent individual that can meet tight deadlines and work under pressure.Great team player to work in a diverse work place. How to ApplyContact Wong Kar Yen on +(60) 3 23007202 or APPLY NOW by clicking the button below or email to [email\\xa0protected] quoting ref no. #228814. For similar opportunities, please visit www.ambition.com.my. Only shortlisted candidates will be notified. Data provided is for recruitment purposes only. *LI-ITBusiness Registration Number: 1048918-T. License Number: JTK 2710 ', 'date_rec': '2019-03-12', '_id': ObjectId('5c8738f17c03e92c903beb71')}\n"
     ]
    },
    {
     "name": "stderr",
     "output_type": "stream",
     "text": [
      "\r",
      "  9%|███████                                                                            | 4/47 [00:07<02:11,  3.07s/it]"
     ]
    },
    {
     "name": "stdout",
     "output_type": "stream",
     "text": [
      "43\n",
      "{'title': 'Front End Developer (Web Developer)', 'desc': ' Requirements:\\xa0- The Candidate shall possess at least a Bachelor Degree in Information Technology (IT), Computer Engineering, Computer Science or equivalent. Candidates without a degree but with relevant experience and a strong portfolio will be consideredon a case by case basis.\\xa0- The Candidate shall have at least TWO (2) years of working experience in the IT or\\xa0Infocomm industry, with exposure to end-to-end software development lifecycle (SDLC), system analysis and design, front-end web application development, and operational support and maintenance.\\xa0- The Candidate shall have at least TWO (2) years of experience and be proficient in designing, developing and maintaining web applications using Microsoft .NET, Bootstrap front-end web framework and other technologies such as HTML, DHTML, CSS, JavaScript, JQuery and Ajax.\\xa0- The Candidate shall have at least TWO (2) years of experience and be proficient in Service Oriented Architecture (SOA), including web services development and integration using SOAP and/or REST based web services.\\xa0- The Candidate shall have at least TWO (2) years of experience in designing, developing and implementing user-friendly, visually-pleasing websites and user interfaces for web applications.\\xa0- The Candidate shall have strong understanding of web design principles and best practices. For instance, experience in designing mobile responsive websites, mobile first design or similar practices.\\xa0- During the interview, candidates shall present their portfolio and answer questions to demonstrate their competency related to web design and/or web application development. The portfolio is to cover the following:a) Screenshots of the websites/web componentsb) URLs/web addresses of the websites/web components (if available)c) Roles played in the projectd) Tools used to accomplish the tasks\\xa0- The Candidate shall have at least TWO (2) years of experience and be proficient in:a) Web markup, including HTML5 and CSS3b) Basic understanding of server-side CSS pre-processing platforms, such asSASSc) Client-side scripting and JavaScript frameworks, such as jQueryd) Responsive web applications using frameworks such as Bootstrape) Good understanding of asynchronous request handling, partial pageupdates, and AJAXf) Cross-browser compatibility issues and ways to work around themg) Code versioning tools such as SVN or TFS\\xa0Interested candidate may apply the job to [email\\xa0protected] with your expected salary and availability. ', 'date_rec': '2019-03-12', '_id': ObjectId('5c8738f27c03e92c903beb72')}\n"
     ]
    },
    {
     "name": "stderr",
     "output_type": "stream",
     "text": [
      "\r",
      " 11%|████████▊                                                                          | 5/47 [00:08<01:41,  2.42s/it]"
     ]
    },
    {
     "name": "stdout",
     "output_type": "stream",
     "text": [
      "42\n",
      "{'title': 'Software Developer @ Petaling Jaya [REF:YY]', 'desc': \" ROLES & RESPONSIBILITIESTo participate in the requirement analysis and design of applicationsBe responsible for development of application system for the company according to the technical design providedTo provide software testing on developed application systemTo provide software modification/bug fixingTo provide software implementation and software post release modification supportTo manage own application development activities and ensure on time delivery of deliverablesOn-job training will be providedOther opportunities include latest technologies training as well as career advancement opportunities towards management levelREQUIREMENTSCandidate must possess at least Diploma or Bachelor's Degree in Computer Science/Information Technology or equivalent qualificationRequired skill(s): ASP.NET, C#, MS SQL Server, C++, HTML, CSS, JavaScript are added bonusPreferably Junior Executive specialized in IT/Computer - Software or equivalentGood understanding and practice of object oriented programming and code reusabilityGood sense on user friendliness of the applicationAble to work independently with minor supervision and tight scheduleProactive, resourceful and a team playerUnderstanding of stock market industry is an added advantageJOB INFORMATIONIndustry\\xa0 \\xa0 \\xa0 \\xa0 \\xa0 \\xa0 \\xa0 \\xa0 \\xa0 \\xa0Computer/Information Technology (Software)Working Location\\xa0 \\xa0 Petaling JayaWorking Hours\\xa0 \\xa0 \\xa0 \\xa0 0830 - 1730 (Monday to Friday) \", 'date_rec': '2019-03-12', '_id': ObjectId('5c8738f37c03e92c903beb73')}\n"
     ]
    },
    {
     "name": "stderr",
     "output_type": "stream",
     "text": [
      "\r",
      " 13%|██████████▌                                                                        | 6/47 [00:09<01:17,  1.88s/it]"
     ]
    },
    {
     "name": "stdout",
     "output_type": "stream",
     "text": [
      "41\n",
      "{'title': 'Software Developer', 'desc': \" \\xa0Design and maintain the software of our product suite.\\xa0Job Requirement:\\xa0Bachelor's Degree / Diploma in Computer Science or its equivalent.Minimum 1 year\\xa0of working experience and proficient in any of the programming language / technology:.NET, ASP.NET, C#.Candidates without .NET exposure but with a background in Java and/or C++ are also considered suitable.Knowledge in MS SQL, Oracle, CRYSTAL Report, Web Application and ASP NETAcademic exposure to software development particularly C#.NET is added advantage.Applicants with Support role will be considered for the Application Support Engineer position.\\xa0Good written & spoken communication and interpersonal skills.Able to work independently and in a team with self initiative and positive attitude.5 Permanent positions available, fresh graduates are also encouraged to apply.\\xa0Company's Benefits:5 days work; (no shift / standby / weekend)Free breakfast / lunchYearly Increment & Performance BonusTraining, Certificates, Further studiesMedical & HospitalizationNearby public transportCompany trip / annual dinner\\xa0Please send your latest CV in Microsoft Word / PDF including both current & expected salary to [email\\xa0protected] All application would be treated highly confidential.\\xa0\\xa0 \\xa0\\xa0 \", 'date_rec': '2019-03-12', '_id': ObjectId('5c8738f47c03e92c903beb74')}\n"
     ]
    },
    {
     "name": "stderr",
     "output_type": "stream",
     "text": [
      "\r",
      " 15%|████████████▎                                                                      | 7/47 [00:10<01:04,  1.60s/it]"
     ]
    },
    {
     "name": "stdout",
     "output_type": "stream",
     "text": [
      "40\n",
      "{'title': '(TT) Front End Developer (ReactJs)[Ref:44192]- RM9k, KL', 'desc': \" Busines Nature:\\xa0Software/Information Processing, IT/Telecommunications, Web/Mobile/Game***Attraction:\\xa0High Salary Package\\xa0\\xa0Working hours: Weekday, Alternate Working On SaturdayWorking location: Bukit BintangRemuneration Packages: RM 5000 - RM9000- AL,\\xa0OT,\\xa0Birthday Gifts,\\xa0Monthly/Bimonthly Team Events/Team Building activities- Medical Outpatient Claim per annum- Monthly Living Allowance- Attire: Business or Smart Casual (NO t-shirts, shorts, sandals and etc.)\\xa0Job Description:• Implement the front-end technical design and development. Write robust front-end code using React frameworks• and libraries. Develop rich, interactive data visualizations, and other dynamic features• Automate test using tools like Selenium, Junit, Jasmine, Mocha, Chai.• Collaborate with business analysts to define business requirements. Be able to translate business requirements• into technical requirements• Rapidly design, prototype and iterate on creative concepts to meet the user requirements. Rapidly solve• problems and fix bugs• Provide guidance and knowledge transfer to other team members\\xa0Requirement:Candidate must possess at least a Bachelor's Degree, Post Graduate Diploma, Professional Degree, Computer Science/Information Technology or equivalent.At least 3 year(s) of working experience in the related field is required for this position.Preferably Junior Executives specializing in IT/Computer - Software or equivalent.Full-Time position(s) available.Require Skill :• Extensive experience building single page web application interfaces/development. Deep expertise in React, HTML5, CSS3, and JavaScript frameworks and libraries.• Strong experience with Redux, React-Router, Component-container design pattern.• Strong experience with test automation – experience with Selenium, Junit, Jasmine, Mocha, Chai etc• Prior experience using Babel.js• Knowledge on Webpack and Chrome Dev tools• Deep expertise designing and developing rich, interactive data visualizations• Strong understanding of web standards, cross-browser compatibility, and CSS-based design• Production experience with continuous integration• Familiarity with Git• Java and Spring experience is a plus• Understanding of application server and database development, including basic data structures and algorithms is a plus• Experience with Agile development methodology & Test-Driven development is a plus- Others :• Ability to work independently and with Pair collaboratively• Problem solver and technology enthusiastContact:1. Send in your latest resume to [email\\xa0protected]\\xa02. Call in for more info +60-32020-1885=======================================For interested applications, kindly indicate the following in your resume in order for us to process your application faster.- Reason for leaving past and present employment- Expected/Last drawn salary- Availability dateThanks you for your application but we regret that only shortlisted candidates will be notified\\xa0 \", 'date_rec': '2019-03-12', '_id': ObjectId('5c8738f47c03e92c903beb75')}\n"
     ]
    },
    {
     "name": "stderr",
     "output_type": "stream",
     "text": [
      "\r",
      " 17%|██████████████▏                                                                    | 8/47 [00:10<00:49,  1.28s/it]"
     ]
    },
    {
     "name": "stdout",
     "output_type": "stream",
     "text": [
      "39\n",
      "{'title': 'QA TL/Manager  Call Center - Johor $$$ HIGH SALARY', 'desc': \" Candidate must possess at least a Diploma, Advanced/Higher/Graduate Diploma, Bachelor's Degree, Post Graduate Diploma, Professional Degree, Master's Degree, any field.Required skill(s): QA.At least 5 year(s) of working experience in the related field is required for this position.Preferably Managers specializing in IT/Computer - Network/System/Database Admin or equivalent.Full-Time position(s) available.Job Description:\\xa0Defining Quality MetricsDefining quality standards and metrics for the current project/product.Working with all stake holders to ensure that the quality metrics is reviewed, closed and agreed upon.Make the QA team aware of the Quality matrix and resolve all the queries.Create a list of milestones and checkpoints and set measureable criteria’s to check the quality on timely basis.Defining Testing StrategiesDefining processes for test plan and several phases of testing cycle.Planning and scheduling several milestones and tasks like alpha and beta testing.Ensuring all development tasks meet quality criteria through test planning, test execution, quality assurance and issue tracking.Work closely on the deadlines of the projectEnsure the team is focusing on automation along with manual testing.Keep raising the bar and standards of all the quality processes with every project.Set processes for test plan reviews and ensure that that test plans get reviewed by all stakeholders.Push team continuously to innovate.Review test strategies and see that all the various kinds of testing like unit, functional, performance, stress, acceptance etc. are getting covered.LeadershipSet Quality standards for the teams in various new testing technologies in the industry. This may include finding new strategies for automation testing and day to day work processes like agile and scrum.Building up a team and choosing right number and skill set of resources.Assign various tasks to the engineers as per strength of individual.Setting up goals and objectives for QA managersMotivating team and taking informative quick decisions.Finding and arranging behavioral , functional, non-functional training needs\\xa0 for the teamCoordinate activities which enforce quality improvementsResolving conflicts among team members.Maintaining cordial relationships between cross functional teams like development, configuration management, program management, product managers etc.Negotiating with upper management with influential skills to buy in the ideas.Ensure that the highly motivated environment is creating in the team.Ensure that Rewards are given for each achievement in the team.ReportingReviewing status reports from team managers and taking appropriate actions accordingly.Should be focal point of contact for the QA team for all the escalations related to testing and Quality assurance.Sending crisp and clear status to the higher management.Creating and defining risks contingencies and plans.Seeking feedback from management when and wherever necessary.Managing RisksUnderstanding and defining areas to calculate the overall risk to the project.Creating strategies to mitigate those risks and take necessary measures to control the risks.Awareness to all the stake holders for the various risksCreate backup plans for all the testing strategies.Have team meetings at appropriate time to understand & review the current risks and motivate team to resolve the same.Process improvementsEnsure that the several testing and validation processes are improved continuously.Motivate team to improve the efficiency so that the time saved can be used in different work areas.Challenge the team continuously to move towards automation for all daily worksPublish the improvements to all the stakeholders and depict the improvements using data points.Create quarterly milestones for yearly improvement projects and set deadlines for the team to complete them.Work with the development team to ensure that the quality engineers get apt support like automation hooks or debug builds where ever and whenever possible.Ensure several quality improvement tools like code coverage, memory leaks are part of the development cycle, in case of conflicts resolve via upper management.\\xa0Requirements:Must have at least 4 years’ experience in QA processMust have call center experienceHave managed call calibration with stakeholders\\xa0 \", 'date_rec': '2019-03-12', '_id': ObjectId('5c8738f57c03e92c903beb76')}\n"
     ]
    },
    {
     "name": "stderr",
     "output_type": "stream",
     "text": [
      "\r",
      " 19%|███████████████▉                                                                   | 9/47 [00:11<00:40,  1.08s/it]"
     ]
    },
    {
     "name": "stdout",
     "output_type": "stream",
     "text": [
      "38\n",
      "{'title': 'Software Architect', 'desc': ' Responsibilities:Work closely with the product owners, application engineers to analyze the requirement, apply appropriate software engineering process to design, develop, test and release the software to the end customers.The candidate will be fluent with various software technologies to develop station controller, machine interfaces, connectivity data platform, MES automation services, predictive analytics and deploy these services through edge analytics and cloud solutions.The candidate will explore and research into technical aspects of software development.Qualification/requirements:Cert/Diploma/BSc/MSc/PhD in Computer Science, Data Science, Electronic Engineering, Computational Applied Statistics or equivalent with strong CGPA.Passionate coders who possess relevant process knowledge and experience in wafer test, packaging assembly and final test have desirable advantages.Prefer individuals who will enjoy solving challenging problems.Good english communication.Preferred Skills:The ideal candidate will possess knowledge and experience in at least three of the following areas: C++, Python, Javascript, CSS, AJAX, JQuery, Ruby on Rails, C# or ASP.Net, SQL, NoSQL, TCL/TK and, etc.Linux, Windows. ', 'date_rec': '2019-03-12', '_id': ObjectId('5c8738f57c03e92c903beb77')}\n"
     ]
    },
    {
     "name": "stderr",
     "output_type": "stream",
     "text": [
      "\r",
      " 21%|█████████████████▍                                                                | 10/47 [00:11<00:33,  1.12it/s]"
     ]
    },
    {
     "name": "stdout",
     "output_type": "stream",
     "text": [
      "37\n",
      "{'title': 'IT Specialist (Ref: 44051)', 'desc': \" ✔️ Job Scope:To develop projects related to machine automationTo develop, enhance and modify business applications to meet company's business goal.To develop business reports.To advice and support end users on systems.To carry out each phases in system software development life cycle.To transform requirement into design concepts and ERDS.To write clear and detailed technical specifications and documentation.To do documentation on system requirements, system flow charts and other documentations as per software development requirements or as per request from IT Manager.Carry out any job or task given by IT Manager and / or above.✔️ Requirement:Candidate must possess at least a Diploma, Advanced/Higher/Graduate Diploma, Bachelor's Degree, Post Graduate Diploma, Professional Degree, Master's Degree in Computer Science / Information Technology or any equivalent fields.Required skill(s):- Microsoft windows, C#, VB.Net, Oracle, MS Office and Crystal ReportRequired language(s): Bahasa Malaysia, EnglishAt least 5 year(s) of working experience in the related field and familiar with C# is required for this position.Full-Time position(s) available.✔️ Contact:1. Send in your latest resume to [email\\xa0protected]2. Call in +604-2919928 for more info3. FB Link: http://bit.ly/reeracoenpg=======================================For interested applications, kindly indicate the following in your resume for us to process your application faster.- Reason for leaving past and present employment- Expected/Last drawn salary- Availability dateThanks you for your application but we regret that only shortlisted candidates will be notified.\\xa0 \", 'date_rec': '2019-03-12', '_id': ObjectId('5c8738f77c03e92c903beb78')}\n"
     ]
    },
    {
     "name": "stderr",
     "output_type": "stream",
     "text": [
      "\r",
      " 23%|███████████████████▏                                                              | 11/47 [00:13<00:38,  1.07s/it]"
     ]
    },
    {
     "name": "stdout",
     "output_type": "stream",
     "text": [
      "36\n",
      "{'title': 'Customer Success Manager, Team Lead (FinTech) (Sales & Accounts) Kuala Lumpur', 'desc': ' Executive recruitment company Monroe Consulting Group Malaysia\\'s Professional Division is recruiting on behalf of a reputable FinTech organisation who have a bold vision for the future of the financial community. They are a company built on a unique open platform with high performance products, and best-in-class data. Our respected client is seeking a high performing professional with a minimum of 5 years’ experience for the role of Customer Success Manager, Team Lead. This position is based in Kuala Lumpur, Malaysia.\\xa0Job SummaryTo manage a team of Customer Success Managers that focus on customers utilising the company’s Trading, Investment & Advisory and Risk Desktops. You will be playing a key role to help corporate customers achieve their desired success with the purchased products, by utilising the company’s Enterprise Solutions (Real Time Content, Reference Data and Technology Stack). This is a player-manager role.\\xa0Key job responsibilitiesCreate and lead a winning team that delivers on revenue targets, KPIs, and ensures success for our customers in MalaysiaCoach, educate, and develop a team of passionate Customer Success Managers focused on our Desktop servicesDevelop and execute the customer success strategy for our platform (feeds, enterprise and risk) to drive revenue retentionMonitor customer health, adoption metrics, renewals and execution of customer success plansPartner with sales leadership to provide insights on customer health with a focus on adoption, expansion opportunities and renewalsProvide insights to Market Development and Customer Proposition on customer and industry trends to drive the voice of the customer in business strategyBuild deep relationships with key customer stakeholders to inform engagement strategy\\xa0Participate in industry events alongside the team to foster networking, brand presence, and stay up to date on industry trendsContribute to overall vision and strategy of the Customer Success Group\\xa0Job RequirementsBSc degree required, MSc preferred – Computer Science / IT / Information Systems backgroundAt least 5 years of customer success / client relationship experience, pre-sales, or consulting role preferably within a platform and/or content organizationDeep understanding and experience of Enterprise Technology, the Financial Services industry and strong external networkBe part of the local FinTech and / or RegTech community with experience in emerging technologies e.g. cloud services, blockchain, big data, digital innovation etcExcellent communication and presentation skills to establish trusted advisor relationships with flexible interpersonal styleStrong track record of identifying customer needs and successfully executing on retention and adoption strategiesExcellent leadership skills and enthusiasm for coaching and developing talent to succeedAbility to challenge team members and be challenged, provide and receive feedback to achieve team goalsAbility to adapt and thrive in a fast-paced environment and rapidly changing marketInnovator who can use data to make decisions, simplify complex problems and express themselves thoughtfullyProactive and positive attitude with a \"Whatever it Takes\" approach to increase customer satisfaction and deepen relationships ', 'date_rec': '2019-03-12', '_id': ObjectId('5c8738f87c03e92c903beb79')}\n"
     ]
    },
    {
     "name": "stderr",
     "output_type": "stream",
     "text": [
      "\r",
      " 26%|████████████████████▉                                                             | 12/47 [00:15<00:43,  1.23s/it]"
     ]
    },
    {
     "name": "stdout",
     "output_type": "stream",
     "text": [
      "35\n",
      "{'title': 'Golang/JAVA-Fullstack/Backend Engineer', 'desc': ' Full Stack Engineer ( 3 openings)Location: (Suntec / Downtown MRT) (3 years’ experience)Salary S$4000 to S$6000.\\xa0 5 days week. 9am to 6pm\\xa0You will take a key role on our team. You must have knowledge in all stages of software development.You’ll be working alongside other engineers and developers, collaborating on the various layers of the infrastructure for our new project.On the front-end, you will use a combination of HTML, CSS, and JavaScript to build everything a user sees and interacts with on a website. On the back-end you will develop the application, server, micro services and database that make up the foundational structure of a website.\\xa0RESPONSIBILITIES• Design of overall architecture of the web application.• Maintain quality and ensure responsiveness of applications.• Collaborate with the team to design and launch new features.• Maintain code integrity and organization.• Experience working with graphic designers and converting designs to visual elements.• Understanding and implementation of security and data protection.• Design and build scalable REST APIs for micro services.• Proficient experience using front-end frameworks• Highly experienced in building responsive websites• Experience with cloud APIs (AWS)• Knowledge of code versioning tools (GIT)• Familiar and able to write unit test for both front-end and backend code• Familiar and able to code using good patterns and practices• Familiar and able to document code and provide API documentation i.e. swagger\\xa0COMPUTER PROFICIENCYLanguages/Frameworks: Java, Javascript, NodeJs, JQuery, Spring MVC, .NET, HTML5 and CSSApplication: JBoss, Weblogic, Websphere, Apache, IIS or open source web serversDatabase: MySQL, DynamoDBMiddleware: REST APIsPlatform: Web, AWS, Windows, Linux, DockerTools: DevOps – Jenkins, Jira, Code Commit, Code Pipeline Unit testing frameworks\\xa0COMPETENCIES• Strong interpersonal skills including mentoring, coaching, collaborating, and team building• Strong advocate of standards and challenge status quo with new and emerging technology to address new business challenges.• Excellent oral and written communications skills and experience interacting with both business and IT individuals at all levels including the executive level\\xa0*** Most applicant do ignore providing required information***Please have sufficient information in you CV, in order for us to process quickly.Please have only plain text in your CV, boarder and headers will cause obstacle to fit in clients’ required format.\\xa0Required Information:1. Recent Photo2. Reasons and salary for leaving ALL your employment3. Working Experience (Highlight related scopes)4. Qualification details5. Current/ Last salary6. Expected monthly salary7. Availability (Earliest date to start work)\\xa0DO NOT EMAIL PDF CV.\\xa0 Please check before you email.Email your CV in Words Doc to: [email\\xa0protected]\\xa0\\xa0Siew Thuay Lim (Hui)Registration Number: R1442808EA Licence Number: 03C5391 ', 'date_rec': '2019-03-12', '_id': ObjectId('5c8738f97c03e92c903beb7a')}\n"
     ]
    },
    {
     "name": "stderr",
     "output_type": "stream",
     "text": [
      "\r",
      " 28%|██████████████████████▋                                                           | 13/47 [00:15<00:33,  1.01it/s]"
     ]
    },
    {
     "name": "stdout",
     "output_type": "stream",
     "text": [
      "34\n",
      "{'title': 'Web Application Developer (.NET) (NEW POSITION) - Central', 'desc': ' • Company profile - Established Digital Marketing Company• Programming language required - Microsoft .NET Framework, ASP.NET, C#, SQL Server, HTML, CSS and JavaScript frameworks• Remuneration - Up $4200 + AWS + other attractive benefitsRESPONSIBILITIESInvolved in all phases of the software development life cycle - from requirements analysis, development, testing and implementation to on-going management and maintenance of the solutionsCoordinate internal resources and third parties/vendors for the flawless execution of projects *Ensure that all projects are delivered on-time, within scope and within budgetDeveloping project scopes and objectives, involving all relevant stakeholders and ensuring technical feasibilityEnsure resource availability and allocationDevelop a detailed project plan to track progressUse appropriate verification techniques to manage changes in project scope, schedule and costs *Measure project performance using appropriate systems, tools and techniquesReport and escalate to management as neededManage the relationship with the client and all stakeholdersPerform risk management to minimize project risksCreate and maintain comprehensive project documentationDevelop and code custom web based applications using .NET Framework, SQL server, Mysql, AWS and Azure on the backend if required\\xa0REQUIREMENTSDegree in MIS, Computer Science, related field or equivalent experience.Proven working experience as a project administrator in the information technology sectorSolid technical background, with understanding or hands-on experience in software development and web technologiesGood understanding of the .Net Framework, object-oriented programming, and multi-tier architecturesProficient in developing applications usingAt least 1-2 years of related work experience\\xa0Interested and suitable candidates kindly forward your recent resume in MS word\\xa0[email\\xa0protected]\\xa0We regret that only shortlisted candidate will be notifiedJMC Talent Search Pte Ltd\\xa0 / EA Licence No : 93C4957EA Personnel : Darrell TohEA Personnel No : R1220807\\xa0 ', 'date_rec': '2019-03-12', '_id': ObjectId('5c8738ff7c03e92c903beb7b')}\n"
     ]
    },
    {
     "name": "stderr",
     "output_type": "stream",
     "text": [
      "\r",
      " 30%|████████████████████████▍                                                         | 14/47 [00:21<01:19,  2.41s/it]"
     ]
    },
    {
     "name": "stdout",
     "output_type": "stream",
     "text": [
      "33\n",
      "{'title': 'HELPDESK - CYBERJAYA (REF: MY1)', 'desc': ' The potential hiring company is located in Cyberjaya and looking for right talent to join and grow together with them. They are one of the largest technology companies in the world. They are the leading global provider of technologies, solutions and services to enterprise business. The company\\'s offerings span enterprise IT infrastructure and enterprise IT services. They invent, engineer and deliver technology solutions that drive business value, create social value and improve the lives of their customers.Candidate must possess at least a Primary/Secondary School/SPM/\"O\" Level, Higher Secondary/STPM/\"A\" Level/Pre-U, Diploma, Advanced/Higher/Graduate Diploma, any field.No work experience required.Fresh graduates/ experience working as Customer Service/ Call Center are welcomed to apply.Required language(s): Mandarin, Bahasa Malaysia and English.Provide support to end users on their mobile and desktop platforms.Support consist of expertise on software application packages and the environments and platforms in which the business operated (desktop, laptops, PC-COE, remote access, messaging etc)Knowledge in technical skills in hardware, MS Operating Systems, Network, Remote Connectivity and process knowledge to ensure quality in all of the Global Service Desk business, infrastructure support and documnetations.Monitor queues for ticket misroutes, unresolve or those requiring deep investigations.Assist team with other duties required to maintain the call center operates smoothly.5 Full-Time position(s) available.TRAINING will be provided by the company. Fresh graduates are welcomed\\xa0 to apply this position. Applicants must be able to read, write and communicate in Mandarin to support Taiwan and China market. ', 'date_rec': '2019-03-12', '_id': ObjectId('5c8738ff7c03e92c903beb7c')}\n"
     ]
    },
    {
     "name": "stderr",
     "output_type": "stream",
     "text": [
      "\r",
      " 32%|██████████████████████████▏                                                       | 15/47 [00:21<01:01,  1.92s/it]"
     ]
    },
    {
     "name": "stdout",
     "output_type": "stream",
     "text": [
      "32\n",
      "{'title': 'Teacher/Tutor (IT Trainer) / Up to $2500 / Perm / SPMHOP', 'desc': ' • Permanent Position• Secondary/Primary School Environment• Location: Position available Island wide• Working Day: 5 Days work week• Salary: Up to $2500\\xa0JOB SCOPES:To develop and conduct IT based customized training to students and institution staffTo provide software and partial technical assistanceTo assist and update institution website and intranet.To support institution Head of IT Department in spearheading IT initiatives.To support any other ad-hoc tasks as required by institution HOD IT and/or school management.To submit monthly performance report to institution and company.JOB REQUIREMENTS:Minimum Diploma/Degree in any field or its equivalentExperience in Teaching would be an added advantageous\\xa0How to Apply?Interested candidates please Email your resume to [email\\xa0protected] or click “Apply Now”\\xa0**We regret that only shortlisted candidates will be notified. **By submitting any application or resume to us, you will be deemed to have agreed & consented to uscollecting, using, retaining & disclosing your personal information to prospective employers for theirconsideration\\xa0Ho Kah Yeow (Marcus) | R1879233ScienTec Consulting Pte Ltd (Scientec Personnel) | 11C5781\\xa0 ', 'date_rec': '2019-03-12', '_id': ObjectId('5c8739007c03e92c903beb7d')}\n"
     ]
    },
    {
     "name": "stderr",
     "output_type": "stream",
     "text": [
      "\r",
      " 34%|███████████████████████████▉                                                      | 16/47 [00:22<00:50,  1.63s/it]"
     ]
    },
    {
     "name": "stdout",
     "output_type": "stream",
     "text": [
      "31\n",
      "{'title': 'UI/UX Designer (Ref 21683)', 'desc': ' Responsibilities:- Participating in requirements gathering- Leading the user experience through various stages of a project including:\\xa0 user personas and flows, interface design strategy, site map creation, wire-framing, and usability testing- Conducting User Research and prioritizing end user needs and requirements- Conceptualize end user needs, visually communicate interactions through the use of sketching, low fidelity mockups or prototypes to gather fast feedback- Designing UX/UI that supports end user’ goals and behaviors.- Participating in presales activity and producing prototypes, presenting to customers on the design concepts- Advocate concepts and ideas from users’ perspective among stakeholders.- Creating style guides and wireframes.- Working in an Agile team where there is close collaboration with the front-end and back-end developers and in an iterative manner.Requirements:- Diploma or degree holder- At least 4 years working experience in design experience for software, Web applications which leverage emergent technologies, consumer electronics and/or mobile devices- Strong conceptualization ability, strong visual communication ability, drawing skills and sketchbook technique- Exceptional design skills, and attention to detail- Strong working knowledge of Photoshop, Illustrator, InDesign, Fireworks and associated design tools- Experience with user interface design patterns- Strong written, verbal and visual communication skills- Understanding of Agile software development- Working knowledge of front-end coding (HTML/JS/CSS)\\xa0Licence No: 08C4525 ', 'date_rec': '2019-03-12', '_id': ObjectId('5c8739017c03e92c903beb7e')}\n"
     ]
    },
    {
     "name": "stderr",
     "output_type": "stream",
     "text": [
      "\r",
      " 36%|█████████████████████████████▋                                                    | 17/47 [00:23<00:39,  1.31s/it]"
     ]
    },
    {
     "name": "stdout",
     "output_type": "stream",
     "text": [
      "30\n",
      "{'title': 'Application Engineer (Risk Management Software Solution Provider)', 'desc': ' APPLICATION ENGINEER / SENIOR APPLICATION ENGINEER (3 Vacancies)(walking distance to Ara Damansara LRT Station, Selangor)IT Security System / Risk Management Software Provider firmJob Responsibilities:Developing software solutions according to requirements and designPerform software application maintenance, development, testing & debugging assignmentsConducting unit test, integration test, system test, etc to ensure that project/product requirements are metProduce project/product related documentationProvides system support to customer (troubleshooting and problem resolution) upon escalated by L2 support teamDevelop and maintain an in-depth working knowledge of all products and services offered by the CompanyWorking closely with colleagues to provide solution in the event of critical software issueLeadership skills is required for senior roleAble to provide software solution guidance to the team for senior roleTravelling is requiredJob Requirements:Candidate must possess at least Diploma or Bachelors Degree in Software Engineering or equivalent.Mandatory skill(s): 2-5 years working experience in JAVA and J2EERequired skill(s): Java, C/C++, Visual C++, .NET, PL/SQL.Preferred skill(s): Shell Scripting (Linux, Unix), Oracle, MySQL, Crystal Reports, Web Services, Perl, Microsoft Technologies (MFC, WCF, WPF, CSLA.NET, MSMQ, Prism and etc), Hibernate, Oracle/MySQL DB Administration.Willing to take up challenge of engineering the unknown.Junior Application Engineer (RM3500 - RM6000)3 Full time position is available.\\xa0 ', 'date_rec': '2019-03-12', '_id': ObjectId('5c8739017c03e92c903beb7f')}\n"
     ]
    },
    {
     "name": "stderr",
     "output_type": "stream",
     "text": [
      "\r",
      " 38%|███████████████████████████████▍                                                  | 18/47 [00:24<00:31,  1.08s/it]"
     ]
    },
    {
     "name": "stdout",
     "output_type": "stream",
     "text": [
      "29\n",
      "{'title': 'Business Process Engineer | Local MNC | Central', 'desc': ' Leading Local EnterpriseUnderstand current processes and valuable outcomesAble to structure a large amount of information within a process frameworkJob scopeMapping/Reviewing existing business processes and “re-imagine” improved ones by maximizing customer value while minimizing waste and incorporating automation.Facilitate/lead process workshops that involve eliciting process requirements and liaising with usersAbility to interpret business requirements into digital solution.Create project plans that contain project goals, milestones, and resourcesMonitor, measure and provide feedback on process performanceLiaise with management to coordinate process improvement project activitiesRequirements:Enjoys variety at work as this is a wide-ranging role immersing in a variety of different projects, and able see the big picture.Work with other business teams and Digital Department to figure out the best way to design new processes and solve process-related problems.Strong analytical background, be a problem solver and have good diagramming and communication skillsKnowledge of process mapping and business process reengineering.Performed analysis of business processes and workflows with the objective of finding out how they can be improved or automated.Knowledge in business process modeling notations (BPMN, EPC, etc) and Business Process tools (ARIS).Interested candidates who wish to apply for the advertised position, please email us at\\xa0[email\\xa0protected] an updated copy of your resume in Ms word format.\\xa0We regret that only shortlisted candidates will be notified.EA Licence No 18C9228 Registration No. R1770238 (Jimmy Low)\\xa0 ', 'date_rec': '2019-03-12', '_id': ObjectId('5c8739027c03e92c903beb80')}\n"
     ]
    },
    {
     "name": "stderr",
     "output_type": "stream",
     "text": [
      "\r",
      " 40%|█████████████████████████████████▏                                                | 19/47 [00:24<00:25,  1.11it/s]"
     ]
    },
    {
     "name": "stdout",
     "output_type": "stream",
     "text": [
      "28\n",
      "{'title': 'IT Desktop Support | Local MNC | Central', 'desc': ' Leading Local EnterpriseStrong knowledge in enterprise IT hardware and softwareMicrosoft Certified Systems Engineer (MCSE), ITIL V3 will advantageResponsibilitiesProvide IT support to end user included enterprises hardware and softwareProvide IT administration & service desk support for internal customer.Provide solution to end user requests / problems via multiple channel (phone, email, remote service, IT Service Management System etc.)Supporting teleconference, audio/visual infrastructure and services.Participate in projects when required.RequirementExcellent technical knowledge and skills of Windows OS.Deep understanding of IT hardware and software (Microsoft Office Suite, Visio, etc.)Experience administering Active Directory domain, Group Policy, Microsoft Office 365.Knowledge in enterprise software installation, networking system troubleshooting, security patching, etc.Experienced in support the following application is a plusMobile Device ManagementMicrosoft System Centre Configuration ManagerMicrosoft Lync/SkypeMicrosoft BitLockerMicrosoft Certified Systems Engineer (MCSE), ITIL V3 will be a plusInterested candidates who wish to apply for the advertised position, please email us at\\xa0[email\\xa0protected]\\xa0an updated copy of your resume in Ms word format.\\xa0We regret that only shortlisted candidates will be notified.\\xa0EA Licence No 18C9228 Registration No. R1770238 (Jimmy Low) ', 'date_rec': '2019-03-12', '_id': ObjectId('5c8739027c03e92c903beb81')}\n"
     ]
    },
    {
     "name": "stderr",
     "output_type": "stream",
     "text": [
      "\r",
      " 43%|██████████████████████████████████▉                                               | 20/47 [00:25<00:21,  1.25it/s]"
     ]
    },
    {
     "name": "stdout",
     "output_type": "stream",
     "text": [
      "27\n",
      "{'title': 'Data Scientist (M&R;) | Local MNC | Central', 'desc': ' Leading Local EnterpriseStrong knowledge of AI/ML/Mathematical modelsStrong in Python, R, C++Exposure to High-Performance Computing & Natural Language ProcessingResponsibilitiesAnalyzing global energy markets to identify significant patterns and understanding and forecast trendsStrong understanding of AI/ML/ Statistical & mathematical modelsEnsure the developed models are of the highest standards of qualityResearch and develop AI/ML/ Statistical & mathematical models which are better suited for the energy market analysis, energy trading and related areasWork with different individuals from various M&R team across a wide range of regionsCollecting, analyzing, screening and manipulating different data sets required for analysis and build a M&R data lake to support all decision making processWork with Cloud based Big Data platforms and tools to design and deploy applications in collaboration with a global IT teamConduct testing / validation of Machine Learning models, model tuning and parameter optimizationRequirementPhD, Master’s degree in Computer Science, Engineering, Statistics or other related fieldsMore than 5 years of experience in machine learning solutions developmentExperienced in applying analytics/ML modeling for energy/utilities market analysis / trading applicationsStrong skills in Python/R/C++ or any other related programming languagesDeep understanding of AI/ML/Mathematical models with hands-on capability of building models and solutions for the end userExperienced in scalable solutions using R/Python/Scala/Spark/Hadoop on batch & real-time data and deploying on Cloud platforms using different PAAS servicesExperienced in identifying, accessing and data handling various data sources using a wide variety of tools (API/SQL/Web Scrapping, etc.)Exposure to High-Performance Computing and/or Natural Language Processing is a plusDemonstrable experience in delivering end-to-end data science projects collaborating directly with both technical and business stakeholdersInterested candidates who wish to apply for the advertised position, please email us at\\xa0[email\\xa0protected] an updated copy of your resume in Ms word format.\\xa0We regret that only shortlisted candidates will be notified.\\xa0EA Licence No 18C9228 Registration No. R1770238 (Jimmy Low) ', 'date_rec': '2019-03-12', '_id': ObjectId('5c8739047c03e92c903beb82')}\n"
     ]
    },
    {
     "name": "stderr",
     "output_type": "stream",
     "text": [
      "\r",
      " 45%|████████████████████████████████████▋                                             | 21/47 [00:26<00:27,  1.05s/it]"
     ]
    },
    {
     "name": "stdout",
     "output_type": "stream",
     "text": [
      "26\n",
      "{'title': 'Unix Engineer', 'desc': ' Provide primary support for UNIX/LINUX Server OSPerform daily monitoring, maintenance, and troubleshooting of UNIX servers.Able to troubleshoot common network protocols TCP/IP, SSH, HTTP, SFTP, DNS, SMTPKnowledge of UNIX server technologies such as HA ClusteringPerform systems changes through change request process & provide status reports to the relevant parties.Manage Systems incident handling and problem management, ensure incidents are resolved within SLA, and participate in incident review and preparing RCA (root cause analysis) report.\\xa0Monitor & measure the performance & availability of systems proactively; implement corrective actions identified to improve performance & availability.Monitor and adhere to the agreed service level, document & maintain the configuration of the systems; provide regular reporting to relevant parties.Ensure service levels meet requirement. Propose and implement action plans when required.Expected to work during off-peak hours on system activities (e.g. patching, upgrade)Identify, research, and resolve technical problemsBe able to effectively operate within set guidelines, policies and procedures, and able to execute instructions with minimal supervisionProvide supporting documentation, reports and other information to management (e.g. system utilization reports)Provide support for system technologies such as virtualization and middleware 15. UNIX scripting experienceRequried skills :\\xa0\\xa04 years of minimum Diploma/ Degree in Computer Information Systems or related field.Good troubleshooting skillsGood UNIX/LINUX Server Administration abilityIBM AIX and Oracle Solaris OS Certification/ Training preferred.ITIL v3 Foundation Certification - MandatoryRHEL/Oracle Solaris OS Certification or Training will be a plus.HA Clustering Product Certification or Training will be a plus.\\xa0VMware certification/training a plusOpen for Malaysians onlyWilling to work in 24/7 supportFluency in English is a prerequisiteGood verbal and written communication skillsGood coordination skillsAbility to prioritize effectively and work with a sense of urgencyEffectively communicate with teammates and managers ', 'date_rec': '2019-03-12', '_id': ObjectId('5c8739067c03e92c903beb83')}\n"
     ]
    },
    {
     "name": "stderr",
     "output_type": "stream",
     "text": [
      "\r",
      " 47%|██████████████████████████████████████▍                                           | 22/47 [00:28<00:32,  1.32s/it]"
     ]
    },
    {
     "name": "stdout",
     "output_type": "stream",
     "text": [
      "25\n",
      "24\n",
      "{'title': 'Technician – ($1.4K+OT / Computer Knowledge / Ubi)', 'desc': ' Maintain databasePerform media replication5 days, 8.30am – 5.30pm\\xa0Our client, a trusted and integrated provider, providing supply chain and logistics services to the world’s leading companies in consumer electronics, communications, computing, medical devices, software and retail is inviting suitably qualified candidates fill the position as a Technician.\\xa0RESPONSIBILITIES:Maintain DatabaseDownload / Upload & verify ISO imagesPerform media replicationPerform archive dutiesCommunicate with Customer / Vendor / Other Solution Center\\xa0REQUIREMENTS:Minimum Nitec or equivalentComputer knowledge\\xa0OTHER INFORMATION:Location:\\xa0 UbiWorking days: 5 days – Mon – Fri, 8.30am – 5.30pmSalary: Up to S$1,400 (salary will commensurate according to experience & qualifications).The Company strives to achieve employee satisfaction and provides conducive working environment, attractive incentives and remuneration to all staff.\\xa0HOW TO APPLY:If you are a team player, meticulous & organized, and more importantly, believe that YOU CAN MAKE A DIFFERENCE, we would like to hear from you.\\xa0Simply submit your application by emailing a detailed copy of your updated Resume in MS Word Format to Jesileen Tan (Reg. No.: R1545875) to [email\\xa0protected]\\xa0Click on “Apply Now” to submit your application now.\\xa0or call your friendly Consultant, Jesileen Tan Hwee Leng, at 6590 9911 for a confidential discussion.\\xa0\\xa0\\xa0Please indicate the below information in your resume:Current & Expected salaryReason(s) for leaving\\xa0\\xa0\\xa0Availability to commence workWe regret only short listed candidate will be notified. All applications will be treated with the strictest confidence.\\xa0By submitting any application or résumé to us, you will be deemed to have agreed and consented to us collecting, using, retaining and disclosing your personal information to prospective employers for their consideration.\\xa0 ', 'date_rec': '2019-03-12', '_id': ObjectId('5c8739077c03e92c903beb84')}\n"
     ]
    },
    {
     "name": "stderr",
     "output_type": "stream",
     "text": [
      "\r",
      " 51%|█████████████████████████████████████████▊                                        | 24/47 [00:29<00:25,  1.10s/it]"
     ]
    },
    {
     "name": "stdout",
     "output_type": "stream",
     "text": [
      "23\n",
      "{'title': 'Senior JAVA Developers l J2EE l MNC l Basic up to 9k! KL (P14)', 'desc': \" MNC companyLocated at KLHigh basic (Up to 9k)Good working environment Good career advancementJob Scope:Develop, implement, configure, support the maintenance and security of IT softwarePerform analysis, programming, testing and debuggingRecommend solutions to improve existing application processesRequirements:Candidate must possess at least a Bachelor's Degree in Computer Science/IT or equivalent.At least 3 years’ hands-on experience in Java DevelopmentRequired skill(s): JAVA,\\xa0J2EE, JavaScript, SQL, TOAD (Technical Developer)Good analytical skillsClick Apply now to grab the golden opportunity! \", 'date_rec': '2019-03-12', '_id': ObjectId('5c8739087c03e92c903beb85')}\n"
     ]
    },
    {
     "name": "stderr",
     "output_type": "stream",
     "text": [
      "\r",
      " 53%|███████████████████████████████████████████▌                                      | 25/47 [00:30<00:20,  1.06it/s]"
     ]
    },
    {
     "name": "stdout",
     "output_type": "stream",
     "text": [
      "22\n",
      "{'title': 'Application Software Engineer (Vision Inspection Systems) | Central', 'desc': ' Working Location: CentralWorking Hours/Days: 9am – 6pm (Mon – Fri)Industry: Integrated and customized automation systems solutions (Semiconductor, LED etc)Attractive employee benefits including dental, AWS & Performance Bonus\\xa0Job Responsibilities:To design & develop applications for vision inspection system.To implement enhancements to existing vision application.To evaluate and establish vision system performance specifications.\\xa0\\xa0To provide technical support to field service engineers and customers.Other ad-hoc tasks as assigned by superior.\\xa0Job Requirements:Degree/Diploma in Software Engineering, Electronics & Electrical Engineering, Computer Science or equivalent.Minimum 1 - 2 years of experience in software/application development in automation/machinery industry.Strong working knowledge/experience in Visual C++/ C# programming is a must.Experience in vision inspection / industrial image processing.High level of commitment, flexibility, able to work well independently in a team-oriented structural.\\xa0To ApplyInterested and suitable candidates kindly forward your updated resume in MS Word format (Kindly included current salary package, expected salary and notice period.) to [email\\xa0protected]\\xa0We regret that only shortlisted candidates will be notified. All the best!\\xa0JMC Talent Search Pte. Ltd. | EA License No: 93C4957EA Personnel: Chng Hui Sean ChrisEA Personnel No: R1981080\\xa0 ', 'date_rec': '2019-03-12', '_id': ObjectId('5c87390a7c03e92c903beb86')}\n"
     ]
    },
    {
     "name": "stderr",
     "output_type": "stream",
     "text": [
      "\r",
      " 55%|█████████████████████████████████████████████▎                                    | 26/47 [00:32<00:25,  1.23s/it]"
     ]
    },
    {
     "name": "stdout",
     "output_type": "stream",
     "text": [
      "21\n",
      "{'title': 'Business Intelligence Specialist', 'desc': ' The main mission of the BI Specialist consists of implementing and maintaining the BI applications in the various companies around the world. The BI Specialist will also add value to the organization by identifying and implementing improvement projects within the Business Intelligence environment to enhance the performance of the entire Group.\\xa0Responsibilities:• Design and Implement new applications – reporting requirements that are approved:Work closely together with the functional teams, the Business Process Managers and the Domain leads or the business responsibleDraw the attention of the management on the organizational impact because of the implementation of requested changes.Propose and facilitate organizational changes if appropriate and needed.Propose alternative technical solutions to business requirements.Ensure the correct set-up is applied.Ensure common rules and data are respected.Ensure development best-practices are applied.Ensure proper technical documentation is available.Propose and develop, where necessary, solutions to gaps.Transfer to the Key users the necessary knowledge to operate the application and ensure self-service of the BI application.Record & follow-up authorizations in the system so that sensitive and critical data/processes are protected.Keep the Project managers informed about the project progress and issues.• Pro-actively identify and investigate improvements or innovations within the BI area• Optimize the system used in subsidiaries running the HQ chosen application and help the subsidiaries to use the application in a more efficient way,Analyze and identify improvement & best practice areas within the organization (process, department, branch)Organize post implementation common training sessions.Implement additional functionalities,Stimulate continuous improvement through benchmarking.• Perform monitoring of BI applications and ensure performance and stability.• Develop, Implement and Maintain standards and procedures for BI applications.\\xa0Requirements:• Analytical Thinking/Reasoning• Problem Solver• Motivated team player• Good Communication skills• Fluent in English (Spoken & Written) - any other language is an asset• Quality and (internal) customer orientation• At least 3 years of BI expertise.• Expert Technical understanding of the BI tools (SAP BW, Hana, Cognos, Power BI, QlickView, etc)• Expert Functional understanding of the business processes• Initiative ', 'date_rec': '2019-03-12', '_id': ObjectId('5c87390b7c03e92c903beb87')}\n"
     ]
    },
    {
     "name": "stderr",
     "output_type": "stream",
     "text": [
      "\r",
      " 57%|███████████████████████████████████████████████                                   | 27/47 [00:33<00:21,  1.10s/it]"
     ]
    },
    {
     "name": "stdout",
     "output_type": "stream",
     "text": [
      "20\n",
      "{'title': 'Head of IT', 'desc': ' Industry: Engineering/Construction ServicesLocation: KLRemuneration: Base + Medical benefit + Performance BonusResponsibilities:Be responsible for the IT system and oversee the company ERP systemDevelop and maintain system plan including operational requirements, budget requirements and schedules.Develop and implement MIS policies to ensure data accuracy and security.Manage data storage, backup and restoration.Develop process improvements for increased efficiency and cost effectiveness.Monitor MIS performance regularly to avoid unplanned outages and down times.Provide customer support for OS issues, network problem and software installations, etcCoordinate with MIS team to ensure that technology, infrastructure and operational requirements are met.Track and monitor security of hardware and software systems.Recommend and implement new technology solutions to improve productivity.Requirements:Must possess at least a Degree in IT, Computer Science or its equivalent, Diploma in IT with relevant experience will be consideredMinimum 5 years of working experience in related field.Excellent organizational, leadership and decision making skillsExcellent analytical and problem solving skillsGood prioritization skills and be flexible enough to adapt plansAbility to work to tight deadlines and within constraints.Required to travel to Kuantan office.\\xa0 ', 'date_rec': '2019-03-12', '_id': ObjectId('5c87390b7c03e92c903beb88')}\n"
     ]
    },
    {
     "name": "stderr",
     "output_type": "stream",
     "text": [
      "\r",
      " 60%|████████████████████████████████████████████████▊                                 | 28/47 [00:33<00:16,  1.13it/s]"
     ]
    },
    {
     "name": "stdout",
     "output_type": "stream",
     "text": [
      "19\n",
      "{'title': 'IT Support Executive / Engineer (Bangsar / RM3,000-RM6,000)', 'desc': ' Responsibilities:a. Primary Account Ownership for 10 Key Accounts-\\xa0 maintenance of customer’s configurations in CDNs & Load Balancer-\\xa0 overall support lead for these accounts-\\xa0 maintain technical information of account up to date and shared with teamb. Return missed call to customer and incoming emails within 10 minutesc. Answer incoming calls to Operation Center within 15 secondsd. Clearly communicate with customers (via telephone and/ email and/or Skype) to ensure that you understand the issue and they understand the resolutione. Search through the Support Portal to address a given customer issue after gathering & understanding customer requirements\\xa0Requirements:• At least 2 years of experience in external customer facing support role• Mandarin speaking and writing is an advantage• Must be willing to work on shift schedule• Good keyboard and communication skills• Proficient usage of email, and IM applications (such as Skype, WhatsApp, etc.)• Good customer service interaction skills• Proficient knowledge of MS Office / Google Office Suite• Team player who is willing to learn and share skills and knowledge• Preference for IT Certificate / Diploma / Higher Diploma• Certified Cyber Security Engineers preferred ', 'date_rec': '2019-03-12', '_id': ObjectId('5c87390c7c03e92c903beb89')}\n"
     ]
    },
    {
     "name": "stderr",
     "output_type": "stream",
     "text": [
      "\r",
      " 62%|██████████████████████████████████████████████████▌                               | 29/47 [00:34<00:14,  1.24it/s]"
     ]
    },
    {
     "name": "stdout",
     "output_type": "stream",
     "text": [
      "18\n",
      "{'title': 'Software Development Manager', 'desc': \" A multinational financial institution seeks for Software Development ManagerDiverse and fast pace work cultureExtensive training and development programs providedAttractive remuneration package Our ClientOur client is a multinational financial institution with numerous offices in the APAC region. They are always staying ahead of other competitors with their competitive rates and comprehensive training for the employees. The RoleThe Software Development Manager is responsible for leading a team of 30 to manage the delivery of software applications aligned with the organization's standard policies. The incumbent's responsibilities involved:Manage delivery of applications to ensure that all activities are well maintained with appropriate testing and controls.Handle daily operations on applications built on .NET and Angular technologies.Provide relevant coaching and support to motivate all staffs reporting to him/her for continuous improvement.Create a conducive environment and oversee the development team's progress.Assist in staff appraisals and supervision processes.Ensure that quality of system documentation and audit requirements are always met. The Successful ApplicantPossess a Degree in Computer Science, Information Technology, Computer Engineering or any equivalents.More than 6 years of relevant experience in IT software delivery in a large team.Understanding Software Development Life Cycle(SDLC)/ Agile to work with multiple parties (internal and external).Exposure to custom and packaged software implementations.Hands on experience in managing delivery partners, problem management, and release management.A strong influencer with good managerial skills.Independent individual that can meet tight deadlines and work under pressure.Great team player to work in a diverse workplace. How to ApplyContact Wong Kar Yen on +(60) 3 23007202 or APPLY NOW by clicking the button below or email to [email\\xa0protected] quoting ref no. #228489. For similar opportunities, please visit www.ambition.com.my. Only shortlisted candidates will be notified. Data provided is for recruitment purposes only. *LI-ITBusiness Registration Number: 1048918-T. License Number: JTK 2710  \", 'date_rec': '2019-03-12', '_id': ObjectId('5c87390c7c03e92c903beb8a')}\n"
     ]
    },
    {
     "name": "stderr",
     "output_type": "stream",
     "text": [
      "\r",
      " 64%|████████████████████████████████████████████████████▎                             | 30/47 [00:34<00:12,  1.35it/s]"
     ]
    },
    {
     "name": "stdout",
     "output_type": "stream",
     "text": [
      "17\n",
      "{'title': 'Digital Analytics Manager(Web/App Analytics)', 'desc': \" This role reports directly to the Associate Director of Digital Strategy & Design, parked under the Digital team of the Information Technology division. As a sole contributor role that works closely with UI/UX designers as well as the product team and internal business owners.\\xa0Client Details\\xa0Our client is among the most reputable Regional and Global brands here in Malaysia. Having strong presence in the market, they are the industry-leaders revolutionizing the services they provide to both clients (B2B) and consumers (B2C) at the highest level of quality. They are currently looking for a Analytics/Data Science Manager to contribute to the customer Business Analytics department of the company.\\xa0Description\\xa0This position is essential in tracking, analysing and reporting on the performance of respective digital assets and digital platforms held by Digital team. You will be working closely with the team by providing analytics reporting, insights and recommendations to identify strategies/optimisation for the group's digital assets.Reporting on digital performance of relevant digital properties (user portal, user apps, etc) through developing report structures on Adobe Analytics/Google Analytics.Fostering strong working relationship with digital teams, business owners, product owners and development vendors to evaluate objectives of respective platforms and come up with proposal to ensure trackings are correctly set up.Perform analysis and provide recommendations to optimise digital platforms, this include working closely with UI/UX designers and digital product managers to track effect of functional features.Perform anaysis to evaluate user journey and experience in different digital platforms, determine drop off factors and make recommendation to optimise user journeyTracking and performing analysis on projects or pilot release wit the objective to roll back recommendations for user focused testing of usability improvements.Profile\\xa0Successful candidates will have:A minimum of 5 to 8 years and above of experience in analytics and reporting for digital platforms; web, app, etcBachelor or Master degree in Computer Science/Statistics/Data Management/Business or any relevent DegreeAnalytical mindset with strong mathematical skillsAbility to create dashboards, graphs and visualisation using Excel, Google Analytics/Adobe AnalyticsStrong communication skills with exceptional ability in stakeholder managementConcise in reporting, able to present and justify recommendations madeJob Offer\\xa0What's in it for you?Be part of a revolutionary digital transformationJoin a industry-leading MNC that is a market leader in MalaysiaExciting and good compensation package and benefitsPage Group Malaysia is acting as an Employment Agency in relation to this vacancy. \", 'date_rec': '2019-03-12', '_id': ObjectId('5c87390e7c03e92c903beb8b')}\n"
     ]
    },
    {
     "name": "stderr",
     "output_type": "stream",
     "text": [
      "\r",
      " 66%|██████████████████████████████████████████████████████                            | 31/47 [00:36<00:18,  1.15s/it]"
     ]
    },
    {
     "name": "stdout",
     "output_type": "stream",
     "text": [
      "16\n",
      "{'title': 'Chemical Engineer (HPLC,Liquid Chromatography/Based in Johor/MNC Company)', 'desc': \" Position\\xa0 \\xa0 \\xa0 \\xa0 \\xa0 \\xa0 : Field Service Engineer(HPLC, UPLC &Informatics)Location\\xa0 \\xa0 \\xa0 \\xa0 \\xa0 \\xa0: Johor BahruWorking hours : 5 Days / 8.30am – 5.30pmSalary\\xa0 \\xa0 \\xa0 \\xa0 \\xa0 \\xa0 \\xa0 \\xa0 : Up to RM5000Duration\\xa0 \\xa0 \\xa0 \\xa0 \\xa0 \\xa0 : PermanentMain Responsibilities:Achieve high level of customer satisfaction primarily in the field of Liquid Chromatography Waters solutions.Responsible for inventory management, service contract sales and administration.Installation, maintenance and support of customer solutions implementation primarily in HPLC, UPLC instruments in MalaysiaAble to deliver system level training at customer sitesLead efforts to resolve open CIT & TI casesManage service inventory according to Waters policiesMaintain CIT database on a daily basis to document work performedMaintain sound knowledge regarding the technology and customers' application demandsWork with Sales team in respect to lead and any issues which would impact customer satisfaction or customer loyaltyEnsure that quality system procedures and Health & Safety standards are adhered to at all timesRequirements:Diploma/Degree in electronic/electrical engineering, chemistry or a science related fieldMinimum 1 years of relevant experience in a similar positionAdvanced training in electronic, mechanical principles and IT relatedPreferably to have HPLC & UPLC knowledgeIn order to speed up the short listing process, qualified or interested candidates are strongly encouraged tosubmit your updated resume in MS Word format to [email\\xa0protected]\\xa0To find out about other career opportunities in Search Personnel Pte Ltd, do visit www.searchpersonnel.com.sg/ www.facebook.com/search.personnel for complete job listings.We wish you all the best in your career search.\\xa0**We do not charge our candidates any referral fee.**\\xa0Clover Lim Yong LeExecutive ConsultantReg no.: R1875879 | EA No: 13C6684\\xa0 \", 'date_rec': '2019-03-12', '_id': ObjectId('5c87390f7c03e92c903beb8c')}\n"
     ]
    },
    {
     "name": "stderr",
     "output_type": "stream",
     "text": [
      "\r",
      " 68%|███████████████████████████████████████████████████████▊                          | 32/47 [00:37<00:16,  1.07s/it]"
     ]
    },
    {
     "name": "stdout",
     "output_type": "stream",
     "text": [
      "15\n",
      "{'title': 'Senior PHP Developer', 'desc': ' Develop and maintain websites and web applications with the help of the team.Get involved in the project discovery phase by brainstorming solutions, writing documentation, and designing database structures.Write clean, logical PHP code according to project requirements and documentation.\\xa0SKILLS REQUIRED:Average 3 - 5 years experience with PHP-based website developmentWorking knowledge of front end technologies like HTML5, CSS3, and JavaScript/jQuery/AjaxExcellent knowledge of back end technologies like PHP and MySQLExperience working with other members of a development teamA collection of code samples / example work ', 'date_rec': '2019-03-12', '_id': ObjectId('5c8739107c03e92c903beb8d')}\n"
     ]
    },
    {
     "name": "stderr",
     "output_type": "stream",
     "text": [
      "\r",
      " 70%|█████████████████████████████████████████████████████████▌                        | 33/47 [00:38<00:13,  1.07it/s]"
     ]
    },
    {
     "name": "stdout",
     "output_type": "stream",
     "text": [
      "14\n",
      "{'title': 'SAP FICO Consultant ( COPC/ COPA)', 'desc': \" Roles & Responsibilities:Responsible for configuring, testing, documenting and deploying FICO functionalityExperience in SAP FI and CO modules - General Ledger (GL), Accounts Payable (AP), Accounts Receivable (AR), Cost and Profit Centre Accounting (CPA), CO Profitable Analyst (COPA)Involve in business process improvement and ERP enablement initiativesResponsible for obtaining UAT sign-offRespond to users' ticket request and provide resolutionPerform break/ fix analysis and recommend solutions for finance related processesAbility to co-ordinate and interact with multiple teamsAbility to help resolve complex technical issues and independently manage critical/ complex situationsWork with SAP to resolve software bugs.Participate in release upgrade or new functionally / enhancement assessments and make recommendations Requirements:Bachelor Degree, Master Degree or PhD in Information Technology, Computer Science, Business Administration, Finance or Accounting or other relevant educationAt least 4 end to end full implementations cycles, CO module( COPA& COPC )implementation experience is a plus.Minimally 5 years of SAP FICO configuration with functional experienceCertified SAP Professional is a plus. ( FI/ CO)Experience in implementing S/4 HANA and/or migration to S/4HANA is a plus but not a mustEffective communication in English and Chinese.Willingness to travel within SEA, AUS or Europe. Interested candidates, please send your CV to [email\\xa0protected] or call 65 3158 8059 for a detailed & confidential discussion.Kindly visit our company website for more related job.https://www.washingtonfrank.com/    EA License Number: 11C3017 EA Personnel Number: R1877012|SAP| SAP FI/CO| FICO| SAP Finance| SAP Cost Controlling \", 'date_rec': '2019-03-12', '_id': ObjectId('5c8739107c03e92c903beb8e')}\n"
     ]
    },
    {
     "name": "stderr",
     "output_type": "stream",
     "text": [
      "\r",
      " 72%|███████████████████████████████████████████████████████████▎                      | 34/47 [00:38<00:11,  1.16it/s]"
     ]
    },
    {
     "name": "stdout",
     "output_type": "stream",
     "text": [
      "13\n",
      "{'title': 'IT SUPPORT/HELPDESK OFFICER $2800+BONUS, TROUBLESHOOT DESKTOP/OS @SIMEI/EAST', 'desc': ' • Basic up to $2800 + Variable Bonus (2 Pay-out Each Year)• Monday – Friday: Office Hour & Standby Duty (Off-in-lieu Provided)• Excellent & comfortable work environment\\xa0RESPONSIBILITIES:\\xa0\\xa0• Support and troubleshoot Hardware (Desktop/Laptop) & Software (Server, Network, Operating System, Applications System)• Manage IT Ticketing system• Liaise with vendor on IT equipment refresh• Document workaround for IT users\\xa0REQUIREMENTS:• Diploma in Computer Science, Information Technology, IT• 2 Years of IT Support experience• Knowledgeable in Sage HR Systems, Microsoft SQL Server is advantageous• Able to communicate in Mandarin due to clients from Taiwan, China and HK\\xa0OTHER INFORMATION:• Basic up to $2800 + Variable Bonus (2 Pay-out Each Year)• Monday – Friday: Office Hour & Standby Duty (Off-in-lieu Provided)\\xa0HOW TO APPLY:Email your updated Resume (in MS Word) to JANET, Chee Hui Min (Reg no. R1877642) Consulting Manager to\\xa0[email\\xa0protected]\\xa0For priority processing, please include:• Reason for Leaving (each employment)• Last Drawn & Expected Salary• Notice periodWe regret only shortlisted candidate will be notified.YOUR SUCCESS IS OUR ACHIEVEMENT!\\xa0“By submitting any application or résumé to us, you will be deemed to have agreed and consented to us collecting, using, retaining and disclosing your personal information to prospective employers for their consideration.”\\xa0 ', 'date_rec': '2019-03-12', '_id': ObjectId('5c8739117c03e92c903beb8f')}\n"
     ]
    },
    {
     "name": "stderr",
     "output_type": "stream",
     "text": [
      "\r",
      " 74%|█████████████████████████████████████████████████████████████                     | 35/47 [00:39<00:09,  1.31it/s]"
     ]
    },
    {
     "name": "stdout",
     "output_type": "stream",
     "text": [
      "12\n",
      "{'title': 'SYSTEM ANALYST / IT PROGRAMMER x2 (2- 4 yrs exp / BASIC UP $4500)', 'desc': ' Successful candidates will be joining one of Growing Company with a vast network in the Manufacturing Industry.\\xa0►Basic Ranging from $3000- $4500► Entry Level/ Junior or senior level Position available, Training will be provided\\xa0\\xa0►5 days, normal office hours\\xa0►AWS & VBSYSTEM ANALYST / IT PROGRAMMER (2- 4 yrs exp / BASIC UP $4500 / central)\\xa0ResponsibilitiesDetailed job scope will be given upon succressful application\\xa0To support and maintain software applicationsTo develop new software to support production activitiesLiaise with user to gather requirement for improvementBasic database administration\\xa0RequirementsMin 2-5 years of working experienceMin Diploma / Degree in Computer Science / Electrical / IT related qualificationHOW TO APPLYAlternatively, you may also email your resume to us at [email\\xa0protected]\\xa0For more information, you can contact at 66314889Gan Zhi Ying (Jess)Local Staffing Division |\\xa0 Registration Number:\\xa0 R1439633MCI Career Services Pte Ltd. EA License Number:06C2859\\xa0 ', 'date_rec': '2019-03-12', '_id': ObjectId('5c8739117c03e92c903beb90')}\n"
     ]
    },
    {
     "name": "stderr",
     "output_type": "stream",
     "text": [
      "\r",
      " 77%|██████████████████████████████████████████████████████████████▊                   | 36/47 [00:40<00:07,  1.42it/s]"
     ]
    },
    {
     "name": "stdout",
     "output_type": "stream",
     "text": [
      "11\n",
      "{'title': 'Game Producer | Up to $7000 basic | MNC', 'desc': ' MNCAttractive remunerationsVibrant working environmentResponsibilitiesOversee the development of game production from concept to live online operations (end to end)Manage diverse team of artists, game designers, programmers and external vendorsCollect estimates from design, art, programming, and QA leads to generate project schedules and set release datesRun daily meetings to ensure all tasks are on trackCollaborate with team leads to ensure that all deadlines are being met and alleviating dependencies that block developmentReview schedules with management and team leads, defining what is expected in each milestone/sprintProvide regular reports on the game’s performance and make recommendations & adjustmentsAnalyze data metrics and recommend improvements to the product in order to improve the revenue model, marketing, new user acquisition, and existing user retentionRequirementsMinimum Degree/Diploma in a related field with at least\\xa08 years of relevant experience, with 2 published titlesPossess great communication and presentation skillsPossess the leadership skills to lead a team of 12 or more staffHave a strong interest in social gamesProven ability to identify, understand, prioritize, plan and articulate market & customer requirementsStrong analytic skills and experience with metrics driven decision makingA passionate, performance-driven individual with a strong business acumenReliability, ability to work under tight deadlines\\xa0Interested candidates please send an updated CV in Ms Word format to [email\\xa0protected] or call Patricia Ng (Reg no: R1331229) @ 63260106 for a confidential discussion ', 'date_rec': '2019-03-12', '_id': ObjectId('5c8739127c03e92c903beb91')}\n"
     ]
    },
    {
     "name": "stderr",
     "output_type": "stream",
     "text": [
      "\r",
      " 79%|████████████████████████████████████████████████████████████████▌                 | 37/47 [00:40<00:07,  1.38it/s]"
     ]
    },
    {
     "name": "stdout",
     "output_type": "stream",
     "text": [
      "10\n",
      "{'title': 'Programmer /Software Engineer x 2 (IT/ Basic up $5.5K / 5 D / Carpark System)', 'desc': ' Basic salary up to $5500!Working Timing: Monday to Friday (Office hour)Company location: KallangSoftware Engineer / Programmer x 2 (IT/ Basic up $5.5K / 5 D / Carpark System)\\xa0Successful candidates will be joining one of Growing Company with a Car Park system Industry.\\xa0ResponsibilitiesMaintain, improve, design & develop application software for car parking systemsPrepares and installs solutions by determining and designing system specifications, standards, and programming.Improves operations by conducting systems analysis; recommending changes in policies and procedures.Obtains and licenses software by obtaining required information from vendors; recommending purchases; testing and approving products.Updates job knowledge by studying state-of-the-art development tools, programming techniques, and computing equipment.Requirements:Degree in Computer Science2 - 3 years hands-on programming experience (C or C++ preferred)Familiar with Linux systems and common commandHOW TO APPLY:Alternatively, you may also email your resume to us at [email\\xa0protected]\\xa0Tan Sheng Yew (Raymond)Local Staffing Division |\\xa0 Registration Number:\\xa0 R1871702MCI Career Services Pte Ltd. EA License Number:06C2859\\xa0 ', 'date_rec': '2019-03-12', '_id': ObjectId('5c8739137c03e92c903beb92')}\n"
     ]
    },
    {
     "name": "stderr",
     "output_type": "stream",
     "text": [
      "\r",
      " 81%|██████████████████████████████████████████████████████████████████▎               | 38/47 [00:41<00:05,  1.59it/s]"
     ]
    },
    {
     "name": "stdout",
     "output_type": "stream",
     "text": [
      "9\n",
      "{'title': 'WebMethods Developer with ABAP SAP Experience', 'desc': ' We are looking for a webmethods Developer. Apply if you have the necessary skills:\\xa0-Atleast 5 years minimum experience in WebMethods.-Worked in the latest version (V.10.3)-Experience in EDI Modules, Universal Messaging and SAP Connectors-Knowledge with SAP ABAP-Successfully completed a bachelor or master studies in IT or Economics-Able to start immediately.\\xa0If you are interested to hear more on this opportunity, send me your CV for a confidential discussion to [email\\xa0protected]¬ogden.com for more information. Please indidate the following as well\\xa0Candidate Name :Date of birth :Contact Number :Email ID :Total IT Experience :Relevant Experience :Current/Last Company :Current Location :Last Drawn Monthly Basic :Expected Monthly Basic :Notice Required :Current Visa Status :Work Pass Required :\\xa0Reg no. R1328976EA License 13C6321\\xa0 ', 'date_rec': '2019-03-12', '_id': ObjectId('5c8739137c03e92c903beb93')}\n"
     ]
    },
    {
     "name": "stderr",
     "output_type": "stream",
     "text": [
      "\r",
      " 83%|████████████████████████████████████████████████████████████████████              | 39/47 [00:41<00:04,  1.64it/s]"
     ]
    },
    {
     "name": "stdout",
     "output_type": "stream",
     "text": [
      "8\n",
      "{'title': 'SAP BPC Functional Consultant', 'desc': ' Responsibilities:Lead workshops to gather the information needed for fit-gap analysis or blueprints;-Document functional requirements related to Business Planning business processes;-Advise clients on solution directions and the move to the new technologies (S4 HANA)-Development of Prototypes/Proof-of-Concepts;-Customizing of the SAP S4 HANA BP modules;-Coordinate, communicate and assign tasks within the team;-Define and execute tests scenarios;-Training of key-users and or business users;\\xa0Qualifications:- Proven experience in SAP HANA BP implementation projects of at least 5 years and 2 full implementations.-A subject matter expert for the business in the area of SAP ERP Business Planning (BPC) and its business processes-Successfully completed a bachelor or master studies in IT or Economics;If you are interested to hear more on this opportunity, send me your CV for a confidential discussion to [email\\xa0protected]¬ogden.com for more information. Please indidate the following as well\\xa0Candidate Name :Date of birth :Contact Number :Email ID :Total IT Experience :Relevant Experience :Current/Last Company :Current Location :Last Drawn Monthly Basic :Expected Monthly Basic :Notice Required :Current Visa Status :Work Pass Required :\\xa0Reg no. R1328976EA License 13C6321\\xa0 ', 'date_rec': '2019-03-12', '_id': ObjectId('5c8739147c03e92c903beb94')}\n"
     ]
    },
    {
     "name": "stderr",
     "output_type": "stream",
     "text": [
      "\r",
      " 85%|█████████████████████████████████████████████████████████████████████▊            | 40/47 [00:42<00:04,  1.67it/s]"
     ]
    },
    {
     "name": "stdout",
     "output_type": "stream",
     "text": [
      "7\n",
      "{'title': '[SA] Project Assistant Manager for service industry (ref:44850), 7k - 8k', 'desc': ' Business Nature /Introduction: Software/Information Processing\\xa0Job Description:To provide administrative and technical support to a project manager1) Ensure that projects are completed in time and within budget, and implement safety procedures, monitor\\xa0 \\xa0 \\xa0 \\xa0 project activities and prepare reports.2) Gather business/system requirements from clients and sort them systematically3) Arrange and facilitate meetings with stakeholders and take meeting minutes4) Manage our multiple partner vendors*Business development for customer in service industry (operation mainly for mobile application and web system), customer operation management system\\xa0Working hours: Weekday, 09:00 - 17:30,\\xa0 Initially the contract will be for 6 months,\\xa0renewable/convertible to permanent depending on the candidate’s performance.\\xa0\\xa0Remuneration Packages:Salary: RM 7,000 - RM8,000 and other benefits\\xa0\\xa0Requirements:• Experience : 1) Minimum 3 years project management experiences\\xa0 \\xa0 \\xa0 \\xa0 \\xa0 \\xa0 \\xa0 \\xa0 \\xa0 \\xa0 \\xa0 \\xa02) Experiences of WEB-based application system development, minimum 2 years\\xa0 \\xa0 \\xa0 \\xa0 \\xa0 \\xa0 \\xa0 \\xa0 \\xa0 \\xa0 \\xa0 \\xa03) Able to prepare design specifications like a system architecture diagram• Education Background : Degree in IT field• Language: English (Mandatory), Mandarin (preferably)• Preferably\\xa0 \\xa0 \\xa01) PMP certificate\\xa0 \\xa0 \\xa02) Experinces of CRM related system develooment\\xa0 \\xa0 \\xa03) Basic knowledge of digital marketing related\\xa0 \\xa0 \\xa04) Experiences on development of mobile applications both Android and iOS• Others: May need to visit client 1 or 2 times per week.\\xa0Contact:1. Send in your latest resume to [email\\xa0protected]2. Call in for more info +60-32020-1885=======================================For interested applications, kindly indicate the following in your resume in order for us to process your application faster.- Reason for leaving past and present employment- Expected/Last drawn salary- Availability dateThanks you for your application but we regret that only shortlisted candidates will be notified. ', 'date_rec': '2019-03-12', '_id': ObjectId('5c8739147c03e92c903beb95')}\n"
     ]
    },
    {
     "name": "stderr",
     "output_type": "stream",
     "text": [
      "\r",
      " 87%|███████████████████████████████████████████████████████████████████████▌          | 41/47 [00:42<00:03,  1.73it/s]"
     ]
    },
    {
     "name": "stdout",
     "output_type": "stream",
     "text": [
      "6\n",
      "{'title': 'IT SUPPORT/HELPDESK OFFICER $2800+BONUS, TROUBLESHOOT DESKTOP/OS @SIMEI/EAST', 'desc': ' • Basic up to $2800 + Variable Bonus (2 Pay-out Each Year)• Monday – Friday: Office Hour & Standby Duty (Off-in-lieu Provided)• Excellent & comfortable work environment\\xa0RESPONSIBILITIES:\\xa0\\xa0• Support and troubleshoot Hardware (Desktop/Laptop) & Software (Server, Network, Operating System, Applications System)• Manage IT Ticketing system• Liaise with vendor on IT equipment refresh• Document workaround for IT users\\xa0REQUIREMENTS:• Diploma in Computer Science, Information Technology, IT• 2 Years of IT Support experience• Knowledgeable in Sage HR Systems, Microsoft SQL Server is advantageous• Able to communicate in Mandarin due to clients from Taiwan, China and HK\\xa0OTHER INFORMATION:• Basic up to $2800 + Variable Bonus (2 Pay-out Each Year)• Monday – Friday: Office Hour & Standby Duty (Off-in-lieu Provided)\\xa0HOW TO APPLY:Email your updated Resume (in MS Word) to JANET, Chee Hui Min (Reg no. R1877642) Consulting Manager to\\xa0[email\\xa0protected]\\xa0For priority processing, please include:• Reason for Leaving (each employment)• Last Drawn & Expected Salary• Notice periodWe regret only shortlisted candidate will be notified.YOUR SUCCESS IS OUR ACHIEVEMENT!\\xa0“By submitting any application or résumé to us, you will be deemed to have agreed and consented to us collecting, using, retaining and disclosing your personal information to prospective employers for their consideration.”\\xa0 ', 'date_rec': '2019-03-12', '_id': ObjectId('5c8739157c03e92c903beb96')}\n"
     ]
    },
    {
     "name": "stderr",
     "output_type": "stream",
     "text": [
      "\r",
      " 89%|█████████████████████████████████████████████████████████████████████████▎        | 42/47 [00:43<00:02,  1.73it/s]"
     ]
    },
    {
     "name": "stdout",
     "output_type": "stream",
     "text": [
      "5\n",
      "{'title': 'Analyst Programmer (Java/ Yishun/ Up to 4k) Urgent!!', 'desc': ' Job Description• Application System Design, Development and Implementation• User support for their request related to existing manufacturing system• Trouble Shooting for any program or system error• New Technology exploration and Implementation• Documentation and provide hand-on training to the user on the developed system\\xa0Job Requirements• Degree in Computer Science or Information Technology• Min 1-2 years of related working experience.• Experience and Program language knowledge in Java, SQL, VB.Net, JavaScript, VBA. Mobile App design knowledge will be advantageous.• Knowledge about PC and Local area network, Windows and Linux server, RS232 and Oracle DB• Excellent analytical skills and self-starter with ability to take ownership of tasks and assignments• Able to work independently and take pressure, have eagerness to learn, a team player.• Strong communication capabilities and good people skills.\\xa0For interested parties, kindly send in your resume in MS Word format to[email\\xa0protected]\\xa0*We regret that only shortlisted candidates will be notified*\\xa0Capita Pte Ltd (PERSOL Singapore, A division of Capita) | EA Licence No: 08C2893 | RCB No. 200701282M | Registration No.: R1767370 (SIA KAI SING)\\xa0 ', 'date_rec': '2019-03-12', '_id': ObjectId('5c8739197c03e92c903beb97')}\n"
     ]
    },
    {
     "name": "stderr",
     "output_type": "stream",
     "text": [
      "\r",
      " 91%|███████████████████████████████████████████████████████████████████████████       | 43/47 [00:47<00:06,  1.55s/it]"
     ]
    },
    {
     "name": "stdout",
     "output_type": "stream",
     "text": [
      "4\n",
      "3\n",
      "{'title': 'Software Engineer (In House / 5 days)', 'desc': \" Our client is a global barcode and RFID technology company that focuses on data collection and label printing solution.\\xa0Responsibilities:\\xa0Execute full software development life cycle (SDLC)Develop flowcharts, layouts and documentation to identify requirements and solutionsWrite well designed, testable codeProduce specifications and determine operational feasibilityIntegrate software components into a fully functional software systemDevelop software verification plans and quality assurance proceduresTroubleshoot, debug and upgrade existing systemsDeploy programs and evaluate user feedbackCollaborate with hardware and system team for deployment, system fine tuning and technical supportsProvide technical support to customers and sales for customised software development projectsResearch, plan and execute with a team of software engineer(s) in Software and Solution department for software development platform upgrade, knowledge base upgrade and new technology supportRequirements:\\xa0Candidate must possess at least a Bachelor's Degree, Post Graduate Diploma, Professional Degree, Computer Science/Information Technology, Engineering (Computer/Telecommunication) or equivalent.At least 5 year(s) of working experience in the related field is required for this position.Knowledge in C#, VB.net ASP.net, HTML, C++Preferably Senior Executives specializing in IT/Computer - Software, IT/Computer - Network/System/Database Admin or equivalent.How to Apply:Interested candidates, please submit your updated resume in MSWORD format by using Apply Now button or email to [email\\xa0protected]\\xa0We regret to inform that only shortlisted candidates will be informed.\\xa0Ngu Hui Ling (R1217701)Registration No : R1874676EA License No : 18C9027\\xa0 \", 'date_rec': '2019-03-12', '_id': ObjectId('5c87391a7c03e92c903beb98')}\n"
     ]
    },
    {
     "name": "stderr",
     "output_type": "stream",
     "text": [
      "\r",
      " 96%|██████████████████████████████████████████████████████████████████████████████▌   | 45/47 [00:48<00:02,  1.22s/it]"
     ]
    },
    {
     "name": "stdout",
     "output_type": "stream",
     "text": [
      "2\n",
      "{'title': 'Software Engineer  | Up to $7k | Permanent Role', 'desc': ' \\xa0In house Permanent Role / IT Network Industry /New headcount5 days work / Jurong / Up to $7kSupport internal systems applications\\xa0Responsibilities:Analyse, design and develop applications.Implement interfaces using .Net, HTML, CSS, and JavaScriptBuild report interfaces and data feedsBuild applications in modern cloud architecture design.Ensure coded systems meet business requirements.Ensure the production of high quality software designs and applicationsCollaborate and work closely with other team members, business users and stakeholders to address support requests and spear head development for key automation tools.Identify cause, impact and develop resolution plans for any production issuesRegularly communicate with all key stakeholders and provide updates on statusWork closely with operations and infrastructure to build and scale back-end servicesReview and analyze enhancements requests from business usersParticipate in UAT for a variety of projects with stakeholdersQualifications:\\xa0Possess excellent software engineering and programming skillsable to perform NET, Javascipt, HTML, VBA, UI, UX, system design, SQL, database design, machine learning, image processing, software releases, ios, android skillscritical business thinking to manage the business requirements.Bachelor Degree in computer science or related technical field5-7 years working experience in developing and supporting business automation tools.\\xa0HOW TO APPLY:\\xa0Interested applicants, please click on “Apply Now” or email to [email\\xa0protected] to submit your resume.\\xa0We regret only shortlisted candidates will be notified.\\xa0Stafflink Services Pte LtdEA Licence No.: 04C4294EA Personnel: Koh Choon AnnEA Personnel Reg. No.: R1765402\\xa0 ', 'date_rec': '2019-03-12', '_id': ObjectId('5c87391a7c03e92c903beb99')}\n"
     ]
    },
    {
     "name": "stderr",
     "output_type": "stream",
     "text": [
      "\r",
      " 98%|████████████████████████████████████████████████████████████████████████████████▎ | 46/47 [00:48<00:01,  1.09s/it]"
     ]
    },
    {
     "name": "stdout",
     "output_type": "stream",
     "text": [
      "1\n",
      "{'title': 'QA Engineer (Software Automation Testing)', 'desc': ' A local establishment with multiple subsidiaries seeks for QA Engineer(Automation)Creative and innovative technologiesProfessional environment and growthExtensive employee benefits\\xa0Our ClientOur client is a well-known local company that is listed under Bursa Malaysia. They are actively hiring QA Engineer to be part of an expanding team for a new web-based and mobile application project.\\xa0\\xa0The RoleThe responsibilities of QA Engineer are as follow:Reviewing specifications (functional & design) and conduct further technical/functional testing using various testing tools and technologies.Developing test scripts and manage platforms.Detect defect fixes and reporting test results.\\xa0The Successful ApplicantHighly skilled at Automation testing, Test Driven Development, and Manual mobile application testing using Enterprise data models, Database technologies, cloud computing, and testing methodologies.Experienced in the following tools: Appium, Cucumber, AWS Device Farm, Microsoft Test Center, Hockey App, Selenium, Jenkins, Bitbucket, Jira, Confluence.Excellent communicator and presenter.\\xa0How to ApplyContact Wong Kar Yen on +(60) 3 23007202 or APPLY NOW by clicking the button below or email to [email\\xa0protected] quoting ref no. #226741.\\xa0 ', 'date_rec': '2019-03-12', '_id': ObjectId('5c87391b7c03e92c903beb9a')}\n"
     ]
    },
    {
     "name": "stderr",
     "output_type": "stream",
     "text": [
      "\r",
      "100%|██████████████████████████████████████████████████████████████████████████████████| 47/47 [00:49<00:00,  1.07it/s]"
     ]
    },
    {
     "name": "stdout",
     "output_type": "stream",
     "text": [
      "0\n",
      "{'title': '.NET Developer', 'desc': ' A multinational technology service provider seeks for .NET Developer\\xa0· Challenging and fun work culture· Great work-life balance· Attractive remuneration package\\xa0\\xa0Our ClientOur client is fun to work with. They believe in bringing out the best potentials in a balanced, energetic, and challenging work environment. At this juncture, they are keen to hire .NET Developer.\\xa0\\xa0The RoleThe .NET Developer is responsible in leading a team of developers to participate in designing, implementing, and maintaining software codes based on business requirements and standard compliances to ensure timely completion.\\xa0Key responsibilities include:· To conduct unit test code by running the test and writing the scripts for the test.· To manage team members in terms of work allocation, problem resolution, performance evaluation as well as training and development.· To perform code refactoring and analysis.· Working with Scrum Masters, products owners and analysts, QA team and other team leads for process improvement.· Reporting to Management in a timely manner.\\xa0\\xa0The Successful Applicant· Possess at least a Degree in Computer Science or any equivalents.· More than 8 years of hands on technical experience using C#.Net, Angular JS, Bootstrap, ASP.NET Core & Web API, NHibernate, Entity Framework and SQL.· Able to translate business requirement and high-end architecture to design.· Able to under pressure and tight deadlines· Strong English Proficiency with good people management skills.\\xa0 ', 'date_rec': '2019-03-12', '_id': ObjectId('5c87391d7c03e92c903beb9b')}\n"
     ]
    },
    {
     "name": "stderr",
     "output_type": "stream",
     "text": [
      "\r",
      "48it [00:51,  1.19s/it]                                                                                                "
     ]
    },
    {
     "name": "stdout",
     "output_type": "stream",
     "text": [
      "-1\n",
      "{'title': 'Solution Consultant / Pre-Sales Architect, Voice (MNC, up to S$12,000)', 'desc': ' Your New RoleWe are looking for a qualified Solution Consultant to help our clients reform their operations and support their business by providing intuitive guidance. You will be an important ally to every organization who wants to invest in change and improvement and needs help as to where and how. The goal is to contribute to the clients’ long lasting success so that our reputation can expand along with our clientele.\\xa0What Will You DoDesign reliable and effective solutions to meet the needs of the clients’ businessRespond to RFI, RFP, RFQ and tenders with quality submissionWorking closely with the sales team on proposals and pitches for businessProactively scopes the technical solution required to address customer requirements, assesses customers’ met and unmet needs, and recommends solutions that optimize value for both the customer and companyDevelop proposed solution and updates of the solutions designed for customersWork closely with the Sales, implementation, Support team as well as partners to develop comprehensive solution and to support the customers ongoing services and implementationAble to present, explain, and articulate the proposed solution to customersDemonstrate proof of value when needed to demonstrate solution and feature to customerWhat You Will Need to SucceedDiploma/Degree in any IT/Engineering/Telco related disciplineMin. 5 years of experience in a Networking/Technical Position roleMin. 3 years of experience in a Presales for VoiceIn depth knowledge for Voice / Network. Preferred to be Cisco trained\\xa0Vendor certification would be required - CCIEExperience in designing of medium, large, and complex tender/projectExcellent interpersonal, presentation and business writing skillsWilling to learn and adopt new or unfamiliar technology and productsWhat Will You Get In ReturnYou will be given exposure to a hold a key position in a growing organization with attractive rewards and a wide range of benefits. You will entitle a salary up to S$12,000 + comprehensive perks.\\xa0What You Need to do NowClick \"Apply\" and please include the following information in your resume:Personal Particulars with recent photographEducation backgroundWork experiences in point formsReason(s) for leavingCurrent and Expected salaryDate of availability / Notice PeriodNOTE:Only shortlisted candidate will be notified via email for an interview invitation\\xa0 ', 'date_rec': '2019-03-12', '_id': ObjectId('5c87391e7c03e92c903beb9c')}\n",
      "{'title': 'Permanent Full Stack Web Developer (PYTHON) - Basic + AWS + VB', 'desc': ' • Permanent• $2600-$3300• Robinson Road• Monday to Friday: 9am to 6.30pm\\xa0Job Responsibilities• Programming for platform backend and frontend using python, JavaScript and sass.• Basic deployment onto Ubuntu cloud server.• Basic MySQL database maintenance.\\xa0Period• Immediate – Permanent\\xa0Working Hours• Mon to Fri / 9am to 6.30pm\\xa0Salary• $2600 - $3300\\xa0Location• Suntec City\\xa0Job Requirements• No working experience required• Degree in computer science or related disciplines (including engineering)• Any data analytics or visualization will be good• Knowledge of Python and Django preferred (but not necessary)• Knowledge of version control (GIT) is highly desirable.\\xa0Interested applicants, kindly email your detailed resume (MS Word format is preferred):\\xa0[email\\xa0protected] (Reg No: R1107386)\\xa0Please ensure that applications sent through email are no bigger than 1Mb.\\xa0We thank all applicants for your interest but regret to inform that only shortlisted candidates would be notified.\\xa0Success Human Resource Centre Pte Ltd (EA License Number: 97C4832)1 Sophia Road, Peace Centre,#06-23/29 Singapore 228149T: 6337 3183 | F: 6337 0329 | W: www.successhrc.com.sg ', 'date_rec': '2019-03-12', '_id': ObjectId('5c87391f7c03e92c903beb9d')}\n",
      "{'title': 'Vision Software Engineer - [Attractive Salary / WPF / Deep Learning / OpenCV]', 'desc': \" • Singapore-based equipment macnufacturing company specializing in equipments for state of the art panel based technology.•Attractive Salary Package• Company Benefits & IncentivesInterested applicants can also send your resume to ✉ [email\\xa0protected] and allow our Consultant to match you with our Clients.\\xa0\\xa0Qualification:Candidate must possess at least Master/Bachelor's Degree in Engineering (Electrical/Electronic) or equivalent.At least 3 Year(s) of working experience in the related field is required for this position with focus on Machine Vision and image processing algo.Required Skill(s): WPF, C#, any proprietary vision library like euresys, halcon or vision pro, OpenCV.Advantage if you know ML library.Proactive and a good team player. Can be in supportive role.\\xa0Responsibilities:Design, develop, troubleshoot and maintain PC based automated visual inspection system.\\xa0 \", 'date_rec': '2019-03-12', '_id': ObjectId('5c8739227c03e92c903beb9e')}\n",
      "{'title': 'Software Test Engineer (Up to $7500/ Python Language/ Linux Environment/ SQL)', 'desc': ' ► US MNC, Top industry leader providing private cloud solutions to enterprise organizations for secure file sharing.►Understand basic python language to write scripts to perform benchmarking tests on product features like Upload, download, sendfile etc►Knowledge of basic linux commands to deploy the performance scripts and run tests (Company is using CentOS linux environment)► Basic knowledge of the SQL queries is advantageous to fine tune and optimize SQL queries►Work life balance culture and excellent working environment\\xa0The Performance Engineer is required to implement the test strategy for performance benchmarking and application profiling by working closely with the engineering group.\\xa0\\xa0\\xa0RESPONSIBILITIES:Understand performance problems from the customer perspective and implement performance measurement and profiling strategies based on issues found on deployed systemsCoordinate with the development team to ensure performance guidelines and standards are followedSet up performance tests to be part of the CI (Continuous Integration) to ensure that the product is meeting performance standardsConduct performance acceptance tests that include reliability, stress, load and performance testingWork with other QA engineers to define performance benchmarks and tests\\xa0OTHER KEY INFORMATION:►Office hour, Monday to Fri 9 to 6pm►Bedok work location►Annual leave starts at 18 days\\xa0\\xa0HOW TO APPLY:Kindly send your resume in MS Word format to:[email\\xa0protected]OR contact Marcus at 62130121 or WhatsApp at 97960681 for further enquiries\\xa0\\xa0\\xa0\\xa0\\xa0\\xa0\\xa0We regret only shortlisted candidates will be notified.By submitting any application or resume to us, you will be deemed to have agreed and consented to us collecting, using, retaining and disclosing your personal information to prospective employers for their consideration.\\xa0\\xa0\\xa0Stafflink Services Pte LtdEA Licence No.: 04C4294EA Personnel: Marcus Liu SongboEA Personnel Reg. No.: R1107940\\xa0 ', 'date_rec': '2019-03-12', '_id': ObjectId('5c8739247c03e92c903beb9f')}\n",
      "{'title': 'Desktop Support Engineer/ Up to $2.2K Basic + Bonus', 'desc': ' Responsibilities:Handling PC support, Laptop, outlook, Windows, MacSoftware and hardware troubleshootingSupport on desktops, notebooks, printers, scanners hardware componentsResponsible for providing excellent support and timely service\\xa0Rectify simple IT fault like cleaning of disk drives and jammed laser printersInstall and uninstall of software from desktop PCs and laptopsAny other ad-hoc tasks as assignedRequirements:Minimum 1 year experience in a desktop support roleNITEC/Diploma in an IT-related disciplineThis is a 1 year renewal contractEAP No. R1548171EA License No. 95C5411 ', 'date_rec': '2019-03-12', '_id': ObjectId('5c8739267c03e92c903beba0')}\n"
     ]
    },
    {
     "name": "stdout",
     "output_type": "stream",
     "text": [
      "{'title': 'Senior QA/QC Engineer (Central, Up to $9000, URGENT!!)', 'desc': ' RESPONSIBILITIES\\xa0● Design, write and maintain high quality manual and automated test scripts for software, mobileand web based applications.● Define and implement QA practices, procedures, standards, and reporting.● Champion quality throughout the SDLC by forging influential relationships across QA,Development, Product, and DevOps.● Act as Subject Matter Expert during requirement creation, analysis, and testing.● Identify opportunities and areas for improvement, craft and implement solutions.\\xa0QUALIFICATION, SKILLS AND EXPERIENCE● Bachelor or Masters degree, preferably in a Computer Science or related field.● At least 4+ years professional working experience in QA/QC and software testing.● At least 2+ years experience developing automated acceptance, integration, and regressiontests.● Proficiency in at least 1 programming language such as Python/Ruby/Java/PHP/NodeJS.● Experience in building and optimizing automation frameworks.● Experience with CI tools like Team City or Jenkins to schedule nightly regression runs.● Performing code reviews and mentoring team members on automation concepts and bestpractices.● Creating and executing test cases for sprint related development.● Comprehensive understanding\\xa0Interested candidates who wish to apply for the advertised position, please email us an updated copy of your resume (Attn: AUSH) or contact our office at +65 6709 3371 for a confidential discussion. We regret that only shortlisted candidates will be notified.\\xa0Job Code: AUSHEmail Address : [email\\xa0protected]\\xa0EA License No.: 08C2893\\xa0 ', 'date_rec': '2019-03-12', '_id': ObjectId('5c8739277c03e92c903beba1')}\n",
      "{'title': 'R&D; RF ENGINEER - EMS ( UP TO SGD 6K / SGX LISTED / WEST )', 'desc': ' Up to SGD 6,000\\xa0WESTCompany transport at designated pick up pointsRF Antenna designThe company is a public listed company in the Electronics Manufacturing Services Industry.\\xa0Responsibilities:\\xa0Antenna design across sub-6GHz technology such as NRC, RFID, GNSS, BT, WiFi, 2G/3G/LTE/LTE-M/LTE-NBHands-on antenna matching and optimization when integrated into productUse EM stimulation tools to perform analysis and modelling of RF antennas and products to meet customer’s requirementsConduct antenna and RF measurement using equipment and anechoic chamberReview PCB schematic and layout related to RF aspectsEnsure products to meet regulations by regulatory review boardsWork closely with Electronics/Mechanical/Firmware/Quality teams to define system requirements and goals.Operate RF requirements to analyze and troubleshoot RF aspects issues\\xa0Requirements\\xa0At least a Diploma degree in Electronics Engineering or equivalantAt least 2 years of working experience related to RF and wireless technology is preferableFamiliar with EM simulation tools\\xa0\\xa0HOW TO APPLY:Apply Now or send your resume in Word format to [email\\xa0protected] for further consideration\\xa0FOR IMMEDIATE CONSIDERATION:Please indicate below information in your resumeCurrent and Expected SalaryReason(s) for leavingAvailability to commence workRecent photo* We regret to inform that only shortlisted candidates will be notified *EA Reg ID: R1880372\\xa0 ', 'date_rec': '2019-03-12', '_id': ObjectId('5c8739287c03e92c903beba2')}\n",
      "{'title': 'System Analyst (Singapore)', 'desc': ' System Analyst\\xa0\\xa0\\xa0\\xa0\\xa0\\xa0\\xa0\\xa0\\xa0\\xa0\\xa0\\xa0\\xa0\\xa0\\xa0\\xa0\\xa0\\xa0Responsibilities\\xa0\\xa0To perform user requirement gathering and explore the opportunity to enhance existing solutions to problemsTo work with machine software vendor to implement communication protocol \\uf0b7Design and develop applications in VB.NET, C#, VBA, Web services and MSSQL \\uf0b7Develop program to capture machine data to link with other systems \\uf0b7Design and develop BI reports \\uf0b7Familiar with business operational processesRequirements\\xa0Degree or above in Information Systems or any IT related \\uf0b7Preferably 2 years and more manufacturing working experience \\uf0b7Fluent in\\xa0 English \\uf0b7Excellent communication skill and English writing skill \\uf0b7Proficient in SQL, SP \\uf0b7Proficient in VB.NET, C#, VBA, MSDOS batch script \\uf0b7Knowledge of Windows Server \\uf0b7Knowing of SSRS, SSAS, SSIS is a plus\\xa0\\xa0\\xa0Interested applicants, pls. send your resume stating your current, expected salary and reasons for leaving each company.\\xa0\\xa0May GohVision ManpowerR1100394 / 02C5351\\xa0\\xa0 ', 'date_rec': '2019-03-12', '_id': ObjectId('5c8739287c03e92c903beba3')}\n",
      "{'title': 'Software Programmer (.Net) (KL)', 'desc': \" Job DescriptionsPerform software development duties assigned by Team Leader/ Manager/ Technical DirectorParticipate in the technical design, development and implementation of cloud and on premise based applicationsLead or play a pivotal role in the complete SDLC from project initiation to implementationOn-the-job training/mentoring and ample opportunities for professional training and certification will be providedWill have the ample opportunities to participate in ad-hoc and/or projects such as Proof-of-Concept/ Pilot projects\\xa0Job RequirementsPossess at least a Diploma, Advanced/Higher/Graduate Diploma, Bachelor's Degree, Post Graduate Diploma, Professional Degree, Computer Science/Information Technology or equivalent.More than 3-5 years of experience in web programming with foundation/understanding of OOP, 3-tier development and enterprise architectureFamiliarity with ASP.NET, C#, AJAX, Web Service, MS SQL Database, SQL Reporting ServiceExperience with the ASP.NET framework, SQL Server and design/architectural patterns (e.g. Model-View-Controller (MVC))Familiarity with architecture styles/APIs (REST, RPC)Understanding of Agile/ Scrum methodologiesPrevious exposure to healthcare/financial solutions will be an added advantageAble to work at Q Sentral \", 'date_rec': '2019-03-12', '_id': ObjectId('5c87392a7c03e92c903beba4')}\n"
     ]
    },
    {
     "name": "stdout",
     "output_type": "stream",
     "text": [
      "{'title': 'MSSQL DBA (RM6k - RM8k)', 'desc': \" Install, configure, migrate, upgrade and maintain multiple databases  Your new company A top multinational company in the Financial Services Industry, based in Kuala Lumpur  Your new role As a SQL Database Administrator, you would be responsible for the following;Install, configure, migrate, upgrade and maintain multiple databases required for development, testing and production.Enforce database change management, security standards and best practices.Design and maintain backup and data archiving plan for all databases in company.Design and prepare for Disaster Recovery and perform test on recovery plan.Responsible for database design Support departmental operations in a high throughput production environment by proactively managing the performance, Integrity, and security of business applications databases and database servers.Support application development in technical troubleshooting, database tuning, refresh database environment and performance monitoring.Provide support to software developer in best practices for database design, programming, and tuning.Perform production deployment when is required. What you'll need to succeedExperience in MSSQL database administration (SQL 2012 & SQL 2016) in production environmentExperience with SQL SSRS and build SSIS packageHands-on experience in capacity planning and performance tuningKnowledge of SQL server backup and restore strategiesStrong analytical, problem solving and process, solution oriented abilitiesAble to co-ordinate infrastructure/Network requirement with regional officeAble to write simple window power shell script.Experience with T-SQL What you'll get in return This is an exciting opportunity to work for a business that delivers excellent salary with great benefits and career progression. If you are an ambitious person looking to move further in your career, this is the chance. You could also use this opportunity to strive for continuous improvement and realise your greatest professional potential. A bright future is guaranteed for candidates who are willing to learn, adapt and strive for success  What you need to do now If you're interested in this role, click 'apply now' to forward an up-to-date copy of your CV, or call us now. If this job isn't quite right for you but you are looking for a new position, please contact us for a confidential discussion on your career. \", 'date_rec': '2019-03-12', '_id': ObjectId('5c87392b7c03e92c903beba5')}\n",
      "{'title': 'DevOps Engineer (up to RM14k)', 'desc': \" Docker Kubernetes Rancher Gitlab CI AWS (EC2, ELB, ALB, VPC) Monitoring services Azure (Azure DevOps)  Your new company An emerging start up based in Kuala Lumpur  Your new role You will be working DevOps team, responsible in testing system integrity, Design and implement build, deployment, and configuration management, Build and test automation tools for infrastructure provisioning, Handle code deployments, Provide technical guidance and educate team members and coworkers on development and operations, Managing CI/CD tools, etc.  What you'll need to succeed You need to have good experience in Docker, Kubernetes, AWS, Azure, Experience with Linux infrastructures, Scripting (PowerShell, JavaScript, Python) , managing servers, etc. What you'll get in return This is an exciting opportunity to work for a business that delivers excellent salary (RM8000 - RM14000 per month) with great benefits and career progression. If you are an ambitious person looking to move further in your career, this is the chance. You could also use this opportunity to strive for continuous improvement and realize your greatest professional potential. A bright future is guaranteed for candidates who are willing to learn, adapt and strive for success.  What you need to do now If you're interested in this role, click 'apply now' to forward an up-to-date copy of your CV. If this job isn't quite right for you but you are looking for a new position in Finance Technology, please contact Ashraf at 03-27868600 or email to [email\\xa0protected] for a confidential discussion on your career. \", 'date_rec': '2019-03-12', '_id': ObjectId('5c87392c7c03e92c903beba6')}\n",
      "{'title': 'UNIX / Linux Engineer (RM6k - RM8k)', 'desc': \" You would be responsible to manage all the Linux and UNIX Servers and providing overall support for the IT dpt  Your new company A top multinational bank, based Kuala Lumpur  Your new role As a Linux Engineer, you would be responsible for the followingManage and support Linux installationsSupporting physical servers and virtual serversWork in ITIL standard process Incident, Change and Problem Management.Support Linux level 2 technical and troubleshooting.Manage and support for monitoring toolsManage and support application servers.Conduct Linux patchingConduct Linux tweaking and optimizationDeploying clusters (App & DB)Writing report for server capacity, performance and availability What you'll need to succeed5+ years of experience in Linux/UNIX system administrationExperience in various Linux OS (CentOS, Suse, RedHat, Ubnutu, etc.)Experience managing physical and virtual serversExperience in scripting (Bash Script, PowerShell, Shell Script, Perl, Python, Ruby, etc.)Experience in automationGood knowledge on networkingCertifications related to Linux RedHat, Virtualization, ITIL, etc. will be an added advantage What you'll get in returnThis is an exciting opportunity to work for a business that delivers excellent salary with great benefits and career progression. If you are an ambitious person looking to move further in your career, this is the chance. You could also use this opportunity to strive for continuous improvement and realize your greatest professional potential. A bright future is guaranteed for candidates who are willing to learn, adapt and strive for success. What you need to do now If you're passionate in open source technologies, this is the right position for you. Click 'apply now' to forward an up-to-date copy of your CV. If this job isn't quite right for you but you are looking for a new position in Finance Technology, please contact Ashraf at 03-27868600 or email to [email\\xa0protected] for a confidential discussion on your career. \", 'date_rec': '2019-03-12', '_id': ObjectId('5c87392d7c03e92c903beba7')}\n"
     ]
    },
    {
     "name": "stdout",
     "output_type": "stream",
     "text": [
      "{'title': 'Windows System Admin (RM6k - RM9k)', 'desc': \" Wintel System Admin with strong experience in windows servers, physical and virtual environment, database, networking, etc.  Your new company One of the top Malaysian banks, based in Kuala Lumpur.  Your new role As a system admin, you will be involve in various support duties. Some of it are as followsInstallation, configuration, maintenance, and troubleshooting of Windows serversSupport Microsoft Exchange Server.Manage and monitor LAN/WAN network services, firewall, router, switches, etc.Installing configuring, updating and maintaining server software / hardware, replacing failed hardware and addressing system problems,Tracking system capacity (CPU, Memory, disk space and etc.) and reporting/ correcting any issues,Installing software upgrades and security patches, assessing where the company stands as far as ITMicrosoft Hyper-V systems administrationSecurity Remediation process (vulnerability assessment and patch management)Identify automation/innovation opportunities in BAU environment and create tools/scripts to automate and schedule routine administration tasksStrong experience in backup and storage.BAU operational support of Wintel infrastructure with sound knowledge of ITIL v3 processes such as Incident, Change, Problem and Release ManagementWhat you'll need to succeed You will need strong experience in IT infrastructure, Active Directory, OS, server, storage, backup, network, virtualization, cloud, etc. You would also need to have good communication skills and an ability to work well in a team.  What you'll get in return Good salary package with good benefits is to be expected. This is also an opportunity for you to learn and enhance your skills in IT. Training and guidance will be given.  What you need to do now If you're interested in this role, click 'apply now' to forward an up-to-date copy of your CV. If this job isn't quite right for you but you are looking for a new position in Finance Technology, please contact Ashraf at 03-27868600 or email to [email\\xa0protected] for a confidential discussion on your career. \", 'date_rec': '2019-03-12', '_id': ObjectId('5c87392e7c03e92c903beba8')}\n",
      "{'title': 'Performance Test Engineer (Up to $7500/ Python Language/ Linux Environment/ SQL)', 'desc': ' ►MNC, Top industry leader providing private cloud solutions to enterprise organizations for secure file sharing.►Understand basic python language to write scripts to perform benchmarking tests on product features like Upload, download, sendfile etc►Knowledge of basic linux commands to deploy the performance scripts and run tests (Company is using CentOS linux environment)►Basic knowledge of the SQL queries is advantageous to fine tune and optimize SQL queries►Work life balance culture and excellent working environment►Candidates with no experience will be considered too as training will be provided\\xa0The Performance Engineer is required to implement the test strategy for performance benchmarking and application profiling by working closely with the engineering group.\\xa0\\xa0\\xa0RESPONSIBILITIES:Understand performance problems from the customer perspective and implement performance measurement and profiling strategies based on issues found on deployed systemsCoordinate with the development team to ensure performance guidelines and standards are followedSet up performance tests to be part of the CI (Continuous Integration) to ensure that the product is meeting performance standardsConduct performance acceptance tests that include reliability, stress, load and performance testingWork with other QA engineers to define performance benchmarks and tests\\xa0\\xa0OTHER KEY INFORMATION:►Office hour, Monday to Fri 9 to 6pm►Bedok work location►Annual leave starts at 18 days\\xa0\\xa0HOW TO APPLY:Kindly send your resume in MS Word format to:[email\\xa0protected]OR contact Marcus at 62130121 or WhatsApp at 97960681 for further enquiries\\xa0\\xa0\\xa0\\xa0\\xa0We regret only shortlisted candidates will be notified.\\xa0Stafflink Services Pte LtdEA Licence No.: 04C4294EA Personnel: Marcus Liu SongboEA Personnel Reg. No.: R1107940By submitting any application or resume to us, you will be deemed to have agreed and consented to us collecting, using, retaining and disclosing your personal information to prospective employers for their consideration.\\xa0 ', 'date_rec': '2019-03-12', '_id': ObjectId('5c87392f7c03e92c903beba9')}\n",
      "{'title': 'Software Engineer ( C#/ C++)', 'desc': ' Work closely with System Analyst on customer IT projects and understand software specification and requirements from documents and develop deliverablesPrepare installation manual and user manual (if required)Task Analyze and design software system flow based on software proposal, software specification and related documents prepared by System AnalystPrepare and maintain software documentation (i.e. installation manual, operation manual)Collaborate with Support Team for deployment, system fine tuning and technical supportsProvide technical knowledge and skill to 3rd party software company for them to integrate label printing, data collection system, etcCollaborate with 3rd party software companies for skill set improvementsOther ad-hoc duties as assigned\\xa0Requirements :Minimum diploma in IT with 3-5 years hand-on in using C++/C# software development experienceKnowledge in Programming Languages -, C#, VB.NET, HTML (+ Java, JavaScript, PHP, SQL SP, otherData File Structure - XML, CSV, Database Systems (Database and related tools) - Microsoft SQL, Oracle(+ MySQL, PostgreSQL, other) androidERP Systems - Oracle, SAP, Operating SystemsWorking location @ East Area (Singapore)\\xa0 ', 'date_rec': '2019-03-12', '_id': ObjectId('5c87392f7c03e92c903bebaa')}\n"
     ]
    },
    {
     "name": "stderr",
     "output_type": "stream",
     "text": [
      "\n"
     ]
    }
   ],
   "source": [
    "#timestamping\n",
    "timestamp = datetime.datetime.now().date()\n",
    "###textFile = open('D:/jobstreet_data_' + timestamp + '.txt', 'a', encoding=\"utf-8\")\n",
    "###textFile.write('Data scraped at >> ' + str(timestamp) + 'on Jobstreet')\n",
    "#we have to specify the headers to prevent https security 403 error occurs\n",
    "total_paging = 955\n",
    "advert_per_page = 20\n",
    "pbar = tqdm.tqdm(total=int(total_paging/advert_per_page))\n",
    "paging = int(total_paging/advert_per_page)\n",
    "decrement = 1\n",
    "\n",
    "#scraped area is whole malaysia and singapore (all location) because jobstreet doesn't cover much other areas\n",
    "while paging > -1 :\n",
    "    req = Request('https://www.jobstreet.com.my/en/job-search/job-vacancy.php?area=1&option=1&location=&specialization=191%2C192%2C193&job-source=3%2C64&classified=1&job-posted=0&sort=1&order=0&src=16&srcr=90&ojs=4&pg='+ str(paging), headers={'User-Agent': 'Chrome/60.0.3112.90'})\n",
    "    webpage = urlopen(req)\n",
    "    html_webpage = webpage.read()\n",
    "    soup_page = bs(html_webpage, 'html.parser')\n",
    "    #scrap all the texts from the job description div element, <div class=\"unselectable wrap-text\" id=\"job_description\">\n",
    "    for div in soup_page.findAll('a', {'class':'position-title-link'}):\n",
    "        #remove the redundant link\n",
    "        #open the job details link\n",
    "        if div.get('href') != 'https://www.jobstreet.com.my/en/job/1':\n",
    "            link = div.get('href')\n",
    "            accessible_link = link.split(\"?\")[0] #seperate out the link param that will make the site being forbid\n",
    "            req = Request(accessible_link, headers={'User-Agent': 'Chrome/59.0.3071.115'})\n",
    "            job_desc_page = urlopen(req)\n",
    "            html_job_desc_page = job_desc_page.read()\n",
    "            soup_job_desc_page = bs(html_job_desc_page, 'html.parser')\n",
    "\n",
    "            #scraping job title and job description\n",
    "            job_title_h1 = soup_job_desc_page.find('h1', {'id':'position_title'})\n",
    "            job_desc_div = soup_job_desc_page.find('div', {'id':'job_description'})\n",
    "            \n",
    "            #the html page contains none h1 element\n",
    "            ###textFile = open('D:/jobstreet_data_' + str(timestamp) + '.txt', 'a', encoding=\"utf-8\")\n",
    "            ###if job_desc_div != None:\n",
    "            ###    text_data = str(job_desc_div.text)\n",
    "            ###    textFile.write(text_data + '\\n**data**\\n')\n",
    "            ###textFile.close()\n",
    "            if job_desc_div != None:\n",
    "                job_advert_data = { \n",
    "                    \"title\": str(job_title_h1.text),\n",
    "                    \"desc\": str(job_desc_div.text),\n",
    "                    \"salary\": str(job_salary_.text),\n",
    "                    \"date_rec\": str(timestamp)\n",
    "                }\n",
    "                rec_data = collection.insert_one(job_advert_data) \n",
    "        if paging > -1 :\n",
    "            paging = paging - decrement\n",
    "            pbar.update(decrement)\n",
    "            print(paging)\n",
    "pbar.close()"
   ]
  },
  {
   "cell_type": "markdown",
   "metadata": {},
   "source": [
    "<font size=\"30\">---------------</font>\n",
    "<font size=\"30\">Indeed Scraping</font>\n",
    "<font size=\"30\">---------------</font>"
   ]
  },
  {
   "cell_type": "code",
   "execution_count": 5,
   "metadata": {},
   "outputs": [
    {
     "name": "stderr",
     "output_type": "stream",
     "text": [
      "\n",
      "  0%|                                                                                          | 0/983 [00:00<?, ?it/s]"
     ]
    },
    {
     "ename": "KeyboardInterrupt",
     "evalue": "",
     "output_type": "error",
     "traceback": [
      "\u001b[1;31m---------------------------------------------------------------------------\u001b[0m",
      "\u001b[1;31mKeyboardInterrupt\u001b[0m                         Traceback (most recent call last)",
      "\u001b[1;32m<ipython-input-5-e34e597945b4>\u001b[0m in \u001b[0;36m<module>\u001b[1;34m()\u001b[0m\n\u001b[0;32m     14\u001b[0m     \u001b[0mreq\u001b[0m \u001b[1;33m=\u001b[0m \u001b[0mRequest\u001b[0m\u001b[1;33m(\u001b[0m\u001b[1;34m'https://www.indeed.com.my/jobs?q=IT+Software&l=Kuala+Lumpur&start='\u001b[0m \u001b[1;33m+\u001b[0m \u001b[0mstr\u001b[0m\u001b[1;33m(\u001b[0m\u001b[0mint\u001b[0m\u001b[1;33m(\u001b[0m\u001b[0mpaging\u001b[0m\u001b[1;33m)\u001b[0m\u001b[1;33m)\u001b[0m\u001b[1;33m,\u001b[0m \u001b[0mheaders\u001b[0m\u001b[1;33m=\u001b[0m\u001b[1;33m{\u001b[0m\u001b[1;34m'User-Agent'\u001b[0m\u001b[1;33m:\u001b[0m \u001b[1;34m'Chrome/59.0.3071.115'\u001b[0m\u001b[1;33m}\u001b[0m\u001b[1;33m)\u001b[0m\u001b[1;33m\u001b[0m\u001b[0m\n\u001b[0;32m     15\u001b[0m     \u001b[0mwebpage\u001b[0m \u001b[1;33m=\u001b[0m \u001b[0murlopen\u001b[0m\u001b[1;33m(\u001b[0m\u001b[0mreq\u001b[0m\u001b[1;33m)\u001b[0m\u001b[1;33m\u001b[0m\u001b[0m\n\u001b[1;32m---> 16\u001b[1;33m     \u001b[0mhtml_webpage\u001b[0m \u001b[1;33m=\u001b[0m \u001b[0mwebpage\u001b[0m\u001b[1;33m.\u001b[0m\u001b[0mread\u001b[0m\u001b[1;33m(\u001b[0m\u001b[1;33m)\u001b[0m\u001b[1;33m\u001b[0m\u001b[0m\n\u001b[0m\u001b[0;32m     17\u001b[0m     \u001b[0msoup_page\u001b[0m \u001b[1;33m=\u001b[0m \u001b[0mbs\u001b[0m\u001b[1;33m(\u001b[0m\u001b[0mhtml_webpage\u001b[0m\u001b[1;33m,\u001b[0m \u001b[1;34m'html.parser'\u001b[0m\u001b[1;33m)\u001b[0m\u001b[1;33m\u001b[0m\u001b[0m\n\u001b[0;32m     18\u001b[0m     \u001b[1;32mfor\u001b[0m \u001b[0mh2\u001b[0m \u001b[1;32min\u001b[0m \u001b[0msoup_page\u001b[0m\u001b[1;33m.\u001b[0m\u001b[0mfindAll\u001b[0m\u001b[1;33m(\u001b[0m\u001b[1;34m'h2'\u001b[0m\u001b[1;33m,\u001b[0m \u001b[1;33m{\u001b[0m\u001b[1;34m'class'\u001b[0m\u001b[1;33m:\u001b[0m\u001b[1;34m'jobtitle'\u001b[0m\u001b[1;33m}\u001b[0m\u001b[1;33m)\u001b[0m\u001b[1;33m:\u001b[0m\u001b[1;33m\u001b[0m\u001b[0m\n",
      "\u001b[1;32m~\\Anaconda3\\lib\\http\\client.py\u001b[0m in \u001b[0;36mread\u001b[1;34m(self, amt)\u001b[0m\n\u001b[0;32m    454\u001b[0m \u001b[1;33m\u001b[0m\u001b[0m\n\u001b[0;32m    455\u001b[0m             \u001b[1;32mif\u001b[0m \u001b[0mself\u001b[0m\u001b[1;33m.\u001b[0m\u001b[0mchunked\u001b[0m\u001b[1;33m:\u001b[0m\u001b[1;33m\u001b[0m\u001b[0m\n\u001b[1;32m--> 456\u001b[1;33m                 \u001b[1;32mreturn\u001b[0m \u001b[0mself\u001b[0m\u001b[1;33m.\u001b[0m\u001b[0m_readall_chunked\u001b[0m\u001b[1;33m(\u001b[0m\u001b[1;33m)\u001b[0m\u001b[1;33m\u001b[0m\u001b[0m\n\u001b[0m\u001b[0;32m    457\u001b[0m \u001b[1;33m\u001b[0m\u001b[0m\n\u001b[0;32m    458\u001b[0m             \u001b[1;32mif\u001b[0m \u001b[0mself\u001b[0m\u001b[1;33m.\u001b[0m\u001b[0mlength\u001b[0m \u001b[1;32mis\u001b[0m \u001b[1;32mNone\u001b[0m\u001b[1;33m:\u001b[0m\u001b[1;33m\u001b[0m\u001b[0m\n",
      "\u001b[1;32m~\\Anaconda3\\lib\\http\\client.py\u001b[0m in \u001b[0;36m_readall_chunked\u001b[1;34m(self)\u001b[0m\n\u001b[0;32m    564\u001b[0m                 \u001b[1;32mif\u001b[0m \u001b[0mchunk_left\u001b[0m \u001b[1;32mis\u001b[0m \u001b[1;32mNone\u001b[0m\u001b[1;33m:\u001b[0m\u001b[1;33m\u001b[0m\u001b[0m\n\u001b[0;32m    565\u001b[0m                     \u001b[1;32mbreak\u001b[0m\u001b[1;33m\u001b[0m\u001b[0m\n\u001b[1;32m--> 566\u001b[1;33m                 \u001b[0mvalue\u001b[0m\u001b[1;33m.\u001b[0m\u001b[0mappend\u001b[0m\u001b[1;33m(\u001b[0m\u001b[0mself\u001b[0m\u001b[1;33m.\u001b[0m\u001b[0m_safe_read\u001b[0m\u001b[1;33m(\u001b[0m\u001b[0mchunk_left\u001b[0m\u001b[1;33m)\u001b[0m\u001b[1;33m)\u001b[0m\u001b[1;33m\u001b[0m\u001b[0m\n\u001b[0m\u001b[0;32m    567\u001b[0m                 \u001b[0mself\u001b[0m\u001b[1;33m.\u001b[0m\u001b[0mchunk_left\u001b[0m \u001b[1;33m=\u001b[0m \u001b[1;36m0\u001b[0m\u001b[1;33m\u001b[0m\u001b[0m\n\u001b[0;32m    568\u001b[0m             \u001b[1;32mreturn\u001b[0m \u001b[1;34mb''\u001b[0m\u001b[1;33m.\u001b[0m\u001b[0mjoin\u001b[0m\u001b[1;33m(\u001b[0m\u001b[0mvalue\u001b[0m\u001b[1;33m)\u001b[0m\u001b[1;33m\u001b[0m\u001b[0m\n",
      "\u001b[1;32m~\\Anaconda3\\lib\\http\\client.py\u001b[0m in \u001b[0;36m_safe_read\u001b[1;34m(self, amt)\u001b[0m\n\u001b[0;32m    610\u001b[0m         \u001b[0ms\u001b[0m \u001b[1;33m=\u001b[0m \u001b[1;33m[\u001b[0m\u001b[1;33m]\u001b[0m\u001b[1;33m\u001b[0m\u001b[0m\n\u001b[0;32m    611\u001b[0m         \u001b[1;32mwhile\u001b[0m \u001b[0mamt\u001b[0m \u001b[1;33m>\u001b[0m \u001b[1;36m0\u001b[0m\u001b[1;33m:\u001b[0m\u001b[1;33m\u001b[0m\u001b[0m\n\u001b[1;32m--> 612\u001b[1;33m             \u001b[0mchunk\u001b[0m \u001b[1;33m=\u001b[0m \u001b[0mself\u001b[0m\u001b[1;33m.\u001b[0m\u001b[0mfp\u001b[0m\u001b[1;33m.\u001b[0m\u001b[0mread\u001b[0m\u001b[1;33m(\u001b[0m\u001b[0mmin\u001b[0m\u001b[1;33m(\u001b[0m\u001b[0mamt\u001b[0m\u001b[1;33m,\u001b[0m \u001b[0mMAXAMOUNT\u001b[0m\u001b[1;33m)\u001b[0m\u001b[1;33m)\u001b[0m\u001b[1;33m\u001b[0m\u001b[0m\n\u001b[0m\u001b[0;32m    613\u001b[0m             \u001b[1;32mif\u001b[0m \u001b[1;32mnot\u001b[0m \u001b[0mchunk\u001b[0m\u001b[1;33m:\u001b[0m\u001b[1;33m\u001b[0m\u001b[0m\n\u001b[0;32m    614\u001b[0m                 \u001b[1;32mraise\u001b[0m \u001b[0mIncompleteRead\u001b[0m\u001b[1;33m(\u001b[0m\u001b[1;34mb''\u001b[0m\u001b[1;33m.\u001b[0m\u001b[0mjoin\u001b[0m\u001b[1;33m(\u001b[0m\u001b[0ms\u001b[0m\u001b[1;33m)\u001b[0m\u001b[1;33m,\u001b[0m \u001b[0mamt\u001b[0m\u001b[1;33m)\u001b[0m\u001b[1;33m\u001b[0m\u001b[0m\n",
      "\u001b[1;32m~\\Anaconda3\\lib\\socket.py\u001b[0m in \u001b[0;36mreadinto\u001b[1;34m(self, b)\u001b[0m\n\u001b[0;32m    584\u001b[0m         \u001b[1;32mwhile\u001b[0m \u001b[1;32mTrue\u001b[0m\u001b[1;33m:\u001b[0m\u001b[1;33m\u001b[0m\u001b[0m\n\u001b[0;32m    585\u001b[0m             \u001b[1;32mtry\u001b[0m\u001b[1;33m:\u001b[0m\u001b[1;33m\u001b[0m\u001b[0m\n\u001b[1;32m--> 586\u001b[1;33m                 \u001b[1;32mreturn\u001b[0m \u001b[0mself\u001b[0m\u001b[1;33m.\u001b[0m\u001b[0m_sock\u001b[0m\u001b[1;33m.\u001b[0m\u001b[0mrecv_into\u001b[0m\u001b[1;33m(\u001b[0m\u001b[0mb\u001b[0m\u001b[1;33m)\u001b[0m\u001b[1;33m\u001b[0m\u001b[0m\n\u001b[0m\u001b[0;32m    587\u001b[0m             \u001b[1;32mexcept\u001b[0m \u001b[0mtimeout\u001b[0m\u001b[1;33m:\u001b[0m\u001b[1;33m\u001b[0m\u001b[0m\n\u001b[0;32m    588\u001b[0m                 \u001b[0mself\u001b[0m\u001b[1;33m.\u001b[0m\u001b[0m_timeout_occurred\u001b[0m \u001b[1;33m=\u001b[0m \u001b[1;32mTrue\u001b[0m\u001b[1;33m\u001b[0m\u001b[0m\n",
      "\u001b[1;32m~\\Anaconda3\\lib\\ssl.py\u001b[0m in \u001b[0;36mrecv_into\u001b[1;34m(self, buffer, nbytes, flags)\u001b[0m\n\u001b[0;32m   1007\u001b[0m                   \u001b[1;34m\"non-zero flags not allowed in calls to recv_into() on %s\"\u001b[0m \u001b[1;33m%\u001b[0m\u001b[1;33m\u001b[0m\u001b[0m\n\u001b[0;32m   1008\u001b[0m                   self.__class__)\n\u001b[1;32m-> 1009\u001b[1;33m             \u001b[1;32mreturn\u001b[0m \u001b[0mself\u001b[0m\u001b[1;33m.\u001b[0m\u001b[0mread\u001b[0m\u001b[1;33m(\u001b[0m\u001b[0mnbytes\u001b[0m\u001b[1;33m,\u001b[0m \u001b[0mbuffer\u001b[0m\u001b[1;33m)\u001b[0m\u001b[1;33m\u001b[0m\u001b[0m\n\u001b[0m\u001b[0;32m   1010\u001b[0m         \u001b[1;32melse\u001b[0m\u001b[1;33m:\u001b[0m\u001b[1;33m\u001b[0m\u001b[0m\n\u001b[0;32m   1011\u001b[0m             \u001b[1;32mreturn\u001b[0m \u001b[0msocket\u001b[0m\u001b[1;33m.\u001b[0m\u001b[0mrecv_into\u001b[0m\u001b[1;33m(\u001b[0m\u001b[0mself\u001b[0m\u001b[1;33m,\u001b[0m \u001b[0mbuffer\u001b[0m\u001b[1;33m,\u001b[0m \u001b[0mnbytes\u001b[0m\u001b[1;33m,\u001b[0m \u001b[0mflags\u001b[0m\u001b[1;33m)\u001b[0m\u001b[1;33m\u001b[0m\u001b[0m\n",
      "\u001b[1;32m~\\Anaconda3\\lib\\ssl.py\u001b[0m in \u001b[0;36mread\u001b[1;34m(self, len, buffer)\u001b[0m\n\u001b[0;32m    869\u001b[0m             \u001b[1;32mraise\u001b[0m \u001b[0mValueError\u001b[0m\u001b[1;33m(\u001b[0m\u001b[1;34m\"Read on closed or unwrapped SSL socket.\"\u001b[0m\u001b[1;33m)\u001b[0m\u001b[1;33m\u001b[0m\u001b[0m\n\u001b[0;32m    870\u001b[0m         \u001b[1;32mtry\u001b[0m\u001b[1;33m:\u001b[0m\u001b[1;33m\u001b[0m\u001b[0m\n\u001b[1;32m--> 871\u001b[1;33m             \u001b[1;32mreturn\u001b[0m \u001b[0mself\u001b[0m\u001b[1;33m.\u001b[0m\u001b[0m_sslobj\u001b[0m\u001b[1;33m.\u001b[0m\u001b[0mread\u001b[0m\u001b[1;33m(\u001b[0m\u001b[0mlen\u001b[0m\u001b[1;33m,\u001b[0m \u001b[0mbuffer\u001b[0m\u001b[1;33m)\u001b[0m\u001b[1;33m\u001b[0m\u001b[0m\n\u001b[0m\u001b[0;32m    872\u001b[0m         \u001b[1;32mexcept\u001b[0m \u001b[0mSSLError\u001b[0m \u001b[1;32mas\u001b[0m \u001b[0mx\u001b[0m\u001b[1;33m:\u001b[0m\u001b[1;33m\u001b[0m\u001b[0m\n\u001b[0;32m    873\u001b[0m             \u001b[1;32mif\u001b[0m \u001b[0mx\u001b[0m\u001b[1;33m.\u001b[0m\u001b[0margs\u001b[0m\u001b[1;33m[\u001b[0m\u001b[1;36m0\u001b[0m\u001b[1;33m]\u001b[0m \u001b[1;33m==\u001b[0m \u001b[0mSSL_ERROR_EOF\u001b[0m \u001b[1;32mand\u001b[0m \u001b[0mself\u001b[0m\u001b[1;33m.\u001b[0m\u001b[0msuppress_ragged_eofs\u001b[0m\u001b[1;33m:\u001b[0m\u001b[1;33m\u001b[0m\u001b[0m\n",
      "\u001b[1;32m~\\Anaconda3\\lib\\ssl.py\u001b[0m in \u001b[0;36mread\u001b[1;34m(self, len, buffer)\u001b[0m\n\u001b[0;32m    629\u001b[0m         \"\"\"\n\u001b[0;32m    630\u001b[0m         \u001b[1;32mif\u001b[0m \u001b[0mbuffer\u001b[0m \u001b[1;32mis\u001b[0m \u001b[1;32mnot\u001b[0m \u001b[1;32mNone\u001b[0m\u001b[1;33m:\u001b[0m\u001b[1;33m\u001b[0m\u001b[0m\n\u001b[1;32m--> 631\u001b[1;33m             \u001b[0mv\u001b[0m \u001b[1;33m=\u001b[0m \u001b[0mself\u001b[0m\u001b[1;33m.\u001b[0m\u001b[0m_sslobj\u001b[0m\u001b[1;33m.\u001b[0m\u001b[0mread\u001b[0m\u001b[1;33m(\u001b[0m\u001b[0mlen\u001b[0m\u001b[1;33m,\u001b[0m \u001b[0mbuffer\u001b[0m\u001b[1;33m)\u001b[0m\u001b[1;33m\u001b[0m\u001b[0m\n\u001b[0m\u001b[0;32m    632\u001b[0m         \u001b[1;32melse\u001b[0m\u001b[1;33m:\u001b[0m\u001b[1;33m\u001b[0m\u001b[0m\n\u001b[0;32m    633\u001b[0m             \u001b[0mv\u001b[0m \u001b[1;33m=\u001b[0m \u001b[0mself\u001b[0m\u001b[1;33m.\u001b[0m\u001b[0m_sslobj\u001b[0m\u001b[1;33m.\u001b[0m\u001b[0mread\u001b[0m\u001b[1;33m(\u001b[0m\u001b[0mlen\u001b[0m\u001b[1;33m)\u001b[0m\u001b[1;33m\u001b[0m\u001b[0m\n",
      "\u001b[1;31mKeyboardInterrupt\u001b[0m: "
     ]
    }
   ],
   "source": [
    "#timestamping\n",
    "timestamp = datetime.datetime.now().date()\n",
    "###textFile = open('D:/indeed_data_' + timestamp + '.txt', 'a', encoding=\"utf-8\")\n",
    "###textFile.write('\\nData scraped at >> ' + str(timestamp) + ' on Indeed\\n')\n",
    "###textFile.close()\n",
    "\n",
    "pbar = tqdm.tqdm(total=910)\n",
    "paging = 910\n",
    "decrement = 10\n",
    "#href links from 1st page of jobstreet\n",
    "#scrap all the texts from the job description a element, <a class=\"unselectable wrap-text\" id=\"job_description\">\n",
    "while paging > -1 :\n",
    "    req = Request('https://www.indeed.com.sg/jobs?q=IT+Software&l=Singapore&start=' + str(int(paging)), headers={'User-Agent': 'Chrome/59.0.3071.115'})\n",
    "    #req = Request('https://www.indeed.com.my/jobs?q=IT+Software&l=Kuala+Lumpur&start=' + str(int(paging)), headers={'User-Agent': 'Chrome/59.0.3071.115'})\n",
    "    webpage = urlopen(req)\n",
    "    html_webpage = webpage.read()\n",
    "    soup_page = bs(html_webpage, 'html.parser')\n",
    "    for h2 in soup_page.findAll('h2', {'class':'jobtitle'}):\n",
    "        #remove the redundant link & open the job details link\n",
    "        link = h2.a.get('href')\n",
    "        link = 'https://www.indeed.com.my' + link\n",
    "        req = Request(link, headers={'User-Agent': 'Chrome/59.0.3071.115'})\n",
    "        job_desc_page = urlopen(req)\n",
    "        html_job_desc_page = job_desc_page.read()\n",
    "        soup_job_desc_page = bs(html_job_desc_page, 'html.parser')\n",
    "        #scraping job title and job description\n",
    "        job_title_h3 = soup_job_desc_page.find('h3', {'class':'jobsearch-JobInfoHeader-title'})\n",
    "        job_desc_div = soup_job_desc_page.find('div', {'class':'jobsearch-JobComponent-description'})\n",
    "        job_salary_div = soup_job_desc_page.find('div', {'class':'jobsearch-JobMetadataHeader-item'})\n",
    "        #the html page contains none h1 element\n",
    "        ###textFile = open('D:/indeed_data_' + str(timestamp) + '.txt', 'a', encoding=\"utf-8\")\n",
    "        ###if job_desc_div != None:\n",
    "        ###    text_data = str(job_desc_div.text)\n",
    "        ###   textFile.write(text_data)\n",
    "        ###textFile.close()\n",
    "        if job_desc_div != None:\n",
    "            job_advert_data = { \n",
    "                \"title\": str(job_title_h3.text),\n",
    "                \"desc\": str(job_desc_div.text),\n",
    "                \"salary\": str(job_salary_div.text),\n",
    "                \"date_rec\": str(timestamp)\n",
    "            }\n",
    "            rec_data = collection.insert_one(job_advert_data) \n",
    "            print(\"Data inserted with record ids\", rec_data)\n",
    "    if paging > -1 :\n",
    "        paging = paging - decrement\n",
    "        pbar.update(decrement)\n",
    "        print(paging)\n",
    "pbar.close()"
   ]
  },
  {
   "cell_type": "markdown",
   "metadata": {},
   "source": [
    "<font size=\"30\">---------------</font>\n",
    "<font size=\"30\">Monster Scraping</font>\n",
    "<font size=\"30\">---------------</font>"
   ]
  },
  {
   "cell_type": "code",
   "execution_count": null,
   "metadata": {},
   "outputs": [],
   "source": [
    "#timestamping\n",
    "timestamp = datetime.datetime.now().date()\n",
    "###textFile = open('D:/monster_data_' + str(timestamp) + '.txt', 'a', encoding=\"utf-8\")\n",
    "###textFile.write('\\nData scraped at >> ' + str(timestamp) + ' on Monster\\n')\n",
    "###textFile.close()\n",
    "\n",
    "import tqdm\n",
    "total_paging = 757\n",
    "advert_per_page = 40\n",
    "pbar = tqdm.tqdm(total=int(total_paging/advert_per_page))\n",
    "paging = int(total_paging/advert_per_page)\n",
    "decrement = 1\n",
    "#href links from 1st page of jobstreet\n",
    "#scrap all the texts from the job description a element, <a class=\"unselectable wrap-text\" id=\"job_description\">\n",
    "while paging > 0 :\n",
    "    req = Request('https://www.monster.com.my/it-jobs-in-singapore-'+ str(paging) +'.html', headers={'User-Agent': 'Chrome/59.0.3071.115'})\n",
    "    #req = Request('https://www.monster.com.my/it-jobs-in-kuala-lumpur-'+ str(paging) +'.html', headers={'User-Agent': 'Chrome/59.0.3071.115'})\n",
    "    webpage = urlopen(req)\n",
    "    html_webpage = webpage.read()\n",
    "    soup_page = bs(html_webpage, 'html.parser')\n",
    "    for h2 in soup_page.findAll('h2', {'class':'seotitle'}):\n",
    "        #remove the redundant link & open the job details link\n",
    "        link = h2.a.get('href')\n",
    "        link = 'https:' + str(link)\n",
    "        req = Request(link, headers={'User-Agent': 'Chrome/59.0.3071.115'})\n",
    "        job_desc_page = urlopen(req)\n",
    "        html_job_desc_page = job_desc_page.read()\n",
    "        soup_job_desc_page = bs(html_job_desc_page, 'html.parser')\n",
    "        #scraping job title and job description\n",
    "        job_title_h1 = soup_job_desc_page.find('h1', {'class':'job_title_seo'})\n",
    "        job_desc_div = soup_job_desc_page.find('div', {'class':'desc'})\n",
    "        job_salary_h1 = job_title_h1 #salary located with title together\n",
    "        #the html page contains none h1 element\n",
    "        ###textFile = open('D:/monster_data_' + str(timestamp) + '.txt', 'a', encoding=\"utf-8\")\n",
    "        ###if job_desc_div != None:\n",
    "        ###    text_data = str(job_desc_div.text)\n",
    "        ###    textFile.write(text_data)\n",
    "        ###textFile.close()\n",
    "        if job_title_h1 != None:\n",
    "            job_advert_data = { \n",
    "                \"title\": str(job_title_h1.text),\n",
    "                \"desc\": str(job_desc_div.text),\n",
    "                \"salary\": str(job_salary_h1.text),\n",
    "                \"date_rec\": str(timestamp)\n",
    "            }\n",
    "            rec_data = collection.insert_one(job_advert_data) \n",
    "            print(\"Data inserted with record ids\", rec_data)\n",
    "    if paging > 0 :\n",
    "        paging = paging - decrement\n",
    "        pbar.update(decrement)\n",
    "        print(paging)\n",
    "pbar.close()"
   ]
  },
  {
   "cell_type": "code",
   "execution_count": null,
   "metadata": {},
   "outputs": [],
   "source": []
  },
  {
   "cell_type": "code",
   "execution_count": null,
   "metadata": {},
   "outputs": [],
   "source": []
  }
 ],
 "metadata": {
  "kernelspec": {
   "display_name": "Python 3",
   "language": "python",
   "name": "python3"
  },
  "language_info": {
   "codemirror_mode": {
    "name": "ipython",
    "version": 3
   },
   "file_extension": ".py",
   "mimetype": "text/x-python",
   "name": "python",
   "nbconvert_exporter": "python",
   "pygments_lexer": "ipython3",
   "version": "3.6.5"
  }
 },
 "nbformat": 4,
 "nbformat_minor": 2
}
