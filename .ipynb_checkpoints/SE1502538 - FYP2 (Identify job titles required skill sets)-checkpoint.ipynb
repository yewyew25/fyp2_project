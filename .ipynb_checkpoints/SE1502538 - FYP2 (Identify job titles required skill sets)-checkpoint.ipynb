{
 "cells": [
  {
   "cell_type": "markdown",
   "metadata": {},
   "source": [
    "<font size=\"30\">---------------</font>\n",
    "<font size=\"30\">Data processing</font>\n",
    "<font size=\"30\">---------------</font>"
   ]
  },
  {
   "cell_type": "markdown",
   "metadata": {},
   "source": [
    "<font size=\"30\">1.0 Prepare data</font>"
   ]
  },
  {
   "cell_type": "code",
   "execution_count": 1,
   "metadata": {},
   "outputs": [
    {
     "name": "stdout",
     "output_type": "stream",
     "text": [
      "Connected successfully!!!\n"
     ]
    }
   ],
   "source": [
    "from pymongo import MongoClient\n",
    "\n",
    "try: \n",
    "    client = MongoClient()\n",
    "    print(\"Connected successfully!!!\") \n",
    "except:\n",
    "    print(\"Could not connect to MongoDB\") \n",
    "\n",
    "db = client.job_advert_db #select database\n",
    "collection = db.job_advert #select collection to insert"
   ]
  },
  {
   "cell_type": "code",
   "execution_count": 2,
   "metadata": {
    "scrolled": false
   },
   "outputs": [
    {
     "name": "stderr",
     "output_type": "stream",
     "text": [
      "C:\\Users\\uSER\\Anaconda3\\lib\\site-packages\\ipykernel_launcher.py:2: DeprecationWarning: count is deprecated. Use Collection.count_documents instead.\n",
      "  \n"
     ]
    },
    {
     "name": "stdout",
     "output_type": "stream",
     "text": [
      "Amount of data collected: 4827\n"
     ]
    }
   ],
   "source": [
    "job_advert_collection = collection.find({})\n",
    "print(\"Amount of data collected:\" , job_advert_collection.count())\n",
    "\n",
    "job_adverts_title = []\n",
    "job_adverts_desc = []\n",
    "\n",
    "for ja in job_advert_collection:\n",
    "    job_adverts_title.append(ja['title'])\n",
    "    job_adverts_desc.append(ja['desc'])"
   ]
  },
  {
   "cell_type": "code",
   "execution_count": 3,
   "metadata": {},
   "outputs": [
    {
     "name": "stdout",
     "output_type": "stream",
     "text": [
      "4827\n",
      "4827\n"
     ]
    }
   ],
   "source": [
    "print(len(job_adverts_title))\n",
    "print(len(job_adverts_desc))"
   ]
  },
  {
   "cell_type": "markdown",
   "metadata": {},
   "source": [
    "<font size=\"30\">2.0 Data Preprocessing</font>"
   ]
  },
  {
   "cell_type": "code",
   "execution_count": 4,
   "metadata": {},
   "outputs": [],
   "source": [
    "import re, string, unicodedata\n",
    "import nltk\n",
    "import contractions #expand the contractions \"you're -> you are\"\n",
    "import inflect #convert plural to singular nouns\n",
    "from bs4 import BeautifulSoup\n",
    "from nltk import word_tokenize, sent_tokenize \n",
    "from nltk.corpus import stopwords #filter english words \"is\", \"this\", \"there\", etc.\n",
    "from nltk.stem import LancasterStemmer, WordNetLemmatizer\n",
    "import tqdm\n",
    "from bson.json_util import dumps"
   ]
  },
  {
   "cell_type": "code",
   "execution_count": 5,
   "metadata": {},
   "outputs": [
    {
     "name": "stdout",
     "output_type": "stream",
     "text": [
      "[nltk_data] Downloading package punkt to\n",
      "[nltk_data]     C:\\Users\\uSER\\AppData\\Roaming\\nltk_data...\n",
      "[nltk_data]   Package punkt is already up-to-date!\n",
      "[nltk_data] Downloading package stopwords to\n",
      "[nltk_data]     C:\\Users\\uSER\\AppData\\Roaming\\nltk_data...\n",
      "[nltk_data]   Package stopwords is already up-to-date!\n",
      "[nltk_data] Downloading package wordnet to\n",
      "[nltk_data]     C:\\Users\\uSER\\AppData\\Roaming\\nltk_data...\n",
      "[nltk_data]   Package wordnet is already up-to-date!\n"
     ]
    }
   ],
   "source": [
    "nltk.download('punkt')\n",
    "nltk.download('stopwords')\n",
    "nltk.download('wordnet')\n",
    "\n",
    "stopset = set(stopwords.words('english'))\n",
    "stopset.update(['expery','year', 'loc','year', 'apply','relev', 'includ'])"
   ]
  },
  {
   "cell_type": "markdown",
   "metadata": {},
   "source": [
    "2.1 Denoise Job Descriptions"
   ]
  },
  {
   "cell_type": "code",
   "execution_count": 6,
   "metadata": {},
   "outputs": [],
   "source": [
    "def strip_html(text):\n",
    "    soup = BeautifulSoup(text, \"html.parser\")\n",
    "    return soup.get_text()\n",
    "\n",
    "def remove_between_square_brackets(text):\n",
    "    return re.sub('\\[[^]]*\\]', '', text)\n",
    "\n",
    "def denoise_text(text):\n",
    "    processed_text = []\n",
    "    pbar = tqdm.tqdm(total=len(text))\n",
    "    for t in text:\n",
    "        text = strip_html(t)\n",
    "        text = remove_between_square_brackets(t)\n",
    "        processed_text.append(text)\n",
    "        pbar.update(1)\n",
    "    pbar.close()\n",
    "    return processed_text"
   ]
  },
  {
   "cell_type": "code",
   "execution_count": 7,
   "metadata": {},
   "outputs": [
    {
     "name": "stderr",
     "output_type": "stream",
     "text": [
      "100%|████████████████████████████████████████████████████████████████████████████| 4827/4827 [00:00<00:00, 8673.43it/s]\n"
     ]
    }
   ],
   "source": [
    "job_adverts_desc = denoise_text(job_adverts_desc)"
   ]
  },
  {
   "cell_type": "markdown",
   "metadata": {},
   "source": [
    "2.2 Replace contractions in string"
   ]
  },
  {
   "cell_type": "code",
   "execution_count": 8,
   "metadata": {},
   "outputs": [],
   "source": [
    "def replace_contractions(text):\n",
    "    \"\"\"Replace contractions in string of text\"\"\"\n",
    "    text_arr = []\n",
    "    pbar = tqdm.tqdm(total=len(text))\n",
    "    for t in text:\n",
    "        t = contractions.fix(t)\n",
    "        text_arr.append(t)\n",
    "        pbar.update(1)\n",
    "    pbar.close()\n",
    "    return text_arr"
   ]
  },
  {
   "cell_type": "code",
   "execution_count": 9,
   "metadata": {
    "scrolled": true
   },
   "outputs": [
    {
     "name": "stderr",
     "output_type": "stream",
     "text": [
      "100%|██████████████████████████████████████████████████████████████████████████████| 4827/4827 [00:50<00:00, 96.05it/s]\n"
     ]
    }
   ],
   "source": [
    "job_adverts_desc = replace_contractions(job_adverts_desc)"
   ]
  },
  {
   "cell_type": "markdown",
   "metadata": {},
   "source": [
    "2.3 Tokenization"
   ]
  },
  {
   "cell_type": "code",
   "execution_count": 10,
   "metadata": {
    "scrolled": true
   },
   "outputs": [
    {
     "name": "stderr",
     "output_type": "stream",
     "text": [
      "100%|█████████████████████████████████████████████████████████████████████████████| 4827/4827 [00:19<00:00, 244.93it/s]\n"
     ]
    }
   ],
   "source": [
    "temp_arr = []\n",
    "pbar = tqdm.tqdm(total=len(job_adverts_desc))\n",
    "for ja in job_adverts_desc:\n",
    "    temp_arr.append(nltk.word_tokenize(ja))\n",
    "    pbar.update(1)\n",
    "job_adverts_desc = temp_arr\n",
    "pbar.close()"
   ]
  },
  {
   "cell_type": "markdown",
   "metadata": {},
   "source": [
    "2.4 Normalization ((1) stemming, (2) lemmatization, and (3) everything else)"
   ]
  },
  {
   "cell_type": "code",
   "execution_count": 11,
   "metadata": {},
   "outputs": [],
   "source": [
    "def remove_non_ascii(words):\n",
    "    \"\"\"Remove non-ASCII characters from list of tokenized words\"\"\"\n",
    "    new_words = []\n",
    "    for word in words:\n",
    "        new_word = unicodedata.normalize('NFKD', word).encode('ascii', 'ignore').decode('utf-8', 'ignore')\n",
    "        new_words.append(new_word)\n",
    "    return new_words\n",
    "\n",
    "def to_lowercase(words):\n",
    "    \"\"\"Convert all characters to lowercase from list of tokenized words\"\"\"\n",
    "    new_words = []\n",
    "    for word in words:\n",
    "        new_word = word.lower()\n",
    "        new_words.append(new_word)\n",
    "    return new_words\n",
    "\n",
    "def remove_punctuation(words):\n",
    "    \"\"\"Remove punctuation from list of tokenized words\"\"\"\n",
    "    new_words = []\n",
    "    for word in words:\n",
    "        new_word = re.sub(r'[^\\w\\s]', '', word)\n",
    "        if new_word != '':\n",
    "            new_words.append(new_word)\n",
    "    return new_words\n",
    "\n",
    "def replace_numbers(words):\n",
    "    \"\"\"Replace all interger occurrences in list of tokenized words with textual representation\"\"\"\n",
    "    p = inflect.engine()\n",
    "    new_words = []\n",
    "    for word in words:\n",
    "        if word.isdigit():\n",
    "            new_word = p.number_to_words(word)\n",
    "            new_words.append(new_word)\n",
    "        else:\n",
    "            new_words.append(word)\n",
    "    return new_words\n",
    "\n",
    "def remove_stopwords(words):\n",
    "    \"\"\"Remove stop words from list of tokenized words\"\"\"\n",
    "    new_words = []\n",
    "    for word in words:\n",
    "        if word not in stopwords.words('english'):\n",
    "            new_words.append(word)\n",
    "    return new_words\n",
    "\n",
    "def stem_words(words):\n",
    "    \"\"\"Stem words in list of tokenized words\"\"\"\n",
    "    stemmer = LancasterStemmer()\n",
    "    stems = []\n",
    "    for word in words:\n",
    "        stem = stemmer.stem(word)\n",
    "        stems.append(stem)\n",
    "    return stems\n",
    "\n",
    "def lemmatize_verbs(words):\n",
    "    \"\"\"Lemmatize verbs in list of tokenized words\"\"\"\n",
    "    lemmatizer = WordNetLemmatizer()\n",
    "    lemmas = []\n",
    "    for word in words:\n",
    "        lemma = lemmatizer.lemmatize(word, pos='v')\n",
    "        lemmas.append(lemma)\n",
    "    return lemmas\n",
    "\n",
    "def normalize(words):\n",
    "    pbar = tqdm.tqdm(total=len(words))\n",
    "    word_arr = []\n",
    "    for word in words:\n",
    "        word = remove_non_ascii(word)\n",
    "        word = to_lowercase(word)\n",
    "        word = remove_punctuation(word)\n",
    "        word = replace_numbers(word)\n",
    "        word = remove_stopwords(word)\n",
    "        word = stem_words(word)\n",
    "        word = lemmatize_verbs(word)\n",
    "        word_arr.append(word)\n",
    "        pbar.update(1)\n",
    "    pbar.close()\n",
    "    return word_arr"
   ]
  },
  {
   "cell_type": "code",
   "execution_count": 12,
   "metadata": {
    "scrolled": true
   },
   "outputs": [
    {
     "name": "stderr",
     "output_type": "stream",
     "text": [
      "100%|██████████████████████████████████████████████████████████████████████████████| 4827/4827 [10:21<00:00, 11.11it/s]\n"
     ]
    }
   ],
   "source": [
    "job_adverts_desc = normalize(job_adverts_desc)"
   ]
  },
  {
   "cell_type": "markdown",
   "metadata": {},
   "source": [
    "2.5 Remove useless words stick with numbers"
   ]
  },
  {
   "cell_type": "code",
   "execution_count": 13,
   "metadata": {},
   "outputs": [
    {
     "name": "stderr",
     "output_type": "stream",
     "text": [
      "100%|██████████████████████████████████████████████████████████████████████████████████| 10/10 [00:20<00:00,  2.07s/it]\n"
     ]
    }
   ],
   "source": [
    "import re\n",
    "\n",
    "pbar = tqdm.tqdm(total=10)\n",
    "\n",
    "for i in range(1,11):\n",
    "    for desc in job_adverts_desc:\n",
    "        for i in desc:\n",
    "            if(re.search(r'\\w*\\d\\w*', i)):\n",
    "                desc.remove(str(i))\n",
    "    pbar.update(1)\n",
    "pbar.close()"
   ]
  },
  {
   "cell_type": "code",
   "execution_count": null,
   "metadata": {},
   "outputs": [],
   "source": [
    "# load nltk's SnowballStemmer as variabled 'stemmer'\n",
    "from nltk.stem.snowball import SnowballStemmer\n",
    "stemmer = SnowballStemmer(\"english\")"
   ]
  },
  {
   "cell_type": "code",
   "execution_count": null,
   "metadata": {},
   "outputs": [],
   "source": [
    "# here I define a tokenizer and stemmer which returns the set of stems in the text that it is passed\n",
    "\n",
    "def tokenize_and_stem(text):\n",
    "    # first tokenize by sentence, then by word to ensure that punctuation is caught as it's own token\n",
    "    tokens = [word for sent in nltk.sent_tokenize(text) for word in nltk.word_tokenize(sent)]\n",
    "    filtered_tokens = []\n",
    "    # filter out any tokens not containing letters (e.g., numeric tokens, raw punctuation)\n",
    "    for token in tokens:\n",
    "        if re.search('[a-zA-Z]', token):\n",
    "            filtered_tokens.append(token)\n",
    "    stems = [stemmer.stem(t) for t in filtered_tokens]\n",
    "    return stems\n",
    "\n",
    "\n",
    "def tokenize_only(text):\n",
    "    # first tokenize by sentence, then by word to ensure that punctuation is caught as it's own token\n",
    "    tokens = [word.lower() for sent in nltk.sent_tokenize(text) for word in nltk.word_tokenize(sent)]\n",
    "    filtered_tokens = []\n",
    "    # filter out any tokens not containing letters (e.g., numeric tokens, raw punctuation)\n",
    "    for token in tokens:\n",
    "        if re.search('[a-zA-Z]', token):\n",
    "            filtered_tokens.append(token)\n",
    "    return filtered_tokens"
   ]
  },
  {
   "cell_type": "code",
   "execution_count": null,
   "metadata": {},
   "outputs": [],
   "source": [
    "#not super pythonic, no, not at all.\n",
    "#use extend so it's a big flat list of vocab\n",
    "totalvocab_stemmed = []\n",
    "totalvocab_tokenized = []\n",
    "for i in job_adverts_desc:\n",
    "    allwords_stemmed = tokenize_and_stem(i) #for each item in 'synopses', tokenize/stem\n",
    "    totalvocab_stemmed.extend(allwords_stemmed) #extend the 'totalvocab_stemmed' list\n",
    "    \n",
    "    allwords_tokenized = tokenize_only(i)\n",
    "    totalvocab_tokenized.extend(allwords_tokenized)"
   ]
  },
  {
   "cell_type": "code",
   "execution_count": 18,
   "metadata": {},
   "outputs": [
    {
     "name": "stderr",
     "output_type": "stream",
     "text": [
      "IOPub data rate exceeded.\n",
      "The notebook server will temporarily stop sending output\n",
      "to the client in order to avoid crashing it.\n",
      "To change this limit, set the config variable\n",
      "`--NotebookApp.iopub_data_rate_limit`.\n",
      "\n",
      "Current values:\n",
      "NotebookApp.iopub_data_rate_limit=1000000.0 (bytes/sec)\n",
      "NotebookApp.rate_limit_window=3.0 (secs)\n",
      "\n"
     ]
    },
    {
     "name": "stdout",
     "output_type": "stream",
     "text": [
      "\n"
     ]
    }
   ],
   "source": [
    "temp_arr = []\n",
    "\n",
    "for words in job_adverts_desc:\n",
    "    for word in words:\n",
    "        temp_arr.append(word)\n",
    "job_adverts_desc_arr = temp_arr\n",
    "\n",
    "print(job_adverts_desc_arr)"
   ]
  },
  {
   "cell_type": "code",
   "execution_count": 29,
   "metadata": {},
   "outputs": [
    {
     "data": {
      "text/plain": [
       "['lead',\n",
       " 'loc',\n",
       " 'enterpriseunderstand',\n",
       " 'cur',\n",
       " 'process',\n",
       " 'valu',\n",
       " 'outcomes',\n",
       " 'structure',\n",
       " 'larg',\n",
       " 'amount']"
      ]
     },
     "execution_count": 29,
     "metadata": {},
     "output_type": "execute_result"
    }
   ],
   "source": [
    "job_adverts_desc_arr[:10]"
   ]
  },
  {
   "cell_type": "code",
   "execution_count": 23,
   "metadata": {},
   "outputs": [
    {
     "data": {
      "text/plain": [
       "4827"
      ]
     },
     "execution_count": 23,
     "metadata": {},
     "output_type": "execute_result"
    }
   ],
   "source": [
    "len(job_adverts_desc)"
   ]
  },
  {
   "cell_type": "code",
   "execution_count": 7,
   "metadata": {},
   "outputs": [
    {
     "name": "stdout",
     "output_type": "stream",
     "text": [
      "there are 929767 items in vocab_frame\n"
     ]
    }
   ],
   "source": [
    "import pandas as pd\n",
    "\n",
    "vocab_frame = pd.DataFrame({'words': job_adverts_desc_arr}, index = job_adverts_desc_arr)\n",
    "print('there are ' + str(vocab_frame.shape[0]) + ' items in vocab_frame')"
   ]
  },
  {
   "cell_type": "markdown",
   "metadata": {},
   "source": [
    "Run this to backup data variable"
   ]
  },
  {
   "cell_type": "code",
   "execution_count": 21,
   "metadata": {},
   "outputs": [],
   "source": [
    "import pickle\n",
    "with open('job_advert_desc_arr_dump', 'wb') as bf:\n",
    "    pickle.dump(job_adverts_desc_arr, bf)"
   ]
  },
  {
   "cell_type": "code",
   "execution_count": 22,
   "metadata": {},
   "outputs": [],
   "source": [
    "import pickle\n",
    "with open('job_advert_desc_dump', 'wb') as bf:\n",
    "    pickle.dump(job_adverts_desc, bf)\n",
    "with open('job_advert_title_dump', 'wb') as bf:\n",
    "    pickle.dump(job_adverts_title , bf)"
   ]
  },
  {
   "cell_type": "markdown",
   "metadata": {},
   "source": [
    "Run this to load data variable"
   ]
  },
  {
   "cell_type": "code",
   "execution_count": 8,
   "metadata": {},
   "outputs": [],
   "source": [
    "import pickle\n",
    "job_adverts_desc = []\n",
    "with open('job_advert_desc_arr_dump', 'rb') as lf:\n",
    "    job_adverts_desc_arr = pickle.load(lf)"
   ]
  },
  {
   "cell_type": "code",
   "execution_count": 9,
   "metadata": {},
   "outputs": [],
   "source": [
    "import pickle\n",
    "job_adverts_desc = []\n",
    "with open('job_advert_desc_dump', 'rb') as lf:\n",
    "    job_adverts_desc = pickle.load(lf)\n",
    "with open('job_advert_title_dump', 'rb') as lf:\n",
    "    job_adverts_title = pickle.load(lf)"
   ]
  },
  {
   "cell_type": "markdown",
   "metadata": {},
   "source": [
    "<font size=\"20\">3.0 Finding useful keywords  TF-IDF</font>"
   ]
  },
  {
   "cell_type": "code",
   "execution_count": 30,
   "metadata": {},
   "outputs": [
    {
     "name": "stderr",
     "output_type": "stream",
     "text": [
      "C:\\Users\\uSER\\Anaconda3\\lib\\site-packages\\sklearn\\feature_extraction\\text.py:301: UserWarning: Your stop_words may be inconsistent with your preprocessing. Tokenizing the stop words generated tokens [\"'\", 'b', 'c', 'e', 'f', 'g', 'h', 'j', 'l', 'n', 'p', 'r', 'u', 'v', 'w', 'x'] not in stop_words.\n",
      "  'stop_words.' % sorted(inconsistent))\n"
     ]
    }
   ],
   "source": [
    "from sklearn.feature_extraction.text import TfidfVectorizer\n",
    "import numpy as np\n",
    "from scipy.sparse.csr import csr_matrix #need this if you want to save tfidf_matrix\n",
    "\n",
    "def identity_tokenizer(text):\n",
    "    return text\n",
    "\n",
    "tf = TfidfVectorizer(tokenizer=identity_tokenizer, analyzer='word',\n",
    "                     min_df = 0, stop_words = stopset, sublinear_tf=True, lowercase=False)\n",
    "tfidf_matrix =  tf.fit_transform(job_adverts_desc)"
   ]
  },
  {
   "cell_type": "code",
   "execution_count": 31,
   "metadata": {},
   "outputs": [],
   "source": [
    "from sklearn.decomposition import TruncatedSVD\n",
    "\n",
    "lsa = TruncatedSVD(n_components=7, n_iter=100, random_state=None)\n",
    "lsa.fit(tfidf_matrix)\n",
    "data2D = lsa.transform(tfidf_matrix)"
   ]
  },
  {
   "cell_type": "code",
   "execution_count": 32,
   "metadata": {
    "scrolled": true
   },
   "outputs": [
    {
     "name": "stdout",
     "output_type": "stream",
     "text": [
      "Concept 0: \n",
      "['develop ', 'man ', 'work ', 'requir ', 'team ', 'busy ', 'system ', 'us ', 'skil ', 'project ']\n",
      "\n",
      "Concept 1: \n",
      "['test ', 'jav ', 'web ', 'infotech ', 'design ', 'develop ', 'cod ', 'system ', 'sql ', 'framework ']\n",
      "\n",
      "Concept 2: \n",
      "['network ', 'infotech ', 'hardw ', 'support ', 'admin ', 'troubleshoot ', 'incid ', 'instal ', 'op ', 'window ']\n",
      "\n",
      "Concept 3: \n",
      "['infotech ', 'greet ', 'pleas ', 'infotechposit ', 'regard ', 'monthjd ', 'cli ', 'yearsloc ', 'singaporecompany ', 'payrol ']\n",
      "\n",
      "Concept 4: \n",
      "['sec ', 'network ', 'advert ', 'serv ', 'cyb ', 'cloud ', 'infrastruct ', 'learn ', 'job ', 'technolog ']\n",
      "\n",
      "Concept 5: \n",
      "['sec ', 'cyb ', 'advert ', 'assess ', 'test ', 'vuln ', 'risk ', 'searchelectcom ', 'threat ', 'daryl ']\n",
      "\n",
      "Concept 6: \n",
      "['candid ', 'sal ', 'job ', 'advert ', 'must ', 'possess ', 'diplom ', 'interest ', 'resum ', 'posit ']\n",
      "\n"
     ]
    }
   ],
   "source": [
    "terms = tf.get_feature_names()\n",
    "keywords = []\n",
    "\n",
    "for i, comp in enumerate(lsa.components_):\n",
    "    termsInComp = zip(terms, comp)\n",
    "    sortedTerms = sorted(termsInComp, key=lambda x: x[1], reverse=True) [:10]\n",
    "    for st in sortedTerms:\n",
    "        keywords.append(st[0] + \" \")\n",
    "    print(\"Concept %d: \" % i)\n",
    "    print(keywords)\n",
    "    keywords = []\n",
    "    print()\n",
    "    "
   ]
  },
  {
   "cell_type": "markdown",
   "metadata": {},
   "source": [
    "<font size=\"20\">4.0 Finding Number of Clusters Elbow method</font>"
   ]
  },
  {
   "cell_type": "code",
   "execution_count": 35,
   "metadata": {},
   "outputs": [
    {
     "data": {
      "image/png": "[encoded data removed]",
      "text/plain": [
       "<Figure size 432x288 with 1 Axes>"
      ]
     },
     "metadata": {},
     "output_type": "display_data"
    }
   ],
   "source": [
    "import matplotlib.pyplot as plt\n",
    "from sklearn.cluster import KMeans\n",
    "wcss = [] \n",
    "for i in range(1,30):\n",
    "    kmeans = KMeans(n_clusters=i,init='k-means++',max_iter=300,n_init=10,random_state=0)\n",
    "    kmeans.fit(data2D)\n",
    "    wcss.append(kmeans.inertia_)\n",
    "plt.plot(range(1,30),wcss) \n",
    "plt.title('The Elbow Method')\n",
    "plt.xlabel('Number of clusters')\n",
    "plt.ylabel('WCSS')\n",
    "plt.savefig('elbow(k=1,30).png')\n",
    "plt.show()\n",
    "\n",
    "#plot the graph with \n",
    "#Sum of squared distances of samples to their closest cluster center.\n",
    "#agaisnt\n",
    "#num of clusters"
   ]
  },
  {
   "cell_type": "markdown",
   "metadata": {},
   "source": [
    "Note : <br/>\n",
    "I decide to use K = 7 since the elbow is shown at 7 <br/>\n",
    "Keywords for clusters <br/>\n",
    "1. 'develop ', 'man ', 'work ', 'requir ', 'team ', 'busy ', 'system ', 'us ', 'skil ', 'project '\n",
    "2. 'data ', 'jav ', 'web ', 'infotech ', 'design ', 'develop ', 'cod ', 'system ', 'sql ', 'framework '\n",
    "3. 'network ', 'infotech ', 'hardw ', 'support ', 'admin ', 'troubleshoot ', 'incid ', 'instal ', 'op ', 'window '\n",
    "4. 'adv ', 'bank ', 'email ', 'resum ', 'sal ', 'prep ', 'sec ', 'cisco ', 'network ', 'knowledg '\n",
    "5. 'test ', 'custom ', 'sal ', 'autom ', 'cli ', 'solv ', 'cloud ', 'selen ', 'consult ', 'defect '\n",
    "6. 'exp ', 'sal ', 'job ', 'android ', 'mobl ', 'io ', 'hand ', 'design ', 'period ', 'minim '\n",
    "7. 'cli ', 'cloud ', 'admin ', 'bank ', 'fin ', 'ap ', 'prep ', 'draw ', 'brief ', 'propos '"
   ]
  },
  {
   "cell_type": "code",
   "execution_count": 11,
   "metadata": {},
   "outputs": [],
   "source": [
    "import random\n",
    "r = lambda: random.randint(0,255)\n",
    "\n",
    "#set up colors per clusters using a dict\n",
    "cluster_colors = {0: '#%02X%02X%02X' % (r(),r(),r()),\n",
    "                  1: '#%02X%02X%02X' % (r(),r(),r()),\n",
    "                  2: '#%02X%02X%02X' % (r(),r(),r()), \n",
    "                  3: '#%02X%02X%02X' % (r(),r(),r()), \n",
    "                  4: '#%02X%02X%02X' % (r(),r(),r()), \n",
    "                  5: '#%02X%02X%02X' % (r(),r(),r()), \n",
    "                  6: '#%02X%02X%02X' % (r(),r(),r()),\n",
    "                 }\n",
    "    \n",
    "#set up cluster names using a dict\n",
    "cluster_names = {0: \"Concept 0\", \n",
    "                 1: 'Concept 1', \n",
    "                 2: 'Concept 2', \n",
    "                 3: 'Concept 3',\n",
    "                 4: 'Concept 4',\n",
    "                 5: 'Concept 5',\n",
    "                 6: 'Concept 6'\n",
    "                }"
   ]
  },
  {
   "cell_type": "markdown",
   "metadata": {},
   "source": [
    "<font size=\"20\">5.0 K-Means Clustering</font>"
   ]
  },
  {
   "cell_type": "code",
   "execution_count": 36,
   "metadata": {},
   "outputs": [
    {
     "name": "stdout",
     "output_type": "stream",
     "text": [
      "Wall time: 283 ms\n"
     ]
    }
   ],
   "source": [
    "from sklearn.cluster import KMeans\n",
    "\n",
    "num_clusters = 7\n",
    "\n",
    "km = KMeans(n_clusters=num_clusters)\n",
    "\n",
    "%time km.fit(data2D)\n",
    "\n",
    "clusters = km.labels_.tolist()"
   ]
  },
  {
   "cell_type": "markdown",
   "metadata": {},
   "source": [
    "Run this to backup kmeans model variable"
   ]
  },
  {
   "cell_type": "code",
   "execution_count": 37,
   "metadata": {},
   "outputs": [],
   "source": [
    "import pickle\n",
    "with open('km_model(k=7)', 'wb') as bf:\n",
    "    pickle.dump(km, bf)"
   ]
  },
  {
   "cell_type": "markdown",
   "metadata": {},
   "source": [
    "Run this to load data variable"
   ]
  },
  {
   "cell_type": "code",
   "execution_count": 5,
   "metadata": {},
   "outputs": [],
   "source": [
    "import pickle\n",
    "with open('km_model(k=7)', 'rb') as lf:\n",
    "    km = pickle.load(lf)"
   ]
  },
  {
   "cell_type": "code",
   "execution_count": 6,
   "metadata": {},
   "outputs": [],
   "source": [
    "clusters = km.labels_.tolist()"
   ]
  },
  {
   "cell_type": "code",
   "execution_count": 11,
   "metadata": {},
   "outputs": [],
   "source": [
    "import pandas as pd\n",
    "\n",
    "job_adverts = { 'title': job_adverts_title, 'desc': job_adverts_desc, 'cluster': clusters }\n",
    "\n",
    "frame = pd.DataFrame(job_adverts, index = [clusters] , columns = ['title', 'cluster'])"
   ]
  },
  {
   "cell_type": "code",
   "execution_count": 12,
   "metadata": {},
   "outputs": [
    {
     "data": {
      "text/plain": [
       "1    1280\n",
       "6     994\n",
       "4     888\n",
       "0     816\n",
       "2     643\n",
       "3     128\n",
       "5      78\n",
       "Name: cluster, dtype: int64"
      ]
     },
     "execution_count": 12,
     "metadata": {},
     "output_type": "execute_result"
    }
   ],
   "source": [
    "frame['cluster'].value_counts() #number of job_adverts per cluster (clusters from 0 to 6)"
   ]
  },
  {
   "cell_type": "code",
   "execution_count": 41,
   "metadata": {
    "collapsed": true
   },
   "outputs": [
    {
     "name": "stdout",
     "output_type": "stream",
     "text": [
      "Top terms per cluster:\n",
      "\n",
      "Cluster 0 words:"
     ]
    },
    {
     "name": "stderr",
     "output_type": "stream",
     "text": [
      "C:\\Users\\uSER\\Anaconda3\\lib\\site-packages\\ipykernel_launcher.py:12: DeprecationWarning: \n",
      ".ix is deprecated. Please use\n",
      ".loc for label based indexing or\n",
      ".iloc for positional indexing\n",
      "\n",
      "See the documentation here:\n",
      "http://pandas.pydata.org/pandas-docs/stable/indexing.html#ix-indexer-is-deprecated\n",
      "  if sys.path[0] == '':\n"
     ]
    },
    {
     "name": "stdout",
     "output_type": "stream",
     "text": [
      " b'__________________',\n",
      "\n",
      "Cluster 0 titles:"
     ]
    },
    {
     "name": "stderr",
     "output_type": "stream",
     "text": [
      "C:\\Users\\uSER\\Anaconda3\\lib\\site-packages\\ipykernel_launcher.py:17: DeprecationWarning: \n",
      ".ix is deprecated. Please use\n",
      ".loc for label based indexing or\n",
      ".iloc for positional indexing\n",
      "\n",
      "See the documentation here:\n",
      "http://pandas.pydata.org/pandas-docs/stable/indexing.html#ix-indexer-is-deprecated\n"
     ]
    },
    {
     "name": "stdout",
     "output_type": "stream",
     "text": [
      " SAP Manager and Senior Consultants, IT Sharepoint Analyst- SharePoint Developer, Data Analyst, Head, Infrastructure, Senior Software Developer, Junior Project Manager (1 year contract), Assistant / Security Manager (Planning & Projects), Technical Project Manager / Technical Lead, Assistant / Security Manager (Planning & Projects), Project Manager - APAC, Project Manager, Project Manager, Project Manager, QA Analysts, Regional Retail Manager, Senior Software Developer, Technology Consultant III, Software Quality Assurance Engineer, Associate Consultant, Apps, Lead/ Software Developer (MS Sharepoint), Consultant, Application, Commercial Support Coordinator II, Programmer (Testing), Control Room Operator (CRO), BIM COORDINATORS, Project Manager, Technical Business Analyst, Digital Commence Architect, Regional Retail Manager, ID- Engineer, Software Requirement, Outsystem developer, Assistant Manager, Scientist II, Application Support Analyst, Field Technical Spt Cons I, Department Director (Telecom), Group IT - Solution Designer, IT project manager, SR Clinical Research Associate | Singapore, Singleview Software Consultant, ERM Consultant, Dotnet Developer (Singapore based candidates), Project Manager (Pegasystems), Product Manager, Customer Support Supervisor, Business Intelligence - Senior Program Manager, Senior Project Manager, Product Manager, Project Manager, Assistant Project Manager, Project Manager, Assistant Manager - IT Project, Professional Services Consultant: Financials, Control Room Operator (CRO), IT Solutions Engineer, Manager (L5)- Cybersecurity Architecture Specialist, System Analyst – EDW, Project Manager (HR Software) Up to $9k, Incident Engineer, Infrastructure Solutions Architect, IT Business Analyst, Customer Service Officer, Software Engineer, Senior Systems Engineer (Citrix Lead), Qliksense/BI Developer, Business Manager, Manager/Senior Manager, Data Management (1 year contract), Assistant Project Manager Interns, IT Business Analyst, Infrastructure Solutions Architect, Senior Manager – Digital, IT Project Manager, Project Manager cum Business Analyst, Information Technology Project Manager, Relationship Manager, Project Manager - Cloud Services, Application Delivery Specialist, SR Site Start-up & Regulatory Specialist | Singapore, Relationship Manager, Senior Manager – Digital, Programme Manager (IT), HOTEL SYSTEMS MANAGER, Project / Account Manager, HOTEL SYSTEMS MANAGER, Assistant IT Project Manager Intern, Senior Product Manager, Group IT - Staff Solution Designer, DOCUMENT AUTOMATION SPECIALIST, System Analyst (IT Apps), Project Manager, Systems Integration (3-year contract), Centre for Teaching Excellence, Payroll Specialist, Project Manager (IT Infrastructure), Project Manager, Business Analyst, Field Service Support Coordinator (IT procurement), Senior Software Engineers, Project Manager, Project Manager, Systems Integration (3-year contract), Centre for Teaching Excellence, Business Analyst, Senior Contracts Manager, Manager (L5)- Cybersecurity Architecture Specialist, Blocked Space Agreements (BSA) IT Consultant, IT Manager, BIM Manager, IT Services Manager, Customer Support Analyst, IT Manager, BIM Manager, Assistant Manager – Client Delivery, Manager, Wholesale Banking Middle Office, Assistant Power Manager, Assistant Manager, Software QA Engineer, IT Project Lead, Biotechnologist, Mammalian Manufacturing, Payroll Specialist, IT Application Analyst (PERM / Tanjong Pagar) - J12, Project Manager (Ref 19861), Lead/ Software Developer (MS Sharepoint), Application Delivery Specialist, Service Delivery Manager, AVP - Infrastructure Solutions Manager, Manager, Developer, TS Commercial - Analytics Development Manager ASPAC, Senior IT Manager, Group Manager- Service Line Technology Manager, IT Solutions Engineer, International Mobility ­ Systems Manager, IT PM - Credit Card & Credit Processing - Consumer Banking (VP), Technical Program Manager, THK Headquarters – Executive (IT), IT Manager, Software Developer, JCH IT Application LifeCycle Manager, Cybersecurity Engineer, IT PM - Credit Card & Credit Processing - Consumer Banking (VP), Business Analyst, IT Project Management (Infrastructure & Technical Platform), Sr. Software Engineer, IT QA Analyst, SPSS Software Developer-IT Software, IT Applications / Software Managers, IT & Software Application Executive, IT PM -Software Defined Networks SDN) - Infrastructure (VP), IT Executive (Application developer), Presales Consultant(Network), Project Manager, AWS Technical Consultant, SAP ABAP Developer, Triple’A Plus Application Developer, Business Analyst- Order Management, Assistant General Manager - Compensation & Benefits & Payroll, L2 Support - AS400 in Singapore (2x) - JOB_000165, Dynamics CRM Consultant cum CRM Develoep, IT Business Analyst - B2E Projects | Up to 3,800, Business Analyst, Solution Architect, Bid Manager, Business Analyst – P400, Financial Planning & Analysis (1 year contract), SAP Techno-Functional Consultant (ABAP Developer) / Up to 4.3K Basic + Bonus, Manager Technical Project Leader, SOFTWARE TEST ANALYST (UAT), Business Intelligence & Analytics Expert, SAP Master Data Governance Consultant, Project Manager, Associate Technical Architect, Security, Sales Manager (IT Managed Services/Up to 6k Basic), Test Director, BUSINESS ANALYST- CRM, BUSINESS ANALYST - SAP, Business Process Reengineering (BPR) Consultant, Business Analyst - Knowledge Management, Business Analyst -Testing, Business Analyst (Functional) - Agile, Cognizant Technology Solutions - Java Developer (Tech Lead) - Singapore, Functional Tester, Opening for Data analyst with Trade Finance @ Cognizant - Singapore, Business Analyst with focus on Air Transport/ Aviation industry, Salesforce Functional Team Lead/ PM, Microsoft Dynamics NAV  Technical Consultant, Program / Project Manager (Application), ITSM Tools Developer (BMC Remedy), Business Analyst  - Life Insurance, IT Technical Recruiter & IT Recruitment Manager, Senior Data Visualization Designer, Senior Big Data Engineer, SAP HR, Scrum Master, Project Coordinator, Scrum Master & Agile Coach, Change Manager, RPA Developer (3500 - 7000) 1 year contract, Sharepoint Project Manager (8500), .NET Solution Architect, Solution Manager (Communication Engineering), Business Analyst - Adobe Experience Manager, Jr Tester /Assoiate Test Analyst/@Singapore, Solutions Architect (Managed Print Services / Print Room / Statement Print), Assistant General Manager - Compensation & Benefits & Payroll, Data & Digitalization Project Specialist (Tuas ), Bid Manager, Project Manager Big Data/ Hadoop /Java- Direct Contract, Project Coordinator, Assistant Manager - Digital Delivery, Assistant Project Manager, Project Manager (Infrastructure), ABAP Developer (Techno-functional) Consultant - Up to 5 K Basic + Bonus, SAP FICO Consultant in Singapore - JOB_000179, Assistant Manager, Technology, Information and Cyber Risk, Business Analyst - Banking wealth management, Cognizant Technology Solutions - Functional Test Lead - Singapore, Field Sales Engineer - Delhi, India, IT Security Manager, Project Manager, Applications Domain Expert, System Analyst (Outsystems), Hyperion Planning Consultant, Event Management Specialist, Business Analyst with Capital Markets, Technical Subject Matter Expert - FLEXCUBE Core Banking Solution experience, Technical Analyst, Outsystems Developer, Senior System Analyst (Techno-functional), Identity and Access Management in Singapore - JOB_000272, Business Intelligence(Solution Architect-Client Management), Regional Service Delivery Manager (Transition and Transformation Manager), Cognizant Technology Solutions - Tech Lead (.Net) - Singapore, System Analyst / Central / 6K ) Logistics MNC / ERP Rollout Exp/ C# / VB.NET, IT Business Analyst, Functional Subject Matter Expert (SME) - FLEXCUBE Core Banking Solution, Technical Consultants - Banking Domain experience, Software Engineer / Senior Engineer, SAP Project Manager - Permanent - Singapore, Inside sales,technical sales, pricing manager(Junior level/up tp 4.5K), Business Analyst, Associate Technical Architect, Security, Technical Solutions Specialist (e-Learning Training), Software Engineer (Java / J2EE) - 1 year contract (3000 to 6000 per month),"
     ]
    },
    {
     "name": "stdout",
     "output_type": "stream",
     "text": [
      " Business Systems Analyst, Business System Analyst (Salesforce), Project Manager (Applications), Technical Program Manager, Consultant, Regulatory Reporting role, Sr. Business Analyst, Application Analyst –SAP BW and Consolidated DataWarehousing Systems, Seniorr Developer - Siebel Applications – Products, AS400 Developer (Software Developer), Application Software Tester (Finance), Solutions Architect (Managed Print Services / Print Room / Statement Print), Bid Manager, ETL Developer with SSIS, Project Admin Officer, Big Data Developer, UIPath RPA Developer - 6 Months renewal contract - Singapore, Junior Developer - (.NET/JAVA), Data Analyst (Strategic Analytics) AVP/VP, Application Team Lead ( Data), Data Engineer- AVP/ VP ( Top Bank), SAS Technical  Architect, Project Manager (Digital Transformation), SAP Developer, SAP Senior Consultant, Security Architect, Enterprise Architecture, Senior Manager, PMO (Infra & Ops), Data Architect, Sales Manager (Managed Services BU) - Up to 6.2K, Infra Project Manager ( up to 6.5K), Program / Project Manager, Digitisation (Up to 11K), Sr. Business Analyst (Insurance), Lead Software Programmer (C#.NET) - Up to 7.5 k, Apigee Architect, Technical Business Analyst in Singapore - JOB_000311, Business Analyst, Application Analyst –BI and Reporting Systems, Application Analyst – SAP BW and Consolidated Data Warehousing Systems, SAP Support Consultant, Digital E-Commerce Architect, Data Center Services - APAC Data Center Placement Specialist Consultant, Network Security Engineer, BI Solution Architect & Pre-sales consultant, Software Engineering Manager, Outsystems Analyst & Team Lead roles, IT Business Analyst & Sr BA roles, Digital E-Commerce Architect, Tester, Job Opening for Data Governance Lead @ Cognizant - Singapore, Job Opening for Informatica Data Quality (IDQ) - Lead @ Cognizant - Singapore, Software Quality Assurance Consultant (permanent ) - Mandarin speaking, Automation Tester, Enterprise Architect, Digital eCommerce Architect, Human Resource Project Executive, Regional Account Delivery Manager, Solutions Architect (Managed Print Services / Print Room / Statement Print), Senior Presales Consultant - Managed Print Services (MPS), Senior Project Manager in Singapore - JOB_000324, Presales Consultant, Senior Operations Manager - (IT/ Warehouse/Logistics), SME - Subject Matter Expert - Trade Finance, IT Project Manager (Data Warehouse/BI), Junior IT Project Manager, Regional Core Operations Support, ABAP Developer - Permanent - Singapore, Manager, Service Delivery Operations, Solution Architect, Regional Program Manager (Global top 3 payment company, 19 month salary + stock option), Technical Test Lead, Test Analyst, Consumer Networks - Manager, Prject Manager - Government Sector, Project Manager, Senior Solution Architect, Singapore, Junior Programmer- (.NET/JAVA), Sales Support Executive, Sales Support Executive, Enterprise Administration, Sales Operations Manager (Managed Services), Production Support Engineer - PL/SQL and Unix Commands, VICIT Application Support, Senior Financial Analyst (Up to 10,000), Senior Project Analyst (Up to 7,500), Appian Developer, Pre-Sales Engineer (Up to 5,500), SAP S4 Hana Solution Architect, Finance Manager (SAP), Procurement Specialist, Application Support Analyst, Analyst - Automation testing, CISRUN Technology Analyst (Java Application support), Automation Test Analyst, SAP SD-OTC Consultant, Business Analyst - CORE BANKING, Data mart Business Intelligence  - Business Analyst with Project Management Skills, Technical Delivery Manager, Solutions Specialist, Analyst (Automation Analyst) @ Singapore, Software Engineer (Java / J2EE / ASP.NET / C#) - 1 year contract (up to 5500 / month) (Contract Job), Agile and Scrum Master(Banking), Bid Manager, Pre Sales Manager  - Telecom Domain (Data Analytics & BI(, Salesforce Consultant, SAP PI/PO/XI Consultant, Regional Account Delivery Manager, Solutions Architect (Managed Print Services / Office Automation/ Print Room), Senior Presales Consultant - Managed Print Services (Office Automation), ETL Lead, Senior Associate, Adobe and Google Analytics Developer - 6-month renewable contract - Singapore, RPA Developer, RPA Senior Developer, Enterprise Architecture Tool Admin, Project Manager (Software Applications), Technology Risk Managment officers-Retail and wholesale banking, Software Development Methodology (SDM) – Process Assurance Manager, Sharepoint Developer (Salary up to 4,000), Mainframe Support Position _Singapore Infosys (Full Time), Blue Prism Developer, SAP Consultant (HCM), System Analyst (Data Profiling), Software Engineer (C# .Net), ERP Consultant- Microsoft Dynamics AX (Finance), RPA Architect, QA Engineer, Business Analyst, Sharepoint Project Manager (Up to 8500), Project Manager (Network Infrastructure), Solutions Architect – UC / LYNC / Skype for Business, SAP Technical Consultants, Performance Test Lead_Singapore_Infosys, Project Manager (Software Development), Project Manager, Bid Manager, Senior Project Manager / Project Manager, Database Administrator, Sharepoint Developer, Senior System Analyst, Sales Engineering Director, APAC, SAP Functional Consultants - French Speaking, Software Tester, IT Senior Auditor (Perm with Client), IT Compliance Specialist( PERMANENT ), Program Manager, Head Technical Architect, Business Intelligents and Analytics Solutions Architect (Up to 9000), ENVIRONMENT MANAGEMENT ENGINEER, ABAP Developer, Finance Executive, Devops Engineer, Engineering Manager – Customer Product, ABAP Developer, Senior Java / JEE Software Developer, Senior Associate/Assistant Manager/Manager (IARCS), Air Transportation - Blocked Space Agreements (BSA) Consultant, IT Manager, Project Coordinator – 12 month contract – Singapore, MYS CTSM KL User Acceptance Testing Regional SME Lead, MYS CTSM KL User Acceptance Testing Regional and Country SME Lead, Software Project Manager, Software Development Manager, Senior Software Engineer, PSP, KL, JAVA Developers, Developer, Application, Automation Tester- Selenium, Developer, Application, Global IT Principal Systems Specialist/Analyst, .Net Fresher/Developer/Architect, Project Manager, Senior QA Engineer, Senior Java Integration Consultant \\ Java Solution Engineer, Audit Manager, Infrastructure Delivery Specialist, Systems Specialists (RCS: L / K) -Clearance, Business Process Consultant, Head of Digital Transformation, Senior Software Engineer-Java, Head of Digital Transformation, ABAP on HANA Consultant - Permanent, Software Developer, Application Support Analyst, SPC/MSA Engineer, GIS Consultant (Geospatial Specialist), Lead, BI Delivery Manager, Programme Lead, Consultant HR IT, Project Manager, Project Manager, System Analyst, Application Support Analyst, Automation Tester- Selenium, Program Manager- Telecom, Softesre Project Control Manager, Solution Manager, Senior / Lead Application Consultant - Pega, SERVICE DELIVERY MANAGER, Software Developer (webmethods), IT Helpdesk (Wintel/Citrix), Test Engineer, Software Engineer, Sr CRA I | Malaysia, Project Management - Project Manager, Intern Opportunities, IT Manager (Infrastructure), MES Developer (Manufacturing Execution System) - MNC based in Kulim, Kedah, Software Developer (webmethods), Pharmacovigilance Specialist, Malaysia and Indonesia, Software Developer (webmethods), Production Support Level 2 Analyst, System Analyst II, Test Engineer, Extended Enterprise Risk Management, Internal Auditor, IT Product Manager, Java Developer, Payroll Manager, Service Now Developer, Java Developer, Incident Manager, Senior / Data Scientist, Project Manager - Data Analytics, Project Manager - Applications, Project Manager (CRM), Application Consultant (Scrum Master & Agile), Service Now Developer, Java Developer, Test Analyst, Kuala Lumpur, CAPACITY MANAGER, System Engineer, SERVICE DELIVERY MANAGER, Record to Report Analyst, Application Architect (C#/ Azure/ Outsystems), IT Lead, Application Support Analyst, CSAT Reporting Analyst, Associate HPM, Installation, Software Application Engineer, Project Management, System Analyst, Job requirement for Test Analyst, C3 Application Architect - Command, Control and Communication,"
     ]
    },
    {
     "name": "stdout",
     "output_type": "stream",
     "text": [
      " Junior Software Developer / Integration Consultant, SR Clinical Research Associate | Malaysia, Accountant, Network Engineer (IP), Presales Solution Architect - BI & Analytics, Project Manager - Java / .Net, Software Integration Analyst, SAP HCM Consultant, Opening for Project Manager, Project Analyst (IT Partnership Division), Project Analyst – GreenLake, Service Operation Manager, IT Project Manager - Hong Leong Bank, Accounts Executive, General Ledger, SOX Compliance Manager - IT, Oracle Technology Analyst, QA Manager, Regional Account Delivery Manager, Sales Force Analyst, Senior Technology Architect [OpenShift, Kubernetes, GoCD], Capacity Manager, Project Engineer, PeopleSoft Project Manager, Business Process Consultant, Blocked Space Agreements (BSA) IT Consultant, Project Manager, Application Support Consultant (ERP), Junior Software Developer / Integration Consultant, Project Manager (Software Applications), Application Support Consultant (ERP), APAC PMO Leader, Junior Software Developer / Integration Consultant, Drafter, Solution Architect (Cloud Native), Accounts Assistant, Business Analyst (Malaysian), APAC PMO Leader, Incident Manager, Technical Leader (Software Developers), Senior Audit Executive – IT Technical Auditor, Business Analyst (Malaysian), Senior Consultant_Infosys_Singapore [Full time], Systems Analyst, QA Engineer II, Software Project Manager, System Analyst, IT Support Executive, IT Manager (Infrastructure), Lead Consultant, BI Presales & Solution Architect, Data Architect, ServiceNow Developer - IT Software, Associate Consultant, Product Engineer, SOLUTION ARCHITECT/ SYSTEM ANALYST, Product Engineer, Senior Software Engineer, Finance Director, Capacity Manager, Engineer (KL Technology Center), IT Manager – System & Application Support, IT Lead, Java Project Manager, IT Application Engineer, Senior Software Engineer, PSP, KL, Business Analyst Cash Management, Senior Technical Consultant, IT Helpdesk (Wintel/Citrix), Opening for SFDC - Project Manager @ Cognizant - Singapore, Software Engineer, PSP Development, Hyperion Consultant, SAP ABAP Programmer, Scrum Master - SM - Business Analyst/ Project Manager, QA Engineer, IT Support Executive, QA Engineer, Kuala Lumpur, Malaysia, IT Admin, Software Engineer, Project Manager/Business Analyst (Financial Markets), Opening for HR SAP  - Success factor @ Cognizant - Singapore, Database Administrator, Tosca Automation, Functional Consultant (Lead) – Supply Chain, Product Manager (ecommerce), Deployment Training Manager in Malaysia - JOB_000456, FICO Functional Consultant (Lead), SAP Data Migration Expert (DDME)/ SAP FICO in Malaysia - JOB_000457, Functional Consultant (Lead) – Order to Invoice, Senior Presales Consultant - Managed Print Services (Office Automation), Data Analyst  Business Data Analyst, Operations Executive, Senior Application Developer/ Application Developer, Project Manager agile ETL Testing, Business Analyst, IT Project Manager, Director (Cyber Security Policy and Planning), Business Banking Portfolio Manager, Project Management Officer, IT Governance Assurance Manager, Senior / Lead Consultant, Application (Pega) - Up to 9K, IT Incident Analyst (Salary Up To RM 5.5K), Senior / Lead Consultant, Application (Pega) - Up to 9,000, Master Data Analyst, Hiring for \"SAP ABAP for Ariba\", SAP ABAP Developer – Up to 6.5K, Software Engineer (.Net) - Up to 6.5 K, Data Architect - Up to 11k, .Net Technical Team Lead, IT Project Manager, SAP Functional Analyst (Data/Order/Contract/Billing) - Salary Up To RM 5000, Solutions Consultant, Finance Manager - MY, Senior / Lead Consultant, Application (Pega), Project Manager (Java / .Net), Test Engineer, Application Architect / Software Developer (Java or .NET) / Lead Consultant (JAVA or .NET or PEGA), Business Intelligence - Senior Program Manager, Solution Architect Contact Centre, Test Analyst, OB Technical Writer, Test Analyst, Mulesoft developer, Cyber Security Solutions Architect, Senior BA, ICT Quoting, Assistant Manager, Solutions Architect (Salary up tp 8K), Service Delivery Manager - Up to 7K, Senior Associate, Business Analyst - Tax Technology, Middle Office Technology, Technology & Opera..., VP, Analytics Project Manager - Analytics Centre of Excellence, DBS Transformation Group, Technol..., VP, Technical Delivery Manager, Middle Office Technology, Technology & Operations, AVP / Senior Associate, Devops Lead, Middle Office Technology, Technology and Operations, IT PROJECT MANAGER - MANAGER, SENIOR SYSTEM ANALYST, Quality Analyst [ID 4075], Senior Associate / Associate, Business Analyst (Ecosystems / Digital Initiatives),  Institutional..., VP / AVP, Incident Manager, Group Consumer Banking and Big Data Analytics Technology, Technology ..., Senior Associate / Associate, Data Business Analyst, Treasury & Markets Operations, Technology an..., AVP / Senior Associate, Business Analyst, Middle Office Technology, Technology and Operations, Application Maintenance/Application Development, SVP / VP, Policy & Standards Lead, Risk Management, Technology and Operations, Associate, Collaboration Engineer, Technology Services, Technology and Operations, Senior Associate / Associate, Business Analyst/Data Analyst, Middle Office Technology, Technology..., Senior Software Developer, Strategic Planning, Consultant - Cyber Security Governance & Advisory, Technical Architect (Microsoft Solution), Business Analyst Tester, AVP, Lead Test Engineer (Automation & Functional Testing), Middle Office Technology, Technology a..., Executive/Associate - Global Immigration, Senior Specialist, SAP Applications - FICO, SPECIALIST/SENIOR SPECIALIST, BUSINESS SOLUTIONS (3RD PARTY APPLICATIONS), Software Engineer (.Net), \"Technology Analyst\", Cyber Security Consultant, Murex Technical Support Engineer, VP / AVP, Devops Lead, Middle Office Technology, Technology and Operations, Snr Assoc / Assoc,   Manager - Group Technology Risk Assurance, Technology Services, Technology a..., AVP/Senior Associate, Avaloq Support Engineer, Group Consumer Banking and Big Data Analytics Tech..., SAP Security & Compliance (GRC), VP/AVP, Data Architect - Metadata Management, DBS Transformation Group, Technology & Operations, Supply Chain and Retail Solution Consultant, Analyst / Senior Officer, Administrative Assistant, Middle Office Technology, Technology & Operat..., Data protection consultant (DLP), Production Support Manager, Business Analyst, SAP ABAP Developer, Business Analyst (Payments + Global PayPlus), SAP FICO Consultant, Technology Controls Manager – 12 month contract, Application Support Engineer (Retails) - Salary Up To RM 6000, Assistant Finance Manager, Business Analyst - Consumer Banking, Transaction Banking, Commercial Banking, IT Security Engineer, Senior Finance & Account Manager, Global Tech company (12 MONTHS CONTRACT), Business Analyst (Sharepoint/CRM), Quality Analyst, Hiring for \"Senior Manager – Software Development\", Cyber Security Program Manager, Business Data Analyst, Informatica PIM in Singapore - JOB_000476, SAP FICA Consultant in Singapore - JOB_000424, Finance IT Team Lead + BRM, Specialist / Senior Specialist - SAP WM / MM / SD, Developer for Oracle Technology Stack, Sr Software Engineer(.net), SAP BPC Consultant, Cloud Technical Lead, Senior Specialist, Business Intelligence, Executive Assistant (EA), Test Analyst, Senior System Engineer - Application Support, ORACLE JDE Developer, Senior Software Test Engineer, Senior Solution Architect, Oracle EBS Developer, Techno-Functional Consultant - Oracle Retail Xstore, Senior Software Engineer | PHP (client is MNC in Petaling Jaya) (Cloud-based application), L2 Support Analysts & L2 Support Lead, Technical Support, \"Project Manager\", Software Engineer, Full Stack Developer, Front End Developer, Financial Business Analyst, Business Analyst - TDM, IT PM - Digital Transformation - Consumer Banking (VP), IT PM - Credit Card & Credit Processing - Consumer Banking (VP), IT PM - Trade & Payments - Corporate Banking  (AVP / VP), IT PM - Credit Risk, Murex BCBS - Risk Management  (VP), ASP.NET Developer, IT PM - Cloud Migration, Security - Infrastructure (VP), IT PM -Software Defined Networks SDN - Infrastructure (VP),"
     ]
    },
    {
     "name": "stdout",
     "output_type": "stream",
     "text": [
      " Axiom Business Analyst, Senior QA Engineer, Market Risk Analyst, Murex Back Office Functional Business Analyst, Solutions Architect – LYNC / Skype for Business, Software Engineer, Regional Account Delivery Manager, SAP Functional Consultants - French Speaking, Head of IT (Based in Africa), SAP Technical Consultants, Project Manager, Senior Software Developer, Project Manager, AVP/Senior Associate, Intranet Product Owner - PeopleTech Platform, DBS Transformation Group, Tec..., ED / SVP, Head of Regional Trade Operations, Institutional Banking Group Operations, Technology a..., Automation Tester- Selenium, Analyst, Business Management Support Services, Risk Management Unit, Technology and Operations, ED/SVP, Program Lead - Genesis, DBS Transformation Group, Technology & Operations, Senior Data Engineer/Tech Lead, Configuration Management Consultant, Murex Front Office Business Analyst, Business Systems Analyst, Project Manager -Human Capital Management (Chinese Speaking) - Malaysia- Ramco Systems SDN BHD, Business Analyst, SAP HR/HCM Consultant - Global Travelling, Team Lead / Senior Software Developer (.NET) (Bukit Jalil), Solution Architect (Engineering/IoT), Cognizant Technology Solutions - Solution Architect(.Net) - Singapore, Identity And Access Management, AS400 Rpg, PCI DSS Auditor / Senior Auditor, Financial Analyst III, \"Test Analyst\", Credit & Collections Analyst (Thai Speaking), SAP SD Consultant, Service Delivery Manager, Red Team - Cybersecurity Risk Assessment Manager/Senior Manager, AVP / Snr Assoc, Application Support Lead (API Management), Automation Tester- Selenium, Business Analyst - FO, Business System Analyst, Environment support, IT PROJECT MANAGER, Service Delivery Head - Ramco Systems SDN BHD Malaysia, Senior Associate / Associate, Scrum Master - DevOps Development and Testing, IT Shared Services, ..., Contract Senior, MIS Analyst Developer - Special Projects, IT Shared Services, Technology & Opera..., Contract Senior, Release Specialist, IT Shared Services, Technology & Operations, Contract Senior, Technical Content Developer - DevOps Development, IT Shared Services, Technology..., AVP / Senior Associate, DevOps Engineer, IT Shared Services, Technology & Operations, VP, Lead Project Manager, DBS Transformation Group, Technology and Operations, SVP, Performance Architect, Group Consumer Banking and Big Data Analytics Technology, Technology ..., \"Business Analyst\", \"Automation Tester\", Senior DRP/BCP Coordinator, SCM Functional Consultant, Lead Business Process Architect, Team Lead ( Japanese Speaker ), Associate Manager - Operations, Helpdesk Support Consultant, SAP HR/HCM Consultant - Global Travelling, Immediate opportunity for the role SAP ABAP-Webdynpro Consultant | Malaysia Location | AMK, Solution Architect (Radio Access Technology), Head of IT (Based in Africa), AVP- Head of IT Application (Real Estate software experience is a MUST) - URGENT, \"Functional Testing\", Senior Software Developer(.Net), VP, SDLC Governance and Risk Manager, IT Shared Services, Technology and Operations, \"Test Lead\", Senior Associate, Financial Analyst, IT Shared Services, Technology and Operations, AVP, Systems Engineer, Technology Services, Technology and Operations, AVP / Senior Associate, Application Security Engineer, IT Shared Services, Technology and Operations, VP / AVP, FinCap Application Lead, Middle Office Technology, Technology and Operations, Contract Senior, DevOps Engineer, IT Shared Services, Technology & Operations, Senior Associate / Associate, Java Backend Developer-DevOps Development, IT Shared Services, Tech..., Contractor Senior, Technical Content Developer - DevOps Development, IT Shared Services, Technolo..., Contract Senior, Release Specialist, IT Shared Services, Technology & Operations, SAP Consultant/Specialist  (KL/Selangor), Contract Senior, MIS Analyst Developer - Special Projects, IT Shared Services, Technology & Oper..., SAP MM Consultant- Mandarin Speaker, Senior Associate / Associate, Scrum Master - DevOps Development & Testing, IT Shared Services, Te..., Manager - IAM and Datacenter, Technical Consultant, Project Manager Banking with Test Manager., Finance Manager, Director - IT Audit and Compliance, Banking Tester, Big Data Technical Director, Business Operation Center Support (cloud)- Japanese speaker, VP,  SDLC Governance and Risk Manager,  IT Shared Services, Technology and Operations, Assistant Manager Software Support, Security Metrics and Reporting Analyst, Consultant / Senior Consultant –Oracle Cloud Financial, Job opening for Teradata Developer @ Cognizant – Singapore, Job opening for Power BI Architect @ Cognizant - Singapore, Job opening for APAC Web Content and Localization Manager @ Cognizant - Singapore, Consultant, Autonomous Data Warehouse Consultant, Scrum Master/Project Manager, Business Analyst (banking clients), Business Analyst /Production Support (Singaporean / PR / DP and LTVP Only), Delivery Manager, Vendor Performance Analyst (Singaporean / PR /DP and LTVP Only), Application Consultant (Scrum Master, Agile), .Net Developer, Computer Vision Infrastructure Architect – AI, SAP MM (Procure to Pay) Functional Consultant, Cognizant Technology Solutions - AS400 Developer - Singapore, Product & Project Management and Development, Project Manager (Application), Perl /Python Developer, Senior Associate, Credit Risk Business Analyst, Middle Office Technology, Technology and Operations, Windows RUN Engineer, Release Manager (Operational Role) - Singaporean / PR / DP & LTVP Only, CRM Consultant, AVP / Senior Associate, Scrum Master (Finance Application), Middle Office Technology, Technology ..., Lead Consultant - TM1, Senior Test Analyst, OTM Techno-functional Technology Lead, PMO Administrator for IT (Singaporean / PR / DP and LTVP Only), Web Programmer (up to 5,800), Software Engineer (C#.NET) | Up to 6,500, Software Architect (JAVA) | Up to 9,000, Business Analyst Lead - Digital Channels (Internet/Mobile banking)  Singaporean,  PR, DP,  LTVP Only, ERM Consultant, .NET Architect (Up to 8000), Senior Manager, Regional Operations and Delivery (Up to 9,000),\n",
      "\n",
      "Cluster 1 words: b'__________________',\n",
      "\n"
     ]
    },
    {
     "name": "stdout",
     "output_type": "stream",
     "text": [
      "Cluster 1 titles: Business Process Engineer | Local MNC | Central, Data Scientist (M&R;) | Local MNC | Central, Data Scientist (Optimization) | Local MNC | Central, Game Producer | Up to $7000 basic | MNC, Video Algorithm Engineer (AI/Streaming/C++/High Pay/Multiple openings), [Govt Sector] IT Software Trainer - up to $2500/ Mon to Fri, VMware Engineer, Business / Systems Analyst (Logistics / UP $8000 / West / 5 Days / 5-8 Yrs Exp), System Engineer (VCAP/ VMware/ up to $5.5K), Presales Network Engineer x 2 (West/ SI/ CCNA/ CCNP/Cisco/ Up to 4.5K), Business / System Analyst Leader (Up $8000 / 5 Days / 4-8 Yrs Exp / AWS+VB), Technical Engineer ( Desktop cum Network support ), SAP BPC Functional Consultant, [SA] Project Assistant Manager for service industry (ref:44850), 7k - 8k, IT SUPPORT/HELPDESK OFFICER $2800+BONUS, TROUBLESHOOT DESKTOP/OS @SIMEI/EAST, BROADCAST MOTION GRAPHIC DESIGNER -VIDEO EDITING&3D $2500+ALLOWANCE+AWS, Business Analyst | IT Executive | ERP| SAP | Up to $4.5k, RF DEVELOPMENT ENGINEER  ( UP TO 6K / PUBLIC LISTED / WEST ), [SA] Java Software / Application Engineer [Ref 44191] RM 6k - 10k, Web / Front End Developer (up to S$7000, Proficient in VUE, Angular, React), Vision Software Engineer - [Attractive Salary / WPF / Deep Learning / OpenCV], Salesforce Administrator, PHP Developer / Software Engineer (KL), IT Trainer for MOE Schools (Education / $2500 per month / Perm), UNIX / Linux Engineer (RM6k - RM8k), Performance Test Engineer (Up to $7500/ Python Language/ Linux Environment/ SQL), IT Network Engineer ( AS400 - Spore Tuas), Senior Game Producer | Up to $8000 basic | MNC, SAP ABAP Consultant/ Programmer, SAP MM Consultant, IT Assistant Manager @ Kuala Lumpur [REF: SY], Associate / System Engineer (Communication Systems) (Ref 22166), Customer Account Manager/ Account executive, Regional IT System Analyst (2 Positions), Creative Director, Device Engineer [Army Camps / $2.4k+AWS / IT exp / Immediate], Enterprise Account Manager, Sales Manager, Senior Test Analyst / Test Lead, IT Support (Assistant/Executive), IT Support (Assistant/Executive), Homepage Design/ Video Creation (3 Months), Embedded Software Developer (m/f), ACCOUNTS ASSISTANT, MNC: Regional IT Security and Network Engineer (CCNA), Device Engineer [Army Camps / $2.4k+AWS / IT exp / Immediate], Sales Support Assistant (102780), Senior IT Business Analyst cum Project Manager-Fluent in Russian, System Analyst, Receptionist and Office Assistant, Customer Service Representative (Yishun), IT Teacher (E-Lesson System) - $2500 per month/ Mon to Fri/ 8am-5pm, Accounts Associate, Engineer (Development) | Up to $3.6k, Software Test & Support Intern for an AI Company, Freelance Trainer, Guest Services Officer, Telephone, Product Support Specialist // Paya Lebar // 2500+ // IT solution, IT Specialists (AV / VC), IT Project Manager - (HG181019 024/1), Guest Services Officer, Telephone, Freelance Trainer, Software Test & Support Intern for an AI Company, IT Teacher (E-Lesson System) - $2500 per month/ Mon to Fri/ 8am-5pm, Online/Social Media Research Staff (Part Time/Full Time) Needed!, Executive, Admin Support, Senior / Accounts Executive, Test Development Engineer (up to Staff Engineer), Sharepoint Developer, Finance Executive, Software Engineer, Equipment Installation Manager, Online/Social Media Research Staff (Part Time/Full Time) Needed!, Videographer/Photographer Volunteer, Equipment Installation Manager, IT Engineer, Technical Support (5 days, Science Park 1), ERP Functional / Application Consultant, Associate Post Producer, Auditor(ISO9001), Project Manager, Finance Executive, ittechnicalsupport, Software Engineer/ Senior (manufacturing industry), Research Assistant, J3971CC Technical Consultant, Cybersecurity Specialist, Software support engineer, Ecommerce Manager, Data scientist, Research Associate, Product Support Specialist // Paya Lebar // 2500+ // IT solution, Assistant System Consultant, IT Manager (Up to $4500, East), Assistant System Consultant, Cyber Security Engineer ($2500 – 3000, 5 Days, River Valley), Retail Assistant (Mobile Phones), Your fortes include:, Analyst, IT Support (2500-3000, 5 days, Contract, Buona Vista), Service Engineer, Technical Support Engineer, Implementation Project Manager, Consultant, Service Manager, UX Design Engineer // Changi South // IT // Engineer // 2500+, Cyber Security Engineer ($2500 – 3000, 5 Days, River Valley), Technical Support Engineer, Product Support Specialist // Paya Lebar // 2500+ // IT solution, Product & Social Media Manager, Radar Algorithm Intern, Information Technology Officer, IT Support Engineer // Outdoor // TaiSeng // 5 Days // Class 3, Digital File Preparation Technician (6-month Renewable Contract), NW Engineer/Desktop Support, Software Engineer (In House / 5 days), Freelance Trainer, Analyst, IT Support (2500-3000, 5 days, Contract, Buona Vista), Videographer/Photographer Volunteer, Audience Research Intern, Desktop Support Engineer, IT Professionals: Software+Hardware+Network - Banking+Insurance+IT+Telco+Manufacturing+Retail, Information Technology Trainers, Business Systems Analyst, Videographer / Video Producer, Freelance ICT trainer, IT Support Executive, IT Support Engineer // Outdoor // TaiSeng // 5 Days // Class 3, Accounts Executive, IT Support Executive, Temporary ICT Technicians (3 & 6 months), Product Manager, VR Programming Trainers & Facilitators, Temporary IT Project Assistants, BIM Co-ordinator, Software Engineer (East), Research Assistant Internship, Software Developer for Hotel Booking App, Assistant Lead Analyst (12 Month / Contract Renewable / Serangoon), Customer Success Executive - Accounting Firm, IT Support Executive, DevOps Engineer, Multimedia / ICT Trainer, Software Engineer-Fresher, Corporate Secretarial Executive, Customer Service Software Support, Technical Consultant, Robotics Software Engineer, Assistant System Consultant, Safety Coordinator, Software Engineer, Customer Service Officer, ICT Trainer(MOESCHETQ19301410), Software Engieer, Laboratory Officer, Singapore Cord Blood Bank (6 months contract), Software Engineer, IT Support Assistant, IT Support Engineer // Outdoor // Class 3 // High Comm // Basic $1800, ERP Consultant- JAVA, Software Engineer, IT Executive - Application Support (5 days, Yishun, $3000-3200), IT & Telco Professionals: Attractive Salary + Excellent Benefits, Storeman, UI/UX Designer, APAC Legal Counsel, Chinese speaking, Technical Consultant, IT Helpdesk Support (Level 1) ( 5 Days / UP $2500 ), Tech Recruiter | Local Enterprise | Central, Technical Consultant, Key Account Executive (Entry Level), BIM Co-ordinator, ASSISTANT ENGINEER - BaaN SOFTWARE, Software Support Specialist, ADMINISTRATIVE COORDINATOR, Operation Support Engineer, Senior Graphic Designer, Senior/Junior Deployment Engineers, IT OPERATIONS SUPPORT, IT Security Officer, Senior/Junior Deployment Engineers, IT Support Engineer // Outdoor // Class 3 // High Comm // Basic $1800, Software Engineer, Clinic Assistant, Telemarketing cum Inside sales Executive, Information Technology Implementation Manager, Asset Management Analyst, IT service support, ICT Lecturers, Asst Professors, Information Technology (IT) Manager, Device Engineer // Ang Mo Kio // 2000+ // IT // Computer Science, School Administrator, Senior Executive, Media Management (1 Year Contract), ONSITE ENGINEER | IT SUPPORT/ OFFICE HOUR – CK, Shipyard Planner, Robotics Engineer, IT Specialist, Contract, Multimedia / IT Project Coordinator, IT Manager (up to $4,500), HR Executive (5 day workweek/JE/Transport Provide), Software Engineer/ Senior (manufacturing industry), Business Systems Analyst/ Lead, IT Manager (up to $4,500), Software Engineer (Troubleshooting), System Analyst, Football Market Researching Intern, Clinic Assistant, Software Tester, Technology Assistant, IT Specialist, Contract, Information Technology (IT) Assistant - Junior, IT EXECUTIVE, Robotics Engineer, ONSITE ENGINEER | IT SUPPORT/ OFFICE HOUR – CK, IT Security Officer, Front End Software Engineer, Accounts Assistant, IT and System Analyst, IT Technician (2 vacancies), Associate Test Analyst, Junior Developer (IT/Digital)- (3-C), Freelance Digital Designer, Desktop Support Engineer, IT Helpdesk, Operation Support Engineer, Sales Executive, Senior / Accounts Executive, IT Support Assistant, IT Desktop Support, IT Specialists (AV / VC), IT Recruitment Consultant, Information Technology (IT) Assistant - Junior, School Administrator, IT Support Officer, IT and System Analyst, IT Executive, IT Manager (up to $4,500), Software Engineer (East), IT Project Manager (2 years contract), IT Helpdesk Support - joo koon, Charles River Developer - IT Software, Sales Executive (IT), IT Coordinator, IT Support Analyst, IT Support Assistant, IT Manager / Chief Information Officer, IT Support Executive, IT Support, IT System Administrator, Murex Tester (software)/UAT - Junior level, Outdoor IT Technician, IT Support Officer, IT Support (East ), IT MANAGER, IT Support Executive (Website / Server), Analyst Developer, Analyst Developer, Junior Back-End Developer, Murex Tester (software)/UAT - Junior level, iOS developer, iOS developer, Project Manager (APP)- immediate/ up to S5,000+ with  bonus, TRADE ASSISTANT, Dotnet Developer, Program Manager (APP)- 12 months renewable with bonus, IT Business Analyst (APP/ WEB)- East up to S3,800 with bonus, Control Engineer (AB PLC Programming), .Net Programmers (C#.Net, ASP.net), Software Engineer (Up to S4.9k, C++ C# and SQL, West), Security Analyst, Finance Analyst, Opening for PostgreSQL DBA- Singapore location, Hiring for Business Analyst (AML)- Changi Location, Senior Finance Specialist, Java Developer, Telemarketing, Technical Writer (SDK/API), Data Scientist, SAP QM/PM Consultant, Customer Service Executive, Technical Recruiter, Network Security Engineers-2 in Singapore - JOB_000219, Devops Engineer, Data Engineer - Python, IT Project Management Executive - Up to 4,000, IT Application Project Manager (Up to 5,500), Peoplesoft HR (Techno-Functional), Project Manager (EUC) -, Full Stack Developer, , 4 - 8 years, IT Manager, Java Developer, Software Developer (12 months contract), IT System Engineer (MNC at Bedok, up 3k/mth + benefits + 2-3 mths VB), Front End Developer (JavaScript/HTML/CSS,ReactJS,Node.js)-Chinese Speaking, Application Developer - C#, .NET, SAP ABAP Developer, Security Analyst, Forms and Reports Developer, Group Asia Developers, Front End and Back End Developers, Product Managers – Consumer (x3), Data Center Specialist, IT Project Manager (APP)- S6,500, Project manager (APP), Database Administration Engineer, Salesforce Functional Team Lead/ PM, Senior Engineer, Software QMP, JAVA/ UNIX ANALYST PROGRAMMER, BU B&S; - System Test Engineer, Test Lead (Automation), Application Developer (.Net), Project Engineer, Customer Support, IBM WEBSPHERE MQ SUPPORT SPECIALIST, IT Analyst, SAP HCM Consultant with Hana/Success Factor, Fresher Graduate in Accountancy, Manual Testing Engineer, IT Support Engineer (dynamic AX), IT Tech Support (agents), UX/UI Manager, Data Base Administration (SQL/Oracle), Python Developer, IT Data Security Engineer, AS400/ RPG ANALYST PROGRAMMER, MVS COBOL ANALYST PROGRAMMER, Java Developer (SGD 4K- 7K), SAP SD-MM Senior Cosultant, Mobile Application, Mobile Android Application Testing, Software Engineer- (IT Fresher Graduates )- Permanent @ Singapore (Only Singaporeans), Hiring Deployment Engineer-for one of our Banking domain client, SAS Developer, Integration Specialist, Senior Cloud Engineer, HRIS Consultant (SuccessFactors), Firmware Developer, SAP GRC Consultant, System Analyst (Quality Assurance) – Permanent Position, Network – Team Lead, Process Associate, Multiple Position- Business Analyst- Artificial Intelligence with Chatbot, It Security Analyst, It Security Analyst, Business Development Manager in Singapore, IT Service Desk Analyst, Strategic Finance Analyst (KL02102018), PMO project manager, Team Lead - Chief Programmer, IT Helpdesk Executive, IT Lead Programmer- Digital Technology, Software developer/Mobile developer, SAP SD Consultant / Up to 7,000, Business System Analyst (Healthcare), Business System Analyst (.NET), Solutions Marketing Manager, Asia, Global Tech company, Desktop Engineer, Inside Sales Executive – Software Solutions, Opportunity for UI/UX designer/Perm position@ Singapore, Investment Manager (M&A;/IPOs/Real Estate), APAC/Perm/S10K/Central, Senior Solution Engineer (Intelligent Video Analytics) - Up to 6k, Infrastructure Project Manager, Manufacturing Test Engineer, QA Engineer, Mobile developer/Software developer, IBM Cognos TM1 Consultant, SAP BW Consultant in Singapore - JOB_000264, Postgres DBA Engineer, Postgres DBA Engineer, Pega Consultant, Software Engineer -Excellent opportunity for Freshers to join with Aspire Systems, Business Analyst, Data Migration, Pre-Sales Consultant, Associate Finance, VB / Macros Developer, IT Help Desk Technician, Business Analyst (Outsystems), Industrial Designer, Postgres DBA Engineer, Automation Tester, Looking for Middleware Engineer (Weblogic/Websphere) for one of our leading client, Informatica Developer, Cloud Marketing Specialist, Junior Risk Analyst, Test Analyst in Singapore - JOB_000275, Testing Lead in Singapore - JOB_000274, Support Analyst (Sharepoint), Desktop Engineers (SHORT TERM Contract), Marketing Executive (IT) - Central West, Network Engineer Lead, .Net Software Engineer, Mobile Software Engineer (Android/iOS), Network Engineer, Software Support Agent (Call-Centre) – open to entry level, Embedded Software Engineer, IT Support Coordinator, Solarwind Engineer_Cognizant Singapore, .Net Developer, JUNIOR SOFTWARE TESTERS, JUNIOR JAVA SOFTWARE ENGINEER, INFORMATICA/ ETL CONSULTANT/ DEVELOPER, Dev Ops Engineer (Multiple Opening, Attractive Package, Immediate Hiring), Customer Sales Support, Hiring Data Migration Developers-for one of our Product based client, Operator-Data center Operations, UI UX Designer, Immediate opportunity for Senior IT Testing Consultant in Capgemini Singapore, Immediate opportunity for Senior Sales Manager in Capgemini Singapore, Big Data Developer, Big Data Developer, TIBCO SUPPORT ANALYST , Full Time- Contract, Great Opportunity at BT Singapore : Business Support Specialist, Java Developer, IT Security Analyst, Project Manager in Singapore - JOB_000280, Project Manager (5500+AWS+VB(up to 4 Month)/ East/ PMP), Sr Consultant / Manager - RPA, Sr Consultant - Robotic Process Automation, IT Consultant (AML/KYC), Computer Vision Developer and Researcher, Head - Digital Content and Social Media, SAP Consultant, Network Engineer Lead, Data Solution Analyst in Singapore - JOB_000301, Coupa Technical Expert - Senior Consultant, Postgres DBA Engineer, RPA developer, QA Engineer, Sr Business Analyst (Technical Lead )( IDQ or SCD)@ Singapore, SQA Engineer, System Analyst-Outsystems Analyst, HR Executive (Coms & Bens), Pre-Sales Engineer (Cyber Security), Urgent opening for Informatica/ETL/Tableau/BIgdata/Datawarehousing  (Lead Roles), MuleSoft Developers, Scrum Master, Software Engineer, Dot Net Developer, Tableau Developer, SAP Functional Consultant, SAP ABAP Consultant, Job opening for EDC/AXON Lead @ Cognizant – Singapore, Opportunity for Multiple Network Engineer positions in Singapore., Production Support Unix & SQL (L1), Manager Digital Enablement, C# Developer, System Administrator, SAP Human Resources Consultant, Helpdesk Analyst, Cyber Security Consultant, PMO project manager, Embedded Software Developer-Graphics domain, Desktop Engineer, Applications Developer (Sharepoint), Java Developer, Dot Net Developer, .Net Developer, Java Developer, Channel Manager, Solution Manager, Solution Architect  @ West Singapore, Oracle HRMS Consultant, Java Developer, Solutions Architect, Technical Support, IT Procurement Executive, Desktop Support Engineer, Business Analyst, Network Infrastructure Consultant, Operations Manager, Splunk Engineer, Chief Financial Officer – Based in Yangon, Data Profiling/ Cleansing Analyst in Singapore - JOB_000329, Junior Developer/Software Engineer, IFS ERP Functional Consultant, Jr. IT executive, Business Analyst - BA Skills with Hands on SQL, Java Developer, Production Support, Business Analyst, Kafka, FICO Consultant  /Lead Consultant  @East Singapore, Finance & Accounting Manager, Java Developer, Software Test Consultants, Data Scientist, Security Systems Technician, Senior Quantitative Developer, Power BI Tester/Testing @ Singapore, Senior Java Developer, Manager Digital Enablement, Application Support Analyst, People Soft Technical, Dot Net Developer, Business Analyst, Sharepoint Developer @ East Singapore, Dot Net Developer or Dot Net applicaiton  Support @ Central Singapore, Production Support, Regional Communications Manager, Software Programmer, Sharepoint Developer, Senior Dot net developer, Control Engineer (AB PLC Programming), Cloudera Admin, Solutions Architect - Presales (Permanent in Singapore), Develper, PLSQL Developer, Java Developer, Developer, Data Quality Analyst-Enterprise Data Management, Software Developer, Technical Architect, Data Migration Associate, SAP RE-FX Consultant, SAP Functional Consultant, SAP BW Consultant, Workday Consultant, IT - Downstream Analyst - Intermediate Level, Junior and Senior system analyst, RPA Project Manager/Permanent/Singapore, Java/J2EE Developer (Contract-to-hire), Security developer with T24-TAFJ, Mobile Application Developer Xamarin, Senior Quantitative Developer, Junior VP (Hong Kong), SAP Consultants, Oracle HRMS, Data Scientist, SAP Identity management IDM, Data Scientist, AutoCAD Designer, SUMMIT – Junior Software Engineer, Banking Ops Analyst, Customer Due Diligence Specialist, Solutions Consultant, ETL Developer – Jr Developer / Analyst @Singapore, Performance Test Lead(Selenium, Cucumber, JMeter, CA Lisa, Loadrunner) @Singapore, Functional Tester (QlikView ) Opening@ SIngapore, Business Analyst (BA), Test Consultant, Project Administrator, Java Developer, Dot Net Developer, UI/UX DESIGNER (x2) - Permanent, Software developer opportunity-Singapore, UI Developer (PERMANENT)  - AngularJS, IT Audit, Senior Manager, MNC, SAP Hybris C4C/C4S Consultant, Java/J2EE Developer, Developer- MS SQL, Database Consultants/Developers (1xOracle and 1xSqlServer), Technical Infrastructure Analyst, Android Developer, Dot Net Developer, Database Administrator, Digital Banking Technical Project Manager/Service Delivery Manager, Kondor ( K+) Technofunctional consultant position- singapore, RPA Administrator, RPA Tester, Application Support Analyst (Junior - Beginner level), Automation Test Consultant, Office 365 Messaging Engineer, Manager, Service Delivery Operations, Data Engineer, SAP HCM Techno Functional Consultant, SAP FICO Techno Functional Consultant, Weblogic Admin/ Middleware Administrator, Release Manager, Sales Operations Analyst, Fresher / Junior software Developer @ Singapore work Location, HR Executive - 6 months contract, Java Developer, IT Project Manager, Hana Consultant, J2EE Consultant @ Singapore( East) - Perm Role, IT Recruitment Consultant, SAP CO Consultant opportunity-Singapore, Test Engineer, Embedded C++ _Permanent role, Mobile Application Developer, ETL Developer / Analyst, Java/J2ee Developer/Architect(Multiple Openings), IT Professionals: Software+Hardware+Network - Banking+Insurance+IT+Telco+Manufacturing+Retail, Retail & Hospitality Professional - Attractive Salary + Excellent Benefits, Finance & Accounting Professional: CFO+Financial Controller+Finance Manager+Accountant+A/C Executive, System Analyst-Java, Software Engineers (.Net), Oracle EBS Functional Consultant, Business Development Managers  (Permanent in Singapore), System Analyst, Application Support-Java/Unix - Control-M (Singapore Infosys), .Net Developer, Business Analyst, Merchant Manager, Opportunity for MSBI Developer/ Business intelligence-Singapore, Senior Business Analyst - Japan (6 months extendable Contract) - Bilingual Japanese/English, Software Architect (Radio/Radio-Navigation/Connectivity) - Singapore, IT security consulting manager, Global IT Services company, IT Security /Siteminder/Forcepoint, Solutions Specialist (Equitrac, Ysoft, Papercut or Uniflow), Technical Sales Support Engineer, Principal Security Architect and Consultant, Opening for SAP EWM - Architect, Business Aanlyst_Pactera_ Singapore, Technology Associate, SAP Senior Developer, Software Developer, Release Manager @ Central Singapore, ITSM (ServiceNow & BMC Remedy) & Service assurance tools @  Singapore, Cyber Security Specialist, C/C++ Programmers (Long term contract), Performance Testing - Cognizant Technology Solutions - Singapore, IT Support (With Linux Experience) - Up to 4K Basic, SYSTEMS CONSULTANT (Bond), IT Strategist (ERP System Support), Oracle Database Administrator (DBA), Software Engineer, Electrical Engineer, Analyst Programmer / Software Engineer, Company Secretarial (Junior Executive), IT-Bridge System Engineer-Japanese Speaker, WB Sr Engineer, IT Support (Troubleshooting Hardware/Software/Network) Linux + Microsoft, SYSTEMS CONSULTANT (Bond), Senior Design Engineer – PCB, IT Sales Executive (Basic Salary Up to 3k!!), Oracle Database Administrator (DBA), System Support Section (SSS, PhD Student - Research Project/With Scholarship, Dot Net Developer, Dot Net Developer, ETL Testing, Sales, Assistant Manager, Finance, Software support executive, Assistant Accountant, Internet of Things (IoT) Penetration Tester, Red Team, Assistant Accountant, System Developer, IT SECTION HEAD, Programmer, Internship for Video Production/ Editing, Software Engineer, QC兼IT / QC cum IT, [NK] Fullstack Developer (44597), SAP Senior Developer, IT Support (Chinese Speaker), IT Security Operations & Support Manager, Test Analyst, IT Sales Executive (Basic Salary Up to 3k!!), Marketing, Executive, Graphic Designer, Senior Cyber Security Consultant, IT Executive (System & Database Support), Server Administrator, HR Generalist, Graphic Designer, Admin Executive, IT Helpdesk - English / Mandarin Speaker (Malaysian Only), Scrum Master, Accounts Asst Vacancy at Sunway Damansara PJ, Internship for Video Production/ Editing, SOFTWARE SUPPORT ENGINEER, Vulnerability Triage Specialist / Senior Vulnerability Triage Specialist, Treasury Executive, Test Environment Lead, Application Support Engineer (DevTools), SAP HR Functional, SECRETARY TO MD CUM HR EXECUTIVE, WB Sr Engineer, Full Stack Developer, Project Manager (.Net), Software Engineer, PROFESSOR / ASSOCIATE PROFESSOR / ASSISTANT PROFESSOR, CHIEF FINANCIAL OFFICER, Performance Test Engineer, Product Engineer, ASP.net Developer, CHIEF FINANCIAL OFFICER, Telesales Executive, IT Juruteknik/internship Computer Technician KL, Basin Researcher, Middleware Specialist, Flexera Admin, Dispatch cum HR Clerk, Fashion Designer, Business Intelligent (BI) Consultant, Graphic Design Executive, Multimedia Designer/Marketing Assistant, WEB APPLICATION PROGRAMMER, Technician IT, SAP ABAP Technical Analyst position_Infosys_Singapore (Fulltime), SAP FICA Consultant position_Infosys_Singapore [Full time], Statistic Executive, Video Editor, Software Programmer (Chinese Speaker) - Bersian Technology, IT企業のブリッジエンジニア, Recruitment Executive, KYC Analyst - French/German/Portuguese, Software Support Engineer (.Net Development) Penang and PJ, IT HELP-DESK – First Lvl On-site Support Client’s Premises (Shah Alam), Agile Coach, Client Onboarding Manager, Service Delivery Manager, Senior Network Planning Engineer – 3G & LTE, Intellectual Property Manager, Client Onboarding Manager, Embed SW Developer, Senior Test Analyst (Japanese Speaker/ up to RM9000/Bangsar), IT Executive, Software Support Engineer (.Net Development) - Penang, Junior Salesforce Consultant, GRAPHIC DESIGNER, Salesforce Technical Leader, SAP FICO Consultant, LEAD FLOW ASSURANCE ENGINEER, IT Executive, BUSINESS DEVELOPMENT/IT SALES EXECUTIVE, RAN Integration Engineer, LEAD FLOW ASSURANCE ENGINEER, Software Engineer (VC++ 4.0 / 6.0 (and / or) Pro *C), L2/L3 Unica Consultant - IT Infrastructure, IT Programmer, Software Engineer (VC++ 4.0 / 6.0 (and / or) Pro *C), JAVA Developer (Insurance), PeopleSoft Consultant, IT Programmer, Junior Mobile App Developer, Software Engineer (Internship), Senior Technician, Senior Technician, Marketing Executive, L2/L3 Unica Consultant - IT Infrastructure, Mobile developer, E-Commerce / Customer Service Representative, Administrative Assistant Intern - Malasia, Software Security Analyst, .NET PROGRAMMER ( KLCC, RM4000-RM6500), LCD Repair Specialist,"
     ]
    },
    {
     "name": "stdout",
     "output_type": "stream",
     "text": [
      " Resource Administrator, Full Stack Web Developer, Assistant Multimedia, HR Generalist, Dynamics AX Developer (Singapore), Software Engineer, Motherboard Repair Specialist, Software Developer, Junior Programmer, SAP Consultant ( ABAP / FICO / HCM), Assistant Accountant, Housekeeping Clerk, Full-Stack Developer - Cutting-Edge Trading System, Web Developer, JUNIOR PHOTOGRAPHER/VIDEO EDITOR, SAP HR Consultant [PA, PY] - Singapore, PART TIME - CUSTOMER RETENTION, Software Engineer, Commercial Coordinator Trainee, Technician, Technician - Computer Repair, Case Team Assistant, Content & Creative Writer Ad Campaigns - Viral Writing - Full Time Job, Support Analyst (Product Support), Digital Executive, Microstategy Lead Consultant in Singapore - JOB_000436, Content & Creative Writer Ad Campaigns - Viral Writing - Full Time Job, Account Executive, Software Support Executive, APPLICATION DEVELOPER, Internship / Practical for Diploma / Degree Student in Computer / IT, .Net Developer, SOFTWARE SUPPORT ENGINEER, Dot Net Developer, Software Engineer, Fashion Designer, Asset & License Administrator, Finance analyst, Internship for Computer/IT Students, Agile Coach, Software Developer, Internship for Illustrator, Programmer Developer, Technician, Support Consultant, Chief Executive, LCD Repair Specialist, Software Developer - Internship, Software Engineer (Internship), Software Consultant, Technician, Functional Analyst, Software Engineer (Internship), Automation Tester, Motherboard Repair Specialist, Internship for IT Student, NAV developer, IT - Freshers, QC兼IT / QC cum IT, Cybersecurity Engineer, IT Service Desk Mandarin Speaker, IT Technician or Technical Support, Software Engineering Lecturer, IT Trainer, Software Engineer, E-Commerce Executive, FinTech R&D Software Engineer (Java), IT Trainer, FinTech R&D Software Engineer (Java), Senior SAP MM Consultant, Information Analyst, APPLICATION DEVELOPER, IT Lecturer, Senior SAP SD Consultant, IoT developer, Data Centre Engineer, IT TECHNICIAN, SERVICE and IT TECHNICIAN, Computer Technician - Hardware, Internal IT Technician, Sales Finance Manager, Asia. Global Tech firm, Automation Tester (Selenium & Appium), Admin executive, Executive Information Technology, Computer IT Internship, Sales and Marketing Executive (software) for IT company, IT INTERNSHIP, Dot Net Developer, Computer Technician - Hardware, System Analyst-Java, SERVICE and IT TECHNICIAN, Software Engineer, Software Engineer (Internship), IT Service Desk Analyst (native French speakers), Software Engineer, Back End Developer, IT Executive/Programmer, .Net Developer, Internship for Information Technology (IT) Students, Front-End Developer, Computer/ IT Internship, Developer, Resource Administrator, Software Engineer, IT Help Desk Analyst, Java software Developer, .NET PROGRAMMER ( KLCC, RM4000-RM6500), Analyst Programmer, IT Executive (Permanent), PROGRAMMER ( Puchong / Subang / Damansara ) fresh grads, Human Resource Generalist (1 Year Contract), Inventory Admin, Software Training Executives/Trainers, Asset & License Administrator, Software Support Executives, .NET Software Developer (IT Fresh Grads), Customer Service, JAVA Applications Support (Financial), Junior IT Consultant, Cloud Infrastructure Security (SIEM), Intern (IT/Computer Science), Graphic Designer, Application Support Engineer (DevTools), Software QA Engineer, SAP ABAP HANA Consultant, IT Helpdesk, IT Engineer, System Integrator, NAV developer, Internship / Practical for Diploma / Degree Student in Computer / IT, IT Support (Chinese Speaker), IT Strategist (ERP System Support), IT Internship (3 months- Urgent), Hadoop & Abinitio Developer in Singapore (JOB_000452), klang: internship for IT student, Protegrity, Symantec CASB/DLP Consultant in Singapore (JOB_000449), Junior Programmer, System Engineer, Inventory Admin, Special Training Programme for IT, Qlik Sense Administrator (Contract), Admin executive, IT Executive, PERMANENT Job - Senior / Lead ServiceNow @ SINGAPORE work location, Junior Programmer, IT Executive, Executive, Examination, IT Assistant (Shif Malam), IT Technical Intern, IT Engineer, Hiring IT Freshers for an Global Fin Tech Company, PERMANENT job - Senior ./ Lead ServiceNow opening @ SINGAPORE, IT Assistant, Technician - Computer Repair, Recruitment Consultant / Account Manager, Business Development Executive, Digital Marketing Executive - IT @ KL, JUNIOR PHOTOGRAPHER/VIDEO EDITOR, Devops Engineer, Officer, IT, IT Support - KL (Ampang Park), IT Programmer, IT Support, Software Engineer, IT consultant, IT Lecturer, IT Assistant (Shif Malam), IT Executive (Permanent), IT Associate, Executive, IT (System), Graduate Intern Technical, Cognizant Technology Solutions - Senior Java Developer - Singapore, IT EXECUTIVE, Opening for ETL Developer @ Cognizant - Singapore, PROGRAMMER ( Puchong / Subang / Damansara ) fresh grads, Oracle HRMS, Service Management, Internship - IT/Mechanical/Mechatronic/Computer Software/Safety&Envi, IT Positons - Hardware | Network | Sys | DB Admin | Software, IT Programmer, IT Executive, ASSISTANT FOR INFORMATION TECHNOLOGY (IT), Junior IT Consultant, IT Executive, IT Positons - Hardware | Network | Sys | DB Admin | Software, IT Junior Officer, Junior Software Developer(s), IT/ Computer Science Fresh Graduate, Graduate Trainee (IT), Web Developer, Software Testing Support Engineer, Web Developer, Oracle BRM Consultant in Singapore - JOB_000454, Sales Account Manager, Technical Architect, .Net Developer, Mainframe Developer [JD 4063], Ux Lead, Data Scientist / Data Science, Network Manager  - Singapore, Application Support Engineer - Permanent Position, Business Analyst, Sales Operation Executive, Hybrid Mobile Developer, SAP Successfactors Consultant, Social Media Executive, Dynamic AX / 365 Technical Consltant, Front End Developer, Software Programmer (COBOL/AS400), PHP Developer, Project Manager, Network Engineer (Post sales) - Up to 5.5k, QA – Java Application Developer, Manager - (Business & Operational Analytics/Data Scientist), Software Developer, Liferay Developer, Oracle DBA, Hiring for \"Oracle EBS Functional Consultant\", Hiring for \"SAP Security Analyst\", Quality Assurance Engineer / Software Testing Engineer, UI UX Designer, SAP QM Consultant, Application Engineer, iOS Developer, Cyber Security Consultant, Cyber Operations Support, Developer- MS SQL, Solution Architect, Research Engineer (AI, ML, AA) | Up to 9,500, Senior network engineer, Business Development Manager, IT Recruiter, Lead network engineer, Network programmer lead, Level 2 Applications Support - Transaction Banking (Malaysian Only), Senior Java Developer, Job opening for SAP BI/BW - HANA @ Cognizant - Singapore, Oracle Exadata Consultant, SAP testing/SAP tester, Graphic Designer, Java Developer, SOC Specialists for ABU DHABI, Functional Lead (SAP MM), Functional Lead ( SAP FICO), SAP Project Manager, Functional Lead (SAP PM), Dot Net Developer, Automation Tester - Malaysia (Looking for Malaysians only), IT Recruitment, SAP APO, Pre- Sales Technical Consultant, Market Data Developer - Functional Implementation Consultant, Solution Sales Representative, Johor and Penang, L2 Production Support, Sales Representative , Johor and Kota Kinabalu, Junior Banking Business Analyst, Finance Analyst, Support Engineer,Malaysia, Senior Technology Consultant - SAP IDM, IT Professionals: Software+Hardware+Network - Banking+Insurance+IT+Telco+Manufacturing+Retail, Finance & Accounting Professional: CFO+Financial Controller+Finance Manager+Accountant+A/C Executive, AS400 Analyst, Retail & Hospitality Professional - Attractive Salary + Excellent Benefits, UI/UX Designer- Contract #Singapore (Prefer Singaporeans & PR's ), \"ETL/Informatica Consultant\"- Contract #Singapore (Prefer : Singaporeans & PR's), Full Stack Java Developer, Project Manager, Sales Officer, Marketing Executive, Business Development Head - Influencer Management (Los Angeles), Application Support Engineer, \"Dot Net Developer\", Java Developer, System Analyst - .Net, Oracle Level 2/Level 3 DBA_Cognizant Jobs_Singapore, Telesales for IT Training, Digital Marketer, Consumer Goods, Brand Owner / Product Launcher - Apparel,"
     ]
    },
    {
     "name": "stdout",
     "output_type": "stream",
     "text": [
      " Product Launcher - Consumer Goods, Data Storage Engineer C / C++ / Golang, Product Launcher - Cosmetics, IM Server Deployment Engineer, Junior Project Coordinator (Excel, Pivot Table & Reporting + 6 mths contract + banking), Merchandising Manager, Growth Software Engineer, Oracle Technical  WebCenter Consultant, PHP Programmer, Head of Sales (SaaS/CRM), IT Graduate Trainee (EXECUTIVE LEADERSHIP PROGRAMME), \"Project Engineer\", Cognizant Technology Solutions - TAP Testing - Singapore, Dot Net Developer, WSo2 Developer, Software Developer, Survey Operations, SAP IDM Consultant, Software QA Engineer (Web/Mobile), IT Operations Manager, Pega - L3 Support @Singapore, Software Engineer( IoT/M2M), SAP C4S/C4C Consultant, Senior Consultant-Salesforce/CRM, IT Project Coordinator, Senior Engineer - Mulesoft, Cloud Hub - Singapore, Mongo Database Administrator, Production Support, Java Micro services and Web Services, Support Analyst (Sharepoint), Lead Testing Engineer, IT Recruiters for Chennai, Application Support Engineer, Data Architect (Finance and/or Human Resource and Payroll), Business Consultant (Finance /Human Resource /Payroll), Project Manager - Finance or Human Resource and Payroll systems, Functional Leads (Finance or Human Resource and Payroll), Hiring for \"Business analyst for sales support \", Application Developer in Singapore - JOB_000464, Sales Administrator (Shared Services Centre), SAP SDMM SAP MMWM, SAP IDM Consultant, Software Engineer (Java/J2EE)- Permanent @ Kuala Lumpur/ Cyberjaya/ Subang Jaya, Lead Testing Engineer, Network Security Engineer, Java / .Net Application Support Engineer, Service Desk Analyst, Support Analyst/ Application support, SAP Associates (Technical/Functional), Hiring Quality Auditor for one of our Product Based client, Qlikview Consultant, Full Stack Developer – 8 month contract (will be extended) – Singapore, Android - Support Engineer, Product support specialist, Java/J2ee Developers, .Net Developer, Android Developer, IT Recruiter, Techno-Functional Business Analyst (FIX, OTC), .Net Developer (2 - 4 years), Helpdesk Analyst, Mainframes Developer, IT Recruitment Consultant, Database Administrator, Business Development Managers  (Permanent in Kuala Lumpur), L2 Production Support, Software Architect (Radio/Radio-Navigation/Connectivity) - Singapore, Java Developer / Senior Java Developer / Junior Java Developer, Junior Banking Business Analyst, Customer Service, Support Engineer, .Net Support Analyst, Application Support - Malaysia, Functional Implementation Consultant, Purchasing Assistant, \"Visual Designer\", \"User Experience Designer\", SAP BASIS Senior Associate /Associate, SAP APO Consultant, Account Onboarding Administrator, Job Title  SAP ABAP Consultant, HR Executive, Maximo Consultant, SAP FICO, AWSCloud (Application Development), Senior Project Engineer, Digital Marketing Specialist, Sales Consultant (Mobile apps), Oracle Apps Technical Consultant, .NET Technology Lead, Mobile Tester, Php Programmer, \"purchasing officer\", Implementation Consultant, Murex Consultant, Service Quality & Report Analyst, MuleSoft developer, \"Report Developer\", Developer - C#, C#.Net Programmers (Windows desktop applications), PowerBI & Qlikview, Application Support, Application Support Analysts, 2019 DBS Skill Enhancement Education & Development (SEED) Programme, HR Management Executive, IBM File net Sterling Gateway, Senior Product Manager, Customer Support - Japanese speaking, Scrum Master, Service Desk Analyst, Cloud/DevOps Engineer, Customer Support -Thai/Korean/Japanese speakers., Software Developer, Sales Account Manager, Internal Programme Auditor, Software Support Executive, Sales Executive ( Preferably Chinese Female Candidate), Senior Data Analyst, Implementation Consultant, Angular Developer, Software Quality Engineering, Quality Assurance Testing., SAP HR Consultant, Salesforce Developer, Functional Consultant -Human Capital Management (Chinese Speaking) - Malaysia- Ramco Systems SDN BHD, EDI Technology Analyst, Power BI Analyst, PeopleSoft Campus Solution Consultant, HR Execuitve, Contract Software Tools Function Engineer, ERP Consultant, Dot Net Developer, SAP ILM Consultant (6 - 12 months Contract), Hiring for .net developer, Customer Experience/support Specialist – Mandarin Speaker, customer service representative, HR Advisory/HRSS(Japanese Speaker), SOC Specialists for ABU DHABI, \"ETL Developer\", Automation Tester in Singapore - JOB_000484, Application Security Engineer, Technical Lead, PEGA Solutions Architect, \"Application Support Analyst\" / \"Production Support\" / L2 Level Application Support, Service Desk Analyst, Java, Java Developer, IBM BPM MS.Net .Net GIS C# Programmer, Java Developer with SQL, .Net Developer with SQL for Kelana Jaya Location, Digital Marketing, Application Support Analysts, L2 level Application Support, Product Manager, Functional Consultant (Microsoft Dynamics Navision), Executive - Business Development / Sales, Data Scientist/Analyst, Oracle Functional Consultant, Oracle Developer - SCM, Job Opening Software Engineer (C#), Oracle Developer - SCM, Sr Techno functional consultant, \"Java Developer\", \"Automation Tester\" - SAP, Non-SAP, Informix Developer, SAP Functional Consultants (BPC / FICO / CONCUR / PI / EHSM / SSM ), Job Opportunity for a position of Computer Information Technician at Malaysia, Life Asia/Smart 400 Consultant- Permanent #Kuala Lumpur (Prefer Malaysians), Sales Manager, \"Web Developer\", Software Engineer - Group Asia, \"Recruiter \"  / Intern, MuleSoft Technology Analyst, \"Full Stack Developer\", Technical Support Specialist (Mandarin Speaking), \"Customer Support\", Game Art Designer, Game Test Engineer, \"Cobol Developer\", Talend Developer, SSAE18 IT System Audit Consultant, \"Marketing Specialist\", \"Automation Test Engineer\", \"Mainframe Developer\", Immediate opening for Customer Service Representative â\" Mandarin Speaker, Business Intelligent  Executive_Big Data Shah Alam, DevOps Engineer, Software tool Engineer, PHP L3 Developer, System Analyst Programmer, Software Developer, Principal Consultant, Test Engineer /Test Analyst -SIT UAT/BA cum Tester, Performance Test Consultant, Service Desk Trainer, BRAND & INFLUENCER ASSOCIATE (Branding, Communications, PR, Social Media), Technical Recruitment Consultant, \"Solution Selling\", Full Stack Developer, Software Developer - IT Solutions / Blockchain, Game Designer, Job opening for OFSA Consultant @ Cognizant - Singapore, SAP BASIS Manager /Senior Associate, BRAND & INFLUENCER ASSOCIATE (Branding, Communications, PR, Social Media), MEDIA BUSINESS ASSOCIATE (Indo-Bahasa, Business Development, B2B, Influencer), Freelance - Business Development opportunity, PRODUCT MANAGER (B2B2C), Immediate opening for HR Admin and Finance,AMZ Technology,BangsarSouth,Malaysia., Web Developer, Permanent Opportunity for java ,.Net and Angular Developers _ Malaysia (Different locations), UI/UX Designer, Infra Project Manager, HR Admin Executive, Visual Basic Developer, Devops Engineer 8 +yrs @Singapore, AEM Software Engineer @Singapore, Application Developer AS400 (Singaporean / PR / DP / LTVP Only), VB Developer, Dotnet Developer, SAP CO Consultant (Material Ledger), Scrum Master, Oracle Could Financial Consultant, Data Analyst, Education Consultant, Desktop Support Engineer/ Up to 2.1K Basic + Bonus, SAP Filedglass Consultant, Senior Application Developer C++, Pega System Analyst, SAP MDG, IT RECRUITER for various locations: Singapore, Malaysia, Indonesia, Thailand, India, Junor Software Analyst for US IT Major, Selenium Testing Technology Analyst, Data Architect, Test & Support Engineer, Business Development Consultant/Sales Consultant (Software Sales), SAP Cash Management with In-House cash Module, Product Engineer, Liferay Developer, Technology Lead - Oracle UNIX Informatica, Sr Manager - Sales (Software Solution Sales), Asst Manager/ Manager - Pre Sales (BI), SAP Consultants @Singapore, Malware Analyst, Voice Support Executive, Software Engineer (0-3 years experience), Project Manager - Capital Markets Domain, Technology Analyst - Capital Markets Domain, Murex Business Analyst (Back office/Accounting), Business Analyst - Murex Front Office,"
     ]
    },
    {
     "name": "stdout",
     "output_type": "stream",
     "text": [
      " Vulnerability Remediation, Voice Support  - Avaya IC / Cisco, Trainee- Infrastructure support, Recruiter, System Engineer, Data Modeler, Test Manager @Singapore, Software Developer - fresh graduate, IT Customer Service Representative (Singaporean / PR  Only), Senior Software Engineer - IVA (Up to 5,000), AWS Technical Consultant (Up to 7,000 + Bonus), Regional Innovation and Digital Manager (Up to 8,000 + Bonus), Applications Domain Expert, IT Technician (Basic Up to 2.2 K + Performance Bonus), Processing Consultant, SAP Basis Lead (Only Singaporean / PR / DP or LTVP), SAP Basis Team Member (Only Singaporean / PR / DP and LTVP), Business Analyst for Private Banking (Singaporean / PR / DP / LTVP Only), Front End Developer (Singaporean / PR / DP and LTVP Only), Helpdesk Engineer (Up to 2,800), Business System Analyst (.NET) (Up to 6500),\n",
      "\n",
      "Cluster 2 words: b'__________________',\n",
      "\n"
     ]
    },
    {
     "name": "stdout",
     "output_type": "stream",
     "text": [
      "Cluster 2 titles: IT Desktop Support | Local MNC | Central, Cloud Architect | Local MNC | Central, Network Architect | Local MNC | Central, IT Customer Service Officer (UBI/UP to $2300/5 days, System / Server Administrator, Windows System Admin (RM6k - RM9k), SAP Security, Desktop Technologist - SCCM Support, Database Administrator / Engineer (Oracle / SQL, up to S$5000, MNC), Database Administrator (Ref 22888), Network System Engineer (Ref 22167), Senior / Network Engineer  (Ref 22271), IT Senior Manager (Infrastructure), Security Software Engineer, Systems Engineer (IT Infrastructure), Network Consultant (Team lead), WINTEL SYSTEM ADMINISTRATOR, Assistant Manager, Centre for Healthcare Simulation (2-year contract), Senior/Network Engineer(CCNA/CCNP), Information Technology Solutions Consultant, SYSTEMS ENGINEER [Junior/ 5 days/ up to $2800], Project Manager - IFS/PM/LKS, IT Solution Manager, Project Manager - IFS/PM/LKS, Lead Systems Engineer, IT Executive, Infrastructure Head, Urgent [Up to $4.2k] IT Support Executive – Swiss MNC (6-month contract), Specialist Associate, Corporate Services-IT, Printer Level 2 support - Changi, IT Security Analyst, Senior Engineer, IT Networking, TechOps Engineer, Senior Boarding Executive / Boarding Executive (IT/AV) – 2 years contract, VoIP Support, Network Engineer, System Administrator, Consultant, Service Delivery, IT Executive, Lead Consultant, IT Security, IT Network Engineer, ASSOCIATE ENGINEERS, Project Engineer / Project Executive (up to S$3500, MNC), Office Solutions Engineer, Software Support Engineer, Network Engineer, IT Support / Executive, Network Engineer, IT Assistant, Hardware Operations Site Manager, IT Site Manager, Technical Support Engineer, Systems Administrator - REF16074R, IT Solution Manager, IT Officer, Storage and Backup Administrator (Ref 22904), IT Manager // Bukit Batok //4000-5000 // Firewall // Server, NOC Manager, Network Engineer (Network Operations), Infrastructure Manager, NOC Manager, \"System Admin\", Unix Engineer, System Engineer (IT-L3) - UP TO $4.5K/URGENT/IMMEDIATE, Field Engineer, Information Technology (It), IT Onsite Support Engineer, IT Manager/Executive, Desktop Support Engineer, IT Manager/Executive, IT Support, IT Assistant, Desktop Support Engineer, Senior Network Engineer (SDN/SD-WAN), System Manager, Lead Systems Engineer, IT Support Engineer, Ref. 188154 SYSTEM ENGINEER, Workplace Office Assistant, Network and System Administrator (OEMServices), IT Support Engineer, System Engineer // Software & Hardware // Server & Networking, IT Senior Manager (Infrastructure), IT Assistant (4 months contract), Service Desk & IT Operations Technician, IT - FIELD SERVICE TECHNOLOGIST, IT Network Engineer, Jr. IT Engineer (Desktop / End-users) – Perm, IT Application Executive, IT Helpdesk L1 Support, IT Support Engineer, IT Desktop Support | Local Enterprise | Central, Infocomm Technology Services- Assistant Manager, Assistant IT Manager, IT Security Manager (Engineering & Operations) | Local Enterprise | MNC, IT Technician, IT Support Technician, IT Support Specialist / Analyst x 3 (In house / 5 days), IT Security Officer, IT Engineer- 1st Level Support (Micro 2000), IT (Information Technology) Executive, IT Support Executive, IT Security Manager (Engineering & Operations) | Local Enterprise | MNC, Network Engineer/Manager, System and Storage Admin - (HG ANC190306 001/1), IT Administrator, IT HELPDESK SPECIALIST, IT Infrastructure Manager/Assistant Manager, Network Engineer/Manager, IT Engineer, IT - FIELD SERVICE ENGINEER 1, IT Support Lead, Engineer IT Support, IT Administrator, IT Infrastructure Manager / Assistant Manager (Kopitiam Investment Pte Ltd), Technical Manager, Cloud Infra Engineer (Security), ITO Svc Delivery Rep IV, Network Engineer/Manager, IT Engineer - Outsource |12 months contract (Up to $2500), Desktop Support Engineer (Tai Seng) - (EO-FRC190308 003/1), Unix Engineer, SysOps Engineer(Urgent!! 5 days, Kallang), IT System Administrator, IT Infrastructure Specialist, IT Support Analyst, IT Support Engineer II, Technology Assistant / Desktop Engineer / IT Support Assistant, IT Engineer (Cisco/Aruba/TCP/IP Network), Systems Analyst (IT Infra Specialist), IT Site Manager, Assistant IT Manager, Information Technology (IT) Manager, Office Manager / Administrative Manager (4 - 10 years exp; Local Tech Startup), Technical Operations Manager, IT Support Specialist, IT Infrastructure Specialist / 5 Day / 4K, Information Technology Engineer, IT Support Specialist, APAC, IT Support Specialist (In house / 5 days), IT / MIS Executive (Infrastructure / West), Specialist Associate (IT Helpdesk Support), IT Manager, Data Center Operations Technician I, IT Support Specialist, APAC, Customer IT Support Representative, Executive (IT Shipboard), IT Manager, IT Support, IT Executive, Corporate IT Engineer - (SI/ Tampines/ $3.5K)-JC, IT Support Engineer, IT Desktop Support Engineer, IT Support Engineer, IT Services Manager (Infrastructure), IT Support (Computer), IT Manager, IT Manager, Information Technology Support Executive (Up to $2800 | East), Graduate Engineer (Software Solutions Integration), J3893CC IT Engineer (Enterprise/Desktop), Corporate IT Engineer - (SI/ Tampines/ $3.5K)-JC, IT SUPPORT ENGINEER, System Administrator, Assistant IT Consultant, IT Executive, IT Engineer - Part time , Urgent, System&storage admin, IT Support Executive, IT Officer, Technical Support Analyst, Urgent [Up to $4.2k] IT Support Executive – Swiss MNC (6-month contract), IT Support Assistant, Corporate Affairs IT Support & Admin Executive, IT Engineer, IT Executive, Part Time Junior IT engineers, IT Executive, IT Support, IT Assistant, IT Support, IT EXECUTIVE, IT Support (West /$2.8K/5.5days/in-house)-JC, Cybersecurity Investrigator (IT), IT EXECUTIVE, IT Executive, IT Manager, IT Executive, Senior/IT Executive, IT Support Specialist, Senior/IT Executive, Executive - Information Technology (IT), IT Support Specialist, IT Engineer, IT Assistant, IT Engineer, IT Engineer, IT Officer, IT Executive, Engineer, IT & Ops, IT Analyst, IT Manager, IT Support Executive, System Administrator, System Administrator, User Support Engineer (12 months contract), Network Engineer L1, IT Analyst (.NET), System Engineer (Wintel), Network Security Engineer, IT SECURITY ENGINEER, Junior Network Engineer - CCNA, IT Operations Manager, Network Security Engineer, Immediate opportunity for Network Security Engineer, Snr system engineer Citrix Immediate, Network Consultant - 7500, Network Infrastructure Engineer, Senior Systems Engineer, Lab Engineer (Network), Information System Executive, Infrastructure Engineer, Service Engineer, IT Helpdesk Analyst, IT Desktop Assistant (Islandwide/ Up to 2k + Bonus), IT Security Network Engineer, Devops Engineer, Network Engineer, Senior / Systems Engineer - AWS Cloud, Database Administrator, Desktop IT Support / UP2.3K + VB / 5 days / Islandwide, Linux / Unix Regional Support, Production Support, Lead Network Security Consultant, MIS Administrator ( Salary Upto 4.5K, Central, AWS+Performance Bonus), Network Engineer (level 3) - Operations, IT Desktop Support / Up to 2.3K Basic + VB (up to 2 months), Network Engineer, Lead Security Analyst (CSOC) --- Permanent Role, Security Analyst (Up to 4.5K), SCCM Engineer, Middleware Lead, Senior Systems Engineer, Database Administrator (DBA), Network Engineer, Job requirement for Technical Analyst (Windows/SAN System Support), Security Analyst, Network Engineer, System Engineer, Database Administrator, ITCAN: Solution Architect - Splunk - Contract/Permanent, COMPUTER OPERATOR, Cyber Security Engineer CISSP, Bigdata Engineer, Network Engineer  (IT Infrastructure service/Up to 8K), Senior IT Security Specialist (US MNC / Perm / Up to S7.5k / 5 Days /North), Senior Desktop Support Specialist (Salary up to 3500 + 6 months Contract / East), Junior IT Support Specialist (Salary up to 2400 + 6 months Contract / East), Senior Consultant, Security Operations, Database Administrator, System Analyst in Singapore - JOB_000284, Senior System Engineer (4500 + Bonus/ server virtualization/ MS SQL/ Citrix), Windows System Administrator  (Up to 5K), Release and Environment Manager, Hadoop Administrator, Systems Engineer (IT Infrastructure), Security Systems Administrator, Network Consultant (Pre-Sales) - Up to 6.5 K, Network Engineer (Security) - up to 6.5K, Senior Consultant, Network ( Salary Up to 6.5K), Security Analyst - Up to 4.5K, Desktop Support Engineer, IT Specialist, Linux System Administrator (Central/Up to 6K), IT Support Specialist - Contract - Singapore, CLOUD ENGINEER (X10) - PERM, Production Support Unix, SQL & Java (L2), Infrastructure (Cloud) Architect, IT Technology Assistant (Up to 2k/1 year direct contract), System Engineer, NOC Senior Manager, Windows Engineer - Contract 12 months  Due to restrictions only open to PR or Singaporeans, Principal Technologist (Cloud), System Administrator, IT Desktop Support (Up to 2.3k), IT Desktop Support (Islandwide/ 2.3k + BONUS), Cyber Security Analyst, IT Specialist, Service Desk Analyst ( Mandarin Speaking), System Engineer, Lead Systems Engineer (Microsoft Windows), IT Support Desktop Engineer ( 1 year contract), Data Center Operator / Help Desk, IT Desktop Support (Islandwide/ 2.3k + BONUS), System Engineer (Windows, VMware, Linux and Solaris) - Upto 6K, Job Requirement for Network Engineer, Java Programmer, Senior Infrastructure Engineer (Network Operations), Infrastructure (Cloud) Architect, Single Sign On, Network Security Specialist / Architect (Perm, 8k per month with 13 months + 3-4 months bonus), Vulnerability Management - Tenable, FireEye Hx, Identity and Access Management, Data Centre Security - Symantec, IT Executive, Security Consultants - Cloud Security, SSO ,FireEye HX, Systems/Project Engineer (Wintel, System or Network), Resident Engineer - NFVi Level 2, Cloud Technical Support (Up to 6,000), System/Network Engineer, Resident Engineer, Network Engineer, Sercurity System Administrator - CyberArk, Project Manager, System Engineer (System Administrator), Cyber Security Analyst, Devops Engineer, Field Service Engineer, Service Desk Engineer, Desktop Systems Specialist / Kent Ridge / 1 Year / 4400, Technical Support Engineer Level 2, Technical Support Engineer (Up to 3,500), Cloud Technical Support Engineer (Up to 6000), System Engineer (Active Directory (Up to 3,500), Security Analyst(Up to 5,000), IT Support, Java Programmer, Devops Engineer, Senior Infrastructure Engineer (Linux - Redhat/Santos, Network Automation - Python/Ansible), CYBER SECURITY ENGINEER, Oracle Database Administrator, Group Security Operation Center Manager – 8 month contract – Singapore, Desktop Engineer, Hiring for \"Incident Manager\", Unix Engineer (Up to 6000), Linux & Unix System Administrator – L3 (Subject Matter Expert), Test Engineer, MS Services Engineer (L1), Service Delivery Field Support Engineer (L3), Desktop Support Engineer, Test Engineer, Network Consultant / Systems Engineer, Office 365 System Administrator, Inbound Call Center Representatives (Operations), Service Delivery Engineer 2, Interface Management Specialist, IT Systems Analyst/ IT Executive, Senior Infrastructures Consultant, MS Services Engineer (L1), Global Support Engineer, Deployment Specialist (Technical - Junior), Operation Manager, Business & System Operations (CP), Technical Support, IT Desktop Engineer (Mandarin Speaker), Internship for IT, Engineer 2, Service Delivery, Helpdesk Support Associate, ASSISTANT TECHNICAL ENGINEER, IT Service Desk - Mandarin Speaker, Sr. Exec/Exec, Infra Operation Support (IT), Japanese IT Help Desk, Cloud Security Position__Singapore_Infosys(Full Time), Senior System Support Specialist (Vmware/Cloud), UNIX/ Linux system Administrator, IT Security Specialist Petaling Jaya, Field Service Engineer, System Engineer, Office 365 System Administrator, Senior IT Executive, Sr. Exec/Exec, Infra Operation Support (IT), IT Helpdesk- Level 1 Support, Solution Support Engineer (Contract 1 year-Renewable), PROJECT ENGINEER, IT Security Specialist, Inbound Call Center Representatives (Operations), Systems Engineer, Senior System Engineer, Senior Database Administrator, IT Specialist, Solution Support Engineer (Contract 1 year-Renewable), IT SUPPORT ENGINEER, Systems Architecture Manager, IT Software Engineer, Helpdesk Service /IT Support (Johor Bahru), Information Security Engineer, Helpdesk Analyst Level 1 & 2, ICT Associate (for Malaysian Nationals only), Head of IT (Based at KL), Support Engineer, Global Support Engineer, SOFTWARE ENGINEER, SOFTWARE ENGINEER, DevOps Engineer, Application Support Executive, IT ANALYST (SECURITY), SOFTWARE ENGINEER, Senior IT Specialist (KL), Network Engineer, IT Systems Analyst/ IT Executive, Network Engineer, Associate Security Analyst, IT Infrastructure Officer, IT Support Executive, Systems Architecture Manager, Windows System Admin (RM6k - RM9k), Aix / Unix Infrastructure Analyst, Network Engineer (IP), Network Engineer-VOIP, Systems Administrator, Senior Software Development Engineer, Unix Engineer, Wintel Engineer, Unix Engineer, Snr. IT Executive/ Asst. Manager - Developer, Technical Support and Maintenance, Helpdesk Track Lead, System / Network Engineer, Storage Support Analyst, Aix / Unix Infrastructure Analyst, Cloud System Administrator, IT Technician, ICT Associate (for Malaysian Nationals only), ERP Application Support (Asia Region), IT Section Head, Helpdesk Support, IT Infrastructure Officer, IT Executive, IT Technician Support, Junior IT - Malay Male, PIC ATM Durable Core L2 Engineer, IT Support Representative, Resident Engineer, IT Technician, Vision Application Engineer, MIS/IT Executive, Computer Engineer, Network Analyst, IT Technician, INTERN-IT, INTERN-IT, IT HELPDESK TEAM LEAD, Engineering Assistance, IT Specialist, ERP Application Support (Asia Region), IT Assistant, IT Technical Support Executive (Immediate hiring) Near LRT Ara Damansara, IT Unified Communication Engineer, IT Specialist, IT EXECUTIVE, System Engineer, IT Service Desk Analyst, Support Technician, Helpdesk Support, IT personnel, IT Technician, Senior IT Specialist (KL), MIT Infrastructure Sytem Engineer, Service Desk Analyst ( Mandarin Speaking), Internship for Computer/ IT Students, IT Manager, IT Executive, Wintel Server Engineer, System Engineer, Call Centre Agent, Senior Executive / Executive - IT / System Administrator, MS SQL Data Base Administrator, Snr. IT Executive/ Asst. Manager - Developer, IT Technician, IT TECHNICIAN, IT System Engineer, IT TECHNICIAN, IT Technician, Junior System Engineer, IT Assistant/Officer, Windows System Admin (RM6k - RM9k), IT ASSISTANT, System Infrastructure Engineer, IT Manager, Information Technology (IT) Executive, IT Technician, Graduate Intern Technical, IT Executive, IT Executive, IT Support Analyst, IT Executive, IT Technician, IT Support Representative, Technical Support and Maintenance, Global Graduates Programme - IT Operations Specialist, Resident Engineer, System Engineer, Global Graduates Programme - IT Operations Specialist, Storage System Administrator, Information Technology (IT) Assistant, Tandem Systems Administrator, IT Technical Support, Senior Executive / Executive - IT / System Administrator, Desktop Technician Level 1 and 2, Tandem Systems Administrator, IT Technical Support @ Bukit Puchong, System / Network Engineer, IT INTERNSHIP/COMPUTER, Splunk IT Analyst - IT Software, IT Support - Penang, IT Officer, IT Executive (Support), IT Executive, IT Executive (Infra), Information Technology (I.T.), IT Support, Information Technology (IT) Executive, IT EXECUTIVE / IT JUNIOR EXECUTIVE, MIT Infrastructure Sytem Engineer, IT Assistant, IT Automation Engineer, IT Executive (Infra), IT Executive, IT Officer, Windows System Administrator, IT Assistant, IT Technologist, Desktop Support, Network Engineer (Senior / Junior), IT Manager, IT Executive, IT EXECUTIVE, IT Support Executive, IT EXECUTIVE / IT JUNIOR EXECUTIVE, Hiring for \"Network Engineer L2\", System Engineer (Global Operations Command Centre), Solution Development Engineer, Systems Engineer (DPS), Devops Engineer, System/Network Engineer, Database Administrator (Up to 5.5k), Middleware Administrator ( Up to 6K), Network Engineer (Unified Communications) - Up to 5K, Application Security Analyst, Hiring for \"Senior Associate Unix Linux\", Database Administrator (DBA) -Upto 5.5K, Perm, Middleware Specialist - up to 6K, DevOps Engineer - Up to 6,500, Hiring for \"Resident Network Engineer\", SharePoint Engineer, IT Support, Senior Database Administrator, Senior UNIX Engineer, Senior Database Administrator, IT Consultant, Software Application Packaging Engineer, Software Application Packaging Engineer, CUSTOMER SUPPORT, Senior Specialist, Technical Systems - Windows, Network-Datacenter hands and feet Support, AVP, Wireless Network Engineer, Technology Services, Technology and Operations, IT Help Desk, Server Management, Senior Analyst, Senior Engineer -Identity Access Management  (2 Vacancies), Hadoop Platform Storage SME, Hadoop SME, SAP Support Engineer (L1&L2;) - Salary Up To RM 5000, SOC L2 Analyst, SYSTEMS ENGINEER (Unix), IT System Engineer (network), Infrastructure Engineer, Infrastructure and Application Monitoring, IT Help desk Support For Multi language (Thai, Korean,Japanese), Cyber Security Architect, Senior Technology Consultant (Network Operations), IT Helpdesk L1 Support, Network Engineer, Applications / Systems Engineer, Help Desk support, Service Desk, Japanese Translator, Support Analyst (Regulatory Reporting & Management Account), Korean Translators, Thai Translators Thai to English, System Engineer, Sr. Network Infrastructure Engineer - based in Cambodia, Service Desk Analyst, Cloud Architect, Linux / Unix System Engineer, Technology Lead - Oracle Retail Application DBA, Service Desk Analyst, Lead JBOSS Administrator, Service Desk Analyst, IT SUPPORT, Senior Wintel & Virtualization Engineer, Technical Support, Service Desk Analyst, Application Support - Regulatory Reporting, \"Network Operations Engineer\"  \"IT Technical support\"  \"IT Support\"  \"NOC engineer\"  \"Network Oper\", Field Services Analyst, Cloud Security Architect, IT Security engineer, IT Support ( Service Desk Analyst), Network System Administrator, Engineer IT Support, IS Executive-Security, Software Engineer - Banking Production/Technical Support, \"Network Engineer\", IT Helpdesk - Japanese Speaking, Desktop Support Engineer, Servise Desk analyst, IT SUPPORT ENGINEER, IT Helpdesk (Mandarin Speaking), IT Support ( Service Desk Analyst), \"System Admin\", IT Support ( Service Desk Analyst), IT Support ( Service Desk Analyst), Head of Maintenance & Operation (Mobile Apps Game), Contract (Senior), VMware System Analyst, Technology Services, Technology and Operations, Storage & Backup Admin @Singapore, Infrastructure Engineer, System Engineer (Global Operations Command Centre), Service Desk Team Lead, IT Technical Support, Senior Systems Engineer Cloud Devops, Application Support (DevOps), IT Security Senior Consultant, Senior Systems Engineer  ( L2 ,Server Support ) - Changi, DevOps Engineer, Global Service Desk Analyst, Database Administrator (contract), Database Administrator (Microsoft SQL Server), Network Architect (Singaporean / PR Only), System Administrator, Systems Engineer, Cloud Infrastructure Automation Architect/ Engineer, Cloud Services Engineer, Associate/ Infrastructure Engineer, Network, Infrastructure Engineer, Government Cloud Service Management & Operations, Infrastructure Engineer, Government Infrastructure Group, Senior / IT system engineer, Tableau Administrator, Infrastructure Engineer, Cloud & Infra Security Engineer, Operations Lead (Up to 6,000), System/Wintel Engineer  (Up to 6,000 + Performance Bonus), Device Engineer -Team Lead (Salary up to S3000), Desktop Engineer (up to 3500), Storage and Backup Engineer (Up to 6000), IT Assistant (up to 2,300), Desktop Engineers (Up to 3,000),\n",
      "\n",
      "Cluster 3 words: b'aaaarchitect',\n",
      "\n",
      "Cluster 3 titles: C++ Developer, Data Center Operations, Full Stack Web Developer, Technology Ops Support Practioner, Dotnet Developer, Customer Service, IT Helpdesk Engineer, Dotnet Developer, Senior .Net Developer, Customer Service, Senior Dotnet Developer, IBM Developer, Full Stack Developer (17-10-18), Java Production Support, Software Testing, IBM DEVELOPER, Sr UI Developer, Regional Delivery Leader, Regional Delivery Manager, Regional Delivery Leader, Customer Service, Maintenance Engineer (23-10-18), Maintenance Engineer, Service Helpdesk, System Consultant, Application Developer, Desktop Support, Data Center Technical Engineer, Sr UI UX Developer, Service Desk Engineer, Sharepoint 2010 Sharepoint 2013, System Analyst, Service Desk, PMO project manager, Service Desk, Senior System Analyst, Security Specialist, Change Management, Software Tester, System Analyst, Java Developer, Data Center Operations, IT Helpdesk, Fiori, Data Center Technical Engineer, Sr Dotnet Developer, Payroll Manager (23-11-18), Dotnet Developer, IT Helpdesk, Dotnet Developer, Java Programmer, Senior Dotnet Developer, Infrastructure Engineer, Automation Tester, Banking Operations, IT Helpdesk, Software Developer, Hadoop Administrator, IT Helpdesk, Call Center Agent, Test Analyst, Call Center Agent, Test Lead, Data Center Operator, Application Developer, System Engineer, PMO Analyst, Java Fresher, Call Center Agent, Test Lead, Data Center IT Operator, PMO Analyst, System Engineer, Helpdesk Support, Data Center IT Operator, Business Analyst, Business Analyst (4-1-19), Mobile Development, Project Management Office, Senior Software Developer (10-1-19), Network Engineer, Senior Software Developer, Debug Technician, Java J2Ee Developer, .Net Developer, System Engineer, Support Analyst, Java J2EE Developer, Helpdesk Support, Biztalk Developer, PMO, Biztalk Developer, Sharepoint .Net Developer, .Net Developer Sharpoint (24-1-19), Web API, Software Tester, Java Developer, System Engineer, UAT Tester Fresh Graduate, Application Support, Mobile Applications Development, Application Development Senior Analyst, Application Support Analyst, Java Fresher, Salesforce Cloud Marketing Specialist., AS400 Rpg, AS400 Rpg, Senior .Net Developer, \"Technical Consultant\", \".Net Support\", \"Business Analyst\", \"Desktop Support Engineer\", Debug Technician, \"Program Delivery Manager\", \"Network Security Engineer\", Senior SOC Consultant, .NET SUPPORT, Software Developer, Software Consultant, Software Developer, Java Programmer, Java Programmer, Debug Technician, Electronics Engineering, \"Wintel Server\", Sales Operation Executive, \"Sales Operations\", \"Wintel Admin\",\n",
      "\n",
      "Cluster 4 words: b'__________________',\n",
      "\n"
     ]
    },
    {
     "name": "stdout",
     "output_type": "stream",
     "text": [
      "Cluster 4 titles: Data Scientist (Operation) | Local MNC | Central, DevOps Engineer (up to RM14k), AM IT Singapore Head (IT Project Manager) , Asset Management IT, Signalling Site Engineer, Product Designer, Associate Consultant, Associate Product Manager, Systems Analyst / Software Engineer, Systems Analyst / Software Engineer, Sr Lab Analyst I, Software Engineer (Logistics, Backend), Senior Product Manager, Project Manager (Internal Ref. 17000149), Enterprise Architect, ASEAN, Marketing Executive, Market Research Consultant, Cryptocurrency Sales Broker - Singapore, Project Manager (Internal Ref. 17000149), Channel Sales Manager – Viet/Cambodia/Laos, Biddable Media Analyst, TECHNICAL CONSULTANT, INFO SOFTWARE, App Store Solutions Manager, I-TRADE LANE ANALYST - (JAPAN MARKET), Infocomm Officer / Senior Infocomm Officer [Infocomm Application/Infocomm Application Development Centre], Key Account Manager - Singapore, Field Marketing Manager Asia, Business Development Representative (Mandarin & English-Speaking), Inside Sales Account Manager, Telco & Media Account Executive, Software Engineer in Test, SAP Concur - Technical Account Manager, Back End Software Engineer, APAC Payroll Coordinator, Project Management Lead, Software Engineer, Graphic Design Intern, Presales Engineer, Product Manager, Product Manager, Senior Software Engineer, Engineering Productivity, Commercial Manager, Oceania, Cyber Security Business Development Manager, Head of Regulation APAC, CyberSecurity Consulting Systems Engineer, Singapore, Data Scientist, English speaking Azure Ranger, Software Engineer in Test, Management Trainee (Fintech), IT Help Desk Associates, Software Engineer - Full Stack, Project Manager, APAC Payroll Coordinator, New Graduate - Sales Finance Analyst - Asia Pacific Japan, Magic: Head of Business Product, Management Associate, Inventory Technician, Student Intern: HCM Sales Development Analyst, Chief Technology Officer, Applications Software Architecture and Engineer;, Management Trainee (Fintech), Head of Pre-Sales, APJ, Head of Pivotal Cloud Foundry Platform Services, APJ, Account Manager, Client Success, Supply Chain Engineering Program Manager, Systems Reliability Engineering Manager, APAC, Unified Communications Sales Director, APAC, Data Engineer, Talent & HR Coordinator, Sr. Product Manager, Fraud Operations Analyst Lead/ Program Manager, Unified Communications Sales Director, APAC, Business development manager, Regional Manager, Professional Services, Field Sales Manager- APAC, Sales Manager - South Korea, Business development manager, HR Manager, Sales Development Representative - APJ (Singapore), Project Manager, Account Manager, Solutions Consultant, 2019 Market Data Analyst, ASEAN Government and Aerospace & Defense Market Development, Research Intern, Software Engineer, Machine Learning, IT Analyst/ Software Developer, Deputy Interactive Graphics Editor, Experience Architect, Solution Consultant, Product Manager - Sales Trader, Chief Technology Officer, ADVERTISING AND SPONSORSHIP SALES ACCOUNT MANAGER, Head of R&D on Blockchain -Smart Contract Security, IT Engineer (Helpdesk), Engagement Consultant, Operations Manager, Section Manager, Information Technology, Project Management Lead, Specification Engineer, Global Alliance Leader- DXC Asia, Strategic Alliance Manager, Singapore, Software Developer - Python, Software Engineer, Smart Multi-Energy System, Senior IT Specialist, Strategy Officer, Software Engineer (iOS), ITPS Specialist (Transport), Leonardo Center Manager, Singapore, Strategic Account Manager, Singapore, BUSINESS DEVELOPMENT MANAGER, Major Account Manager, Graduate Back End Software Engineer - Singapore, Sales Account Manager (IT), Sales Development Representative, Company Secretarial Executive/ Assistant Manager, Senior Manager/Manager/Assistant Manager (ICT Industry Development, Ecosystem Development), Business Development Manager, Project Manager, Strategic Accounts Director, Business Development Representative (Vietnamese & English Speaking), Sr. Manager, Business Development, Product Manager, Strategic Account Manager, Singapore, Territory Manager, South Korea, Full-stack Software Engineer, Team Lead, Enterprise, STAR Singapore Intern, Policy Enforcement Manager, Disinformation, Trust and Safety, YouTube, Business development manager, Client Solutions Consulting III, Account Manager, LE, GTS, Leonardo Center Manager, Singapore, Account Manager – APAC, Inside Opportunity Manager, Business Development Manager, Enterprise, Policy Enforcement Manager, Disinformation, Trust and Safety, YouTube, Snr Executive Secretary & Administrative Manager, MySQL APAC Partner Marketing Manager, Business Solution Manager, Senior Manager, Manufacturing SG SPE, Marketing Manager- (APAC), TradeOps Developer - Singapore (Python), AM IT Singapore Head (IT Project Manager) , Asset Management IT, Photographer / Senior Photographer, Commercial Manager, Oceania, Business Solution Manager, Software Engineer, 3 months/6 months/12 months Internship: Coding & STEM Instructor, Sales Development Representative - Japan, Product Management Internship, Digital Product Manager, Sales Engineers (IT Solutions and Services), Commercial Manager, Oceania, Sales Manager,Insurance, Singapore, Marketing Manager- (APAC), Manager, Branding & Communications, STAR Singapore Intern, Sr Software Engineer, Biddable Media Analyst, Sales Engineer - APAC, Industry Content Manager, Project Manager, Contract Manager, Product Management Internship, Asia Emerging Markets Partner Account Manager, Data Scientist, Software Engineer, Intern, 2019 Customer Support Representative (English/Korean Speaker) SG, Associate, Application Engineering, Office Manager (Singapore), VMware Cloud on AWS, Partner Manager – ASEAN, Software Engineer, Strategic Account Manager (Singapore), Full Stack Developer - Japanese Speaking, Partner Development Manager, Marketing Campaigns Manager - Singapore, Sales Engineers (IT Solutions and Services), Technical Support Engineer, Lean Operation Leader, ASIA, Senior Strategy Manager, VMware Cloud on AWS, Partner Manager – ASEAN, Operations Manager, Business Development Manager, Technical Manager, Engineering Manager, Google Pay, Senior Software Engineer, Business Development and Sales Executive, App Store Solutions Manager, Customer Success Manager, Technical (Software) Recruiter, Regional Business Development Manager, Software Engineering Manager - Singapore, Deal Desk Manager, Regional Business Development Manager, Technical Manager, Business Development Manager, Lean Operation Leader, ASIA, Operations Manager, Customer Success Manager, Software Engineers (Java), PROJECT MANAGER, Software Firmware Engineer Intern, Public Relations and Marketing Communications - Assistant Manager, Software Engineering Manager - Singapore, Professional Services Consultant, Payroll Executive, Operations Manager, Coding & STEM Instructor (1-year Contract) (Singapore), Lazada-Regional Category Manager of IT Procurement, Engineering Manager, Next Billion User, Public Relations and Marketing Communications - Assistant Manager, Program Manager, SAP.iO Foundry Singapore, Cloud Partner Development Manager, Global Senior Program Manager, Optimization and Algorithms Specialist, Regional Business Development Manager, App Store Solutions Manager, People Ops Manager, Product Manager, Pricing, Digital Manager, Trading Platform Engineer (Singapore), Senior Partner Success Manager, Senior Frontend Developer, Sales Development Representative - Singapore, Retail Design Manager, APAC, Solutions Manager, Sales Manager, Singapore, Product Manager, Partner Manager, Emerging Markets (PK, Myanmar, Lao, Cambodia), Technical Solutions Engineer - APAC, Implementation Manager, Technical Project Manager, Java Software Engineers, Project Coordinator, Graduate DevOps Engineer / IT Service Management Analyst, Paralegal, Software engineer, Manager, IT Architecture, Product Specialist (APAC), Product Manager, GrabPay, Credit Collection Associate, Administrative Assistant (Residential), Senior IT Developer, Awesome Software Architect, Sales Development Representative, Agile Coach/ScrumMaster, Solutions Architecture Manager - Service Line, Technical Support Engineer - Security Specialist, Project Manager (CRM), Sr Customer Operations Manager, Senior API / ESB / MuleSoft Consultant - Singapore, Senior Manager, IT (Manufacturing), Global Bid and Content Manager, Deal Manager, Deal Management Team APJ, Partner Manager, Manager - Business Operations, Forward Deployed Software Engineer, New Grad, Administrative Assistant, Software Engineer, IT and Website Manager, Graduate Technology Consultant - IT Service Management/DevOps, Merchant Implementation Manager (Junior), IT Sales and Business Development Manager - Singapore, Innovation & Partnership Manager, Sr. Sales Manager - Information Technology, Business Intelligence / Data Analytics Intern, Full Stack Developer, Manager, IT Architecture, Business Intelligence / Data Analytics Intern, Technical Sales Manager, Digital Banking Architect, Merchant Implementation Manager (Junior), Sr. Sales Manager - Information Technology, Service Marketing Manager APAC, Lazada-Regional Category Manager of IT Procurement, IT and Website Manager, (Junior) IT Developer, Senior Software Engineer, Engineering Manager, Mobile, Infrastructure Manager - IT, Manager, Voice and Contact Center Automation Engineer, Innovation Specialist, Intern Software Development in Test (ADP), Senior Staff Customer Success Manager, Manager: MATLAB & Simulink Market Development Team, Technical Program Manager, Next Billion Users, Technology Business Development Manager, Big Data and Infrastructure Manager, Senior Back-End Engineer, Distributor Manager, Software Engineer, University Grad (Singapore), Intern Software Development - Forge Data Management Service, Account Executive - Singapore, Solutions Engineer, APJ Procurement Manager, Product Marketing Manager (Cloud Software), Head of Software Engineering & Infrastructure, Infrastructure Manager - IT, Medical Statistician, In-house Repair Service Engineer, Technology Intern, Business Development Representative, Search Program Manager, ASEAN Electronics, Semiconductor Market Development Manager, Inventory Technician, IT Technical Delivery Manager, Services Solutions Consultant, General Manager, Senior Software Developer – Cloud Services, Java Software Development Manager / Assistant Manager, Services Solutions Consultant, Inventory Technician, VDI IT Specialist, Intern Software Engineer in Test (AutoCAD), Internship: Communications Intern, Software Development Engineer (m/f), Global Outperformer Trainee, World Languages Instructional Assistant (Spanish), Airline IT Delivery Manager, Creative Program Manager, Global Outperformer Trainee, APAC Marketplace Business Intelligence and Business Operations Manager, Software Engineering Manager, Implementation Consultant - Singapore, World Languages Instructional Assistant (Spanish), Intern Software Development (Licensing Platform), Site Reliability Engineer (GlobalProtect Cloud Services), Recruiter - APAC, Software Asset and License Manager, Business Development Manager, Software Engineer, Intern, Analyst, Prepaid Platforms, Software Engineering Manager - Singapore, Software Engineering Intern, Summer 2019, Intern Software Development (Localization Solutions), Software Developer (Frontend), Application Developer - Blockchain Garage (Apprenticeship), Fullstack Engineer, Intern Software Development (Licensing & Entitlement Management), Software Support Specialist (f/m/d), Software Engineer, Graduate Trainee, IT Support Technician, IT Infrastructure, Lead, Associate Specialist, IT, Software Engineer, University Graduate, 2019 Start, IT Engineer (Helpdesk), Software Engineering - Backend (intern), Senior Talent Acquisition Specialist, Enterprise Account Manager (Major Accounts), Talent Specialist, Cloud Architect, Business Development Manager - Security Services, Communications Solution Architect (Presales), Senior / Account Manager - Public Sector, Government, MinDef, INSIDE SALES REPRESENTATIVE, Inside Sales Manager, Business Analyst- Data Analytics, Big Data Solution Architect, Big Data Consultant, Site Merchandiser, Business Development Manager, Product Marketing Executive, Business Development Manager (Robotics) - Up to 6k + Commission, Partner Marketing Manager APAC, Regional Marketing Manager, APAC, GLOBAL ACCOUNT  MANAGER, HR Executive, Regional Principal  (Managed Print Services, Workflow Automation, Digital Information Solutions), Sales Engineering Manager, Senior Sales Manager, Senior Regional Sales Manager - Bangalore, IT Service Delivery Manager (Financial Software) - (Top IT MNC/ Gd Env/ East/ 5.5K to 7.5K), Ecommerce Marketing Specialist, Senior / Account Manager - Defense and Homeland Security, Engineering Lead- Go-Jek, Senior Data Engineer, Fullstack developer- Go-Jek, Cloud Solution Software Architect, Solution Engineer (Presales), IT Resource Manager and Consultants (2 Positions), Cloud Customer Incident Engineers - Oracle Cloud Infrastructure, Big Data Engineer, Big Data Solutions Architect, Deputy Head, Strategy Planning & Project (Innovation Solutions & Services), Security Sales Specialist, Account Manager, ICT Account Manager (up to 6K Basic + OTC + Allowance/ Service Provider), Product Marketing Executive, Product Owner, Data Analyst (Data Scientist) - VP, Senior Business Intelligence Specialist - AVP/VP, Technology Analyst - IT Services (Senior Machine Learning Engineer) in Singapore - JOB_000305, Lead Technology Specialist - IT Services (Data Science and ML Manager) in Singapore - JOB_000309, Software Developer ( No Experience Required), Design Thinking Consultant, Partner Account Manager, Account Manager, Malaysia Enterprise Sales Manager – Telco, Enterprise sales Manager – Commercial, Financial Analyst / Accounts Receivable (1 year, Renewable), Marketing Manager, GM / AVP HR for BFSI IT Client, Telemarketing and Telesales Representative fluent in BAHASA OR MANDARIN OR KOREAN OR JAPANESE and ENGLISH, Enterprise Architect, Singapore, Design Thinking Consultant, Recruitment Consultant - IT Technical Recruitment Practice / Business Development Consultant, Software Solution Architect,Global top 3 payment company, 13 months + 3 months bonus + stock option), Director Sales BSFI, Chief Data Scientist, Enterprise Account Manager (Major Accounts - GEH vertical / Government ), Pre-sales Solution Architect, Technology Manager, Systems Engineer, Product Manager - Security, Business Development Specialist (Bigtec) -Distributor/East, Change Management / Project Manager /Change Lead - HongKong, Release Manager (Salesforce SFDC), Solution Lead, Techno-Functional Lead in Service Delivery, Senior Business Analyst, CISRUN Technology Lead (Java Lead), Payroll specialist, Talent Acquisition Lead (Singapore & South Korea), SAP HCM Payroll Consultant (Perm, Regional role, S6-8k per month + 2 months bonus), Sr. Project Manager (Japanese Bilingual)_Japan Onsite Opening, SAP Sucessfactors Senior Manager (14-17k per month x 12 months + 2 month bonus), Associate Business Manager, Data Analyst, Sales Specialist / Business Support Specialist (1-Year Contract, Renewable), Engineering Manager, Deputy Head, Strategy Planning & Project (Innovation Solutions & Services), Cloud Service Management Architect/ Engineer, Cloud Infrastructure Security and Compliance Architect/ Engineer, Senior HR Executive - Technology MNC, Account Manager (Enterprise Market) – Telecommunications Industry, Salesforce Developer, Sales Engineering Director, Client Engagement Manager, Cognizant Technology Solutions - Sr. Java Developer - Singapore, Regional Product Manager – Data Security & Services, Senior Data Integration Manager, Head of Blockchain, Digital Enterprise Architect, Data Analyst – 12 month contract - Singapore, Sales Manager – FSI Sector, Enterprise Client Landscape Architect, Customer Success Executive, Executive Secretary, PIC Automation Engineer, Graphic Design Intern, Customer Success cum IT Support, Assistance Principal Engineer-IT Infrastructure, Commercial Content (Coupons) Intern, Web and Graphic Designer, Mobile Development Team Leader (iOS/Android), Senior Service Configuration Advisor, Senior Software Developer(.Net), Senior Application Manager, Software Product Manager, Technical Architect (GoQuo),"
     ]
    },
    {
     "name": "stdout",
     "output_type": "stream",
     "text": [
      " Software Engineering Manager, 100% Scrum Master, Business Intelligence Intern, Engineering Lead (Backend), Web and Graphic Designer, Hr Manager, Systems Engineer, Business Intelligence Intern, Automation QA Engineer, Collections Manager, GFSA, Marketing Executive - Sephora Malaysia, Senior Software Engineer (Java), Senior Service Configuration Advisor, Customer Success cum IT Support, Solutions Consultant - Kuala Lumpur, DevOps Cloud Engineer, Software Engineer (Solutions Consultant), Services Architect- Retail, Hospitality, Finance, Test Automation Engineer, Packaging Expert, SW Test Engineer, CoE Senior Support Consultant - Technology, Lead API Developer, IT, Customer Success Manager, Senior Analyst, IT Service Operations, Snr Sales Engineer, m/SIX l Senior Executive/Executive, Insights, Software Consultant – Enterprise Architecture, Medical Sales Application Engineer (India), Java Development Team Leader, Finance Manager, Domain Trainee - Customer Service - IN&EN, Sr. Software Engineer (Java), Campaign Manager, Scrum Master, Duty Manager, Content & Copywriter for Mindvalley Russian, Creative Designer, Engr, Field Apps 2, Commercial Content (Coupons) Intern, Mid-Level Full Stack Developer, Data Manager - RBWM CDO, Senior Service Desk Advisor, Business Development Analyst | Internship, Product Manager, Managing Director (MYS), Senior Project Manager (Fraud & ID), CRM Analytics Senior Associate (Marketing), Product Specialist, Nutrition, Engineering - Software Engineer (Full Stack), Engineering - Software Engineer (Full Stack), Digital Consultant, PMO Professional, CRM Analytics Senior Associate (Marketing), エンタープライズセールス　20代・30代若手活躍中!, Enterprise Country Manager, Malaysia - Kuala Lumpur - GN Audio, Malaysia, Category & QC Specialist - Vietnamese Speaker, Market Research Manager, Senior Application Support Specialist, Data Engineer Lead, Data Engineer Lead, Technical QA Engineer, Data Engineer, Customer Service Officer/Coordinator, CCLAS Senior Developer, Content & Copywriter for Mindvalley Russian, PMO Professional, HBT ASEAN CFO, Process Associate - Customer Service Agent - CH&EN, .NET Development Team Leader, ASEAN Telco SME, Agile Coach, Technical Consultant, Learning Experience Designer, Customer Success Executive, Operations Manager Kuala Lumpur, Scrum Master / IT Project Manager, Planner 2, Production Control, Trainee (SL1M)- Clinical Marketing Assistant, Application Engineer, IM, Regional Solutions Engineer, Commercial Content Executive (Coupons), Management Associate Program, Cargo Model Analyst, Director - Business Systems Analysis, Mobile App Developer (iOS/Andorid), Eng, Product development, Architect – Customer & Cloud Operations Sustaining Engineering, Cloud DevOps Analyst, Director of Cloud Operations, HR & Recruitment Coordinator, Data Engineer Lead, Data Engineer Lead, Business Intelligence Analyst, Cloud DevOps Analyst, Sales Account Manager, Business Intelligence Intern, Head of Analytics, Marketing Specialist for Mindvalley Russian, Client Technical Specialist - IBM Analytics, ASEAN, Director of Cloud Operations, Software Engineer, Lead, Employee Xperience, Technical Product Owner, Senior Systems Integration Engineer, Data Scientist (Human Capital), Digital Editor - BusinessFocus, Assistant, Printing Room, Big Data Architect, Software Test Engineer - Automation, Senior Software Developer / Designer, Lead , Global ERP Delivery Manager, Web Designer, Software Engineer C++, Software Test Engineer - Automation, Head of Data Science, Engineering - Software Engineer (Front-End), Customer Service - Internship, Creative Designer, Application & Infra Architect, Assistant Director of Finance, Packaging Expert, Clerk Grade 1 - JB (Contract), Engineer, Associate Systems Engineer – SAS Global Customer Advisory Academy, Technical Support Engineer, Engineering - Software Engineer (Front-End), Solutions Consultant, Intern (3D Artist), HR & Recruitment Coordinator, Engineer, Quality Assurance, Senior Technical Support Consultant, Partner Manager, C# Software Engineer, Quality Engineer, CCLAS Senior Developer, Infrastructure Engineer, Digital Editor - Social Media Content 社交媒体 内容编辑(吃喝玩乐旅游资讯) - 假期日常, Digital Editor - Social Media Content 网路文字编辑(食谱内容) - Cookeys 煮食日常, Digital Editor - Social Media Content 网络文字编辑(亲子资讯)- Mami亲子日常, Digital Editor - Social Media Content 網絡文字編輯(美容、時尚、潮流生活资讯), Digital Editor - Social Media Content 网络文字编辑(潮流生活资讯), Content Writer, Kuala Lumpur, Developer, Laravel Developer, Marketing Executive - Sephora Malaysia, Campaign Manager, Accounts Executive, Payable, Software Support Executive, Laravel Developer, Legal (IT) Specialist, Scrum Master / IT Project Manager, Software Development Manager, Senior Manager, Analytics, CoE Support Consultant - Technology, Developer - Full Stack, Senior Manager, Analytics, Change Management Consultant – IT Software, Email Marketing Developer (Digital technology company, Singapore based, open to all candidates), Internship for Computer Science & IT students (min 6 months), Internship - Startup Internship - Kuala Lumpur, Business Controller - Asia, Senior System Integration Engineer, Software Support Executive, Technical - Internship (Junior), Mid-Level Full Stack Developer, Corporate Account Manager, Senior System Integration Engineer, CoE Support Consultant - Technology, IT Infrastructure Analyst, Data Science Intern, Digital Editor - BusinessFocus, Solutions Consultant, Test Engineer, Digital Demand Generation Representative, Software Engineering Team Lead, Senior Software Engineer, Planner 1, Supply Chain, Ruby on Rails Engineer, CoE Associate Support Consultant - BASIS, Senior Developer, Mid-Level Video Editor, 100% Scrum Master, Software Engineering Specialist, Application Engineer, IM, Product Manager, Software Engineering Team Lead, Engineer, Quality Assurance, Account Executive, Enterprise Software, DSP Software Development Engineer, KL Technical Product Owner, Software development, Intern (3D Artist), Front End Developer, Senior Product Manager (Malaysia), IT Specialist (External Access Services), .Net Technology Lead, Software Engineer (Java), .NET Technology Analyst, Junior Video Editor, Temporary IT Engineer (Location: Kuala Lumpur, 2 months), Software Development - Project Manager, Digital Designer, Business Insight Analyst, Resource Management Executive, Software Engineer in Test, Cargo Model Analyst, Test Automation Engineer, Salesforce Developer, Technical Consultant IT Security, Quality Assurance Team Lead, APJ Bid Manager, Specialist Solutions Architect, Junior Web Designer, Advertising Specialist, Software Specialists, Associate Systems Engineer – SAS Global Customer Advisory Academy, Software Engineering Manager, Marketing Executive (IT Background), Software Support Specialist - Japanese, Change Management Consultant, Videographer & Editor, Quality Engineer, Technical Manager, Senior HR Business Partner, Digital Software Development Consultant, Senior / Inside Sales Manager, Intern - Customer Support, IT Developer, Technology Consultant, Cloud Infrastructure Security and Compliance Architect/ Engineer, Senior Software Engineer, Cloud Service Management Architect/ Engineer, Advertising Specialist, Social Media Specialist, Consulting Manager (Avaloq), Category & QC Specialist - Vietnamese Speaker, .Net Development Team Leader, Temporary IT Engineer (Location: Kuala Lumpur, 2 months), Technical Consultant IT Security (remote position), MediaCom | Implementation Executive, Social Media Specialist, DevOps Engineer, Digital Developer, Category & QC Specialist - Vietnamese Speaker, Product Manager, Legal (IT) Specialist, Executive Secretary, Engineering - Software Engineer (Front-End), Engineering - Software Engineer (Front-End), Agile Developer, Product Manager, Eng, Product development, Video Producer, Scrum Master, Mindshare | Implementation & Buying Executive, Account Executive (Junior Position), Senior Accounts Executive, AR, Software Engineer/Senior Software Engineer (Full Stack), Operations Manager, Software Engineer, Software Engineer/Senior Software Engineer (Full Stack), Software Engineer, Software Engineer C++, Senior Accounts Executive, AP, Senior Developer,"
     ]
    },
    {
     "name": "stdout",
     "output_type": "stream",
     "text": [
      " Insights Analyst, AI Beginner Programmer, L2 Response Analyst - Kuala Lumpur, Malaysia, Infrastructure Engineer, AI Beginner Programmer, Automation QA Engineer, Graduate Trainee (GT) Application Support, Software Developer, IT Technical Officer, Operations Manager, Accounting Software Support Consultant, Associate Tester, Data Science Analyst, Account Manager (Commercial /Transportation / Government), Java Development Team Leader, Senior Systems Engineer, IT Support Officer, PIC Automation Engineer, Software Engineer, Senior Web Developer (Ruby, Elixir), Technology Lead– Microsoft Dynamics CRM, Operations Executive, Global Leadership Trainee, Software Support Specialist - Japanese, Infrastructure Engineer, Cyber Security Specialist, Junior Video Editor, KL Technical Product Owner, Software development, Microsoft NAV Functional Consultant, Sr. Full Stack Engineer (.NET), Software Engineer, Software Support Engineer (Groovy/Java), Software Engineer (Mentorship + Flexibility), Senior Software Engineer, Business Intelligence Intern, Application Consultant, Data Science Intern, Software Engineer (Backend), Senior Software Engineer, Software Engineer - iOS, Sr. Full Stack Engineer (UI/UX), Developer, Application Support Specialist (Level 1) – 12 month renewable contract – Singapore, IT Project Officer, Enterprise Account Manager (Major Accounts - Strategic Business), Technical QA Engineer, Elixir Web Developer, Python Engineer (Mentorship + Flexibility), UI UX Designer Mobile, IT Technical Officer, Brand Activation Manager, Business Development Manager, Senior Manager Big Data Solutions, Senior Manager Digital IOT Solutions, Senior Engineer - Global, Senior Project Manager, Technical Instructor & Instructional Designer - IoT cloud platform, Manufacturing IT Engineer, Marketing Specialist - Vietnam Market, Business Development Manager, Senior Consultant / AM, Strategic Marketing (Digital), Fresh Graduate, eCommerce Systems & Delivery Associate, Social Media Manager, Commercial Manager, Mobility, Senior Cloud Engineer - Up to 5.5K, ED / SVP, Head of Consumer Banking Branch & Self Service Banking Tech, Group Consumer Banking and..., VP, Senior Data Scientist, Regional Consumer Banking Operations, Technology & Operations, AVP / Senior Associate, Data Engineer, IBG Digital, Institutional Banking Group, SVP / VP, Data Scientist, Business Analytics, Consumer Banking Group, VP, Machine Learning Lead, Group Legal, Compliance & Secretariat, Senior Associate, PCF Developer, Middle Office Technology, Technology and Operations, Inside Sales Team Lead, Director of Professional Services, Manager, Group Business Solutions (Sharepoint Program Management), HR Talent Acquisitor, Branding / Public Relations Manager, Consumer Goods, Business Development Head - Influencer Management (Jakarta), Enterprise Cloud Architect, Digital Sales Manager, Project Manager (Digital Banking), Mobile Engineer, SVP/VP, Lead Data Scientist, Group Consumer Banking and Big Data Analytics Technology, Technology..., AVP / Snr Assoc, Data Scientist, Business Analytics, Consumer Banking Group, Sales Director, Sales Manager, Technical Recruiter /Account Manager, Product Manager (AI, Machine Learning), Marketing Manager, Senior SuccessFactors Consultant LMS (Selangor / KL), Recruiter, Senior/Solution Architect, Junior Mulesoft Engineer in Singapore JOB_000473, Senior Mulesoft Engineer in Singapore - JOB_000472, SAP SD Consultant in Singapore - JOB_000196, Account Relationship Manager, Senior Solution Architect (Payment Systems), Job Opening for Content Review Analyst, SAP SD Consultant in Singapore - JOB_000196, Business Development Managers – Managed Services (APAC - Malaysia), Head of Content Policy (General Manager level), UI Designer / UX Designer, Senior Sales Engineer / Consultant - AZURE, Regional Account Manager, Enterprise Sales, Director, Product Management, Client Relationship Executive, RPA Consultant, Senior Graphic Designer, Marketing Content Specialist, Customer Sales Representative, Sr Sales Manager- Singapore, Sales Manager (Mobile Applications), Sales Manager, Senior Software Developer / Designer, Account Director (Managed Services / Hunter / ASEAN), Security Consulting Senior Manager, ServiceNow Process and Functional Manager, Security Solution Architect Manager, ServiceNow Architect, Trading Desk Equity Strat Developer, ServiceNow Senior Technical Consultant, Identity Access Management Senior Analyst / Consultant, ServiceNow Technical Specialist, ServiceNow Technical Consultant, SVP / VP, Security Architect, Group Consumer Banking and Big Data Analytics Technology, Technolog..., Trading Desk Equity Strat Developer, Frontend Developer (AngularJS), Senior IT Recruiter - Malaysia, \"Business Development Manager\", SIEM Engineer Consultant, Software Developer, VP / AVP, PCF Developer, Middle Office Technology, Technology and Operations, Human Resource Shared Services Operations Manager, Full-Stack Web Applications Developer, Tele Sales Manager - Korean Speaking, VP / AVP, Senior UX Designer, Institutional Banking Group Technology, Technology and Operations, Solutions Consultant, HCL Axon Malaysia SDN BHD - Business Analyst (LOS) - Malaysia, Kuala Lumpur, Account Executive, Sales Development Representative, Job opening for APAC Digital and Social Media Program Manager @ Cognizant - Singapore, Pre-sales, Wireless, Pre-sales Consultant, Business Development Manager (IT Recruitment), Analyst – Data Science, Cloud Platform Sales Representative (Oracle Digital Prime), Technical Writer, Lab Manager, Regional Sales Director, Cloud (Azure) Data Technology Architect, Head, Product, Solutions & Services Marketing, Delivery Manager, Sales Engineer, Fraud Operations Analyst Lead/ Program Manager, Senior Infrastructure Engineer/ Infrastructure Engineer, Mobility Management, Cloud Service Management Architect/ Engineer, Cloud Infrastructure Security & Compliance Architect/Engineer, Contract Senior, Internal Communications, Middle Office Technology, Technology & Operations (OneT..., Project Security Specialist, Application Engineer, Senior Lead (Presales/Product Development), Data Scientist,\n",
      "\n",
      "Cluster 5 words: b'aaaproficy',\n",
      "\n",
      "Cluster 5 titles: Pega Developer, SOC Manager, Cybersecurity Specialist, Associate Security Consultant, Security Consultant, Security Lead, Cybersecurity Researcher, Java Developer, Mobile Developer, iOS Developer, Security Software Engineer, Compliance and Security Operations Manager, Principal Security Researcher, Security Consultant, Cyber Security Researcher, Security Software Engineer, Compliance & Security Operations Manager, Software Engineer, Software Engineer, Compliance and SOC Manager, Security Consultant, Cyber Security Researcher, Associate Security Consultant, Security Consultant, Software Engineer, Penetration Tester, Cybersecurity Threat Researcher, Security Operations Centre (SOC) Manager, Android Developer, Mobile Application Lead, Technical Consultant / Senior Technical Consultant - Cyber Security, Test Lead, Test Consultant, Performance Test Consultant, Full Stack Developer, Business Development Manager - IoT Solutions Sales, Network Architect, Security Operations Centre (SOC) Analyst, Security Operations Analyst, SOC Analyst, Security Analyst, Security Operations Centre Analyst, SOC Analyst, Security Analyst, SAP IDM Manager, SAP Identity Management Manager, Senior Data Scientist, Training Operations Specialist (cloud IoT platform), Security Architect, Threat Intel Designer, Security Implementation Lead, Security Consultant, Incident Management Manager, Threat Intel Implementer, AWS Developer, Cybersecurity Lead, Lead Penetration Tester, Security Operations Centre (SOC) Analyst, SOC Analyst, Cybersecurity Analyst, Security Analyst, Security Operations Analyst, CSOC Analyst, Cybersecurity Operations Analyst, Cybersecurity Analyst, Presales Cybersecurity Consultant, Cybersecurity Consultant, Security Implementation Lead, Cyber Security Consultant, Security Consultant, Penetration Tester, Associate Security Consultant, Cybersecurity Expert, Ethical Hacker, Cyber security Consultant, Penetration Tester, Cybersecurity professional, AI Developer,\n",
      "\n",
      "Cluster 6 words: b'__________________',\n",
      "\n"
     ]
    },
    {
     "name": "stdout",
     "output_type": "stream",
     "text": [
      "Cluster 6 titles: Application Engineer (IT Solution @ PJU1A - Up to RM6000), Performance Test Engineer (Up to $7500 / Python / Linux / US MNC), Software Engineer / Programmer| Up to $7k, (SA) Software Engineer - JAVA [Ref: 43786] Cyberjaya, RM6k, (SA) Software Engineer - C# [Ref: 43785] - Putrajaya/Cyberjaya, Web Application Developer (.NET) Central, Kuala Lumpur, Senior .Net Developer, Software Engineer ( C#/ C++), System Analyst (Based in Kuala Lumpur), Software & QA Support Engineer (Based in Kuala Lumpur), Software Engineer (C++, MRT Project), Lead Software Engineer, IT Manager - Java Applications, Software Engineer - PE-JD-640, DevOps Engineer, Software and Applications Developer, Artificial Intelligence Bot Engineer Intern, Software Engineer - Web (JavaScript / React), Singapore, Software and Applications Developer, Software Developer (.Net / C#) (Up to 7K) (West) (IT MNC), Sr. Software Engineer, Senior Software Developer - Tableau, Software Configuration Analyst, Senior Software Engineer (C#/.Net) - Immediate, Software Test Engineer, IT Analyst (Emerging Technologies) - Direct Contract, Software Engineer (Java) (Ref 22716), Software Engineer (Web Frontend), Software Engineer, Software Engineer (Java), Software Engineer, Software Engineer (Java), Software Engineer - Web (JavaScript/ React), Javascript Software Engineering (Mid- Level), Software Developer, R&D Test Software Developer, Software Engineer (Java), Junior Software Engineer, Associate Software Architect (.NET), Test Automation Engineer, Test Automation Engineer, Pega Developer (ITSR), Comsumer Suites Developer (ITSR), Software Engineer, Senior IT Analyst, Software Engineer, Estate Manager (Car Parks), Estate Manager (Car Parks), Software Developer (.Net MVC, Telerik) - Based in KL, Malaysia, Integration Consultant, Software Developer (.Net MVC, Telerik) - Based in KL, Malaysia, Operations Software Engineer (IT/Telecommunication Related Industry/Central Area/Up to 6K/Urgent), Software Development Lead, Back-end Magento Software Engineer, Assistant Manager, SOFTWARE FRONT-END DEVELOPER, Staff Engineer, Product Software, Competency Manager (Distribution Channels), Java Developer, Software Developer / IT Programmer, IT Solutions Architect, Software Engineer, Software Test Engineer, Software Test Engineers, Software Developer / IT Programmer, Assistant/ Manager - Software Engineering/Development (2-year contract), SOFTWARE ANALYST, sw engineer - J2EE/ Java 2 platform/ PHP, sw engineer - J2EE/ Java 2 platform/ PHP, IT Programmer // Queenstown // $2800-4500, Software engineer, Junior Software Developer, Java Microservices Developer-IT Software, Back-end Magento Software Engineer, Software Engineer, Software Engineer - (AO NC180921 001/3), Software Engineer - Intern, Full Stack Developer Intern, Software Engineer, IT Engineer / Manager, Identity and Access Management (IAM) Consultant/Integrator 2019, Software Testing Analyst, Frontend Engineer, Software Engineer, IT Developer, Agency, Software Developer, Java Developer - Public Sector, Backend Engineer, IT Manager/ Senior IT Manager (Port and Shipping Systems), Software Test Engineer, UI/UX Designer, Full Stack Developer (Java), Software Test Engineer, FIS - Intern, Software Developer (Based in KL City), Software Developer (Based in KL City), .Net Developer, Data Engineer, Junior Java Developer, Software Engineer (HATS), Junior Software Engineer, IT Programmer, Senior Software Engineer (.NET Developer), Microsoft Dynamics AX Developers / Consultants, IT programmer, Bank Officer for IT, IT MANAGER, Web Developer, Software Engineer - Intern, Senior PHP Developer, Senior/Software Engineer (Java), Backend Engineer, Lead Backend Engineer, DevOps Lead, DevOps Senior Engineer, .Net Developer, Java Developer, Senior Product Specialist_SG, Full Stack Developer, Senior Developer (Java, Python), Java Software Developer, Java Developer, Senior Software Engineer, System Analyst, Java Developer, COBOL 400 Developers, IT PHP Developer | Laravel Experience | Up to 6,000, Dot Net Developer - 4 months contract (non extendable) - Singapore, Php developer, Senior Software Engineer, Java Developer, Snr PHP developer- up to S 6k, Application Developer, C#/ .Net- Developer (mid to senior roles available), Php developer, Software Engineer - Backend, Devops Engineer, Analysis Programmer, SOFTWARE QUALITY ASSURANCE ANALYST, System Architect, Software Engineer, Web & Mobile Apps Developer, Database Specialist, Senior Java Developer, Mobile Solution Architect International, Solution Architect SEA, Senior Application Consultant (Back End), Java Developer Core Java, Software Engineer, Full Stack Developer - Permanent with Client, Devops Engineer, Java Developer, BO Resource, Murex Consultant/ Developer -Opening in Singapore, IT - System Analyst (JAVA), IT Software Engineer, UX/UI Designer, IT Mobile Developer (Android/IOS), IT Development Java Lead Assistant Manager ( Up to 11k), Sr Java Consultant, Sr Java Consultant, Mobile Front End Developer, Dot Net Developer - 4 Months Contract, IT - Software Developer (.NET), Data Engineer, Software Engineer - Enterprise Core Platform, JAVA DEVELOPER, Senior iOS Developer, Full Stack Engineer, Applications Developer - DataGrid, Java Developer (API / Microservices), Hiring Java Developers-for one of our Product based client, Hiring  Full Stack (Java) Developers-for one of our Product based client, Full Stack Developer, Java Developer (Back-End), Software Programmer, Senior PHP Developer, SAP Hybris Architect, QA Engineer (Linux Platform) - Up to 7k, Application Developer - Java & PLSQL, Senior Engineer – Java, Senior Engineer -DevOps, Staff Engineer - Java, Development Operations Practice Manager, Node JS Architect, J2EE Application Developer, AEM Developer (Adobe Experience Manager), Mobile Application Developer, Php Developer, Solution Manager (Application Development and Vendor Management), Software Engineer (Frontend Developer) - up to 5.5k, Senior/ DevOps Engineer (Digital Technology)  - Up to 7K, Senior Big Data Engineer, Data & Analytics - Up to 8K, Senior Java Developer, Software Developer in Singapore - JOB_000269, Senior Java Developer, Senior Developer( .Net ) - PERMANENT, Consultant/ Sr.Consultant- QlikView/ QlikSense, Developement Operation Engineer (DevOps), Java Developer, .Net Developer, Backend Engineer, Mobile Application Development, NoSQL Database Engineer_Cognizant Technology Solutions_Singapore, Full Stack (Java) Developer, ID Admin Manager, Automation Tester, Software Test Engineer, JAVA Developer, JAVA Developer, Java/J2EE Software Engineer, IT Software Programmer, IT Sharepoint Business Analyst / Developer ( NET based ), IT Sharepoint Business Analyst / Developer ( NET based ), Software Engineer-Frontend, DevOps Engineer, Lead Data Architect, Senior Software Engineer-Frontend, Senior Lead Developer, Senior Data Engineer- Staff Solution Designer, Looking for JAVA Developers, Senior Fullstack Developer, Middleware Engineer - Websphere,MQ, Software Engineer-Senior Software Engineer (Java, J2EE ), System Analyst, Java Developer, iOS Developer (x5), UX Designer, Junior Programmer, Software Engineer, Java Developer, Senior System Analyst(.Net), Solutions Engineer (R&D;) - Up to 5K, UX Designer, Senior C++ Developer, Android Developer, Machine Learning Engineer, Application Analyst – BI and Reporting Systems, MS CRM Developer, KAFKA DEVELOPER (S4500 to S6500), AEM Developer (Adobe Experience Manager, Adobe CQ5), UI Developer, Application Developer, iOS developer, SAP HYBRIS - HANA Consultant - Opening in Singapore, Software engineer (Micro focus / Serena), DevOps Engineer - up to 6k, Automation Testing Lead in Singapore - JOB_000310, Senior / Software Engineer-Java (NEW Headcount for 2019), .Net Developer, Mobile App Engineer (Android), Software Engineers/ Senior Software Engineers (Digital Initiatives), Lead, QA & Testing, C++ Developer, Java Developer (Lead), Kafka Developer, Assistant Manager/Manager (Software Engineering- Apps), QA & Test Automation Engineer, Application Developer (Customer Experience), Applications Developer (Blockchain), pplications Developer (Datagrid), Senior Manager/Manager, Data Engineering & Analytics,"
     ]
    },
    {
     "name": "stdout",
     "output_type": "stream",
     "text": [
      " Java Consultant, Blue prism Developer, .Net Consultant, Sr Consultant  - Java, Application Developer, Web Developer, Java Programmer, Application Developer (Customer Experience), Application Developer (Customer Experience), Analyst Programmer, Hybris Architect, .Net Technical Lead, Quality Assurance Engineer in Singapore - JOB_000317, Software Engineer -Java, Opening job for Big data - Manager @ Cognizant - Singapore, Senior Java Developer, Java / J2EE Lead - Associate Tech Architect, Java Developer, Java Developer, Java Developer, Technical Architect, Android / IOS Developer, Full Stack Developer, Technical Lead (Malaysia & Japan), Java Developer, .Net Software Consultants, Power BI Consultant, PL/SQL Developer, Senior Software Engineer/Software Engineer – Designing Autonomous Mobility On-Demand, Mobile Architect, iOS developer, iOS Developer ( Singapore ), Senior System Integrator, Senior Big Data Engineer (Big Data, Scala,Spark, Open to the international candidates), Job opening for Visualization Developer @ Cognizant - Singapore, Job opening for Data Engineer - Manager @ Cognizant - Singapore, Application Consultant, Software Developer, Technical Lead, System Analyst (Relocate to Japan), Senior Software Engineer, Singapore, UI / Visual Designer, Singapore, Sharepoint Developer, Java Front-end developer, Java Developer _Singapore Location _1+ years of Contract with Client, Android Developer _Singapore Location_1+ year Contract on TeBS Payroll, Application IT Analyst, Application IT Analyst, IOS Developer, Software Developer, Java Developer, .Net & SharePoint Developers- Permanent #Singapore (Only Singaporeans/ PR's), Software Engineer/ Data Engineer – Permanent Position, Software Developer - Graduate Trainee, Application Support (Openshift support. Or any other cloud based support), Murex Integration MxML Developer, API Engineer - Senior, Java Developer, Performance Test Lead, Selenium Tester, Digital - Business Analyst, Senior/System Analyst, Analyst Programmer, L3 Production Support Java Professionals, QA Analyst, Java Developer, .Net Developer, Software Engineer (Machine Learning), Full Stack Engineer, Sr Big Data Engineer, AEM Developer, Back Developer, Java Developer, Software Developer, Team Lead / Technical Project Manager_1+ contract position with client_Singapore Location, Mobile Test Lead_ 1+ year Contract _ Singapore_ F2F Interview only, Enterprise Architecture, Senior Robotics Software Engineer - SLAM, Reports Developers, Senior Developer, Automation Tester, Senior / Robotics Engineer - ROS, Software Engineer - To Based in Thailand, Snr. Full Stack Developer, Software Engineer (Frontend Developer), Software Engineer- Mobile Development, Software Engineer (Backend Developer), Mobile Credential & App Development Engineer, Senior Platform Developer - Big Data Engineer, Senior Java Developer, Associate Software Engineer_Fresher(0-3 year) @Singapore, Big Data Architect, Share point developer, Associate Software engineer –  Scrum Master  / Pega, Software Engineer  / Appian Developer, Java Developer, SR SOLUTION ARCHITECT - APPLICATION (x5) - PERMANENT, SR JAVA DEVELOPER (x10) - Permanent, Senior Mobile App Developers (React Native) x5 - PERMANENT, iOS Developer_1+yrs of contract with client_F2F interview only, FULL-STACK DEVELOPER - CUTTING-EDGE TRADING SYSTEM, Dev Ops Engineer, Senior Android Engineer, C#.Net Programmers (multiple roles), Senior Mobile App Developers - React Native (x5) - PERMANENT, JAVA - J2EE Software Engineer, Java Engineer, Java Engineer, Senior Software Engineer-Java, Robotics Engineer (Application), Tech Lead, Web Developer, Java Developer, Mobile App Developer, QA Analyst (Automation Analyst), Java Developer /Lead, .Net Developer/ Lead, Java Developer/Architect, Senior Associate, Adobe Data Management Platform Developer - 6 month renewable contract, Electronic Access & Data (EAD) Engineer/Team Lead, Support Analyst (.NET), Senior Software Engineer (Web UI), Senior Software Engineer - Systems, Senior Developer - Backend (R&D; - systems and platforms), Cloud Infrastructure Architect/ Engineer, Developer - (NodeJS), Full Stack Mobile Developer (SGD 6-8K), iOS Mobile Developer, Senior Software Development Engineer-Full Stack, Application Developer - Java, UI Developer, Senior / Java Developer, Software Developer, Senior System Analyst, Senior System Analyst, .Net Developer _Singapore Location_Perm position, MICROSERVICE DEVELOPER, Java Developer - App development using Java stack, QLIKSENSE DEVELOPER, Application Analyst (Java), Cloud DevOps Engineer, System Analyst, Senior Mobile Developer, Junior Java Developer, Web Application Development, Full Stack Developer, SOFTWARE ENGINEERING DIRECTOR, Software Engineer, UX/UI Developer (Up to 6,500), QA Engineer (Up to 6,500), QA Analyst (Up to 7,000), Dotnet Developer, Backend Javascript Engineer, Software Engineer (K2/SmartObjects), Quality Analyst, Full Stack Developer, Full-Stack Developer, .Net Developer/Architect/Lead, Associate Consultant (Software Developer), Cognizant Technology Solutions - Sr. Automation Test Engineer (UFT/QTP) - SG, Cognizant Technology Solutions - Full Stack Developer - Singapore, Developer- Machine Learning / Data Science, Mobile Developer (Junior, Senior), Cloud Architect, Job opening for Drupal - Technical Architect @ Cognizant - Singapore, UI Designer, Web Application Developer, Senior Go Application Developer (Golang), UX/UI Designer_1+ yrs contract with extension_Singapore Location _ only F2F interview, Machine Learning Engineer, Java Developer (EJB), Javascript Developer, Senior Mobile Developer, Full Stack Developer, Cognizant Technology Solutions - Sr. Automation Test Engineer - SG, iOS Developer, SENIOR QUALITY ANALYST, Senior Software Engineer – Android, Senior Application Developer, Software Architect, Full Stack Developer (JavaScript), DevOps Engineer - Microservices, Senior Frontend Engineer - Permanent, Web Developer, Senior / Lead Application Consultant - Tibco, Backend Developer, System Analyst/Analyst Programmer, Senior PHP Developer 1, UI/UX Designer, SharePoint Architect, Staff Engineer, R&D Engineering, Senior Full Stack Engineer (Ruby on Rails), Backend Engineer, Software Engineer (Machine Learning, Big Data, AI), Research Engineer (Engineering Science), Dell Boomi (Developer Lead), Mobile (iOS) Penetration Tester, Red Team, Design Engineer (Firmware/Software), Mobile Developer, Test Analyst, Infrastructure Lead, Automation Engineer Intern, ETL Developer, Robotics Engineer, Systems Specialists (RCS: L / K), Systems Specialists (RCS: L / K), Full Stack Java Developer, Technical Architect AEM, Talent Pipeline - Solution Developer, Data Engineer (Development Background), Web & Database Specialist, WEB DESIGNER, Python Developer/Progammer, Technical Lead (Java), SOFTWARE TESTER, QUALITY CONTROL (Technology Development), Opportunity for software delivery Manager-Singapore, .NET Developer, Python Developer, UI UX Designer, Programmer – Dot Net, Senior Programmer, JAVA – IT Specialist (Up to RM6,000 for Top Graduates / Interns are welcome), Python Developers, C#, ASP.NET Developer and Software Engineer (Web), Senior / Lead Application Consultant - Tibco, Web Designer, Web Developer, Software Tester / Engineer (Intern), Consultant/Senior/Lead Consultant - DevSecOps Practice, QA Engineer, Fullstack Software Engineer, Senior Programmer, Re: Opening for Senior Software Developer, Sr. Software Developer, Analyst Programmer, Software Engineer, Mobile App Developer - iOS, UX / UI Designer, Software Engineer, Senior Software developers, JAVA DEVELOPER, System Analyst, Technology Lead_Infosys_Singapore [Full time], Hadoop Technology Analyst_Infosys_Singapore [Full Time], Re: Opening for Senior Software Developer, Oracle BPM Technology Lead_Infosys_Singapore [Full Time], Java Technology Lead_Infosys_Singapore [Full Time], Systems Engineer - Factory Integration, Manual QA Tester, Robotic Process Automation Consultant, .Net Developer, .NET Developer, Java Developer, Software Developer, Dot Net Developer, Technical Consultant / Pre Sales – IoT (Up to S6800), Content Management Developer, C++ Developer_3 years Contract _Govt client, Backend Developer (IT Job) (FinTech), Cyberjaya/Kuala Lumpur, Malaysia,"
     ]
    },
    {
     "name": "stdout",
     "output_type": "stream",
     "text": [
      " RUBY ON RAILS - DEVELOPER PROGRAMMER, SharePoint Architect, System Programmer, Software Engineer (Blockchain DApps), Middle Level Developer, Senior Software Engineer, Mobile Developer, Java Developer, Technical Analyst Graduate Trainee, Mobile Software Engineer (Android), Web & Database Specialist, Robotics Engineer (ROS), Senior Backend Developer, Mobile Software Engineer (iOS), BPM Senior Consultant - IT Software, Software Quality Assurance Engineer, Web Software Engineer, Software Engineer (Internship available), Robotics Engineer (SLAM), PHP Web Developer, Full Stack Developer, Embedded Software Engineer, Backend Developer, SAP ABAP Consultant, .NET Programmer, Full Stack Developer, Backend Developer (IT Job) (FinTech), Cyberjaya/Kuala Lumpur, Malaysia, Java Developer (12-Months Contract), EMBEDDED SYSTEMS ENGINEER, Mobile Developer, TECHNICAL CONSULTANT (JAVA), Cloud Infrastructure Architect/ Engineer, Cloud Infrastructure Automation Architect/ Engineer, Micro-services/NodeJS Architect - IT Software, Software developer, Technical Analyst, Database Administrator, System Analyst/Analyst Programmer, Software Engineer, Product Engineer, Database Administrator, Senior Full Stack Developer, WEB DESIGNER, IT Developer, Full Stack Developer, .Net Developer, BigData Developer, Micro-services/NodeJS Architect - IT Software, Full Stack Developer, TECHNICAL CONSULTANT (.NET), Test Analyst, Micro-services/NodeJS Architect - IT Software, Test Lead_Infosys_Singapore [Full Time], E-Commerce Senior Software Architect, Super Duper Software Developer, Programmer – Dot Net, Senior Fullstack Software Engineer, SENIOR PROGRAMMER, Mobile Developer (iOS/Android), Software Engineer, Automation Test Analyst, Software developers, Super Duper Software Developer, Java Developer, IT Executive (Programmer), Manager, IT (MFRS9 Technical Support), Security Engineer - Applications, System Engineer - IT Software Development, Content Management Developer, Full Stack Web Developer - Java (Programmer / Software Engineer), PHP Developer/Programmer, Middle Level Developer, Frontend Developer (Blockchain DApps), Manager, IT (MFRS9 Technical Support), Senior Programmer, Content Management Developer, UI Developer, Senior Programmer, R&D Software Engineer, Content Management Developer, Full Stack Developer, R&D Software Engineer, Software Quality Assurance Engineer, Junior Software Engineer, IT Software Developer, Software Tester, Test Automation Engineer, Full Stack Web Developer, IT Programmer, Hadoop Developer in Singapore (JOB_000453), Manual QA Tester, Cyber Security and software tester, IT INTERN, Computer/ IT - Internship, JAVA Developer/Programmer, Software Engineer, Java Developer, IT System Analyst, Software Tester, Java Developer, System Programmer, Technical Analyst Graduate Trainee, Web Developer, Software developer, Java Developer (API / Microservices), Mobile Application Developer (Android), IT Executive (Programmer), Junior Java Programmer, PHP Web Developer, IT / Web Design / App Developer Internship, .Net Web Developer, .Net Web Developer, IT System Developer, Software Developer, React.Js Developer, System Engineer - IT Software Development, IT Software Development Graduate Trainee, Java Software Developer, Junior Programmer, Java Developer, Software Engineering Manager, Java Developer, .Net Developer, Java OR J2EE, UIUX Designer, R&D; Software Engineer (Software HMI/Widget-Animation), R&D; Software Engineer ­(Embedded Software), Hiring for \"Java Developer\", Software Engineer, Hiring for \"RPA Developer\", Hiring for \"PHP Developer\", Bigdata Senior Developer, Hiring for \"QA Engineer\", Android Developer, Senior/ Software Engineer (Core Java/J2EE) - Transformation to NEW Technology, Dot Net Developer, Software Tester, Team Lead/Assistant Manager_Govt client_ Singapore Location _F2F Interview only, Full Stack Developer (Python, Django, ReactJS), Software Developer, .NET - WEB API Development / Application Support, Mid/Senior ASP.NET Developer, Informatica ETL & MDM, Java Developer, Technical Support Representative, Senior Software Development Engineer - Full Stack, Senior Web Developer, Senior Mobile Developer, Software Engineer, Software Development - Team Leader, UI / UX Web Designer, Frontend Developer, Programmer (iOS/Android), C#.Net Programmers (multiple roles), Test Engineer, Application Analyst (Java / J2EE), System Analyst (Application), Software Engineer Developer, Solutions Specialist - C#.Net - Salary Up To RM 9000, Cognizant Technology Solutions - Quality Assurance- Application Security - Singapore, Mobile Developer, Mobile Application Developer(Android/ iOS/ Hybrid/ Symbian), CTO/Technical Lead (Application/Development), Full Stack Developer (Core Java, UNIX, SQL Developer) - Contract(1 yr) - Up to 8K, Senior / Lead Consultant, Application (Tibco) - up to 9K, Web Developer, UX / UI Designer - Up to 7,000, Java J2EE Developer, Senior / Lead Consultant, Application (Tibco) - Up to 6,500, Senior Software Engineer (Go Language) - up to 8,500, Senior Software Engineer (C++) - Up to 7,500, Software Development Freshers (Malaysian Only), Software Developer (Outsystems) - Up to 8,800, Software Developer (Java/J2EE) – Up to 5,500, Application Architect – Up to 9,000, Hadoop Big Data, Senior Java Developer  – Up to 6,500, Design Automation Engineer, .Net Developer, Drupal Developer, Backend Engineer (NodeJS), Mandarin Front End Developer, Web Developer (Executive), Senior Java Developer, Senior Front End Developer, Chief Technology Officer, Senior Software Engineer (C#/.Net), Senior Software Developer (.NET C#/C), Senior Mobile Developer (Android), Senior Software QA Engineer (Mobile), Senior Mobile Developer (Android), Senior Mobile Developer (iOS), Senior Software QA Engineer (Automation), Technical Architect, Solution Architects – Mobile Apps, Solution Architect, Solution Architect, Senior Software Engineer (NodeJS), Senior Software Test Engineer (Up to 6,000), Senior Java Developer, Software Engineer, Robotics | Up to 9,000, Enterprise Architect, Php developer, Java Developer, Technology Lead - Java/J2EE, Digital Solution Developer (Chatbot/RPA/Web/Mobile Apps), Developer ( Junior Level ), .NET Developer, RPA developer(C#), J2EE Developer, Senior / Lead Consultant, Application (Tibco), Angular/React web developer, Software Developer(Blockchain) / 7k + Bonus, Full Stack Developer/ 7.5K (1 Year Contract renewable), Senior/ DevOps Engineer (BA), Automation Engineer, System and Network, Software Engineer (C# .NET) -  Salary up to 6.5K (1 year Renewable Contract), Dot Net Developer (Pinang,Malaysia), VP / AVP, Modern Stack PCF Developer, Group Middle Office Technology, Technology and Operations, AVP, DevOps Engineer, Technology Services, Technology and Operations, Cloud & Lambda, PHP Developer, VP / AVP, Data Scientist, Investment and Trading Technology, Technology and Operations, PHP Backend Developer, AVP / Senior Associate, eFX MicroServices Developer, Investment and Trading Technology, Technolog..., AVP, AI (Artificial Intelligence) Engineer, IBG Digital, Institutional Banking Group, FRONT END SOFTWARE PROGRAMMER - JUNIOR EXECUTIVE, Java Support, SVP / VP Development Engineer - (Consumer Finance Technology - Engineering Stream (Lead)),  Group..., VP, Specialist Project Management, Group Consumer Banking and Big Data Analytics Technology, Tech..., REACT NATIVE MOBILE APPS DEVELOPER - SENIOR EXECUTIVE, Web Developer, Software Developer - .NET [ID 4074], Sharepoint Developer, Siebel CRM Develoepr, Java Developer, Production Support, C++ Developers, SharePoint Engineer, Hiring for \"Java Developer\", Java Backend Developer, Mobile Application Developer (iOS), FullStack Java Developer, Java Developer, .Net Developer, Hiring for \"IOS Application Developer / IOS Developer\", Software Developer, Software Engineer (Web), Java Developer, .Net Developer /Software Developer, System Analyst (Relocate to Japan), Technical Lead (Malaysia & Japan), IOS Developer, VP / AVP, Full Stack Java Developer, Group Consumer Banking and Big Data Analytics Technology, Te..., Software Engineer (Angular / React), VP / AVP, Development Engineer (Consumer Finance Technology),  Group Consumer Banking and Big Dat...,"
     ]
    },
    {
     "name": "stdout",
     "output_type": "stream",
     "text": [
      " Software Engineers – Dot Net, AVP / Senior Associate, Development Engineer (Consumer Finance Technology - Full-Stack Developer)..., Software Engineers – Go, C, AVP / Senior Associate, Development Engineer (Consumer Finance Technology - Data Science),  Group..., Software QA Tester, Senior Software Developer Java / AngularJS / nodeJS,, \"Software Developer\", Technical Lead, Core Java Developer, Software Developer Software Engineer, Senior PHP Developer - Salary Up To RM 11K, C# . Net Developer, Senior Process Developer-RPA, Team Lead (Mobile + Full stack), Dot Net Developer, \"Test Lead\", Node Js Developer, Senior Java Developer, Dot Net Developer, \"Front End Developer\", FRONT-END WEB DEVELOPER, JavaScript & Html 5, Software Engineer / Senior Software Engineer, Hiring for \"Senior Web Application Developer\", Senior .Net Developer, Dot Net Developer, Senior PHP Developer - Swepit Sdn Bhd, Angular JS, Innovation Full Stack Developer, Angular JS, \"Full Stack Developer\", Application Developer (.Net) Contract- Kelana Jaya/ Kuala Lumpur (Immediate Joiners), Mobile Application Developer(IOS & Android)- contract @ Puchong & Cyberjaya (Immediate Joiners), Java Developer, Java Developer, UI/React Native Developer, Java Developer, .NET Developer, Senior Technical Architect, \"Php developer\" \"php programmer\", Technical Lead, \"Embedded Software Developer\", \"php developer\"\"php programmer\", Java Developer  OR Java programmer, \"Quality Assurance Analyst\", Integration Support Analyst (Gateway), \"Application Consultant\", .Net developer, JAVA - J2EE Software Engineer, Senior Java Developer, Senior Developer (.NET/K2), Software Engineer (Frontend Developer), Software Engineer- Mobile Development, Software Engineer (Backend Developer), Java Developer, .NET Developer, AngularJS Developer, Solutions Developer, .Net Developer, Senior Software Engineer-.Net, \"Software Delivery Manager\", Web Analyst Programmer, .Net Tech Lead, Blue Prism Developer, Java Developer, Java API Developer, Automation Tester, Senior Cloud Engineer, Software Engineer - .Net, Senior Frontend Engineer (ReactJS), Java Developer/ Project with Fortune 500 company/ Attractive Salary in Singapore - JOB_000194, Fico Blaze (Solution Consultant), Informix Developer, Cognizant Technology Solutions - .Net C# Developer - Singapore, API Developer / Lead (with Node.JS experience), Javascript developer, Software Developer (Java, J2EE, AngularJS/ReactJS), Software Development Manager - Core Java and RESTful API experience, Software Engineer, J2EE Technology Lead, Software Engineer - System, Java Technology Lead, Senior .NET Software Engineer, Dot Net Developer (Only for Mandarin speakers), Dot Net Developer ( Mandarin Speaking Only ), Java Developer (API / Microservices), Dot Net Developer, APPLICATION DEVELOPMENTSPECIALIST, Senior Web Developer, Java Developer, Hiring Software Developer SR(Java, Angular, Python, Machine Learning,PostgreSQL), Project Lead, Cybersecurity Risk Specialist, Development Tester, Senior Software Engineer, Sr. Engineering Manager - Software Development, Selenium Automation Test Engineer., Sr .Net Developer ( Chinese only), Software Engineer, Java Developer_2+ yrs contract_Singapore Location_ F2F interview, UI UX Developer (Preferably Chinese Female Candidate), Red Hat OpenShift Consultant, Android Developer (i. Kotlin  ii. Java), Back-End Developer, RPA Developer, Application Developer, Android Developer, .Net Programmer, Backend Engineer, Java Developer, Senior Front End Developer, iOS Engineer, Android Engineer, Angular JS developer, .Net Developer (Senior/ Mid Level) – KL, PJ and Cyberjaya, \"Full Stack Developer\", \"Automation Testing\" (Local Malaysians only), \"Java Developer\"(Local Malaysians ), \"Mobile Application Testing\", \"Senior System Engineer\", \"Build Release Engineer\", UI UX Developer, \"Software Engineer\", VP, Technical Lead, Group Consumer Banking and Big Data Analytics Technology, Technology & Operat..., \"Senior Software Engineer\", SVP / VP, Application Architect (Finance), Middle Office Technology, Technology & Operations, Robotics Engineer/Lead/Architect, \"Java/J2EE Developer/Lead\", Product Engineer, \"Java Developer\", Software Engineer (PHP/Java) (Kuala Lumpur/Selangor), Full Stack Developers Permanent #Kuala Lumpur & Cyberjaya, Java/ J2EE Developer- \"Prefer Malaysians & Expats\", iOS / Andoird Developer - Permanent #Kuala Lumpur (#Malaysians), Java Developer (Junior / Senior), Web / Mobile Developer, \"Frontend\", Senior Front End Engineer, MuleSoft Technology Lead, \"Full Stack Developer\", Junior Software Tester, Web Developer (UI and UX), Software Development Lead, OutSystems developer, Software Developers, Java Software Developers, UX/FED consultant, Test Consultant, UNITY 3D developer ( PERMANENT ), Web Application Development Executive, Senior Software Development Manager, Front End Development, Senior Developer, Splunk Engineer, Auto Functional Tester, iOS developer, Test Analyst, Java Developer, Senior Java Full Stack Developer, Java Developer, \"Senior Software Engineer\", Software Engineering Manager (NodeJS, ReactJS), Fullstack Developer (NodeJS, ReactJS, Golang), Full Stack Developer, ASSISTANT APPLICATION LEAD (.NET) - Singaporean / PR / DP and LTVP Only, SAP Fiori/UI5 Consultant (6 - 12 months), \"Dot Net Developer\", Job opening for Java Big Data Developer @ Cognizant - Singapore, Web Development Engineer (Full Stack), Senior System Engineer, Front End Engineer, QA Engineer (Automation), Perl Developer, .NET Developer, SAP Fiori Consultant 6-12 months Contract with global MNC, API Developer, Firmware Validation Engineer, Senior Firmware Engineer, R&D; Software Developer, C++ Media Server Engineer, Dotnet Developer, Web and API Senior Developer, Java Developer, Full Stack Developer, Java Developer/ Programmer, Software Engineer, Tester, Java Developer, Job opening for Front End React Developer JS & Node JS @ Cognizant - Singapore, Job opening for Java Full stack @ Cognizant - Singapore, Python Developer, Blockchain Developer, iOS developer, Full Stack Web Developer, Mobile Development Engineer, Security Governance Engineer, Machine Learning Developer, Full Stack Developer (Drupal /PHP), CRM Developer, AVP, Application Support Lead, Group Consumer Banking and Big Data Analytics Technology, Technolo..., AVP, Application Support Lead, Group Consumer Banking and Big Data Analytics Technology, Technolo..., Java Developer, JAVA developer, Outsystems professionals, Cloud Infrastructure Architect/ Engineer, Mainframe Developer (Cobol), R&D; Solutions Engineer (Up to 5,000), Senior Software Engineer (Up to 5,000), Embedded Software Engineer (Up to 9,500), Web Programmer  (Up to 5,500), Data Scientist (up to 8,000 + Bonus), Full Stack Developer, Junior Technical Architect (Java /Support Background) Only Singaporean / PR / DP and LTVP, Sr. Java Software Developer (Singaporean / PR / DP / LTVP Only), Java Software Developer (Singaporean / PR / DP / LTVP Only), Lead Tester _ Automation (Android & IOS)_ Singapore (F2F Interview only), IOS Application Developer _1.5 yrs + Contract with Client_ Singapore Location_F2F interview only,\n",
      "\n",
      "\n",
      "\n"
     ]
    }
   ],
   "source": [
    "from __future__ import print_function\n",
    "\n",
    "print(\"Top terms per cluster:\")\n",
    "print()\n",
    "#sort cluster centers by proximity to centroid\n",
    "order_centroids = km.cluster_centers_.argsort()[:, ::-1] \n",
    "\n",
    "for i in range(num_clusters):\n",
    "    print(\"Cluster %d words:\" % i, end='')\n",
    "    \n",
    "    for ind in order_centroids[i, :1]: #replace 6 with n words per cluster\n",
    "        print(' %s' % vocab_frame.ix[terms[ind].split(' ')].values.tolist()[0][0].encode('utf-8', 'ignore'), end=',')\n",
    "    print() #add whitespace\n",
    "    print() #add whitespace\n",
    "    \n",
    "    print(\"Cluster %d titles:\" % i, end='')\n",
    "    for title in frame.ix[i]['title'].values.tolist():\n",
    "        print(' %s,' % title, end='')\n",
    "    print() #add whitespace\n",
    "    print() #add whitespace\n",
    "    \n",
    "print()\n",
    "print()"
   ]
  },
  {
   "cell_type": "code",
   "execution_count": 49,
   "metadata": {},
   "outputs": [],
   "source": [
    "from sklearn.metrics.pairwise import cosine_similarity\n",
    "dist = 1 - cosine_similarity(data2D)"
   ]
  },
  {
   "cell_type": "code",
   "execution_count": 50,
   "metadata": {},
   "outputs": [
    {
     "name": "stdout",
     "output_type": "stream",
     "text": [
      "\n",
      "\n"
     ]
    }
   ],
   "source": [
    "import os  # for os.path.basename\n",
    "\n",
    "import matplotlib.pyplot as plt\n",
    "import matplotlib as mpl\n",
    "\n",
    "from sklearn.manifold import MDS\n",
    "\n",
    "MDS()\n",
    "\n",
    "# convert two components as we're plotting points in a two-dimensional plane\n",
    "# \"precomputed\" because we provide a distance matrix\n",
    "# we will also specify `random_state` so the plot is reproducible.\n",
    "mds = MDS(n_components=2, dissimilarity=\"precomputed\", random_state=1)\n",
    "\n",
    "pos = mds.fit_transform(dist)  # shape (n_components, n_samples)\n",
    "\n",
    "xs, ys = pos[:, 0], pos[:, 1]\n",
    "print()\n",
    "print()"
   ]
  },
  {
   "cell_type": "markdown",
   "metadata": {},
   "source": [
    "Run this to backup kmeans model variable"
   ]
  },
  {
   "cell_type": "code",
   "execution_count": 53,
   "metadata": {},
   "outputs": [],
   "source": [
    "import pickle\n",
    "with open('ys', 'wb') as bf:\n",
    "    pickle.dump(ys, bf)\n",
    "with open('xs', 'wb') as bf:\n",
    "    pickle.dump(xs, bf)"
   ]
  },
  {
   "cell_type": "markdown",
   "metadata": {},
   "source": [
    "Run this to load data variable"
   ]
  },
  {
   "cell_type": "code",
   "execution_count": 1,
   "metadata": {},
   "outputs": [],
   "source": [
    "import pickle\n",
    "with open('ys', 'rb') as lf:\n",
    "    ys = pickle.load(lf)\n",
    "with open('xs', 'rb') as lf:\n",
    "    xs = pickle.load(lf)    "
   ]
  },
  {
   "cell_type": "code",
   "execution_count": 10,
   "metadata": {},
   "outputs": [
    {
     "ename": "NameError",
     "evalue": "name 'cluster_names' is not defined",
     "output_type": "error",
     "traceback": [
      "\u001b[1;31m---------------------------------------------------------------------------\u001b[0m",
      "\u001b[1;31mNameError\u001b[0m                                 Traceback (most recent call last)",
      "\u001b[1;32m<ipython-input-10-1e417c84f39e>\u001b[0m in \u001b[0;36m<module>\u001b[1;34m()\u001b[0m\n\u001b[0;32m     23\u001b[0m \u001b[1;32mfor\u001b[0m \u001b[0mname\u001b[0m\u001b[1;33m,\u001b[0m \u001b[0mgroup\u001b[0m \u001b[1;32min\u001b[0m \u001b[0mgroups\u001b[0m\u001b[1;33m:\u001b[0m\u001b[1;33m\u001b[0m\u001b[0m\n\u001b[0;32m     24\u001b[0m     ax.plot(group.x, group.y, marker='o', linestyle='', ms=12, \n\u001b[1;32m---> 25\u001b[1;33m             \u001b[0mlabel\u001b[0m\u001b[1;33m=\u001b[0m\u001b[0mcluster_names\u001b[0m\u001b[1;33m[\u001b[0m\u001b[0mname\u001b[0m\u001b[1;33m]\u001b[0m\u001b[1;33m,\u001b[0m \u001b[0mcolor\u001b[0m\u001b[1;33m=\u001b[0m\u001b[0mcluster_colors\u001b[0m\u001b[1;33m[\u001b[0m\u001b[0mname\u001b[0m\u001b[1;33m]\u001b[0m\u001b[1;33m,\u001b[0m\u001b[1;33m\u001b[0m\u001b[0m\n\u001b[0m\u001b[0;32m     26\u001b[0m             mec='none')\n\u001b[0;32m     27\u001b[0m     \u001b[0max\u001b[0m\u001b[1;33m.\u001b[0m\u001b[0mset_aspect\u001b[0m\u001b[1;33m(\u001b[0m\u001b[1;34m'auto'\u001b[0m\u001b[1;33m)\u001b[0m\u001b[1;33m\u001b[0m\u001b[0m\n",
      "\u001b[1;31mNameError\u001b[0m: name 'cluster_names' is not defined"
     ]
    },
    {
     "data": {
      "image/png": "[encoded data removed]",
      "text/plain": [
       "<Figure size 1224x648 with 1 Axes>"
      ]
     },
     "metadata": {},
     "output_type": "display_data"
    }
   ],
   "source": [
    "import pandas as pd\n",
    "import matplotlib.pyplot as plt\n",
    "\n",
    "#some ipython magic to show the matplotlib plots inline\n",
    "%matplotlib inline \n",
    "\n",
    "num_of_plots = 500\n",
    "#create data frame that has the result of the MDS plus the cluster numbers and titles\n",
    "df = pd.DataFrame(dict(x=xs[:num_of_plots], y=ys[:num_of_plots], \n",
    "                       label=clusters[:num_of_plots], \n",
    "                       title=job_adverts_title[:num_of_plots]))\n",
    "\n",
    "#group by cluster\n",
    "groups = df.groupby('label')\n",
    "\n",
    "\n",
    "# set up plot\n",
    "fig, ax = plt.subplots(figsize=(17, 9)) # set size\n",
    "ax.margins(0.05) # Optional, just adds 5% padding to the autoscaling\n",
    "\n",
    "#iterate through groups to layer the plot\n",
    "#note that I use the cluster_name and cluster_color dicts with the 'name' lookup to return the appropriate color/label\n",
    "for name, group in groups:\n",
    "    ax.plot(group.x, group.y, marker='o', linestyle='', ms=12, \n",
    "            label=cluster_names[name], color=cluster_colors[name], \n",
    "            mec='none')\n",
    "    ax.set_aspect('auto')\n",
    "    ax.tick_params(\\\n",
    "        axis= 'x',          # changes apply to the x-axis\n",
    "        which='both',      # both major and minor ticks are affected\n",
    "        bottom='off',      # ticks along the bottom edge are off\n",
    "        top='off',         # ticks along the top edge are off\n",
    "        labelbottom='off')\n",
    "    ax.tick_params(\\\n",
    "        axis= 'y',         # changes apply to the y-axis\n",
    "        which='both',      # both major and minor ticks are affected\n",
    "        left='off',      # ticks along the bottom edge are off\n",
    "        top='off',         # ticks along the top edge are off\n",
    "        labelleft='off')\n",
    "    \n",
    "ax.legend(numpoints=1)  #show legend with only 1 point\n",
    "\n",
    "#add label in x,y position with the label as the film title\n",
    "for i in range(len(df)):\n",
    "    ax.text(df.ix[i]['x'], df.ix[i]['y'], df.ix[i]['title'], size=8)  \n",
    "\n",
    "    \n",
    "    \n",
    "plt.show() #show the plot\n",
    "\n",
    "#uncomment the below to save the plot if need be\n",
    "#plt.savefig('clusters_small_noaxes.png', dpi=200)"
   ]
  },
  {
   "cell_type": "code",
   "execution_count": 12,
   "metadata": {},
   "outputs": [],
   "source": [
    "import pandas as pd\n",
    "import matplotlib.pyplot as plt\n",
    "import mpld3\n",
    "\n",
    "#define custom toolbar location\n",
    "class TopToolbar(mpld3.plugins.PluginBase):\n",
    "    \"\"\"Plugin for moving toolbar to top of figure\"\"\"\n",
    "\n",
    "    JAVASCRIPT = \"\"\"\n",
    "    mpld3.register_plugin(\"toptoolbar\", TopToolbar);\n",
    "    TopToolbar.prototype = Object.create(mpld3.Plugin.prototype);\n",
    "    TopToolbar.prototype.constructor = TopToolbar;\n",
    "    function TopToolbar(fig, props){\n",
    "        mpld3.Plugin.call(this, fig, props);\n",
    "    };\n",
    "\n",
    "    TopToolbar.prototype.draw = function(){\n",
    "      // the toolbar svg doesn't exist\n",
    "      // yet, so first draw it\n",
    "      this.fig.toolbar.draw();\n",
    "\n",
    "      // then change the y position to be\n",
    "      // at the top of the figure\n",
    "      this.fig.toolbar.toolbar.attr(\"x\", 150);\n",
    "      this.fig.toolbar.toolbar.attr(\"y\", 400);\n",
    "\n",
    "      // then remove the draw function,\n",
    "      // so that it is not called again\n",
    "      this.fig.toolbar.draw = function() {}\n",
    "    }\n",
    "    \"\"\"\n",
    "    def __init__(self):\n",
    "        self.dict_ = {\"type\": \"toptoolbar\"}"
   ]
  },
  {
   "cell_type": "code",
   "execution_count": 20,
   "metadata": {},
   "outputs": [
    {
     "data": {
      "text/html": [
       "\n",
       "\n",
       "<style>\n",
       "\n",
       "text.mpld3-text, div.mpld3-tooltip {\n",
       "  font-family:Arial, Helvetica, sans-serif;\n",
       "}\n",
       "\n",
       "g.mpld3-xaxis, g.mpld3-yaxis {\n",
       "display: none; }\n",
       "\n",
       "svg.mpld3-figure {\n",
       "margin-left: -100px;\n",
       "}\n",
       "\n",
       "\n",
       "text.mpld3-text, div.mpld3-tooltip {\n",
       "  font-family:Arial, Helvetica, sans-serif;\n",
       "}\n",
       "\n",
       "g.mpld3-xaxis, g.mpld3-yaxis {\n",
       "display: none; }\n",
       "\n",
       "svg.mpld3-figure {\n",
       "margin-left: -100px;\n",
       "}\n",
       "\n",
       "\n",
       "text.mpld3-text, div.mpld3-tooltip {\n",
       "  font-family:Arial, Helvetica, sans-serif;\n",
       "}\n",
       "\n",
       "g.mpld3-xaxis, g.mpld3-yaxis {\n",
       "display: none; }\n",
       "\n",
       "svg.mpld3-figure {\n",
       "margin-left: -100px;\n",
       "}\n",
       "\n",
       "\n",
       "text.mpld3-text, div.mpld3-tooltip {\n",
       "  font-family:Arial, Helvetica, sans-serif;\n",
       "}\n",
       "\n",
       "g.mpld3-xaxis, g.mpld3-yaxis {\n",
       "display: none; }\n",
       "\n",
       "svg.mpld3-figure {\n",
       "margin-left: -100px;\n",
       "}\n",
       "\n",
       "\n",
       "text.mpld3-text, div.mpld3-tooltip {\n",
       "  font-family:Arial, Helvetica, sans-serif;\n",
       "}\n",
       "\n",
       "g.mpld3-xaxis, g.mpld3-yaxis {\n",
       "display: none; }\n",
       "\n",
       "svg.mpld3-figure {\n",
       "margin-left: -100px;\n",
       "}\n",
       "\n",
       "\n",
       "</style>\n",
       "\n",
       "<div id=\"fig_el557225895147717046976085338\"></div>\n",
       "<script>\n",
       "function mpld3_load_lib(url, callback){\n",
       "  var s = document.createElement('script');\n",
       "  s.src = url;\n",
       "  s.async = true;\n",
       "  s.onreadystatechange = s.onload = callback;\n",
       "  s.onerror = function(){console.warn(\"failed to load library \" + url);};\n",
       "  document.getElementsByTagName(\"head\")[0].appendChild(s);\n",
       "}\n",
       "\n",
       "if(typeof(mpld3) !== \"undefined\" && mpld3._mpld3IsLoaded){\n",
       "   // already loaded: just create the figure\n",
       "   !function(mpld3){\n",
       "       \n",
       "    mpld3.register_plugin(\"htmltooltip\", HtmlTooltipPlugin);\n",
       "    HtmlTooltipPlugin.prototype = Object.create(mpld3.Plugin.prototype);\n",
       "    HtmlTooltipPlugin.prototype.constructor = HtmlTooltipPlugin;\n",
       "    HtmlTooltipPlugin.prototype.requiredProps = [\"id\"];\n",
       "    HtmlTooltipPlugin.prototype.defaultProps = {labels:null,\n",
       "                                                hoffset:0,\n",
       "                                                voffset:10};\n",
       "    function HtmlTooltipPlugin(fig, props){\n",
       "        mpld3.Plugin.call(this, fig, props);\n",
       "    };\n",
       "\n",
       "    HtmlTooltipPlugin.prototype.draw = function(){\n",
       "       var obj = mpld3.get_element(this.props.id);\n",
       "       var labels = this.props.labels;\n",
       "       var tooltip = d3.select(\"body\").append(\"div\")\n",
       "                    .attr(\"class\", \"mpld3-tooltip\")\n",
       "                    .style(\"position\", \"absolute\")\n",
       "                    .style(\"z-index\", \"10\")\n",
       "                    .style(\"visibility\", \"hidden\");\n",
       "\n",
       "       obj.elements()\n",
       "           .on(\"mouseover\", function(d, i){\n",
       "                              tooltip.html(labels[i])\n",
       "                                     .style(\"visibility\", \"visible\");})\n",
       "           .on(\"mousemove\", function(d, i){\n",
       "                  tooltip\n",
       "                    .style(\"top\", d3.event.pageY + this.props.voffset + \"px\")\n",
       "                    .style(\"left\",d3.event.pageX + this.props.hoffset + \"px\");\n",
       "                 }.bind(this))\n",
       "           .on(\"mouseout\",  function(d, i){\n",
       "                           tooltip.style(\"visibility\", \"hidden\");});\n",
       "    };\n",
       "    \n",
       "    mpld3.register_plugin(\"toptoolbar\", TopToolbar);\n",
       "    TopToolbar.prototype = Object.create(mpld3.Plugin.prototype);\n",
       "    TopToolbar.prototype.constructor = TopToolbar;\n",
       "    function TopToolbar(fig, props){\n",
       "        mpld3.Plugin.call(this, fig, props);\n",
       "    };\n",
       "\n",
       "    TopToolbar.prototype.draw = function(){\n",
       "      // the toolbar svg doesn't exist\n",
       "      // yet, so first draw it\n",
       "      this.fig.toolbar.draw();\n",
       "\n",
       "      // then change the y position to be\n",
       "      // at the top of the figure\n",
       "      this.fig.toolbar.toolbar.attr(\"x\", 150);\n",
       "      this.fig.toolbar.toolbar.attr(\"y\", 400);\n",
       "\n",
       "      // then remove the draw function,\n",
       "      // so that it is not called again\n",
       "      this.fig.toolbar.draw = function() {}\n",
       "    }\n",
       "    \n",
       "    mpld3.register_plugin(\"htmltooltip\", HtmlTooltipPlugin);\n",
       "    HtmlTooltipPlugin.prototype = Object.create(mpld3.Plugin.prototype);\n",
       "    HtmlTooltipPlugin.prototype.constructor = HtmlTooltipPlugin;\n",
       "    HtmlTooltipPlugin.prototype.requiredProps = [\"id\"];\n",
       "    HtmlTooltipPlugin.prototype.defaultProps = {labels:null,\n",
       "                                                hoffset:0,\n",
       "                                                voffset:10};\n",
       "    function HtmlTooltipPlugin(fig, props){\n",
       "        mpld3.Plugin.call(this, fig, props);\n",
       "    };\n",
       "\n",
       "    HtmlTooltipPlugin.prototype.draw = function(){\n",
       "       var obj = mpld3.get_element(this.props.id);\n",
       "       var labels = this.props.labels;\n",
       "       var tooltip = d3.select(\"body\").append(\"div\")\n",
       "                    .attr(\"class\", \"mpld3-tooltip\")\n",
       "                    .style(\"position\", \"absolute\")\n",
       "                    .style(\"z-index\", \"10\")\n",
       "                    .style(\"visibility\", \"hidden\");\n",
       "\n",
       "       obj.elements()\n",
       "           .on(\"mouseover\", function(d, i){\n",
       "                              tooltip.html(labels[i])\n",
       "                                     .style(\"visibility\", \"visible\");})\n",
       "           .on(\"mousemove\", function(d, i){\n",
       "                  tooltip\n",
       "                    .style(\"top\", d3.event.pageY + this.props.voffset + \"px\")\n",
       "                    .style(\"left\",d3.event.pageX + this.props.hoffset + \"px\");\n",
       "                 }.bind(this))\n",
       "           .on(\"mouseout\",  function(d, i){\n",
       "                           tooltip.style(\"visibility\", \"hidden\");});\n",
       "    };\n",
       "    \n",
       "    mpld3.register_plugin(\"toptoolbar\", TopToolbar);\n",
       "    TopToolbar.prototype = Object.create(mpld3.Plugin.prototype);\n",
       "    TopToolbar.prototype.constructor = TopToolbar;\n",
       "    function TopToolbar(fig, props){\n",
       "        mpld3.Plugin.call(this, fig, props);\n",
       "    };\n",
       "\n",
       "    TopToolbar.prototype.draw = function(){\n",
       "      // the toolbar svg doesn't exist\n",
       "      // yet, so first draw it\n",
       "      this.fig.toolbar.draw();\n",
       "\n",
       "      // then change the y position to be\n",
       "      // at the top of the figure\n",
       "      this.fig.toolbar.toolbar.attr(\"x\", 150);\n",
       "      this.fig.toolbar.toolbar.attr(\"y\", 400);\n",
       "\n",
       "      // then remove the draw function,\n",
       "      // so that it is not called again\n",
       "      this.fig.toolbar.draw = function() {}\n",
       "    }\n",
       "    \n",
       "    mpld3.register_plugin(\"htmltooltip\", HtmlTooltipPlugin);\n",
       "    HtmlTooltipPlugin.prototype = Object.create(mpld3.Plugin.prototype);\n",
       "    HtmlTooltipPlugin.prototype.constructor = HtmlTooltipPlugin;\n",
       "    HtmlTooltipPlugin.prototype.requiredProps = [\"id\"];\n",
       "    HtmlTooltipPlugin.prototype.defaultProps = {labels:null,\n",
       "                                                hoffset:0,\n",
       "                                                voffset:10};\n",
       "    function HtmlTooltipPlugin(fig, props){\n",
       "        mpld3.Plugin.call(this, fig, props);\n",
       "    };\n",
       "\n",
       "    HtmlTooltipPlugin.prototype.draw = function(){\n",
       "       var obj = mpld3.get_element(this.props.id);\n",
       "       var labels = this.props.labels;\n",
       "       var tooltip = d3.select(\"body\").append(\"div\")\n",
       "                    .attr(\"class\", \"mpld3-tooltip\")\n",
       "                    .style(\"position\", \"absolute\")\n",
       "                    .style(\"z-index\", \"10\")\n",
       "                    .style(\"visibility\", \"hidden\");\n",
       "\n",
       "       obj.elements()\n",
       "           .on(\"mouseover\", function(d, i){\n",
       "                              tooltip.html(labels[i])\n",
       "                                     .style(\"visibility\", \"visible\");})\n",
       "           .on(\"mousemove\", function(d, i){\n",
       "                  tooltip\n",
       "                    .style(\"top\", d3.event.pageY + this.props.voffset + \"px\")\n",
       "                    .style(\"left\",d3.event.pageX + this.props.hoffset + \"px\");\n",
       "                 }.bind(this))\n",
       "           .on(\"mouseout\",  function(d, i){\n",
       "                           tooltip.style(\"visibility\", \"hidden\");});\n",
       "    };\n",
       "    \n",
       "    mpld3.register_plugin(\"toptoolbar\", TopToolbar);\n",
       "    TopToolbar.prototype = Object.create(mpld3.Plugin.prototype);\n",
       "    TopToolbar.prototype.constructor = TopToolbar;\n",
       "    function TopToolbar(fig, props){\n",
       "        mpld3.Plugin.call(this, fig, props);\n",
       "    };\n",
       "\n",
       "    TopToolbar.prototype.draw = function(){\n",
       "      // the toolbar svg doesn't exist\n",
       "      // yet, so first draw it\n",
       "      this.fig.toolbar.draw();\n",
       "\n",
       "      // then change the y position to be\n",
       "      // at the top of the figure\n",
       "      this.fig.toolbar.toolbar.attr(\"x\", 150);\n",
       "      this.fig.toolbar.toolbar.attr(\"y\", 400);\n",
       "\n",
       "      // then remove the draw function,\n",
       "      // so that it is not called again\n",
       "      this.fig.toolbar.draw = function() {}\n",
       "    }\n",
       "    \n",
       "    mpld3.register_plugin(\"htmltooltip\", HtmlTooltipPlugin);\n",
       "    HtmlTooltipPlugin.prototype = Object.create(mpld3.Plugin.prototype);\n",
       "    HtmlTooltipPlugin.prototype.constructor = HtmlTooltipPlugin;\n",
       "    HtmlTooltipPlugin.prototype.requiredProps = [\"id\"];\n",
       "    HtmlTooltipPlugin.prototype.defaultProps = {labels:null,\n",
       "                                                hoffset:0,\n",
       "                                                voffset:10};\n",
       "    function HtmlTooltipPlugin(fig, props){\n",
       "        mpld3.Plugin.call(this, fig, props);\n",
       "    };\n",
       "\n",
       "    HtmlTooltipPlugin.prototype.draw = function(){\n",
       "       var obj = mpld3.get_element(this.props.id);\n",
       "       var labels = this.props.labels;\n",
       "       var tooltip = d3.select(\"body\").append(\"div\")\n",
       "                    .attr(\"class\", \"mpld3-tooltip\")\n",
       "                    .style(\"position\", \"absolute\")\n",
       "                    .style(\"z-index\", \"10\")\n",
       "                    .style(\"visibility\", \"hidden\");\n",
       "\n",
       "       obj.elements()\n",
       "           .on(\"mouseover\", function(d, i){\n",
       "                              tooltip.html(labels[i])\n",
       "                                     .style(\"visibility\", \"visible\");})\n",
       "           .on(\"mousemove\", function(d, i){\n",
       "                  tooltip\n",
       "                    .style(\"top\", d3.event.pageY + this.props.voffset + \"px\")\n",
       "                    .style(\"left\",d3.event.pageX + this.props.hoffset + \"px\");\n",
       "                 }.bind(this))\n",
       "           .on(\"mouseout\",  function(d, i){\n",
       "                           tooltip.style(\"visibility\", \"hidden\");});\n",
       "    };\n",
       "    \n",
       "    mpld3.register_plugin(\"toptoolbar\", TopToolbar);\n",
       "    TopToolbar.prototype = Object.create(mpld3.Plugin.prototype);\n",
       "    TopToolbar.prototype.constructor = TopToolbar;\n",
       "    function TopToolbar(fig, props){\n",
       "        mpld3.Plugin.call(this, fig, props);\n",
       "    };\n",
       "\n",
       "    TopToolbar.prototype.draw = function(){\n",
       "      // the toolbar svg doesn't exist\n",
       "      // yet, so first draw it\n",
       "      this.fig.toolbar.draw();\n",
       "\n",
       "      // then change the y position to be\n",
       "      // at the top of the figure\n",
       "      this.fig.toolbar.toolbar.attr(\"x\", 150);\n",
       "      this.fig.toolbar.toolbar.attr(\"y\", 400);\n",
       "\n",
       "      // then remove the draw function,\n",
       "      // so that it is not called again\n",
       "      this.fig.toolbar.draw = function() {}\n",
       "    }\n",
       "    \n",
       "    mpld3.register_plugin(\"htmltooltip\", HtmlTooltipPlugin);\n",
       "    HtmlTooltipPlugin.prototype = Object.create(mpld3.Plugin.prototype);\n",
       "    HtmlTooltipPlugin.prototype.constructor = HtmlTooltipPlugin;\n",
       "    HtmlTooltipPlugin.prototype.requiredProps = [\"id\"];\n",
       "    HtmlTooltipPlugin.prototype.defaultProps = {labels:null,\n",
       "                                                hoffset:0,\n",
       "                                                voffset:10};\n",
       "    function HtmlTooltipPlugin(fig, props){\n",
       "        mpld3.Plugin.call(this, fig, props);\n",
       "    };\n",
       "\n",
       "    HtmlTooltipPlugin.prototype.draw = function(){\n",
       "       var obj = mpld3.get_element(this.props.id);\n",
       "       var labels = this.props.labels;\n",
       "       var tooltip = d3.select(\"body\").append(\"div\")\n",
       "                    .attr(\"class\", \"mpld3-tooltip\")\n",
       "                    .style(\"position\", \"absolute\")\n",
       "                    .style(\"z-index\", \"10\")\n",
       "                    .style(\"visibility\", \"hidden\");\n",
       "\n",
       "       obj.elements()\n",
       "           .on(\"mouseover\", function(d, i){\n",
       "                              tooltip.html(labels[i])\n",
       "                                     .style(\"visibility\", \"visible\");})\n",
       "           .on(\"mousemove\", function(d, i){\n",
       "                  tooltip\n",
       "                    .style(\"top\", d3.event.pageY + this.props.voffset + \"px\")\n",
       "                    .style(\"left\",d3.event.pageX + this.props.hoffset + \"px\");\n",
       "                 }.bind(this))\n",
       "           .on(\"mouseout\",  function(d, i){\n",
       "                           tooltip.style(\"visibility\", \"hidden\");});\n",
       "    };\n",
       "    \n",
       "    mpld3.register_plugin(\"toptoolbar\", TopToolbar);\n",
       "    TopToolbar.prototype = Object.create(mpld3.Plugin.prototype);\n",
       "    TopToolbar.prototype.constructor = TopToolbar;\n",
       "    function TopToolbar(fig, props){\n",
       "        mpld3.Plugin.call(this, fig, props);\n",
       "    };\n",
       "\n",
       "    TopToolbar.prototype.draw = function(){\n",
       "      // the toolbar svg doesn't exist\n",
       "      // yet, so first draw it\n",
       "      this.fig.toolbar.draw();\n",
       "\n",
       "      // then change the y position to be\n",
       "      // at the top of the figure\n",
       "      this.fig.toolbar.toolbar.attr(\"x\", 150);\n",
       "      this.fig.toolbar.toolbar.attr(\"y\", 400);\n",
       "\n",
       "      // then remove the draw function,\n",
       "      // so that it is not called again\n",
       "      this.fig.toolbar.draw = function() {}\n",
       "    }\n",
       "    \n",
       "       mpld3.draw_figure(\"fig_el557225895147717046976085338\", {\"width\": 1008.0, \"height\": 432.0, \"axes\": [{\"bbox\": [0.125, 0.125, 0.775, 0.755], \"xlim\": [-0.4678096720913266, 0.31607620901662287], \"ylim\": [-0.40056334129793303, 0.46586343301200817], \"xdomain\": [-0.4678096720913266, 0.31607620901662287], \"ydomain\": [-0.40056334129793303, 0.46586343301200817], \"xscale\": \"linear\", \"yscale\": \"linear\", \"axes\": [{\"position\": \"bottom\", \"nticks\": 0, \"tickvalues\": [], \"tickformat\": \"\", \"scale\": \"linear\", \"fontsize\": null, \"grid\": {\"gridOn\": false}, \"visible\": false}, {\"position\": \"left\", \"nticks\": 0, \"tickvalues\": [], \"tickformat\": \"\", \"scale\": \"linear\", \"fontsize\": null, \"grid\": {\"gridOn\": false}, \"visible\": false}], \"axesbg\": \"#FFFFFF\", \"axesbgalpha\": null, \"zoomable\": true, \"id\": \"el55722589518792464\", \"lines\": [], \"paths\": [{\"data\": \"data07\", \"xindex\": 0, \"yindex\": 1, \"coordinates\": \"axes\", \"pathcodes\": [\"M\", \"L\", \"S\", \"L\", \"S\", \"L\", \"S\", \"L\", \"S\", \"Z\"], \"id\": \"el55722589519008656\", \"dasharray\": \"none\", \"alpha\": 0.8, \"facecolor\": \"#FFFFFF\", \"edgecolor\": \"#CCCCCC\", \"edgewidth\": 1.0, \"zorder\": 1000000.0}], \"markers\": [{\"data\": \"data01\", \"xindex\": 0, \"yindex\": 1, \"coordinates\": \"data\", \"id\": \"el55722589516805792pts\", \"facecolor\": \"#950080\", \"edgecolor\": \"none\", \"edgewidth\": 1.0, \"alpha\": 1, \"zorder\": 2, \"markerpath\": [[[0.0, 3.5], [0.9282108500000001, 3.5], [1.8185295477469872, 3.131217920558846], [2.4748737341529163, 2.4748737341529163], [3.131217920558846, 1.8185295477469872], [3.5, 0.9282108500000001], [3.5, 0.0], [3.5, -0.9282108500000001], [3.131217920558846, -1.8185295477469872], [2.4748737341529163, -2.4748737341529163], [1.8185295477469872, -3.131217920558846], [0.9282108500000001, -3.5], [0.0, -3.5], [-0.9282108500000001, -3.5], [-1.8185295477469872, -3.131217920558846], [-2.4748737341529163, -2.4748737341529163], [-3.131217920558846, -1.8185295477469872], [-3.5, -0.9282108500000001], [-3.5, 0.0], [-3.5, 0.9282108500000001], [-3.131217920558846, 1.8185295477469872], [-2.4748737341529163, 2.4748737341529163], [-1.8185295477469872, 3.131217920558846], [-0.9282108500000001, 3.5], [0.0, 3.5]], [\"M\", \"C\", \"C\", \"C\", \"C\", \"C\", \"C\", \"C\", \"C\", \"Z\"]]}, {\"data\": \"data02\", \"xindex\": 0, \"yindex\": 1, \"coordinates\": \"data\", \"id\": \"el55722589519008824pts\", \"facecolor\": \"#DB3F9F\", \"edgecolor\": \"none\", \"edgewidth\": 1.0, \"alpha\": 1, \"zorder\": 2, \"markerpath\": [[[0.0, 3.5], [0.9282108500000001, 3.5], [1.8185295477469872, 3.131217920558846], [2.4748737341529163, 2.4748737341529163], [3.131217920558846, 1.8185295477469872], [3.5, 0.9282108500000001], [3.5, 0.0], [3.5, -0.9282108500000001], [3.131217920558846, -1.8185295477469872], [2.4748737341529163, -2.4748737341529163], [1.8185295477469872, -3.131217920558846], [0.9282108500000001, -3.5], [0.0, -3.5], [-0.9282108500000001, -3.5], [-1.8185295477469872, -3.131217920558846], [-2.4748737341529163, -2.4748737341529163], [-3.131217920558846, -1.8185295477469872], [-3.5, -0.9282108500000001], [-3.5, 0.0], [-3.5, 0.9282108500000001], [-3.131217920558846, 1.8185295477469872], [-2.4748737341529163, 2.4748737341529163], [-1.8185295477469872, 3.131217920558846], [-0.9282108500000001, 3.5], [0.0, 3.5]], [\"M\", \"C\", \"C\", \"C\", \"C\", \"C\", \"C\", \"C\", \"C\", \"Z\"]]}, {\"data\": \"data03\", \"xindex\": 0, \"yindex\": 1, \"coordinates\": \"data\", \"id\": \"el55722589516807136pts\", \"facecolor\": \"#A27159\", \"edgecolor\": \"none\", \"edgewidth\": 1.0, \"alpha\": 1, \"zorder\": 2, \"markerpath\": [[[0.0, 3.5], [0.9282108500000001, 3.5], [1.8185295477469872, 3.131217920558846], [2.4748737341529163, 2.4748737341529163], [3.131217920558846, 1.8185295477469872], [3.5, 0.9282108500000001], [3.5, 0.0], [3.5, -0.9282108500000001], [3.131217920558846, -1.8185295477469872], [2.4748737341529163, -2.4748737341529163], [1.8185295477469872, -3.131217920558846], [0.9282108500000001, -3.5], [0.0, -3.5], [-0.9282108500000001, -3.5], [-1.8185295477469872, -3.131217920558846], [-2.4748737341529163, -2.4748737341529163], [-3.131217920558846, -1.8185295477469872], [-3.5, -0.9282108500000001], [-3.5, 0.0], [-3.5, 0.9282108500000001], [-3.131217920558846, 1.8185295477469872], [-2.4748737341529163, 2.4748737341529163], [-1.8185295477469872, 3.131217920558846], [-0.9282108500000001, 3.5], [0.0, 3.5]], [\"M\", \"C\", \"C\", \"C\", \"C\", \"C\", \"C\", \"C\", \"C\", \"Z\"]]}, {\"data\": \"data04\", \"xindex\": 0, \"yindex\": 1, \"coordinates\": \"data\", \"id\": \"el55722589518913720pts\", \"facecolor\": \"#BBBA18\", \"edgecolor\": \"none\", \"edgewidth\": 1.0, \"alpha\": 1, \"zorder\": 2, \"markerpath\": [[[0.0, 3.5], [0.9282108500000001, 3.5], [1.8185295477469872, 3.131217920558846], [2.4748737341529163, 2.4748737341529163], [3.131217920558846, 1.8185295477469872], [3.5, 0.9282108500000001], [3.5, 0.0], [3.5, -0.9282108500000001], [3.131217920558846, -1.8185295477469872], [2.4748737341529163, -2.4748737341529163], [1.8185295477469872, -3.131217920558846], [0.9282108500000001, -3.5], [0.0, -3.5], [-0.9282108500000001, -3.5], [-1.8185295477469872, -3.131217920558846], [-2.4748737341529163, -2.4748737341529163], [-3.131217920558846, -1.8185295477469872], [-3.5, -0.9282108500000001], [-3.5, 0.0], [-3.5, 0.9282108500000001], [-3.131217920558846, 1.8185295477469872], [-2.4748737341529163, 2.4748737341529163], [-1.8185295477469872, 3.131217920558846], [-0.9282108500000001, 3.5], [0.0, 3.5]], [\"M\", \"C\", \"C\", \"C\", \"C\", \"C\", \"C\", \"C\", \"C\", \"Z\"]]}, {\"data\": \"data05\", \"xindex\": 0, \"yindex\": 1, \"coordinates\": \"data\", \"id\": \"el55722589516834688pts\", \"facecolor\": \"#5F1042\", \"edgecolor\": \"none\", \"edgewidth\": 1.0, \"alpha\": 1, \"zorder\": 2, \"markerpath\": [[[0.0, 3.5], [0.9282108500000001, 3.5], [1.8185295477469872, 3.131217920558846], [2.4748737341529163, 2.4748737341529163], [3.131217920558846, 1.8185295477469872], [3.5, 0.9282108500000001], [3.5, 0.0], [3.5, -0.9282108500000001], [3.131217920558846, -1.8185295477469872], [2.4748737341529163, -2.4748737341529163], [1.8185295477469872, -3.131217920558846], [0.9282108500000001, -3.5], [0.0, -3.5], [-0.9282108500000001, -3.5], [-1.8185295477469872, -3.131217920558846], [-2.4748737341529163, -2.4748737341529163], [-3.131217920558846, -1.8185295477469872], [-3.5, -0.9282108500000001], [-3.5, 0.0], [-3.5, 0.9282108500000001], [-3.131217920558846, 1.8185295477469872], [-2.4748737341529163, 2.4748737341529163], [-1.8185295477469872, 3.131217920558846], [-0.9282108500000001, 3.5], [0.0, 3.5]], [\"M\", \"C\", \"C\", \"C\", \"C\", \"C\", \"C\", \"C\", \"C\", \"Z\"]]}, {\"data\": \"data06\", \"xindex\": 0, \"yindex\": 1, \"coordinates\": \"axes\", \"id\": \"el55722589519081656pts\", \"facecolor\": \"#950080\", \"edgecolor\": \"none\", \"edgewidth\": 1.0, \"alpha\": 1, \"zorder\": 1000002.0, \"markerpath\": [[[0.0, 3.5], [0.9282108500000001, 3.5], [1.8185295477469872, 3.131217920558846], [2.4748737341529163, 2.4748737341529163], [3.131217920558846, 1.8185295477469872], [3.5, 0.9282108500000001], [3.5, 0.0], [3.5, -0.9282108500000001], [3.131217920558846, -1.8185295477469872], [2.4748737341529163, -2.4748737341529163], [1.8185295477469872, -3.131217920558846], [0.9282108500000001, -3.5], [0.0, -3.5], [-0.9282108500000001, -3.5], [-1.8185295477469872, -3.131217920558846], [-2.4748737341529163, -2.4748737341529163], [-3.131217920558846, -1.8185295477469872], [-3.5, -0.9282108500000001], [-3.5, 0.0], [-3.5, 0.9282108500000001], [-3.131217920558846, 1.8185295477469872], [-2.4748737341529163, 2.4748737341529163], [-1.8185295477469872, 3.131217920558846], [-0.9282108500000001, 3.5], [0.0, 3.5]], [\"M\", \"C\", \"C\", \"C\", \"C\", \"C\", \"C\", \"C\", \"C\", \"Z\"]]}, {\"data\": \"data06\", \"xindex\": 0, \"yindex\": 2, \"coordinates\": \"axes\", \"id\": \"el55722589519083168pts\", \"facecolor\": \"#DB3F9F\", \"edgecolor\": \"none\", \"edgewidth\": 1.0, \"alpha\": 1, \"zorder\": 1000002.0, \"markerpath\": [[[0.0, 3.5], [0.9282108500000001, 3.5], [1.8185295477469872, 3.131217920558846], [2.4748737341529163, 2.4748737341529163], [3.131217920558846, 1.8185295477469872], [3.5, 0.9282108500000001], [3.5, 0.0], [3.5, -0.9282108500000001], [3.131217920558846, -1.8185295477469872], [2.4748737341529163, -2.4748737341529163], [1.8185295477469872, -3.131217920558846], [0.9282108500000001, -3.5], [0.0, -3.5], [-0.9282108500000001, -3.5], [-1.8185295477469872, -3.131217920558846], [-2.4748737341529163, -2.4748737341529163], [-3.131217920558846, -1.8185295477469872], [-3.5, -0.9282108500000001], [-3.5, 0.0], [-3.5, 0.9282108500000001], [-3.131217920558846, 1.8185295477469872], [-2.4748737341529163, 2.4748737341529163], [-1.8185295477469872, 3.131217920558846], [-0.9282108500000001, 3.5], [0.0, 3.5]], [\"M\", \"C\", \"C\", \"C\", \"C\", \"C\", \"C\", \"C\", \"C\", \"Z\"]]}, {\"data\": \"data06\", \"xindex\": 0, \"yindex\": 3, \"coordinates\": \"axes\", \"id\": \"el55722589519084680pts\", \"facecolor\": \"#A27159\", \"edgecolor\": \"none\", \"edgewidth\": 1.0, \"alpha\": 1, \"zorder\": 1000002.0, \"markerpath\": [[[0.0, 3.5], [0.9282108500000001, 3.5], [1.8185295477469872, 3.131217920558846], [2.4748737341529163, 2.4748737341529163], [3.131217920558846, 1.8185295477469872], [3.5, 0.9282108500000001], [3.5, 0.0], [3.5, -0.9282108500000001], [3.131217920558846, -1.8185295477469872], [2.4748737341529163, -2.4748737341529163], [1.8185295477469872, -3.131217920558846], [0.9282108500000001, -3.5], [0.0, -3.5], [-0.9282108500000001, -3.5], [-1.8185295477469872, -3.131217920558846], [-2.4748737341529163, -2.4748737341529163], [-3.131217920558846, -1.8185295477469872], [-3.5, -0.9282108500000001], [-3.5, 0.0], [-3.5, 0.9282108500000001], [-3.131217920558846, 1.8185295477469872], [-2.4748737341529163, 2.4748737341529163], [-1.8185295477469872, 3.131217920558846], [-0.9282108500000001, 3.5], [0.0, 3.5]], [\"M\", \"C\", \"C\", \"C\", \"C\", \"C\", \"C\", \"C\", \"C\", \"Z\"]]}, {\"data\": \"data06\", \"xindex\": 0, \"yindex\": 4, \"coordinates\": \"axes\", \"id\": \"el55722589519119024pts\", \"facecolor\": \"#BBBA18\", \"edgecolor\": \"none\", \"edgewidth\": 1.0, \"alpha\": 1, \"zorder\": 1000002.0, \"markerpath\": [[[0.0, 3.5], [0.9282108500000001, 3.5], [1.8185295477469872, 3.131217920558846], [2.4748737341529163, 2.4748737341529163], [3.131217920558846, 1.8185295477469872], [3.5, 0.9282108500000001], [3.5, 0.0], [3.5, -0.9282108500000001], [3.131217920558846, -1.8185295477469872], [2.4748737341529163, -2.4748737341529163], [1.8185295477469872, -3.131217920558846], [0.9282108500000001, -3.5], [0.0, -3.5], [-0.9282108500000001, -3.5], [-1.8185295477469872, -3.131217920558846], [-2.4748737341529163, -2.4748737341529163], [-3.131217920558846, -1.8185295477469872], [-3.5, -0.9282108500000001], [-3.5, 0.0], [-3.5, 0.9282108500000001], [-3.131217920558846, 1.8185295477469872], [-2.4748737341529163, 2.4748737341529163], [-1.8185295477469872, 3.131217920558846], [-0.9282108500000001, 3.5], [0.0, 3.5]], [\"M\", \"C\", \"C\", \"C\", \"C\", \"C\", \"C\", \"C\", \"C\", \"Z\"]]}, {\"data\": \"data06\", \"xindex\": 0, \"yindex\": 5, \"coordinates\": \"axes\", \"id\": \"el55722589519120536pts\", \"facecolor\": \"#5F1042\", \"edgecolor\": \"none\", \"edgewidth\": 1.0, \"alpha\": 1, \"zorder\": 1000002.0, \"markerpath\": [[[0.0, 3.5], [0.9282108500000001, 3.5], [1.8185295477469872, 3.131217920558846], [2.4748737341529163, 2.4748737341529163], [3.131217920558846, 1.8185295477469872], [3.5, 0.9282108500000001], [3.5, 0.0], [3.5, -0.9282108500000001], [3.131217920558846, -1.8185295477469872], [2.4748737341529163, -2.4748737341529163], [1.8185295477469872, -3.131217920558846], [0.9282108500000001, -3.5], [0.0, -3.5], [-0.9282108500000001, -3.5], [-1.8185295477469872, -3.131217920558846], [-2.4748737341529163, -2.4748737341529163], [-3.131217920558846, -1.8185295477469872], [-3.5, -0.9282108500000001], [-3.5, 0.0], [-3.5, 0.9282108500000001], [-3.131217920558846, 1.8185295477469872], [-2.4748737341529163, 2.4748737341529163], [-1.8185295477469872, 3.131217920558846], [-0.9282108500000001, 3.5], [0.0, 3.5]], [\"M\", \"C\", \"C\", \"C\", \"C\", \"C\", \"C\", \"C\", \"C\", \"Z\"]]}], \"texts\": [{\"text\": \"Concept 0\", \"position\": [0.04736303123399899, 0.9478783419180772], \"coordinates\": \"axes\", \"h_anchor\": \"start\", \"v_baseline\": \"auto\", \"rotation\": -0.0, \"fontsize\": 10.0, \"color\": \"#000000\", \"alpha\": 1, \"zorder\": 1000003.0, \"id\": \"el55722589519010392\"}, {\"text\": \"Concept 1\", \"position\": [0.04736303123399899, 0.901888643610498], \"coordinates\": \"axes\", \"h_anchor\": \"start\", \"v_baseline\": \"auto\", \"rotation\": -0.0, \"fontsize\": 10.0, \"color\": \"#000000\", \"alpha\": 1, \"zorder\": 1000003.0, \"id\": \"el55722589519082664\"}, {\"text\": \"Concept 2\", \"position\": [0.04736303123399899, 0.8558989453029189], \"coordinates\": \"axes\", \"h_anchor\": \"start\", \"v_baseline\": \"auto\", \"rotation\": -0.0, \"fontsize\": 10.0, \"color\": \"#000000\", \"alpha\": 1, \"zorder\": 1000003.0, \"id\": \"el55722589519084176\"}, {\"text\": \"Concept 4\", \"position\": [0.04736303123399899, 0.8099092469953398], \"coordinates\": \"axes\", \"h_anchor\": \"start\", \"v_baseline\": \"auto\", \"rotation\": -0.0, \"fontsize\": 10.0, \"color\": \"#000000\", \"alpha\": 1, \"zorder\": 1000003.0, \"id\": \"el55722589519118520\"}, {\"text\": \"Concept 6\", \"position\": [0.04736303123399899, 0.7639195486877607], \"coordinates\": \"axes\", \"h_anchor\": \"start\", \"v_baseline\": \"auto\", \"rotation\": -0.0, \"fontsize\": 10.0, \"color\": \"#000000\", \"alpha\": 1, \"zorder\": 1000003.0, \"id\": \"el55722589519120032\"}], \"collections\": [], \"images\": [], \"sharex\": [], \"sharey\": []}], \"data\": {\"data01\": [[-0.109273089490467, -0.11384594944739145], [-0.027146224254697402, -0.09239921526533726], [0.051234057708396265, -0.024370021572637304], [-0.14711862214626983, 0.007551049804205232], [-0.15143331262376233, 0.13283192475380123], [-0.1590730405253187, -0.09044610076698945], [-0.07690166600598908, 0.04370053102585239], [-0.01043431462948677, -0.12780714640325042], [-0.07690166600598909, 0.04370053102585238], [-0.138459029249222, -0.09035063797272674], [-0.23478198452746935, -0.03865607772974379], [-0.23469520376913158, -0.03865669063345452], [-0.040633440005114825, -0.10226753452425322], [0.04571372774343992, 0.050434995687034016], [-0.11794797192351328, -0.2062142375390064], [0.04884173139723259, 0.0015870787781111229], [0.015170926254783959, 0.0814086759264454], [0.10630237942162399, -0.03606699823786377], [0.18983588141864713, 0.09014084186775717], [-0.044814454099040835, 0.04241035466896658], [0.08951333943470702, 0.047073868159283806], [-0.14430545224509458, -0.038773291082837946], [0.012543445326203256, -0.018043818119944648], [-0.12820854101484264, 0.024557327477074613], [-0.0751793483204784, -0.05427720027461235], [-0.07856997451189905, -0.17209336590999236], [-0.06106689539134417, -0.07749210691466243], [0.011569419937230496, -0.1319174911720811], [-0.11772621745507432, -0.20515813976632363], [-0.01823502552851735, -0.06050097564802324], [0.09021904765895415, -0.05321440386966995], [-0.08081933074468518, 0.02514554794085886], [-0.14371607498213432, -0.07640853780381268], [-0.05811458236254045, 0.008936267643856705], [-0.1439205629376299, -0.007615719266969309], [-0.17777313254555208, -0.07855457770208898], [-0.06048576952481415, -0.12062934626068214], [-0.171534466221058, -0.12609465270876286], [-0.18478115631177724, -0.00707553254543902], [0.026339940457095395, -0.022981776528168733], [-0.049526590527464, -0.08802594120162165], [0.16523064180047764, 0.06595980141219288], [-0.24098110417473817, -0.06345875777437955], [-0.10331601426202203, -0.17766688779524595], [-0.15616212196055354, -0.021106035627199555], [-0.10928983833060332, -0.12945635267814876], [-0.1407475366211265, -0.1821013584481803], [-0.06597084983551402, -0.12506227205054618], [-0.1039528458846291, -0.11987741060882448], [-0.23320150147618526, -0.026702790549212492], [-0.10445929475991435, -0.11941897937597155], [-0.06463078582291953, 0.053570769796110224], [-0.08587746460724356, -0.10520145583522518], [-0.1278810970415689, 0.02453121644063496], [-0.05799315516524798, 0.010936208667708839], [0.03942885892469568, -0.11909553268704721], [-0.0037706520700439426, -0.05445918695117882], [-0.09931276217315059, -0.07963121380165426], [0.05454853884903616, -0.05390154107535548], [-0.015372170451057177, -0.11957481241917683], [-0.04650289478142738, -0.03332109813712518], [-0.15928485172788318, -0.04185032872679819], [-0.0227646474105849, -0.08913584092691738], [-0.1197946466961219, -0.0503182038715151], [-0.00573517193035191, -0.02941134757994164], [-0.038844127463022876, -0.04423467195853754], [0.0162289781040701, -0.06149117116401002], [-0.15557176418476643, -0.022579616782698736], [-0.039724413306250546, -0.049750092402179404], [-0.015372170451057142, -0.11957481241917689], [0.0016267301330270825, -0.1467392395737862], [-0.11544058096445246, -0.12019663593220771], [-0.1401672370597983, -0.07590623052534164], [-0.24880218172419677, -0.050303873198145506], [-0.22359501046757793, -0.06438664205992725], [-0.11205158935025408, -0.0824120437373446], [-0.17476743390377536, -0.1103411397458832], [-0.16580983963471527, -0.019538305151539016], [-0.22359501046757807, -0.06438664205992731], [0.0016267301330270794, -0.14673923957378615], [-0.04484008765581992, -0.1470030443400423], [-0.12948540277361953, 0.00488930225125484], [-0.1643512247888211, -0.1003381246664997], [-0.12912293837893604, 0.005132413838384796], [-0.16417269819432306, -0.0071814480989670516], [-0.05466022779211897, -0.17110616231695108], [0.04392296865373839, -0.1496998992887239], [-0.07053220719048561, -0.047783727605700384], [0.08691363920988136, 0.011689887182256739]], \"data02\": [[-0.07968147033743533, -0.09615035166865289], [0.08456665682821636, -0.1391999574669672], [0.09396727430550582, -0.06826400837525178], [-0.07298507220354353, -0.11605390055105914], [-0.24945864734571174, -0.0932839769114866], [-0.12438079231044355, 0.22516798225699056], [-0.10973672214666373, 0.1400080827141075], [-0.012975066687679513, 0.16880754860214617], [-0.07501268550771137, 0.2168199374016818], [-0.130349901578553, 0.30127252842741775], [0.008846938301207016, 0.2039113857405823], [-0.032354226203581485, 0.35575119411709505], [-0.13281216436242796, -0.05147876072509362], [-0.043125006065813175, 0.06610976185915544], [-0.1589395644890891, 0.2761661684518376], [-0.12087392905415152, 0.07139158788955942], [-0.10912555374209248, 0.2871255787459109], [0.015146705505114693, 0.08377653874908815], [0.14534967299824103, 0.11163670727504706], [0.2090811441496284, 0.0029152680870233147], [0.06283869390785086, 0.1521230899133832], [-0.11807923734412921, -0.032382635282580785], [0.1725041127611885, -0.031962011298765566], [-0.27375860535807484, 0.21856644716702994], [-0.12836231745847543, 0.040285253561418315], [0.012168139909529398, 0.004830113332885467], [-0.0605287796594688, 0.1987250241259152], [-0.07420309992653529, -0.11813326894420531], [0.2651792424309325, 0.28943603432773796], [0.13786911873045546, 0.39132690818801275], [0.09973946455298209, 0.037317139414277514], [0.001313926667464045, 0.06503350993180501], [-0.11156941428172786, -0.14545848382216928], [0.03241659583639093, -0.0035445803547835774], [-0.05477873219029249, -0.11167094973629232], [-0.14399386921080468, 0.2960591503301071], [-0.2410696106240932, -0.132261631964067], [0.03985273612788299, 0.12803776315854], [-0.3350894505791257, 0.1784575381252707], [-0.3316254396415418, 0.17731601543085845], [-0.13849926964952786, -0.275050369777829], [0.0068396583411132975, -0.05648527974515473], [-0.4456242226260073, 0.0852828525517768], [-0.2516237904837337, 0.17354414131738555], [-0.14081049537186952, 0.2930872763189857], [-0.1839812850667915, 0.04567653314091887], [-0.030420224936915388, -0.10637846128445076], [0.13965952821710376, 0.0901146460996414], [-0.2598369956415006, -0.0559210970312551], [-0.14480998608769832, -0.0016401176383270513], [-0.2043216631645108, 0.17606994761184888], [-0.14442005014906562, 0.02183878016583955], [0.08072058641833357, -0.015296169760191942], [0.008081045835820904, 0.06917157704719566], [-0.04372470738979133, 0.13336086282817866], [-0.2558560978760148, 0.02001000257018196], [-0.169618850260878, 0.11024807083995995], [-0.24636094599223518, -0.0007792637001822739], [-0.01760250880594036, -0.10949155144661395], [-0.2558560978760149, 0.02001000257018201], [-0.043724707389791284, 0.13336086282817872], [0.006875496212225023, 0.07716373924602923], [-0.20432166316451034, 0.17606994761184916], [-0.10386598192187123, -0.265380770346768], [-0.2645073809592232, 0.09537292225980347], [-0.26104074669124766, 0.1128257155701838], [0.10615414526053199, 0.08398984526889026], [0.06624871413045215, 0.06856244304840331], [-0.2314427281027135, 0.13417335172400913], [0.1560599721016378, 0.2236702765628878], [-0.06805465117806679, -0.011591382329834402], [-0.10392395297841249, -0.2662388729544358], [0.002531348229706432, 0.0984347928939644], [-0.0680546511780668, -0.011591382329834407], [-0.11893407882972114, 0.32873403320684436], [-0.18516235416057422, -0.07659563980627879], [-0.10515095927994353, -0.09412020735588807], [-0.08916876206066998, 0.031309040064724195], [0.0035710455351588228, -0.14164889163793035], [-0.23004741368846618, 0.1277575067214095], [-0.15157008012288384, 0.24044920008552523], [0.15031933842564, 0.20098327733788823], [-0.12719718768372876, -0.13563108906033777], [0.1214861550587569, -3.774208588611494e-05], [-0.0007980168307354693, -0.15271952614589246], [0.054443202896160066, 0.2501012386193261], [-0.12938749036999073, -0.11634061429946843], [-0.009984679788170366, -0.24754938236483967], [0.012837229022781118, -0.06631972186805017], [-0.16961885026087792, 0.11024807083995986], [-0.08137320719395943, 0.187830825392372], [-0.01669511342881297, 0.07624665482807483], [-0.08897733526249986, 0.17155144592774133], [0.007605947524884419, 0.28767314290898505], [-0.16508334532014518, 0.07364201391166003], [-0.23153457998741686, -0.015092077791075131], [-0.1683621200415756, 0.2673031184884454], [-0.1523810255275191, 0.044944275279832115], [-0.20092797511339558, 0.13984714263096806], [0.02640160986536369, 0.02682761419584026], [-0.037251419192204656, -0.06840480750694557], [-0.09167778505205501, 0.049172967404246454], [0.13508127882269347, 0.16823007886300156], [0.007605947524884419, 0.28767314290898494], [-0.2009872090109656, 0.13581900242821623], [-0.16607164246684022, 0.10566590953499339], [-0.035140572035592114, -0.287527074532263], [0.1398983625176377, -0.15241244088016553], [-0.043933614902683486, 0.14308124597440075], [-0.11253280866491058, 0.3468897838245436], [-0.08455767157127853, -0.018618943806157653], [0.056108561976575, 0.18257705904203417], [0.09167849738877117, 0.17894221627900223], [-0.03826968507046727, 0.1336042157903143], [-0.16836212004148907, 0.26730311848849136], [0.0025313482297064254, 0.0984347928939643], [-0.15922388754483263, -0.18903980477337323], [-0.17482035347120645, 0.25258752119480365], [0.023457081668660094, 0.0900026775819594], [-0.09747599033186408, -0.037352669775618574]], \"data03\": [[-0.20650639385353842, 0.3476871776595418], [0.04449660030065124, -0.1298260816279053], [-0.1468591932067086, 0.0623862625768373], [-0.1953488913669606, 0.26397894326457655], [-0.0029095980573595366, 0.23220434442939003], [-0.24970176384071538, 0.252545791229967], [-0.12829824145386692, 0.1689974196042842], [-0.2455180758797927, 0.2619724644151037], [-0.061397906163565094, 0.10071517852404482], [0.025562171108843887, 0.24941635463272713], [-0.11260337854670187, 0.2483986471720266], [-0.13463283596936482, 0.12118851505426748], [-0.20088386755768514, 0.1701757947816489], [-0.36020929578065874, 0.3603181983814857], [-0.13472884693581383, 0.14691184296969395], [-0.1578697887478312, 0.1743033535656546], [-0.19690718912043653, 0.44134192053153815], [-0.136886384565346, 0.04935327074701363], [-0.1408872868178059, 0.39714066164786943], [-0.0764117914857536, 0.029420737516856012], [-0.12963142403548064, 0.21637126112078223], [-0.12502163307206893, 0.2799536143421215], [-0.10786729264540329, -0.008955550932463894], [-0.11837365255568505, 0.29048306232392374], [-0.1634426602238565, 0.23451499926806574], [-0.21270711037671067, 0.28192337819373], [-0.07562937558645871, 0.09584852927912131], [-0.1549977499700702, 0.17996999638221198], [-0.14042861444939214, 0.16188679588755253], [-0.210156636057618, 0.20905292053960353], [-0.32329655695147697, 0.22970736997878435], [-0.23732878056193846, 0.15950184306436713], [-0.04522506948108592, -0.02825287048302786], [-0.188248876967956, 0.14163083947165775], [-0.13555712465736627, -0.018884038623084756], [-0.2322191559721619, 0.2606886182037264], [-0.27479814464979485, 0.29816190206053067], [-0.15386934439871633, 0.19298936749920861], [-0.2722620692741232, 0.3238141194719967], [-0.30806874231375386, 0.23930335906018385], [-0.06852124056032675, 0.18247615829166966], [-0.09352310067888815, 0.18913069135187624], [-0.148065287564705, 0.12824445583665495], [-0.1875265613642286, 0.315338562149193], [-0.0690929784981221, 0.01944736086369089], [-0.23221915597216164, 0.26068861820372685], [-0.1750904422364928, 0.22857416375472084], [-0.21281658871929285, 0.2709942650746685], [-0.23274072024716425, 0.309890261869718], [-0.17260302142268946, -0.029939941220961976], [-0.19764985752608888, 0.060541717937734774], [-0.06684371176176784, 0.288435989299991], [-0.10863954979177703, 0.19028383986891895], [-0.1081225935681897, -0.00844381411483215], [-0.16768626254856914, 0.04297737894090162], [-0.18877401438042318, 0.3939033457172841], [-0.21695447932805348, 0.16292448962281192], [-0.09179915254593027, 0.14722784584392462], [-0.16812168052513946, 0.06570571327925671], [-0.11972965180951879, 0.003817873282270852], [-0.09055669059711002, 0.14637622384104756], [-0.23719381571012, 0.2908969945303325], [-0.18090312555757773, 0.38850310590737497], [-0.264955828780116, 0.34960571481955816], [-0.28480065940133675, 0.2977618994489365], [-0.16862712557422477, 0.3918435397456835]], \"data04\": [[0.039956827531493926, -0.14256056670496545], [0.05583152673456576, -0.17973576185085757], [-0.08767634445815005, -0.28354523373250684], [-0.09674721037550563, -0.053117933736897945], [0.01583972186093033, -0.2892719519997773], [-0.08103216815997437, -0.3355670272674199], [-0.007133406771734331, -0.21143447291550094], [-0.011172455055114796, -0.15313404868115746], [-0.01117523348180334, -0.15308113126673908], [-0.12703148051877858, -0.17807559129886122], [0.07587141236561197, -0.30188023692548915], [-0.043912712258657324, -0.16600196075382728], [-0.11674589917083708, -0.11426804575165336], [-0.09648018971369551, -0.2177217088977677], [-0.12980866680528289, -0.1689474228589226], [-0.10857982136922206, -0.15611113899301599], [-0.14382752701539722, -0.2932805354984432], [-0.11674589917083715, -0.11426804575165343], [-0.18883109017203903, -0.2565739702769551], [-0.14107563947286206, -0.3070059469419353], [-0.04141085503202653, -0.09284196395675305], [-0.06239684326852874, -0.1860225103901638], [-0.16994615858171275, -0.12578532142304094], [0.06051047953091882, -0.1442328930844054], [-0.09130753325900993, -0.32437324438778065], [-0.09609358055375992, -0.23433940889382424], [-0.17475220825391702, -0.26877894716441536], [-0.11949598990734653, -0.11264493889472053], [-0.17540192325837245, -0.31458309205896384], [0.029188379944499077, -0.31425717974149775], [-0.1631896484334957, -0.157124373839988], [0.10541301636743648, -0.304555180695495], [-0.16021252681711265, -0.10065617640663999], [-0.09417132474363264, -0.21423340394938203], [-0.027617628490888214, -0.34357059770237125], [-0.021009838901027797, -0.2721377062371442], [-0.10714452722695757, -0.13304525472645917], [-0.06460767113830455, -0.27301557724585496], [-0.14657694651581787, -0.22332546577315485], [0.06598727994770459, -0.3142131422259123], [-0.17063609066433202, -0.2763780834953271], [-0.15966347187104396, -0.22502910026271233], [-0.19459381888387975, -0.18448617998047326], [-0.09545880936170759, -0.23036254931206326], [-0.0031558668303664603, -0.12246021921946697], [-0.03316402896110552, -0.23410506562580372], [0.029188379944499108, -0.31425717974149786], [-0.1512878363417207, -0.22679218537016066], [-0.24424614118846488, -0.1516172050077414], [0.041126249618228944, -0.199532121062934], [-0.09208901622595758, -0.26099371654921955], [-0.16021252681711265, -0.10065617640663997], [-0.11971798628386034, -0.19896125178529528], [-0.07992438418552013, -0.2543729795453033], [-0.16275269893237168, -0.3396715408013446], [-0.24194535872482575, -0.07443510873835903], [-0.1871022848810782, -0.27302079049971356], [0.04892244832800056, -0.22558393304856533], [0.10926896313731782, -0.3060243885606027], [-0.15128783634172066, -0.2267921853701606], [-0.11344421141861999, -0.2650269534643976], [-0.11861705321678646, -0.29530286798817273], [-0.18718425881908438, -0.29151796809709307], [-0.0880768197597117, -0.17246780001697773], [-0.11729159289661878, -0.26300512150861227], [-0.20291144714956755, -0.2706463467606489], [0.046943519612255305, -0.29577701668338235], [-0.16817317264193454, -0.12661156971747317], [-0.11492636674758193, -0.2433831666912407], [-0.11390615990661478, -0.13957531219203528], [-0.20291144714956785, -0.27064634676064836], [-0.1730909768463524, -0.2736912283821111], [-0.1435854000100477, -0.17264738998117915], [-0.13038119630865574, -0.023066807026906822], [-0.15462236764565568, -0.1723303235666515], [-0.17309097684635238, -0.2736912283821111], [-0.131652539156819, -0.16805902597278674], [-0.11618698797224478, -0.31742638034779586], [-0.08544518431816922, -0.0847145713978957], [-0.1829208109728856, -0.2587233311874963], [-0.1418328439920466, -0.19856498549929774], [-0.12256180269507401, -0.2157194773838895], [-0.1324301677306336, -0.19194211211962897], [-0.015026079596088964, -0.32552456152892034], [0.03406247029229694, -0.2250282115875198], [0.04048621097688385, -0.12617756343719433], [-0.0030850767739492232, -0.22353953182825734], [-0.11445298478768473, -0.2571342679270204], [-0.08650694124728127, -0.08837696170928702], [-0.19372968016602188, -0.14806408474457997], [-0.014868173139368678, -0.2254653409247604], [-0.24248745080671505, -0.26734555770260604], [-0.01995883373399499, -0.16314632882573113], [-0.17538955528397676, -0.10238921026974888], [-0.1333528859072105, -0.2386366949088107], [-0.07623900257345656, -0.22020327003782048], [-0.13224049691413492, -0.11353381280793778], [-0.09417132474363259, -0.21423340394938195], [-0.13042509964725496, -0.2659987604943638], [-0.186204539993799, -0.3390373911031643], [-0.18146666708769785, -0.35164378262631457], [0.10795642486589181, -0.21406636638003532], [0.03869833608100629, -0.24420525841029847], [-0.09860061813278329, -0.2499309893457834], [-0.10965685036806741, -0.2727227358046981], [0.0562179966545214, -0.26481030267408184], [-0.05548906232684925, -0.08890552181454733], [-0.11780835574250592, -0.27954422685440267], [-0.13959492851521685, -0.2903732839194398], [-0.13798324405480344, -0.24884873294426918], [-0.18286114653996416, -0.2872045119122705], [0.0003881729682711835, -0.3677971910086952], [-0.15182202736192416, -0.13794885313257055], [-0.19754135217912963, -0.25615827405622804], [-0.1683505037436785, -0.12254351370322206], [-0.07648613740467211, -0.12572868504714657], [-0.17693272502896434, -0.327281024623388], [-0.08902564739522995, -0.22629059093477785], [-0.17275710353549262, -0.298480886037496], [-0.17430170960354113, -0.2741305532548725], [-0.16394063040110873, -0.22224305816067635], [-0.03242154306912937, -0.1977533944426396], [-0.13980358447034913, -0.2903828734616259], [-0.18157386095901215, -0.20476117233707103], [0.02542085968177245, -0.12728613015170867], [-0.11246869488486039, -0.34214108045814107], [-0.04386382286310159, -0.25377574167057615], [-0.1269290330632227, -0.3163482391607664], [-0.17309097684635247, -0.2736912283821115], [-0.14328199883999518, -0.23941564117324218], [-0.18888511510816153, -0.30245700612723814], [-0.11780835574250591, -0.27954422685440267], [-0.22207483714045104, -0.20527522247257116], [-0.18404662137985306, -0.15788178608652537], [-0.18301126639974424, -0.376041828817463], [-0.12692903306322284, -0.3163482391607664], [-0.16856536932325564, -0.10859969061025637], [-0.14952345882586526, -0.18181005227687258], [-0.13646186063205762, -0.3225180105197709], [-0.1480959130222143, -0.155386009755589], [-0.13457113281077557, -0.17219887113278493], [0.0336642091162004, -0.20258086869473016], [-0.08767634445815006, -0.28354523373250673], [-0.11173619564506378, -0.23452816854274672], [-0.17063609066433186, -0.2763780834953273], [-0.13642095828770637, -0.3224140268871126], [0.08497179087279609, -0.2514470229533083], [0.031391352705148826, -0.30679394277654626], [-0.0969814821294174, -0.2391504244820398], [-0.10384762725686174, -0.3225467230435419], [-0.09270211766418655, -0.32211552148553313], [-0.17185832943619744, -0.2022049472281024], [-0.17063609066433194, -0.2763780834953273], [-0.20326664605922945, -0.17543663664728287], [-0.13457113281077557, -0.17219887113278498], [-0.11470771721172485, -0.2087537463188817], [-0.04386382286310159, -0.25377574167057615], [0.08479100884045696, -0.18941178235950368], [-0.13945517152121206, -0.30817529557313106], [-0.10336945121162484, -0.21997934598493574], [-0.15540486924588517, -0.22246987397670906], [-0.1451728280940902, -0.20524640498455116], [-0.13983039269870334, -0.14184734566635906], [-0.10374722696586669, -0.322408404162881], [-0.16171826892880317, -0.2778520602215341], [-0.00298064953388312, -0.14012334409193156], [0.050641572938584484, -0.20208744093974534], [-0.2125638895766912, -0.28243993393068045], [0.03040528420704378, -0.19739973346445902], [-0.18294073323525803, -0.1868862952771703], [-0.14925014580169113, -0.28554139956024277]], \"data05\": [[0.11517659525650545, 0.10154546560335771], [0.06433245467199786, -0.01681776802394167], [0.10140973731026433, -0.0019154796406926759], [0.02768497288355025, -0.009213575132357543], [0.030575627037841478, 0.0040668034708805385], [0.13077942226110936, 0.06462559794763177], [0.1636664362423245, -0.06180940118325931], [0.13321612499051774, 0.11316033657220374], [0.15964031573633256, 0.07139019704061529], [0.14315722548442536, 0.09171350021454336], [0.14840393979378064, 0.02183032658154628], [0.11010413000914969, -0.057930974645010395], [0.08880597410896997, -0.02541652607824655], [0.13629099909081524, -0.12236095596066641], [0.17501756411736977, -0.09398514022136775], [0.0833517091347419, 0.08395940897060601], [0.15231254214779222, -0.1555174821809773], [0.2065977939959084, -0.2055556672658712], [0.14940565622041038, -0.19953515008904896], [0.13641995101823146, -0.0010394427017663523], [0.21123687862582263, -0.18071123139989878], [0.0590673190020411, -0.08363445684347232], [0.11007533797622034, 0.01875664421916531], [0.1368991026743873, -0.060828698652746746], [0.04085208284680355, -0.10402719508431814], [0.07013954648823499, -0.13702356262441512], [0.24736778224669778, -0.03112913813642539], [0.21511197012524452, -0.10856133970531717], [0.062035446146199734, -0.01999430232232746], [0.20051714002001952, -0.18401901448591004], [0.29389075955130356, -0.0495608722993911], [0.15154185480011143, 0.05315079189655731], [0.20559715030250392, -0.2063795850835778], [0.18362034108259292, -0.11358786060652334], [0.12700019446070318, 0.1101028576882656], [0.1540134467260543, -0.011634477218431449], [0.12387417141242384, -0.13199455081310843], [0.11494207362492946, -0.07471239466620788], [0.09573902323039082, -0.029015712167955142], [0.17178156254816193, -0.19142863372978303], [0.17178156254816193, -0.191428633729783], [0.06431814460557836, -0.03201328323490418], [0.1398739153523365, 0.022843758064105196], [0.20733277043974593, -0.2631164761302511], [0.12676424540003006, 0.04744025879745137], [0.07841998740929748, -0.1188702234182015], [0.057963437301368076, -0.009554232510758109], [0.0612304464563225, -0.005743678103476731], [0.16443595580212989, 0.07310169387079321], [0.07649541121162673, -0.07844935696191203], [0.16443595580212997, 0.07310169387079322], [0.16633784640937477, 0.015518447247291437], [0.19891670223021937, -0.08347059863240383], [0.17031238611492966, -0.23314332862975934]], \"data06\": [[0.024321556579621102, 0.958609271523179, 0.9126195732155998, 0.8666298749080207, 0.8206401766004416, 0.7746504782928625]], \"data07\": [[0.00896057347670251, 0.745523669364729], [0.11456733230926777, 0.745523669364729], [0.11712749615975424, 0.745523669364729], [0.11712749615975424, 0.7516556291390729], [0.11712749615975424, 0.9785381407897964], [0.11712749615975424, 0.9846701005641403], [0.11456733230926777, 0.9846701005641403], [0.00896057347670251, 0.9846701005641403], [0.006400409626216075, 0.9846701005641403], [0.006400409626216075, 0.9785381407897964], [0.006400409626216075, 0.7516556291390729], [0.006400409626216075, 0.745523669364729], [0.00896057347670251, 0.745523669364729]]}, \"id\": \"el55722589514771704\", \"plugins\": [{\"type\": \"reset\"}, {\"type\": \"zoom\", \"button\": true, \"enabled\": false}, {\"type\": \"boxzoom\", \"button\": true, \"enabled\": false}, {\"type\": \"htmltooltip\", \"id\": \"el55722589516805792pts\", \"labels\": [\"SAP Manager and Senior Consultants\", \"IT Sharepoint Analyst- SharePoint Developer\", \"Data Analyst\", \"Head, Infrastructure\", \"Senior Software Developer\", \"Junior Project Manager (1 year contract)\", \"Assistant / Security Manager (Planning & Projects)\", \"Technical Project Manager / Technical Lead\", \"Assistant / Security Manager (Planning & Projects)\", \"Project Manager - APAC\", \"Project Manager\", \"Project Manager\", \"Project Manager\", \"QA Analysts\", \"Regional Retail Manager\", \"Senior Software Developer\", \"Technology Consultant III\", \"Software Quality Assurance Engineer\", \"Associate Consultant, Apps\", \"Lead/ Software Developer (MS Sharepoint)\", \"Consultant, Application\", \"Commercial Support Coordinator II\", \"Programmer (Testing)\", \"Control Room Operator (CRO)\", \"BIM COORDINATORS\", \"Project Manager\", \"Technical Business Analyst\", \"Digital Commence Architect\", \"Regional Retail Manager\", \"ID- Engineer, Software Requirement\", \"Outsystem developer\", \"Assistant Manager\", \"Scientist II\", \"Application Support Analyst\", \"Field Technical Spt Cons I\", \"Department Director (Telecom)\", \"Group IT - Solution Designer\", \"IT project manager\", \"SR Clinical Research Associate | Singapore\", \"Singleview Software Consultant\", \"ERM Consultant\", \"Dotnet Developer (Singapore based candidates)\", \"Project Manager (Pegasystems)\", \"Product Manager\", \"Customer Support Supervisor\", \"Business Intelligence - Senior Program Manager\", \"Senior Project Manager\", \"Product Manager\", \"Project Manager\", \"Assistant Project Manager\", \"Project Manager\", \"Assistant Manager - IT Project\", \"Professional Services Consultant: Financials\", \"Control Room Operator (CRO)\", \"IT Solutions Engineer\", \"Manager (L5)- Cybersecurity Architecture Specialist\", \"System Analyst \\u2013 EDW\", \"Project Manager (HR Software) Up to $9k\", \"Incident Engineer\", \"Infrastructure Solutions Architect\", \"IT Business Analyst\", \"Customer Service Officer\", \"Software Engineer\", \"Senior Systems Engineer (Citrix Lead)\", \"Qliksense/BI Developer\", \"Business Manager\", \"Manager/Senior Manager, Data Management (1 year contract)\", \"Assistant Project Manager Interns\", \"IT Business Analyst\", \"Infrastructure Solutions Architect\", \"Senior Manager \\u2013 Digital\", \"IT Project Manager\", \"Project Manager cum Business Analyst\", \"Information Technology Project Manager\", \"Relationship Manager\", \"Project Manager - Cloud Services\", \"Application Delivery Specialist\", \"SR Site Start-up & Regulatory Specialist | Singapore\", \"Relationship Manager\", \"Senior Manager \\u2013 Digital\", \"Programme Manager (IT)\", \"HOTEL SYSTEMS MANAGER\", \"Project / Account Manager\", \"HOTEL SYSTEMS MANAGER\", \"Assistant IT Project Manager Intern\", \"Senior Product Manager\", \"Group IT - Staff Solution Designer\", \"DOCUMENT AUTOMATION SPECIALIST\", \"System Analyst (IT Apps)\"], \"hoffset\": 10, \"voffset\": 10}, {\"type\": \"toptoolbar\"}, {\"type\": \"htmltooltip\", \"id\": \"el55722589519008824pts\", \"labels\": [\"Business Process Engineer | Local MNC | Central\", \"Data Scientist (M&R;) | Local MNC | Central\", \"Data Scientist (Optimization) | Local MNC | Central\", \"Game Producer | Up to $7000 basic | MNC\", \"Video Algorithm Engineer (AI/Streaming/C++/High Pay/Multiple openings)\", \"[Govt Sector] IT Software Trainer - up to $2500/ Mon to Fri\", \"VMware Engineer\", \"Business / Systems Analyst (Logistics / UP $8000 / West / 5 Days / 5-8 Yrs Exp)\", \"System Engineer (VCAP/ VMware/ up to $5.5K)\", \"Presales Network Engineer x 2 (West/ SI/ CCNA/ CCNP/Cisco/ Up to 4.5K)\", \"Business / System Analyst Leader (Up $8000 / 5 Days / 4-8 Yrs Exp / AWS+VB)\", \"Technical Engineer ( Desktop cum Network support )\", \"SAP BPC Functional Consultant\", \"[SA] Project Assistant Manager for service industry (ref:44850), 7k - 8k\", \"IT SUPPORT/HELPDESK OFFICER $2800+BONUS, TROUBLESHOOT DESKTOP/OS @SIMEI/EAST\", \"BROADCAST MOTION GRAPHIC DESIGNER -VIDEO EDITING&3D $2500+ALLOWANCE+AWS\", \"Business Analyst | IT Executive | ERP| SAP | Up to $4.5k\", \"RF DEVELOPMENT ENGINEER  ( UP TO 6K / PUBLIC LISTED / WEST )\", \"[SA] Java Software / Application Engineer [Ref 44191] RM 6k - 10k\", \"Web / Front End Developer (up to S$7000, Proficient in VUE, Angular, React)\", \"Vision Software Engineer - [Attractive Salary / WPF / Deep Learning / OpenCV]\", \"Salesforce Administrator\", \"PHP Developer / Software Engineer (KL)\", \"IT Trainer for MOE Schools (Education / $2500 per month / Perm)\", \"UNIX / Linux Engineer (RM6k - RM8k)\", \"Performance Test Engineer (Up to $7500/ Python Language/ Linux Environment/ SQL)\", \"IT Network Engineer ( AS400 - Spore Tuas)\", \"Senior Game Producer | Up to $8000 basic | MNC\", \"SAP ABAP Consultant/ Programmer\", \"SAP MM Consultant\", \"IT Assistant Manager @ Kuala Lumpur [REF: SY]\", \"Associate / System Engineer (Communication Systems) (Ref 22166)\", \"Customer Account Manager/ Account executive\", \"Regional IT System Analyst (2 Positions)\", \"Creative Director\", \"Device Engineer [Army Camps / $2.4k+AWS / IT exp / Immediate]\", \"Enterprise Account Manager, Sales Manager\", \"Senior Test Analyst / Test Lead\", \"IT Support (Assistant/Executive)\", \"IT Support (Assistant/Executive)\", \"Homepage Design/ Video Creation (3 Months)\", \"Embedded Software Developer (m/f)\", \"ACCOUNTS ASSISTANT\", \"MNC: Regional IT Security and Network Engineer (CCNA)\", \"Device Engineer [Army Camps / $2.4k+AWS / IT exp / Immediate]\", \"Sales Support Assistant (102780)\", \"Senior IT Business Analyst cum Project Manager-Fluent in Russian\", \"System Analyst\", \"Receptionist and Office Assistant\", \"Customer Service Representative (Yishun)\", \"IT Teacher (E-Lesson System) - $2500 per month/ Mon to Fri/ 8am-5pm\", \"Accounts Associate\", \"Engineer (Development) | Up to $3.6k\", \"Software Test & Support Intern for an AI Company\", \"Freelance Trainer\", \"Guest Services Officer, Telephone\", \"Product Support Specialist // Paya Lebar // 2500+ // IT solution\", \"IT Specialists (AV / VC)\", \"IT Project Manager - (HG181019 024/1)\", \"Guest Services Officer, Telephone\", \"Freelance Trainer\", \"Software Test & Support Intern for an AI Company\", \"IT Teacher (E-Lesson System) - $2500 per month/ Mon to Fri/ 8am-5pm\", \"Online/Social Media Research Staff (Part Time/Full Time) Needed!\", \"Executive, Admin Support\", \"Senior / Accounts Executive\", \"Test Development Engineer (up to Staff Engineer)\", \"Sharepoint Developer\", \"Finance Executive\", \"Software Engineer\", \"Equipment Installation Manager\", \"Online/Social Media Research Staff (Part Time/Full Time) Needed!\", \"Videographer/Photographer Volunteer\", \"Equipment Installation Manager\", \"IT Engineer, Technical Support (5 days, Science Park 1)\", \"ERP Functional / Application Consultant\", \"Associate Post Producer\", \"Auditor(ISO9001)\", \"Project Manager\", \"Finance Executive\", \"ittechnicalsupport\", \"Software Engineer/ Senior (manufacturing industry)\", \"Research Assistant\", \"J3971CC Technical Consultant\", \"Cybersecurity Specialist\", \"Software support engineer\", \"Ecommerce Manager\", \"Data scientist\", \"Research Associate\", \"Product Support Specialist // Paya Lebar // 2500+ // IT solution\", \"Assistant System Consultant\", \"IT Manager (Up to $4500, East)\", \"Assistant System Consultant\", \"Cyber Security Engineer ($2500 \\u2013 3000, 5 Days, River Valley)\", \"Retail Assistant (Mobile Phones)\", \"Your fortes include:\", \"Analyst, IT Support (2500-3000, 5 days, Contract, Buona Vista)\", \"Service Engineer\", \"Technical Support Engineer\", \"Implementation Project Manager\", \"Consultant\", \"Service Manager\", \"UX Design Engineer // Changi South // IT // Engineer // 2500+\", \"Cyber Security Engineer ($2500 \\u2013 3000, 5 Days, River Valley)\", \"Technical Support Engineer\", \"Product Support Specialist // Paya Lebar // 2500+ // IT solution\", \"Product & Social Media Manager\", \"Radar Algorithm Intern\", \"Information Technology Officer\", \"IT Support Engineer // Outdoor // TaiSeng // 5 Days // Class 3\", \"Digital File Preparation Technician (6-month Renewable Contract)\", \"NW Engineer/Desktop Support\", \"Software Engineer (In House / 5 days)\", \"Freelance Trainer\", \"Analyst, IT Support (2500-3000, 5 days, Contract, Buona Vista)\", \"Videographer/Photographer Volunteer\", \"Audience Research Intern\", \"Desktop Support Engineer\", \"IT Professionals: Software+Hardware+Network - Banking+Insurance+IT+Telco+Manufacturing+Retail\", \"Information Technology Trainers\"], \"hoffset\": 10, \"voffset\": 10}, {\"type\": \"toptoolbar\"}, {\"type\": \"htmltooltip\", \"id\": \"el55722589516807136pts\", \"labels\": [\"IT Desktop Support | Local MNC | Central\", \"Cloud Architect | Local MNC | Central\", \"Network Architect | Local MNC | Central\", \"IT Customer Service Officer (UBI/UP to $2300/5 days\", \"System / Server Administrator\", \"Windows System Admin (RM6k - RM9k)\", \"SAP Security\", \"Desktop Technologist - SCCM Support\", \"Database Administrator / Engineer (Oracle / SQL, up to S$5000, MNC)\", \"Database Administrator (Ref 22888)\", \"Network System Engineer (Ref 22167)\", \"Senior / Network Engineer  (Ref 22271)\", \"IT Senior Manager (Infrastructure)\", \"Security Software Engineer\", \"Systems Engineer (IT Infrastructure)\", \"Network Consultant (Team lead)\", \"WINTEL SYSTEM ADMINISTRATOR\", \"Assistant Manager, Centre for Healthcare Simulation (2-year contract)\", \"Senior/Network Engineer(CCNA/CCNP)\", \"Information Technology Solutions Consultant\", \"SYSTEMS ENGINEER [Junior/ 5 days/ up to $2800]\", \"Project Manager - IFS/PM/LKS\", \"IT Solution Manager\", \"Project Manager - IFS/PM/LKS\", \"Lead Systems Engineer\", \"IT Executive\", \"Infrastructure Head\", \"Urgent [Up to $4.2k] IT Support Executive \\u2013 Swiss MNC (6-month contract)\", \"Specialist Associate, Corporate Services-IT\", \"Printer Level 2 support - Changi\", \"IT Security Analyst\", \"Senior Engineer, IT Networking\", \"TechOps Engineer\", \"Senior Boarding Executive / Boarding Executive (IT/AV) \\u2013 2 years contract\", \"VoIP Support\", \"Network Engineer\", \"System Administrator\", \"Consultant, Service Delivery\", \"IT Executive\", \"Lead Consultant, IT Security\", \"IT Network Engineer\", \"ASSOCIATE ENGINEERS\", \"Project Engineer / Project Executive (up to S$3500, MNC)\", \"Office Solutions Engineer\", \"Software Support Engineer\", \"Network Engineer\", \"IT Support / Executive\", \"Network Engineer\", \"IT Assistant\", \"Hardware Operations Site Manager\", \"IT Site Manager\", \"Technical Support Engineer\", \"Systems Administrator - REF16074R\", \"IT Solution Manager\", \"IT Officer\", \"Storage and Backup Administrator (Ref 22904)\", \"IT Manager // Bukit Batok //4000-5000 // Firewall // Server\", \"NOC Manager\", \"Network Engineer (Network Operations)\", \"Infrastructure Manager\", \"NOC Manager\", \"\\\"System Admin\\\"\", \"Unix Engineer\", \"System Engineer (IT-L3) - UP TO $4.5K/URGENT/IMMEDIATE\", \"Field Engineer, Information Technology (It)\", \"IT Onsite Support Engineer\"], \"hoffset\": 10, \"voffset\": 10}, {\"type\": \"toptoolbar\"}, {\"type\": \"htmltooltip\", \"id\": \"el55722589518913720pts\", \"labels\": [\"Data Scientist (Operation) | Local MNC | Central\", \"DevOps Engineer (up to RM14k)\", \"AM IT Singapore Head (IT Project Manager) , Asset Management IT\", \"Signalling Site Engineer\", \"Product Designer\", \"Associate Consultant\", \"Associate Product Manager\", \"Systems Analyst / Software Engineer\", \"Systems Analyst / Software Engineer\", \"Sr Lab Analyst I\", \"Software Engineer (Logistics, Backend)\", \"Senior Product Manager\", \"Project Manager (Internal Ref. 17000149)\", \"Enterprise Architect, ASEAN\", \"Marketing Executive\", \"Market Research Consultant\", \"Cryptocurrency Sales Broker - Singapore\", \"Project Manager (Internal Ref. 17000149)\", \"Channel Sales Manager \\u2013 Viet/Cambodia/Laos\", \"Biddable Media Analyst\", \"TECHNICAL CONSULTANT, INFO SOFTWARE\", \"App Store Solutions Manager\", \"I-TRADE LANE ANALYST - (JAPAN MARKET)\", \"Infocomm Officer / Senior Infocomm Officer [Infocomm Application/Infocomm Application Development Centre]\", \"Key Account Manager - Singapore\", \"Field Marketing Manager Asia\", \"Business Development Representative (Mandarin & English-Speaking)\", \"Inside Sales Account Manager\", \"Telco & Media Account Executive\", \"Software Engineer in Test\", \"SAP Concur - Technical Account Manager\", \"Back End Software Engineer\", \"APAC Payroll Coordinator\", \"Project Management Lead\", \"Software Engineer\", \"Graphic Design Intern\", \"Presales Engineer\", \"Product Manager\", \"Product Manager\", \"Senior Software Engineer, Engineering Productivity\", \"Commercial Manager, Oceania\", \"Cyber Security Business Development Manager\", \"Head of Regulation APAC\", \"CyberSecurity Consulting Systems Engineer, Singapore\", \"Data Scientist\", \"English speaking Azure Ranger\", \"Software Engineer in Test\", \"Management Trainee (Fintech)\", \"IT Help Desk Associates\", \"Software Engineer - Full Stack\", \"Project Manager\", \"APAC Payroll Coordinator\", \"New Graduate - Sales Finance Analyst - Asia Pacific Japan\", \"Magic: Head of Business Product\", \"Management Associate\", \"Inventory Technician\", \"Student Intern: HCM Sales Development Analyst\", \"Chief Technology Officer\", \"Applications Software Architecture and Engineer;\", \"Management Trainee (Fintech)\", \"Head of Pre-Sales, APJ\", \"Head of Pivotal Cloud Foundry Platform Services, APJ\", \"Account Manager, Client Success\", \"Supply Chain Engineering Program Manager\", \"Systems Reliability Engineering Manager, APAC\", \"Unified Communications Sales Director, APAC\", \"Data Engineer\", \"Talent & HR Coordinator\", \"Sr. Product Manager\", \"Fraud Operations Analyst Lead/ Program Manager\", \"Unified Communications Sales Director, APAC\", \"Business development manager\", \"Regional Manager, Professional Services\", \"Field Sales Manager- APAC\", \"Sales Manager - South Korea\", \"Business development manager\", \"HR Manager\", \"Sales Development Representative - APJ (Singapore)\", \"Project Manager\", \"Account Manager\", \"Solutions Consultant\", \"2019 Market Data Analyst\", \"ASEAN Government and Aerospace & Defense Market Development\", \"Research Intern\", \"Software Engineer, Machine Learning\", \"IT Analyst/ Software Developer\", \"Deputy Interactive Graphics Editor\", \"Experience Architect\", \"Solution Consultant\", \"Product Manager - Sales Trader\", \"Chief Technology Officer\", \"ADVERTISING AND SPONSORSHIP SALES ACCOUNT MANAGER\", \"Head of R&D on Blockchain -Smart Contract Security\", \"IT Engineer (Helpdesk)\", \"Engagement Consultant\", \"Operations Manager\", \"Section Manager, Information Technology\", \"Project Management Lead\", \"Specification Engineer\", \"Global Alliance Leader- DXC Asia\", \"Strategic Alliance Manager, Singapore\", \"Software Developer - Python\", \"Software Engineer, Smart Multi-Energy System\", \"Senior IT Specialist\", \"Strategy Officer\", \"Software Engineer (iOS)\", \"ITPS Specialist (Transport)\", \"Leonardo Center Manager, Singapore\", \"Strategic Account Manager, Singapore\", \"BUSINESS DEVELOPMENT MANAGER\", \"Major Account Manager\", \"Graduate Back End Software Engineer - Singapore\", \"Sales Account Manager (IT)\", \"Sales Development Representative\", \"Company Secretarial Executive/ Assistant Manager\", \"Senior Manager/Manager/Assistant Manager (ICT Industry Development, Ecosystem Development)\", \"Business Development Manager\", \"Project Manager\", \"Strategic Accounts Director\", \"Business Development Representative (Vietnamese & English Speaking)\", \"Sr. Manager, Business Development\", \"Product Manager\", \"Strategic Account Manager, Singapore\", \"Territory Manager, South Korea\", \"Full-stack Software Engineer\", \"Team Lead, Enterprise\", \"STAR Singapore Intern\", \"Policy Enforcement Manager, Disinformation, Trust and Safety, YouTube\", \"Business development manager\", \"Client Solutions Consulting III\", \"Account Manager, LE, GTS\", \"Leonardo Center Manager, Singapore\", \"Account Manager \\u2013 APAC\", \"Inside Opportunity Manager\", \"Business Development Manager, Enterprise\", \"Policy Enforcement Manager, Disinformation, Trust and Safety, YouTube\", \"Snr Executive Secretary & Administrative Manager\", \"MySQL APAC Partner Marketing Manager\", \"Business Solution Manager\", \"Senior Manager, Manufacturing SG SPE\", \"Marketing Manager- (APAC)\", \"TradeOps Developer - Singapore (Python)\", \"AM IT Singapore Head (IT Project Manager) , Asset Management IT\", \"Photographer / Senior Photographer\", \"Commercial Manager, Oceania\", \"Business Solution Manager\", \"Software Engineer\", \"3 months/6 months/12 months Internship: Coding & STEM Instructor\", \"Sales Development Representative - Japan\", \"Product Management Internship\", \"Digital Product Manager\", \"Sales Engineers (IT Solutions and Services)\", \"Commercial Manager, Oceania\", \"Sales Manager,Insurance, Singapore\", \"Marketing Manager- (APAC)\", \"Manager, Branding & Communications\", \"STAR Singapore Intern\", \"Sr Software Engineer\", \"Biddable Media Analyst\", \"Sales Engineer - APAC\", \"Industry Content Manager\", \"Project Manager\", \"Contract Manager\", \"Product Management Internship\", \"Asia Emerging Markets Partner Account Manager\", \"Data Scientist\", \"Software Engineer, Intern\", \"2019 Customer Support Representative (English/Korean Speaker) SG\", \"Associate, Application Engineering\", \"Office Manager (Singapore)\", \"VMware Cloud on AWS, Partner Manager \\u2013 ASEAN\"], \"hoffset\": 10, \"voffset\": 10}, {\"type\": \"toptoolbar\"}, {\"type\": \"htmltooltip\", \"id\": \"el55722589516834688pts\", \"labels\": [\"Application Engineer (IT Solution @ PJU1A - Up to RM6000)\", \"Performance Test Engineer (Up to $7500 / Python / Linux / US MNC)\", \"Software Engineer / Programmer| Up to $7k\", \"(SA) Software Engineer - JAVA [Ref: 43786] Cyberjaya, RM6k\", \"(SA) Software Engineer - C# [Ref: 43785] - Putrajaya/Cyberjaya\", \"Web Application Developer (.NET) Central, Kuala Lumpur\", \"Senior .Net Developer\", \"Software Engineer ( C#/ C++)\", \"System Analyst (Based in Kuala Lumpur)\", \"Software & QA Support Engineer (Based in Kuala Lumpur)\", \"Software Engineer (C++, MRT Project)\", \"Lead Software Engineer\", \"IT Manager - Java Applications\", \"Software Engineer - PE-JD-640\", \"DevOps Engineer\", \"Software and Applications Developer\", \"Artificial Intelligence Bot Engineer Intern\", \"Software Engineer - Web (JavaScript / React), Singapore\", \"Software and Applications Developer\", \"Software Developer (.Net / C#) (Up to 7K) (West) (IT MNC)\", \"Sr. Software Engineer\", \"Senior Software Developer - Tableau\", \"Software Configuration Analyst\", \"Senior Software Engineer (C#/.Net) - Immediate\", \"Software Test Engineer\", \"IT Analyst (Emerging Technologies) - Direct Contract\", \"Software Engineer (Java) (Ref 22716)\", \"Software Engineer (Web Frontend)\", \"Software Engineer\", \"Software Engineer (Java)\", \"Software Engineer\", \"Software Engineer (Java)\", \"Software Engineer - Web (JavaScript/ React)\", \"Javascript Software Engineering (Mid- Level)\", \"Software Developer\", \"R&D Test Software Developer\", \"Software Engineer (Java)\", \"Junior Software Engineer\", \"Associate Software Architect (.NET)\", \"Test Automation Engineer\", \"Test Automation Engineer\", \"Pega Developer (ITSR)\", \"Comsumer Suites Developer (ITSR)\", \"Software Engineer\", \"Senior IT Analyst\", \"Software Engineer\", \"Estate Manager (Car Parks)\", \"Estate Manager (Car Parks)\", \"Software Developer (.Net MVC, Telerik) - Based in KL, Malaysia\", \"Integration Consultant\", \"Software Developer (.Net MVC, Telerik) - Based in KL, Malaysia\", \"Operations Software Engineer (IT/Telecommunication Related Industry/Central Area/Up to 6K/Urgent)\", \"Software Development Lead\", \"Back-end Magento Software Engineer\"], \"hoffset\": 10, \"voffset\": 10}, {\"type\": \"toptoolbar\"}]});\n",
       "   }(mpld3);\n",
       "}else if(typeof define === \"function\" && define.amd){\n",
       "   // require.js is available: use it to load d3/mpld3\n",
       "   require.config({paths: {d3: \"https://mpld3.github.io/js/d3.v3.min\"}});\n",
       "   require([\"d3\"], function(d3){\n",
       "      window.d3 = d3;\n",
       "      mpld3_load_lib(\"https://mpld3.github.io/js/mpld3.v0.3.js\", function(){\n",
       "         \n",
       "    mpld3.register_plugin(\"htmltooltip\", HtmlTooltipPlugin);\n",
       "    HtmlTooltipPlugin.prototype = Object.create(mpld3.Plugin.prototype);\n",
       "    HtmlTooltipPlugin.prototype.constructor = HtmlTooltipPlugin;\n",
       "    HtmlTooltipPlugin.prototype.requiredProps = [\"id\"];\n",
       "    HtmlTooltipPlugin.prototype.defaultProps = {labels:null,\n",
       "                                                hoffset:0,\n",
       "                                                voffset:10};\n",
       "    function HtmlTooltipPlugin(fig, props){\n",
       "        mpld3.Plugin.call(this, fig, props);\n",
       "    };\n",
       "\n",
       "    HtmlTooltipPlugin.prototype.draw = function(){\n",
       "       var obj = mpld3.get_element(this.props.id);\n",
       "       var labels = this.props.labels;\n",
       "       var tooltip = d3.select(\"body\").append(\"div\")\n",
       "                    .attr(\"class\", \"mpld3-tooltip\")\n",
       "                    .style(\"position\", \"absolute\")\n",
       "                    .style(\"z-index\", \"10\")\n",
       "                    .style(\"visibility\", \"hidden\");\n",
       "\n",
       "       obj.elements()\n",
       "           .on(\"mouseover\", function(d, i){\n",
       "                              tooltip.html(labels[i])\n",
       "                                     .style(\"visibility\", \"visible\");})\n",
       "           .on(\"mousemove\", function(d, i){\n",
       "                  tooltip\n",
       "                    .style(\"top\", d3.event.pageY + this.props.voffset + \"px\")\n",
       "                    .style(\"left\",d3.event.pageX + this.props.hoffset + \"px\");\n",
       "                 }.bind(this))\n",
       "           .on(\"mouseout\",  function(d, i){\n",
       "                           tooltip.style(\"visibility\", \"hidden\");});\n",
       "    };\n",
       "    \n",
       "    mpld3.register_plugin(\"toptoolbar\", TopToolbar);\n",
       "    TopToolbar.prototype = Object.create(mpld3.Plugin.prototype);\n",
       "    TopToolbar.prototype.constructor = TopToolbar;\n",
       "    function TopToolbar(fig, props){\n",
       "        mpld3.Plugin.call(this, fig, props);\n",
       "    };\n",
       "\n",
       "    TopToolbar.prototype.draw = function(){\n",
       "      // the toolbar svg doesn't exist\n",
       "      // yet, so first draw it\n",
       "      this.fig.toolbar.draw();\n",
       "\n",
       "      // then change the y position to be\n",
       "      // at the top of the figure\n",
       "      this.fig.toolbar.toolbar.attr(\"x\", 150);\n",
       "      this.fig.toolbar.toolbar.attr(\"y\", 400);\n",
       "\n",
       "      // then remove the draw function,\n",
       "      // so that it is not called again\n",
       "      this.fig.toolbar.draw = function() {}\n",
       "    }\n",
       "    \n",
       "    mpld3.register_plugin(\"htmltooltip\", HtmlTooltipPlugin);\n",
       "    HtmlTooltipPlugin.prototype = Object.create(mpld3.Plugin.prototype);\n",
       "    HtmlTooltipPlugin.prototype.constructor = HtmlTooltipPlugin;\n",
       "    HtmlTooltipPlugin.prototype.requiredProps = [\"id\"];\n",
       "    HtmlTooltipPlugin.prototype.defaultProps = {labels:null,\n",
       "                                                hoffset:0,\n",
       "                                                voffset:10};\n",
       "    function HtmlTooltipPlugin(fig, props){\n",
       "        mpld3.Plugin.call(this, fig, props);\n",
       "    };\n",
       "\n",
       "    HtmlTooltipPlugin.prototype.draw = function(){\n",
       "       var obj = mpld3.get_element(this.props.id);\n",
       "       var labels = this.props.labels;\n",
       "       var tooltip = d3.select(\"body\").append(\"div\")\n",
       "                    .attr(\"class\", \"mpld3-tooltip\")\n",
       "                    .style(\"position\", \"absolute\")\n",
       "                    .style(\"z-index\", \"10\")\n",
       "                    .style(\"visibility\", \"hidden\");\n",
       "\n",
       "       obj.elements()\n",
       "           .on(\"mouseover\", function(d, i){\n",
       "                              tooltip.html(labels[i])\n",
       "                                     .style(\"visibility\", \"visible\");})\n",
       "           .on(\"mousemove\", function(d, i){\n",
       "                  tooltip\n",
       "                    .style(\"top\", d3.event.pageY + this.props.voffset + \"px\")\n",
       "                    .style(\"left\",d3.event.pageX + this.props.hoffset + \"px\");\n",
       "                 }.bind(this))\n",
       "           .on(\"mouseout\",  function(d, i){\n",
       "                           tooltip.style(\"visibility\", \"hidden\");});\n",
       "    };\n",
       "    \n",
       "    mpld3.register_plugin(\"toptoolbar\", TopToolbar);\n",
       "    TopToolbar.prototype = Object.create(mpld3.Plugin.prototype);\n",
       "    TopToolbar.prototype.constructor = TopToolbar;\n",
       "    function TopToolbar(fig, props){\n",
       "        mpld3.Plugin.call(this, fig, props);\n",
       "    };\n",
       "\n",
       "    TopToolbar.prototype.draw = function(){\n",
       "      // the toolbar svg doesn't exist\n",
       "      // yet, so first draw it\n",
       "      this.fig.toolbar.draw();\n",
       "\n",
       "      // then change the y position to be\n",
       "      // at the top of the figure\n",
       "      this.fig.toolbar.toolbar.attr(\"x\", 150);\n",
       "      this.fig.toolbar.toolbar.attr(\"y\", 400);\n",
       "\n",
       "      // then remove the draw function,\n",
       "      // so that it is not called again\n",
       "      this.fig.toolbar.draw = function() {}\n",
       "    }\n",
       "    \n",
       "    mpld3.register_plugin(\"htmltooltip\", HtmlTooltipPlugin);\n",
       "    HtmlTooltipPlugin.prototype = Object.create(mpld3.Plugin.prototype);\n",
       "    HtmlTooltipPlugin.prototype.constructor = HtmlTooltipPlugin;\n",
       "    HtmlTooltipPlugin.prototype.requiredProps = [\"id\"];\n",
       "    HtmlTooltipPlugin.prototype.defaultProps = {labels:null,\n",
       "                                                hoffset:0,\n",
       "                                                voffset:10};\n",
       "    function HtmlTooltipPlugin(fig, props){\n",
       "        mpld3.Plugin.call(this, fig, props);\n",
       "    };\n",
       "\n",
       "    HtmlTooltipPlugin.prototype.draw = function(){\n",
       "       var obj = mpld3.get_element(this.props.id);\n",
       "       var labels = this.props.labels;\n",
       "       var tooltip = d3.select(\"body\").append(\"div\")\n",
       "                    .attr(\"class\", \"mpld3-tooltip\")\n",
       "                    .style(\"position\", \"absolute\")\n",
       "                    .style(\"z-index\", \"10\")\n",
       "                    .style(\"visibility\", \"hidden\");\n",
       "\n",
       "       obj.elements()\n",
       "           .on(\"mouseover\", function(d, i){\n",
       "                              tooltip.html(labels[i])\n",
       "                                     .style(\"visibility\", \"visible\");})\n",
       "           .on(\"mousemove\", function(d, i){\n",
       "                  tooltip\n",
       "                    .style(\"top\", d3.event.pageY + this.props.voffset + \"px\")\n",
       "                    .style(\"left\",d3.event.pageX + this.props.hoffset + \"px\");\n",
       "                 }.bind(this))\n",
       "           .on(\"mouseout\",  function(d, i){\n",
       "                           tooltip.style(\"visibility\", \"hidden\");});\n",
       "    };\n",
       "    \n",
       "    mpld3.register_plugin(\"toptoolbar\", TopToolbar);\n",
       "    TopToolbar.prototype = Object.create(mpld3.Plugin.prototype);\n",
       "    TopToolbar.prototype.constructor = TopToolbar;\n",
       "    function TopToolbar(fig, props){\n",
       "        mpld3.Plugin.call(this, fig, props);\n",
       "    };\n",
       "\n",
       "    TopToolbar.prototype.draw = function(){\n",
       "      // the toolbar svg doesn't exist\n",
       "      // yet, so first draw it\n",
       "      this.fig.toolbar.draw();\n",
       "\n",
       "      // then change the y position to be\n",
       "      // at the top of the figure\n",
       "      this.fig.toolbar.toolbar.attr(\"x\", 150);\n",
       "      this.fig.toolbar.toolbar.attr(\"y\", 400);\n",
       "\n",
       "      // then remove the draw function,\n",
       "      // so that it is not called again\n",
       "      this.fig.toolbar.draw = function() {}\n",
       "    }\n",
       "    \n",
       "    mpld3.register_plugin(\"htmltooltip\", HtmlTooltipPlugin);\n",
       "    HtmlTooltipPlugin.prototype = Object.create(mpld3.Plugin.prototype);\n",
       "    HtmlTooltipPlugin.prototype.constructor = HtmlTooltipPlugin;\n",
       "    HtmlTooltipPlugin.prototype.requiredProps = [\"id\"];\n",
       "    HtmlTooltipPlugin.prototype.defaultProps = {labels:null,\n",
       "                                                hoffset:0,\n",
       "                                                voffset:10};\n",
       "    function HtmlTooltipPlugin(fig, props){\n",
       "        mpld3.Plugin.call(this, fig, props);\n",
       "    };\n",
       "\n",
       "    HtmlTooltipPlugin.prototype.draw = function(){\n",
       "       var obj = mpld3.get_element(this.props.id);\n",
       "       var labels = this.props.labels;\n",
       "       var tooltip = d3.select(\"body\").append(\"div\")\n",
       "                    .attr(\"class\", \"mpld3-tooltip\")\n",
       "                    .style(\"position\", \"absolute\")\n",
       "                    .style(\"z-index\", \"10\")\n",
       "                    .style(\"visibility\", \"hidden\");\n",
       "\n",
       "       obj.elements()\n",
       "           .on(\"mouseover\", function(d, i){\n",
       "                              tooltip.html(labels[i])\n",
       "                                     .style(\"visibility\", \"visible\");})\n",
       "           .on(\"mousemove\", function(d, i){\n",
       "                  tooltip\n",
       "                    .style(\"top\", d3.event.pageY + this.props.voffset + \"px\")\n",
       "                    .style(\"left\",d3.event.pageX + this.props.hoffset + \"px\");\n",
       "                 }.bind(this))\n",
       "           .on(\"mouseout\",  function(d, i){\n",
       "                           tooltip.style(\"visibility\", \"hidden\");});\n",
       "    };\n",
       "    \n",
       "    mpld3.register_plugin(\"toptoolbar\", TopToolbar);\n",
       "    TopToolbar.prototype = Object.create(mpld3.Plugin.prototype);\n",
       "    TopToolbar.prototype.constructor = TopToolbar;\n",
       "    function TopToolbar(fig, props){\n",
       "        mpld3.Plugin.call(this, fig, props);\n",
       "    };\n",
       "\n",
       "    TopToolbar.prototype.draw = function(){\n",
       "      // the toolbar svg doesn't exist\n",
       "      // yet, so first draw it\n",
       "      this.fig.toolbar.draw();\n",
       "\n",
       "      // then change the y position to be\n",
       "      // at the top of the figure\n",
       "      this.fig.toolbar.toolbar.attr(\"x\", 150);\n",
       "      this.fig.toolbar.toolbar.attr(\"y\", 400);\n",
       "\n",
       "      // then remove the draw function,\n",
       "      // so that it is not called again\n",
       "      this.fig.toolbar.draw = function() {}\n",
       "    }\n",
       "    \n",
       "    mpld3.register_plugin(\"htmltooltip\", HtmlTooltipPlugin);\n",
       "    HtmlTooltipPlugin.prototype = Object.create(mpld3.Plugin.prototype);\n",
       "    HtmlTooltipPlugin.prototype.constructor = HtmlTooltipPlugin;\n",
       "    HtmlTooltipPlugin.prototype.requiredProps = [\"id\"];\n",
       "    HtmlTooltipPlugin.prototype.defaultProps = {labels:null,\n",
       "                                                hoffset:0,\n",
       "                                                voffset:10};\n",
       "    function HtmlTooltipPlugin(fig, props){\n",
       "        mpld3.Plugin.call(this, fig, props);\n",
       "    };\n",
       "\n",
       "    HtmlTooltipPlugin.prototype.draw = function(){\n",
       "       var obj = mpld3.get_element(this.props.id);\n",
       "       var labels = this.props.labels;\n",
       "       var tooltip = d3.select(\"body\").append(\"div\")\n",
       "                    .attr(\"class\", \"mpld3-tooltip\")\n",
       "                    .style(\"position\", \"absolute\")\n",
       "                    .style(\"z-index\", \"10\")\n",
       "                    .style(\"visibility\", \"hidden\");\n",
       "\n",
       "       obj.elements()\n",
       "           .on(\"mouseover\", function(d, i){\n",
       "                              tooltip.html(labels[i])\n",
       "                                     .style(\"visibility\", \"visible\");})\n",
       "           .on(\"mousemove\", function(d, i){\n",
       "                  tooltip\n",
       "                    .style(\"top\", d3.event.pageY + this.props.voffset + \"px\")\n",
       "                    .style(\"left\",d3.event.pageX + this.props.hoffset + \"px\");\n",
       "                 }.bind(this))\n",
       "           .on(\"mouseout\",  function(d, i){\n",
       "                           tooltip.style(\"visibility\", \"hidden\");});\n",
       "    };\n",
       "    \n",
       "    mpld3.register_plugin(\"toptoolbar\", TopToolbar);\n",
       "    TopToolbar.prototype = Object.create(mpld3.Plugin.prototype);\n",
       "    TopToolbar.prototype.constructor = TopToolbar;\n",
       "    function TopToolbar(fig, props){\n",
       "        mpld3.Plugin.call(this, fig, props);\n",
       "    };\n",
       "\n",
       "    TopToolbar.prototype.draw = function(){\n",
       "      // the toolbar svg doesn't exist\n",
       "      // yet, so first draw it\n",
       "      this.fig.toolbar.draw();\n",
       "\n",
       "      // then change the y position to be\n",
       "      // at the top of the figure\n",
       "      this.fig.toolbar.toolbar.attr(\"x\", 150);\n",
       "      this.fig.toolbar.toolbar.attr(\"y\", 400);\n",
       "\n",
       "      // then remove the draw function,\n",
       "      // so that it is not called again\n",
       "      this.fig.toolbar.draw = function() {}\n",
       "    }\n",
       "    \n",
       "         mpld3.draw_figure(\"fig_el557225895147717046976085338\", {\"width\": 1008.0, \"height\": 432.0, \"axes\": [{\"bbox\": [0.125, 0.125, 0.775, 0.755], \"xlim\": [-0.4678096720913266, 0.31607620901662287], \"ylim\": [-0.40056334129793303, 0.46586343301200817], \"xdomain\": [-0.4678096720913266, 0.31607620901662287], \"ydomain\": [-0.40056334129793303, 0.46586343301200817], \"xscale\": \"linear\", \"yscale\": \"linear\", \"axes\": [{\"position\": \"bottom\", \"nticks\": 0, \"tickvalues\": [], \"tickformat\": \"\", \"scale\": \"linear\", \"fontsize\": null, \"grid\": {\"gridOn\": false}, \"visible\": false}, {\"position\": \"left\", \"nticks\": 0, \"tickvalues\": [], \"tickformat\": \"\", \"scale\": \"linear\", \"fontsize\": null, \"grid\": {\"gridOn\": false}, \"visible\": false}], \"axesbg\": \"#FFFFFF\", \"axesbgalpha\": null, \"zoomable\": true, \"id\": \"el55722589518792464\", \"lines\": [], \"paths\": [{\"data\": \"data07\", \"xindex\": 0, \"yindex\": 1, \"coordinates\": \"axes\", \"pathcodes\": [\"M\", \"L\", \"S\", \"L\", \"S\", \"L\", \"S\", \"L\", \"S\", \"Z\"], \"id\": \"el55722589519008656\", \"dasharray\": \"none\", \"alpha\": 0.8, \"facecolor\": \"#FFFFFF\", \"edgecolor\": \"#CCCCCC\", \"edgewidth\": 1.0, \"zorder\": 1000000.0}], \"markers\": [{\"data\": \"data01\", \"xindex\": 0, \"yindex\": 1, \"coordinates\": \"data\", \"id\": \"el55722589516805792pts\", \"facecolor\": \"#950080\", \"edgecolor\": \"none\", \"edgewidth\": 1.0, \"alpha\": 1, \"zorder\": 2, \"markerpath\": [[[0.0, 3.5], [0.9282108500000001, 3.5], [1.8185295477469872, 3.131217920558846], [2.4748737341529163, 2.4748737341529163], [3.131217920558846, 1.8185295477469872], [3.5, 0.9282108500000001], [3.5, 0.0], [3.5, -0.9282108500000001], [3.131217920558846, -1.8185295477469872], [2.4748737341529163, -2.4748737341529163], [1.8185295477469872, -3.131217920558846], [0.9282108500000001, -3.5], [0.0, -3.5], [-0.9282108500000001, -3.5], [-1.8185295477469872, -3.131217920558846], [-2.4748737341529163, -2.4748737341529163], [-3.131217920558846, -1.8185295477469872], [-3.5, -0.9282108500000001], [-3.5, 0.0], [-3.5, 0.9282108500000001], [-3.131217920558846, 1.8185295477469872], [-2.4748737341529163, 2.4748737341529163], [-1.8185295477469872, 3.131217920558846], [-0.9282108500000001, 3.5], [0.0, 3.5]], [\"M\", \"C\", \"C\", \"C\", \"C\", \"C\", \"C\", \"C\", \"C\", \"Z\"]]}, {\"data\": \"data02\", \"xindex\": 0, \"yindex\": 1, \"coordinates\": \"data\", \"id\": \"el55722589519008824pts\", \"facecolor\": \"#DB3F9F\", \"edgecolor\": \"none\", \"edgewidth\": 1.0, \"alpha\": 1, \"zorder\": 2, \"markerpath\": [[[0.0, 3.5], [0.9282108500000001, 3.5], [1.8185295477469872, 3.131217920558846], [2.4748737341529163, 2.4748737341529163], [3.131217920558846, 1.8185295477469872], [3.5, 0.9282108500000001], [3.5, 0.0], [3.5, -0.9282108500000001], [3.131217920558846, -1.8185295477469872], [2.4748737341529163, -2.4748737341529163], [1.8185295477469872, -3.131217920558846], [0.9282108500000001, -3.5], [0.0, -3.5], [-0.9282108500000001, -3.5], [-1.8185295477469872, -3.131217920558846], [-2.4748737341529163, -2.4748737341529163], [-3.131217920558846, -1.8185295477469872], [-3.5, -0.9282108500000001], [-3.5, 0.0], [-3.5, 0.9282108500000001], [-3.131217920558846, 1.8185295477469872], [-2.4748737341529163, 2.4748737341529163], [-1.8185295477469872, 3.131217920558846], [-0.9282108500000001, 3.5], [0.0, 3.5]], [\"M\", \"C\", \"C\", \"C\", \"C\", \"C\", \"C\", \"C\", \"C\", \"Z\"]]}, {\"data\": \"data03\", \"xindex\": 0, \"yindex\": 1, \"coordinates\": \"data\", \"id\": \"el55722589516807136pts\", \"facecolor\": \"#A27159\", \"edgecolor\": \"none\", \"edgewidth\": 1.0, \"alpha\": 1, \"zorder\": 2, \"markerpath\": [[[0.0, 3.5], [0.9282108500000001, 3.5], [1.8185295477469872, 3.131217920558846], [2.4748737341529163, 2.4748737341529163], [3.131217920558846, 1.8185295477469872], [3.5, 0.9282108500000001], [3.5, 0.0], [3.5, -0.9282108500000001], [3.131217920558846, -1.8185295477469872], [2.4748737341529163, -2.4748737341529163], [1.8185295477469872, -3.131217920558846], [0.9282108500000001, -3.5], [0.0, -3.5], [-0.9282108500000001, -3.5], [-1.8185295477469872, -3.131217920558846], [-2.4748737341529163, -2.4748737341529163], [-3.131217920558846, -1.8185295477469872], [-3.5, -0.9282108500000001], [-3.5, 0.0], [-3.5, 0.9282108500000001], [-3.131217920558846, 1.8185295477469872], [-2.4748737341529163, 2.4748737341529163], [-1.8185295477469872, 3.131217920558846], [-0.9282108500000001, 3.5], [0.0, 3.5]], [\"M\", \"C\", \"C\", \"C\", \"C\", \"C\", \"C\", \"C\", \"C\", \"Z\"]]}, {\"data\": \"data04\", \"xindex\": 0, \"yindex\": 1, \"coordinates\": \"data\", \"id\": \"el55722589518913720pts\", \"facecolor\": \"#BBBA18\", \"edgecolor\": \"none\", \"edgewidth\": 1.0, \"alpha\": 1, \"zorder\": 2, \"markerpath\": [[[0.0, 3.5], [0.9282108500000001, 3.5], [1.8185295477469872, 3.131217920558846], [2.4748737341529163, 2.4748737341529163], [3.131217920558846, 1.8185295477469872], [3.5, 0.9282108500000001], [3.5, 0.0], [3.5, -0.9282108500000001], [3.131217920558846, -1.8185295477469872], [2.4748737341529163, -2.4748737341529163], [1.8185295477469872, -3.131217920558846], [0.9282108500000001, -3.5], [0.0, -3.5], [-0.9282108500000001, -3.5], [-1.8185295477469872, -3.131217920558846], [-2.4748737341529163, -2.4748737341529163], [-3.131217920558846, -1.8185295477469872], [-3.5, -0.9282108500000001], [-3.5, 0.0], [-3.5, 0.9282108500000001], [-3.131217920558846, 1.8185295477469872], [-2.4748737341529163, 2.4748737341529163], [-1.8185295477469872, 3.131217920558846], [-0.9282108500000001, 3.5], [0.0, 3.5]], [\"M\", \"C\", \"C\", \"C\", \"C\", \"C\", \"C\", \"C\", \"C\", \"Z\"]]}, {\"data\": \"data05\", \"xindex\": 0, \"yindex\": 1, \"coordinates\": \"data\", \"id\": \"el55722589516834688pts\", \"facecolor\": \"#5F1042\", \"edgecolor\": \"none\", \"edgewidth\": 1.0, \"alpha\": 1, \"zorder\": 2, \"markerpath\": [[[0.0, 3.5], [0.9282108500000001, 3.5], [1.8185295477469872, 3.131217920558846], [2.4748737341529163, 2.4748737341529163], [3.131217920558846, 1.8185295477469872], [3.5, 0.9282108500000001], [3.5, 0.0], [3.5, -0.9282108500000001], [3.131217920558846, -1.8185295477469872], [2.4748737341529163, -2.4748737341529163], [1.8185295477469872, -3.131217920558846], [0.9282108500000001, -3.5], [0.0, -3.5], [-0.9282108500000001, -3.5], [-1.8185295477469872, -3.131217920558846], [-2.4748737341529163, -2.4748737341529163], [-3.131217920558846, -1.8185295477469872], [-3.5, -0.9282108500000001], [-3.5, 0.0], [-3.5, 0.9282108500000001], [-3.131217920558846, 1.8185295477469872], [-2.4748737341529163, 2.4748737341529163], [-1.8185295477469872, 3.131217920558846], [-0.9282108500000001, 3.5], [0.0, 3.5]], [\"M\", \"C\", \"C\", \"C\", \"C\", \"C\", \"C\", \"C\", \"C\", \"Z\"]]}, {\"data\": \"data06\", \"xindex\": 0, \"yindex\": 1, \"coordinates\": \"axes\", \"id\": \"el55722589519081656pts\", \"facecolor\": \"#950080\", \"edgecolor\": \"none\", \"edgewidth\": 1.0, \"alpha\": 1, \"zorder\": 1000002.0, \"markerpath\": [[[0.0, 3.5], [0.9282108500000001, 3.5], [1.8185295477469872, 3.131217920558846], [2.4748737341529163, 2.4748737341529163], [3.131217920558846, 1.8185295477469872], [3.5, 0.9282108500000001], [3.5, 0.0], [3.5, -0.9282108500000001], [3.131217920558846, -1.8185295477469872], [2.4748737341529163, -2.4748737341529163], [1.8185295477469872, -3.131217920558846], [0.9282108500000001, -3.5], [0.0, -3.5], [-0.9282108500000001, -3.5], [-1.8185295477469872, -3.131217920558846], [-2.4748737341529163, -2.4748737341529163], [-3.131217920558846, -1.8185295477469872], [-3.5, -0.9282108500000001], [-3.5, 0.0], [-3.5, 0.9282108500000001], [-3.131217920558846, 1.8185295477469872], [-2.4748737341529163, 2.4748737341529163], [-1.8185295477469872, 3.131217920558846], [-0.9282108500000001, 3.5], [0.0, 3.5]], [\"M\", \"C\", \"C\", \"C\", \"C\", \"C\", \"C\", \"C\", \"C\", \"Z\"]]}, {\"data\": \"data06\", \"xindex\": 0, \"yindex\": 2, \"coordinates\": \"axes\", \"id\": \"el55722589519083168pts\", \"facecolor\": \"#DB3F9F\", \"edgecolor\": \"none\", \"edgewidth\": 1.0, \"alpha\": 1, \"zorder\": 1000002.0, \"markerpath\": [[[0.0, 3.5], [0.9282108500000001, 3.5], [1.8185295477469872, 3.131217920558846], [2.4748737341529163, 2.4748737341529163], [3.131217920558846, 1.8185295477469872], [3.5, 0.9282108500000001], [3.5, 0.0], [3.5, -0.9282108500000001], [3.131217920558846, -1.8185295477469872], [2.4748737341529163, -2.4748737341529163], [1.8185295477469872, -3.131217920558846], [0.9282108500000001, -3.5], [0.0, -3.5], [-0.9282108500000001, -3.5], [-1.8185295477469872, -3.131217920558846], [-2.4748737341529163, -2.4748737341529163], [-3.131217920558846, -1.8185295477469872], [-3.5, -0.9282108500000001], [-3.5, 0.0], [-3.5, 0.9282108500000001], [-3.131217920558846, 1.8185295477469872], [-2.4748737341529163, 2.4748737341529163], [-1.8185295477469872, 3.131217920558846], [-0.9282108500000001, 3.5], [0.0, 3.5]], [\"M\", \"C\", \"C\", \"C\", \"C\", \"C\", \"C\", \"C\", \"C\", \"Z\"]]}, {\"data\": \"data06\", \"xindex\": 0, \"yindex\": 3, \"coordinates\": \"axes\", \"id\": \"el55722589519084680pts\", \"facecolor\": \"#A27159\", \"edgecolor\": \"none\", \"edgewidth\": 1.0, \"alpha\": 1, \"zorder\": 1000002.0, \"markerpath\": [[[0.0, 3.5], [0.9282108500000001, 3.5], [1.8185295477469872, 3.131217920558846], [2.4748737341529163, 2.4748737341529163], [3.131217920558846, 1.8185295477469872], [3.5, 0.9282108500000001], [3.5, 0.0], [3.5, -0.9282108500000001], [3.131217920558846, -1.8185295477469872], [2.4748737341529163, -2.4748737341529163], [1.8185295477469872, -3.131217920558846], [0.9282108500000001, -3.5], [0.0, -3.5], [-0.9282108500000001, -3.5], [-1.8185295477469872, -3.131217920558846], [-2.4748737341529163, -2.4748737341529163], [-3.131217920558846, -1.8185295477469872], [-3.5, -0.9282108500000001], [-3.5, 0.0], [-3.5, 0.9282108500000001], [-3.131217920558846, 1.8185295477469872], [-2.4748737341529163, 2.4748737341529163], [-1.8185295477469872, 3.131217920558846], [-0.9282108500000001, 3.5], [0.0, 3.5]], [\"M\", \"C\", \"C\", \"C\", \"C\", \"C\", \"C\", \"C\", \"C\", \"Z\"]]}, {\"data\": \"data06\", \"xindex\": 0, \"yindex\": 4, \"coordinates\": \"axes\", \"id\": \"el55722589519119024pts\", \"facecolor\": \"#BBBA18\", \"edgecolor\": \"none\", \"edgewidth\": 1.0, \"alpha\": 1, \"zorder\": 1000002.0, \"markerpath\": [[[0.0, 3.5], [0.9282108500000001, 3.5], [1.8185295477469872, 3.131217920558846], [2.4748737341529163, 2.4748737341529163], [3.131217920558846, 1.8185295477469872], [3.5, 0.9282108500000001], [3.5, 0.0], [3.5, -0.9282108500000001], [3.131217920558846, -1.8185295477469872], [2.4748737341529163, -2.4748737341529163], [1.8185295477469872, -3.131217920558846], [0.9282108500000001, -3.5], [0.0, -3.5], [-0.9282108500000001, -3.5], [-1.8185295477469872, -3.131217920558846], [-2.4748737341529163, -2.4748737341529163], [-3.131217920558846, -1.8185295477469872], [-3.5, -0.9282108500000001], [-3.5, 0.0], [-3.5, 0.9282108500000001], [-3.131217920558846, 1.8185295477469872], [-2.4748737341529163, 2.4748737341529163], [-1.8185295477469872, 3.131217920558846], [-0.9282108500000001, 3.5], [0.0, 3.5]], [\"M\", \"C\", \"C\", \"C\", \"C\", \"C\", \"C\", \"C\", \"C\", \"Z\"]]}, {\"data\": \"data06\", \"xindex\": 0, \"yindex\": 5, \"coordinates\": \"axes\", \"id\": \"el55722589519120536pts\", \"facecolor\": \"#5F1042\", \"edgecolor\": \"none\", \"edgewidth\": 1.0, \"alpha\": 1, \"zorder\": 1000002.0, \"markerpath\": [[[0.0, 3.5], [0.9282108500000001, 3.5], [1.8185295477469872, 3.131217920558846], [2.4748737341529163, 2.4748737341529163], [3.131217920558846, 1.8185295477469872], [3.5, 0.9282108500000001], [3.5, 0.0], [3.5, -0.9282108500000001], [3.131217920558846, -1.8185295477469872], [2.4748737341529163, -2.4748737341529163], [1.8185295477469872, -3.131217920558846], [0.9282108500000001, -3.5], [0.0, -3.5], [-0.9282108500000001, -3.5], [-1.8185295477469872, -3.131217920558846], [-2.4748737341529163, -2.4748737341529163], [-3.131217920558846, -1.8185295477469872], [-3.5, -0.9282108500000001], [-3.5, 0.0], [-3.5, 0.9282108500000001], [-3.131217920558846, 1.8185295477469872], [-2.4748737341529163, 2.4748737341529163], [-1.8185295477469872, 3.131217920558846], [-0.9282108500000001, 3.5], [0.0, 3.5]], [\"M\", \"C\", \"C\", \"C\", \"C\", \"C\", \"C\", \"C\", \"C\", \"Z\"]]}], \"texts\": [{\"text\": \"Concept 0\", \"position\": [0.04736303123399899, 0.9478783419180772], \"coordinates\": \"axes\", \"h_anchor\": \"start\", \"v_baseline\": \"auto\", \"rotation\": -0.0, \"fontsize\": 10.0, \"color\": \"#000000\", \"alpha\": 1, \"zorder\": 1000003.0, \"id\": \"el55722589519010392\"}, {\"text\": \"Concept 1\", \"position\": [0.04736303123399899, 0.901888643610498], \"coordinates\": \"axes\", \"h_anchor\": \"start\", \"v_baseline\": \"auto\", \"rotation\": -0.0, \"fontsize\": 10.0, \"color\": \"#000000\", \"alpha\": 1, \"zorder\": 1000003.0, \"id\": \"el55722589519082664\"}, {\"text\": \"Concept 2\", \"position\": [0.04736303123399899, 0.8558989453029189], \"coordinates\": \"axes\", \"h_anchor\": \"start\", \"v_baseline\": \"auto\", \"rotation\": -0.0, \"fontsize\": 10.0, \"color\": \"#000000\", \"alpha\": 1, \"zorder\": 1000003.0, \"id\": \"el55722589519084176\"}, {\"text\": \"Concept 4\", \"position\": [0.04736303123399899, 0.8099092469953398], \"coordinates\": \"axes\", \"h_anchor\": \"start\", \"v_baseline\": \"auto\", \"rotation\": -0.0, \"fontsize\": 10.0, \"color\": \"#000000\", \"alpha\": 1, \"zorder\": 1000003.0, \"id\": \"el55722589519118520\"}, {\"text\": \"Concept 6\", \"position\": [0.04736303123399899, 0.7639195486877607], \"coordinates\": \"axes\", \"h_anchor\": \"start\", \"v_baseline\": \"auto\", \"rotation\": -0.0, \"fontsize\": 10.0, \"color\": \"#000000\", \"alpha\": 1, \"zorder\": 1000003.0, \"id\": \"el55722589519120032\"}], \"collections\": [], \"images\": [], \"sharex\": [], \"sharey\": []}], \"data\": {\"data01\": [[-0.109273089490467, -0.11384594944739145], [-0.027146224254697402, -0.09239921526533726], [0.051234057708396265, -0.024370021572637304], [-0.14711862214626983, 0.007551049804205232], [-0.15143331262376233, 0.13283192475380123], [-0.1590730405253187, -0.09044610076698945], [-0.07690166600598908, 0.04370053102585239], [-0.01043431462948677, -0.12780714640325042], [-0.07690166600598909, 0.04370053102585238], [-0.138459029249222, -0.09035063797272674], [-0.23478198452746935, -0.03865607772974379], [-0.23469520376913158, -0.03865669063345452], [-0.040633440005114825, -0.10226753452425322], [0.04571372774343992, 0.050434995687034016], [-0.11794797192351328, -0.2062142375390064], [0.04884173139723259, 0.0015870787781111229], [0.015170926254783959, 0.0814086759264454], [0.10630237942162399, -0.03606699823786377], [0.18983588141864713, 0.09014084186775717], [-0.044814454099040835, 0.04241035466896658], [0.08951333943470702, 0.047073868159283806], [-0.14430545224509458, -0.038773291082837946], [0.012543445326203256, -0.018043818119944648], [-0.12820854101484264, 0.024557327477074613], [-0.0751793483204784, -0.05427720027461235], [-0.07856997451189905, -0.17209336590999236], [-0.06106689539134417, -0.07749210691466243], [0.011569419937230496, -0.1319174911720811], [-0.11772621745507432, -0.20515813976632363], [-0.01823502552851735, -0.06050097564802324], [0.09021904765895415, -0.05321440386966995], [-0.08081933074468518, 0.02514554794085886], [-0.14371607498213432, -0.07640853780381268], [-0.05811458236254045, 0.008936267643856705], [-0.1439205629376299, -0.007615719266969309], [-0.17777313254555208, -0.07855457770208898], [-0.06048576952481415, -0.12062934626068214], [-0.171534466221058, -0.12609465270876286], [-0.18478115631177724, -0.00707553254543902], [0.026339940457095395, -0.022981776528168733], [-0.049526590527464, -0.08802594120162165], [0.16523064180047764, 0.06595980141219288], [-0.24098110417473817, -0.06345875777437955], [-0.10331601426202203, -0.17766688779524595], [-0.15616212196055354, -0.021106035627199555], [-0.10928983833060332, -0.12945635267814876], [-0.1407475366211265, -0.1821013584481803], [-0.06597084983551402, -0.12506227205054618], [-0.1039528458846291, -0.11987741060882448], [-0.23320150147618526, -0.026702790549212492], [-0.10445929475991435, -0.11941897937597155], [-0.06463078582291953, 0.053570769796110224], [-0.08587746460724356, -0.10520145583522518], [-0.1278810970415689, 0.02453121644063496], [-0.05799315516524798, 0.010936208667708839], [0.03942885892469568, -0.11909553268704721], [-0.0037706520700439426, -0.05445918695117882], [-0.09931276217315059, -0.07963121380165426], [0.05454853884903616, -0.05390154107535548], [-0.015372170451057177, -0.11957481241917683], [-0.04650289478142738, -0.03332109813712518], [-0.15928485172788318, -0.04185032872679819], [-0.0227646474105849, -0.08913584092691738], [-0.1197946466961219, -0.0503182038715151], [-0.00573517193035191, -0.02941134757994164], [-0.038844127463022876, -0.04423467195853754], [0.0162289781040701, -0.06149117116401002], [-0.15557176418476643, -0.022579616782698736], [-0.039724413306250546, -0.049750092402179404], [-0.015372170451057142, -0.11957481241917689], [0.0016267301330270825, -0.1467392395737862], [-0.11544058096445246, -0.12019663593220771], [-0.1401672370597983, -0.07590623052534164], [-0.24880218172419677, -0.050303873198145506], [-0.22359501046757793, -0.06438664205992725], [-0.11205158935025408, -0.0824120437373446], [-0.17476743390377536, -0.1103411397458832], [-0.16580983963471527, -0.019538305151539016], [-0.22359501046757807, -0.06438664205992731], [0.0016267301330270794, -0.14673923957378615], [-0.04484008765581992, -0.1470030443400423], [-0.12948540277361953, 0.00488930225125484], [-0.1643512247888211, -0.1003381246664997], [-0.12912293837893604, 0.005132413838384796], [-0.16417269819432306, -0.0071814480989670516], [-0.05466022779211897, -0.17110616231695108], [0.04392296865373839, -0.1496998992887239], [-0.07053220719048561, -0.047783727605700384], [0.08691363920988136, 0.011689887182256739]], \"data02\": [[-0.07968147033743533, -0.09615035166865289], [0.08456665682821636, -0.1391999574669672], [0.09396727430550582, -0.06826400837525178], [-0.07298507220354353, -0.11605390055105914], [-0.24945864734571174, -0.0932839769114866], [-0.12438079231044355, 0.22516798225699056], [-0.10973672214666373, 0.1400080827141075], [-0.012975066687679513, 0.16880754860214617], [-0.07501268550771137, 0.2168199374016818], [-0.130349901578553, 0.30127252842741775], [0.008846938301207016, 0.2039113857405823], [-0.032354226203581485, 0.35575119411709505], [-0.13281216436242796, -0.05147876072509362], [-0.043125006065813175, 0.06610976185915544], [-0.1589395644890891, 0.2761661684518376], [-0.12087392905415152, 0.07139158788955942], [-0.10912555374209248, 0.2871255787459109], [0.015146705505114693, 0.08377653874908815], [0.14534967299824103, 0.11163670727504706], [0.2090811441496284, 0.0029152680870233147], [0.06283869390785086, 0.1521230899133832], [-0.11807923734412921, -0.032382635282580785], [0.1725041127611885, -0.031962011298765566], [-0.27375860535807484, 0.21856644716702994], [-0.12836231745847543, 0.040285253561418315], [0.012168139909529398, 0.004830113332885467], [-0.0605287796594688, 0.1987250241259152], [-0.07420309992653529, -0.11813326894420531], [0.2651792424309325, 0.28943603432773796], [0.13786911873045546, 0.39132690818801275], [0.09973946455298209, 0.037317139414277514], [0.001313926667464045, 0.06503350993180501], [-0.11156941428172786, -0.14545848382216928], [0.03241659583639093, -0.0035445803547835774], [-0.05477873219029249, -0.11167094973629232], [-0.14399386921080468, 0.2960591503301071], [-0.2410696106240932, -0.132261631964067], [0.03985273612788299, 0.12803776315854], [-0.3350894505791257, 0.1784575381252707], [-0.3316254396415418, 0.17731601543085845], [-0.13849926964952786, -0.275050369777829], [0.0068396583411132975, -0.05648527974515473], [-0.4456242226260073, 0.0852828525517768], [-0.2516237904837337, 0.17354414131738555], [-0.14081049537186952, 0.2930872763189857], [-0.1839812850667915, 0.04567653314091887], [-0.030420224936915388, -0.10637846128445076], [0.13965952821710376, 0.0901146460996414], [-0.2598369956415006, -0.0559210970312551], [-0.14480998608769832, -0.0016401176383270513], [-0.2043216631645108, 0.17606994761184888], [-0.14442005014906562, 0.02183878016583955], [0.08072058641833357, -0.015296169760191942], [0.008081045835820904, 0.06917157704719566], [-0.04372470738979133, 0.13336086282817866], [-0.2558560978760148, 0.02001000257018196], [-0.169618850260878, 0.11024807083995995], [-0.24636094599223518, -0.0007792637001822739], [-0.01760250880594036, -0.10949155144661395], [-0.2558560978760149, 0.02001000257018201], [-0.043724707389791284, 0.13336086282817872], [0.006875496212225023, 0.07716373924602923], [-0.20432166316451034, 0.17606994761184916], [-0.10386598192187123, -0.265380770346768], [-0.2645073809592232, 0.09537292225980347], [-0.26104074669124766, 0.1128257155701838], [0.10615414526053199, 0.08398984526889026], [0.06624871413045215, 0.06856244304840331], [-0.2314427281027135, 0.13417335172400913], [0.1560599721016378, 0.2236702765628878], [-0.06805465117806679, -0.011591382329834402], [-0.10392395297841249, -0.2662388729544358], [0.002531348229706432, 0.0984347928939644], [-0.0680546511780668, -0.011591382329834407], [-0.11893407882972114, 0.32873403320684436], [-0.18516235416057422, -0.07659563980627879], [-0.10515095927994353, -0.09412020735588807], [-0.08916876206066998, 0.031309040064724195], [0.0035710455351588228, -0.14164889163793035], [-0.23004741368846618, 0.1277575067214095], [-0.15157008012288384, 0.24044920008552523], [0.15031933842564, 0.20098327733788823], [-0.12719718768372876, -0.13563108906033777], [0.1214861550587569, -3.774208588611494e-05], [-0.0007980168307354693, -0.15271952614589246], [0.054443202896160066, 0.2501012386193261], [-0.12938749036999073, -0.11634061429946843], [-0.009984679788170366, -0.24754938236483967], [0.012837229022781118, -0.06631972186805017], [-0.16961885026087792, 0.11024807083995986], [-0.08137320719395943, 0.187830825392372], [-0.01669511342881297, 0.07624665482807483], [-0.08897733526249986, 0.17155144592774133], [0.007605947524884419, 0.28767314290898505], [-0.16508334532014518, 0.07364201391166003], [-0.23153457998741686, -0.015092077791075131], [-0.1683621200415756, 0.2673031184884454], [-0.1523810255275191, 0.044944275279832115], [-0.20092797511339558, 0.13984714263096806], [0.02640160986536369, 0.02682761419584026], [-0.037251419192204656, -0.06840480750694557], [-0.09167778505205501, 0.049172967404246454], [0.13508127882269347, 0.16823007886300156], [0.007605947524884419, 0.28767314290898494], [-0.2009872090109656, 0.13581900242821623], [-0.16607164246684022, 0.10566590953499339], [-0.035140572035592114, -0.287527074532263], [0.1398983625176377, -0.15241244088016553], [-0.043933614902683486, 0.14308124597440075], [-0.11253280866491058, 0.3468897838245436], [-0.08455767157127853, -0.018618943806157653], [0.056108561976575, 0.18257705904203417], [0.09167849738877117, 0.17894221627900223], [-0.03826968507046727, 0.1336042157903143], [-0.16836212004148907, 0.26730311848849136], [0.0025313482297064254, 0.0984347928939643], [-0.15922388754483263, -0.18903980477337323], [-0.17482035347120645, 0.25258752119480365], [0.023457081668660094, 0.0900026775819594], [-0.09747599033186408, -0.037352669775618574]], \"data03\": [[-0.20650639385353842, 0.3476871776595418], [0.04449660030065124, -0.1298260816279053], [-0.1468591932067086, 0.0623862625768373], [-0.1953488913669606, 0.26397894326457655], [-0.0029095980573595366, 0.23220434442939003], [-0.24970176384071538, 0.252545791229967], [-0.12829824145386692, 0.1689974196042842], [-0.2455180758797927, 0.2619724644151037], [-0.061397906163565094, 0.10071517852404482], [0.025562171108843887, 0.24941635463272713], [-0.11260337854670187, 0.2483986471720266], [-0.13463283596936482, 0.12118851505426748], [-0.20088386755768514, 0.1701757947816489], [-0.36020929578065874, 0.3603181983814857], [-0.13472884693581383, 0.14691184296969395], [-0.1578697887478312, 0.1743033535656546], [-0.19690718912043653, 0.44134192053153815], [-0.136886384565346, 0.04935327074701363], [-0.1408872868178059, 0.39714066164786943], [-0.0764117914857536, 0.029420737516856012], [-0.12963142403548064, 0.21637126112078223], [-0.12502163307206893, 0.2799536143421215], [-0.10786729264540329, -0.008955550932463894], [-0.11837365255568505, 0.29048306232392374], [-0.1634426602238565, 0.23451499926806574], [-0.21270711037671067, 0.28192337819373], [-0.07562937558645871, 0.09584852927912131], [-0.1549977499700702, 0.17996999638221198], [-0.14042861444939214, 0.16188679588755253], [-0.210156636057618, 0.20905292053960353], [-0.32329655695147697, 0.22970736997878435], [-0.23732878056193846, 0.15950184306436713], [-0.04522506948108592, -0.02825287048302786], [-0.188248876967956, 0.14163083947165775], [-0.13555712465736627, -0.018884038623084756], [-0.2322191559721619, 0.2606886182037264], [-0.27479814464979485, 0.29816190206053067], [-0.15386934439871633, 0.19298936749920861], [-0.2722620692741232, 0.3238141194719967], [-0.30806874231375386, 0.23930335906018385], [-0.06852124056032675, 0.18247615829166966], [-0.09352310067888815, 0.18913069135187624], [-0.148065287564705, 0.12824445583665495], [-0.1875265613642286, 0.315338562149193], [-0.0690929784981221, 0.01944736086369089], [-0.23221915597216164, 0.26068861820372685], [-0.1750904422364928, 0.22857416375472084], [-0.21281658871929285, 0.2709942650746685], [-0.23274072024716425, 0.309890261869718], [-0.17260302142268946, -0.029939941220961976], [-0.19764985752608888, 0.060541717937734774], [-0.06684371176176784, 0.288435989299991], [-0.10863954979177703, 0.19028383986891895], [-0.1081225935681897, -0.00844381411483215], [-0.16768626254856914, 0.04297737894090162], [-0.18877401438042318, 0.3939033457172841], [-0.21695447932805348, 0.16292448962281192], [-0.09179915254593027, 0.14722784584392462], [-0.16812168052513946, 0.06570571327925671], [-0.11972965180951879, 0.003817873282270852], [-0.09055669059711002, 0.14637622384104756], [-0.23719381571012, 0.2908969945303325], [-0.18090312555757773, 0.38850310590737497], [-0.264955828780116, 0.34960571481955816], [-0.28480065940133675, 0.2977618994489365], [-0.16862712557422477, 0.3918435397456835]], \"data04\": [[0.039956827531493926, -0.14256056670496545], [0.05583152673456576, -0.17973576185085757], [-0.08767634445815005, -0.28354523373250684], [-0.09674721037550563, -0.053117933736897945], [0.01583972186093033, -0.2892719519997773], [-0.08103216815997437, -0.3355670272674199], [-0.007133406771734331, -0.21143447291550094], [-0.011172455055114796, -0.15313404868115746], [-0.01117523348180334, -0.15308113126673908], [-0.12703148051877858, -0.17807559129886122], [0.07587141236561197, -0.30188023692548915], [-0.043912712258657324, -0.16600196075382728], [-0.11674589917083708, -0.11426804575165336], [-0.09648018971369551, -0.2177217088977677], [-0.12980866680528289, -0.1689474228589226], [-0.10857982136922206, -0.15611113899301599], [-0.14382752701539722, -0.2932805354984432], [-0.11674589917083715, -0.11426804575165343], [-0.18883109017203903, -0.2565739702769551], [-0.14107563947286206, -0.3070059469419353], [-0.04141085503202653, -0.09284196395675305], [-0.06239684326852874, -0.1860225103901638], [-0.16994615858171275, -0.12578532142304094], [0.06051047953091882, -0.1442328930844054], [-0.09130753325900993, -0.32437324438778065], [-0.09609358055375992, -0.23433940889382424], [-0.17475220825391702, -0.26877894716441536], [-0.11949598990734653, -0.11264493889472053], [-0.17540192325837245, -0.31458309205896384], [0.029188379944499077, -0.31425717974149775], [-0.1631896484334957, -0.157124373839988], [0.10541301636743648, -0.304555180695495], [-0.16021252681711265, -0.10065617640663999], [-0.09417132474363264, -0.21423340394938203], [-0.027617628490888214, -0.34357059770237125], [-0.021009838901027797, -0.2721377062371442], [-0.10714452722695757, -0.13304525472645917], [-0.06460767113830455, -0.27301557724585496], [-0.14657694651581787, -0.22332546577315485], [0.06598727994770459, -0.3142131422259123], [-0.17063609066433202, -0.2763780834953271], [-0.15966347187104396, -0.22502910026271233], [-0.19459381888387975, -0.18448617998047326], [-0.09545880936170759, -0.23036254931206326], [-0.0031558668303664603, -0.12246021921946697], [-0.03316402896110552, -0.23410506562580372], [0.029188379944499108, -0.31425717974149786], [-0.1512878363417207, -0.22679218537016066], [-0.24424614118846488, -0.1516172050077414], [0.041126249618228944, -0.199532121062934], [-0.09208901622595758, -0.26099371654921955], [-0.16021252681711265, -0.10065617640663997], [-0.11971798628386034, -0.19896125178529528], [-0.07992438418552013, -0.2543729795453033], [-0.16275269893237168, -0.3396715408013446], [-0.24194535872482575, -0.07443510873835903], [-0.1871022848810782, -0.27302079049971356], [0.04892244832800056, -0.22558393304856533], [0.10926896313731782, -0.3060243885606027], [-0.15128783634172066, -0.2267921853701606], [-0.11344421141861999, -0.2650269534643976], [-0.11861705321678646, -0.29530286798817273], [-0.18718425881908438, -0.29151796809709307], [-0.0880768197597117, -0.17246780001697773], [-0.11729159289661878, -0.26300512150861227], [-0.20291144714956755, -0.2706463467606489], [0.046943519612255305, -0.29577701668338235], [-0.16817317264193454, -0.12661156971747317], [-0.11492636674758193, -0.2433831666912407], [-0.11390615990661478, -0.13957531219203528], [-0.20291144714956785, -0.27064634676064836], [-0.1730909768463524, -0.2736912283821111], [-0.1435854000100477, -0.17264738998117915], [-0.13038119630865574, -0.023066807026906822], [-0.15462236764565568, -0.1723303235666515], [-0.17309097684635238, -0.2736912283821111], [-0.131652539156819, -0.16805902597278674], [-0.11618698797224478, -0.31742638034779586], [-0.08544518431816922, -0.0847145713978957], [-0.1829208109728856, -0.2587233311874963], [-0.1418328439920466, -0.19856498549929774], [-0.12256180269507401, -0.2157194773838895], [-0.1324301677306336, -0.19194211211962897], [-0.015026079596088964, -0.32552456152892034], [0.03406247029229694, -0.2250282115875198], [0.04048621097688385, -0.12617756343719433], [-0.0030850767739492232, -0.22353953182825734], [-0.11445298478768473, -0.2571342679270204], [-0.08650694124728127, -0.08837696170928702], [-0.19372968016602188, -0.14806408474457997], [-0.014868173139368678, -0.2254653409247604], [-0.24248745080671505, -0.26734555770260604], [-0.01995883373399499, -0.16314632882573113], [-0.17538955528397676, -0.10238921026974888], [-0.1333528859072105, -0.2386366949088107], [-0.07623900257345656, -0.22020327003782048], [-0.13224049691413492, -0.11353381280793778], [-0.09417132474363259, -0.21423340394938195], [-0.13042509964725496, -0.2659987604943638], [-0.186204539993799, -0.3390373911031643], [-0.18146666708769785, -0.35164378262631457], [0.10795642486589181, -0.21406636638003532], [0.03869833608100629, -0.24420525841029847], [-0.09860061813278329, -0.2499309893457834], [-0.10965685036806741, -0.2727227358046981], [0.0562179966545214, -0.26481030267408184], [-0.05548906232684925, -0.08890552181454733], [-0.11780835574250592, -0.27954422685440267], [-0.13959492851521685, -0.2903732839194398], [-0.13798324405480344, -0.24884873294426918], [-0.18286114653996416, -0.2872045119122705], [0.0003881729682711835, -0.3677971910086952], [-0.15182202736192416, -0.13794885313257055], [-0.19754135217912963, -0.25615827405622804], [-0.1683505037436785, -0.12254351370322206], [-0.07648613740467211, -0.12572868504714657], [-0.17693272502896434, -0.327281024623388], [-0.08902564739522995, -0.22629059093477785], [-0.17275710353549262, -0.298480886037496], [-0.17430170960354113, -0.2741305532548725], [-0.16394063040110873, -0.22224305816067635], [-0.03242154306912937, -0.1977533944426396], [-0.13980358447034913, -0.2903828734616259], [-0.18157386095901215, -0.20476117233707103], [0.02542085968177245, -0.12728613015170867], [-0.11246869488486039, -0.34214108045814107], [-0.04386382286310159, -0.25377574167057615], [-0.1269290330632227, -0.3163482391607664], [-0.17309097684635247, -0.2736912283821115], [-0.14328199883999518, -0.23941564117324218], [-0.18888511510816153, -0.30245700612723814], [-0.11780835574250591, -0.27954422685440267], [-0.22207483714045104, -0.20527522247257116], [-0.18404662137985306, -0.15788178608652537], [-0.18301126639974424, -0.376041828817463], [-0.12692903306322284, -0.3163482391607664], [-0.16856536932325564, -0.10859969061025637], [-0.14952345882586526, -0.18181005227687258], [-0.13646186063205762, -0.3225180105197709], [-0.1480959130222143, -0.155386009755589], [-0.13457113281077557, -0.17219887113278493], [0.0336642091162004, -0.20258086869473016], [-0.08767634445815006, -0.28354523373250673], [-0.11173619564506378, -0.23452816854274672], [-0.17063609066433186, -0.2763780834953273], [-0.13642095828770637, -0.3224140268871126], [0.08497179087279609, -0.2514470229533083], [0.031391352705148826, -0.30679394277654626], [-0.0969814821294174, -0.2391504244820398], [-0.10384762725686174, -0.3225467230435419], [-0.09270211766418655, -0.32211552148553313], [-0.17185832943619744, -0.2022049472281024], [-0.17063609066433194, -0.2763780834953273], [-0.20326664605922945, -0.17543663664728287], [-0.13457113281077557, -0.17219887113278498], [-0.11470771721172485, -0.2087537463188817], [-0.04386382286310159, -0.25377574167057615], [0.08479100884045696, -0.18941178235950368], [-0.13945517152121206, -0.30817529557313106], [-0.10336945121162484, -0.21997934598493574], [-0.15540486924588517, -0.22246987397670906], [-0.1451728280940902, -0.20524640498455116], [-0.13983039269870334, -0.14184734566635906], [-0.10374722696586669, -0.322408404162881], [-0.16171826892880317, -0.2778520602215341], [-0.00298064953388312, -0.14012334409193156], [0.050641572938584484, -0.20208744093974534], [-0.2125638895766912, -0.28243993393068045], [0.03040528420704378, -0.19739973346445902], [-0.18294073323525803, -0.1868862952771703], [-0.14925014580169113, -0.28554139956024277]], \"data05\": [[0.11517659525650545, 0.10154546560335771], [0.06433245467199786, -0.01681776802394167], [0.10140973731026433, -0.0019154796406926759], [0.02768497288355025, -0.009213575132357543], [0.030575627037841478, 0.0040668034708805385], [0.13077942226110936, 0.06462559794763177], [0.1636664362423245, -0.06180940118325931], [0.13321612499051774, 0.11316033657220374], [0.15964031573633256, 0.07139019704061529], [0.14315722548442536, 0.09171350021454336], [0.14840393979378064, 0.02183032658154628], [0.11010413000914969, -0.057930974645010395], [0.08880597410896997, -0.02541652607824655], [0.13629099909081524, -0.12236095596066641], [0.17501756411736977, -0.09398514022136775], [0.0833517091347419, 0.08395940897060601], [0.15231254214779222, -0.1555174821809773], [0.2065977939959084, -0.2055556672658712], [0.14940565622041038, -0.19953515008904896], [0.13641995101823146, -0.0010394427017663523], [0.21123687862582263, -0.18071123139989878], [0.0590673190020411, -0.08363445684347232], [0.11007533797622034, 0.01875664421916531], [0.1368991026743873, -0.060828698652746746], [0.04085208284680355, -0.10402719508431814], [0.07013954648823499, -0.13702356262441512], [0.24736778224669778, -0.03112913813642539], [0.21511197012524452, -0.10856133970531717], [0.062035446146199734, -0.01999430232232746], [0.20051714002001952, -0.18401901448591004], [0.29389075955130356, -0.0495608722993911], [0.15154185480011143, 0.05315079189655731], [0.20559715030250392, -0.2063795850835778], [0.18362034108259292, -0.11358786060652334], [0.12700019446070318, 0.1101028576882656], [0.1540134467260543, -0.011634477218431449], [0.12387417141242384, -0.13199455081310843], [0.11494207362492946, -0.07471239466620788], [0.09573902323039082, -0.029015712167955142], [0.17178156254816193, -0.19142863372978303], [0.17178156254816193, -0.191428633729783], [0.06431814460557836, -0.03201328323490418], [0.1398739153523365, 0.022843758064105196], [0.20733277043974593, -0.2631164761302511], [0.12676424540003006, 0.04744025879745137], [0.07841998740929748, -0.1188702234182015], [0.057963437301368076, -0.009554232510758109], [0.0612304464563225, -0.005743678103476731], [0.16443595580212989, 0.07310169387079321], [0.07649541121162673, -0.07844935696191203], [0.16443595580212997, 0.07310169387079322], [0.16633784640937477, 0.015518447247291437], [0.19891670223021937, -0.08347059863240383], [0.17031238611492966, -0.23314332862975934]], \"data06\": [[0.024321556579621102, 0.958609271523179, 0.9126195732155998, 0.8666298749080207, 0.8206401766004416, 0.7746504782928625]], \"data07\": [[0.00896057347670251, 0.745523669364729], [0.11456733230926777, 0.745523669364729], [0.11712749615975424, 0.745523669364729], [0.11712749615975424, 0.7516556291390729], [0.11712749615975424, 0.9785381407897964], [0.11712749615975424, 0.9846701005641403], [0.11456733230926777, 0.9846701005641403], [0.00896057347670251, 0.9846701005641403], [0.006400409626216075, 0.9846701005641403], [0.006400409626216075, 0.9785381407897964], [0.006400409626216075, 0.7516556291390729], [0.006400409626216075, 0.745523669364729], [0.00896057347670251, 0.745523669364729]]}, \"id\": \"el55722589514771704\", \"plugins\": [{\"type\": \"reset\"}, {\"type\": \"zoom\", \"button\": true, \"enabled\": false}, {\"type\": \"boxzoom\", \"button\": true, \"enabled\": false}, {\"type\": \"htmltooltip\", \"id\": \"el55722589516805792pts\", \"labels\": [\"SAP Manager and Senior Consultants\", \"IT Sharepoint Analyst- SharePoint Developer\", \"Data Analyst\", \"Head, Infrastructure\", \"Senior Software Developer\", \"Junior Project Manager (1 year contract)\", \"Assistant / Security Manager (Planning & Projects)\", \"Technical Project Manager / Technical Lead\", \"Assistant / Security Manager (Planning & Projects)\", \"Project Manager - APAC\", \"Project Manager\", \"Project Manager\", \"Project Manager\", \"QA Analysts\", \"Regional Retail Manager\", \"Senior Software Developer\", \"Technology Consultant III\", \"Software Quality Assurance Engineer\", \"Associate Consultant, Apps\", \"Lead/ Software Developer (MS Sharepoint)\", \"Consultant, Application\", \"Commercial Support Coordinator II\", \"Programmer (Testing)\", \"Control Room Operator (CRO)\", \"BIM COORDINATORS\", \"Project Manager\", \"Technical Business Analyst\", \"Digital Commence Architect\", \"Regional Retail Manager\", \"ID- Engineer, Software Requirement\", \"Outsystem developer\", \"Assistant Manager\", \"Scientist II\", \"Application Support Analyst\", \"Field Technical Spt Cons I\", \"Department Director (Telecom)\", \"Group IT - Solution Designer\", \"IT project manager\", \"SR Clinical Research Associate | Singapore\", \"Singleview Software Consultant\", \"ERM Consultant\", \"Dotnet Developer (Singapore based candidates)\", \"Project Manager (Pegasystems)\", \"Product Manager\", \"Customer Support Supervisor\", \"Business Intelligence - Senior Program Manager\", \"Senior Project Manager\", \"Product Manager\", \"Project Manager\", \"Assistant Project Manager\", \"Project Manager\", \"Assistant Manager - IT Project\", \"Professional Services Consultant: Financials\", \"Control Room Operator (CRO)\", \"IT Solutions Engineer\", \"Manager (L5)- Cybersecurity Architecture Specialist\", \"System Analyst \\u2013 EDW\", \"Project Manager (HR Software) Up to $9k\", \"Incident Engineer\", \"Infrastructure Solutions Architect\", \"IT Business Analyst\", \"Customer Service Officer\", \"Software Engineer\", \"Senior Systems Engineer (Citrix Lead)\", \"Qliksense/BI Developer\", \"Business Manager\", \"Manager/Senior Manager, Data Management (1 year contract)\", \"Assistant Project Manager Interns\", \"IT Business Analyst\", \"Infrastructure Solutions Architect\", \"Senior Manager \\u2013 Digital\", \"IT Project Manager\", \"Project Manager cum Business Analyst\", \"Information Technology Project Manager\", \"Relationship Manager\", \"Project Manager - Cloud Services\", \"Application Delivery Specialist\", \"SR Site Start-up & Regulatory Specialist | Singapore\", \"Relationship Manager\", \"Senior Manager \\u2013 Digital\", \"Programme Manager (IT)\", \"HOTEL SYSTEMS MANAGER\", \"Project / Account Manager\", \"HOTEL SYSTEMS MANAGER\", \"Assistant IT Project Manager Intern\", \"Senior Product Manager\", \"Group IT - Staff Solution Designer\", \"DOCUMENT AUTOMATION SPECIALIST\", \"System Analyst (IT Apps)\"], \"hoffset\": 10, \"voffset\": 10}, {\"type\": \"toptoolbar\"}, {\"type\": \"htmltooltip\", \"id\": \"el55722589519008824pts\", \"labels\": [\"Business Process Engineer | Local MNC | Central\", \"Data Scientist (M&R;) | Local MNC | Central\", \"Data Scientist (Optimization) | Local MNC | Central\", \"Game Producer | Up to $7000 basic | MNC\", \"Video Algorithm Engineer (AI/Streaming/C++/High Pay/Multiple openings)\", \"[Govt Sector] IT Software Trainer - up to $2500/ Mon to Fri\", \"VMware Engineer\", \"Business / Systems Analyst (Logistics / UP $8000 / West / 5 Days / 5-8 Yrs Exp)\", \"System Engineer (VCAP/ VMware/ up to $5.5K)\", \"Presales Network Engineer x 2 (West/ SI/ CCNA/ CCNP/Cisco/ Up to 4.5K)\", \"Business / System Analyst Leader (Up $8000 / 5 Days / 4-8 Yrs Exp / AWS+VB)\", \"Technical Engineer ( Desktop cum Network support )\", \"SAP BPC Functional Consultant\", \"[SA] Project Assistant Manager for service industry (ref:44850), 7k - 8k\", \"IT SUPPORT/HELPDESK OFFICER $2800+BONUS, TROUBLESHOOT DESKTOP/OS @SIMEI/EAST\", \"BROADCAST MOTION GRAPHIC DESIGNER -VIDEO EDITING&3D $2500+ALLOWANCE+AWS\", \"Business Analyst | IT Executive | ERP| SAP | Up to $4.5k\", \"RF DEVELOPMENT ENGINEER  ( UP TO 6K / PUBLIC LISTED / WEST )\", \"[SA] Java Software / Application Engineer [Ref 44191] RM 6k - 10k\", \"Web / Front End Developer (up to S$7000, Proficient in VUE, Angular, React)\", \"Vision Software Engineer - [Attractive Salary / WPF / Deep Learning / OpenCV]\", \"Salesforce Administrator\", \"PHP Developer / Software Engineer (KL)\", \"IT Trainer for MOE Schools (Education / $2500 per month / Perm)\", \"UNIX / Linux Engineer (RM6k - RM8k)\", \"Performance Test Engineer (Up to $7500/ Python Language/ Linux Environment/ SQL)\", \"IT Network Engineer ( AS400 - Spore Tuas)\", \"Senior Game Producer | Up to $8000 basic | MNC\", \"SAP ABAP Consultant/ Programmer\", \"SAP MM Consultant\", \"IT Assistant Manager @ Kuala Lumpur [REF: SY]\", \"Associate / System Engineer (Communication Systems) (Ref 22166)\", \"Customer Account Manager/ Account executive\", \"Regional IT System Analyst (2 Positions)\", \"Creative Director\", \"Device Engineer [Army Camps / $2.4k+AWS / IT exp / Immediate]\", \"Enterprise Account Manager, Sales Manager\", \"Senior Test Analyst / Test Lead\", \"IT Support (Assistant/Executive)\", \"IT Support (Assistant/Executive)\", \"Homepage Design/ Video Creation (3 Months)\", \"Embedded Software Developer (m/f)\", \"ACCOUNTS ASSISTANT\", \"MNC: Regional IT Security and Network Engineer (CCNA)\", \"Device Engineer [Army Camps / $2.4k+AWS / IT exp / Immediate]\", \"Sales Support Assistant (102780)\", \"Senior IT Business Analyst cum Project Manager-Fluent in Russian\", \"System Analyst\", \"Receptionist and Office Assistant\", \"Customer Service Representative (Yishun)\", \"IT Teacher (E-Lesson System) - $2500 per month/ Mon to Fri/ 8am-5pm\", \"Accounts Associate\", \"Engineer (Development) | Up to $3.6k\", \"Software Test & Support Intern for an AI Company\", \"Freelance Trainer\", \"Guest Services Officer, Telephone\", \"Product Support Specialist // Paya Lebar // 2500+ // IT solution\", \"IT Specialists (AV / VC)\", \"IT Project Manager - (HG181019 024/1)\", \"Guest Services Officer, Telephone\", \"Freelance Trainer\", \"Software Test & Support Intern for an AI Company\", \"IT Teacher (E-Lesson System) - $2500 per month/ Mon to Fri/ 8am-5pm\", \"Online/Social Media Research Staff (Part Time/Full Time) Needed!\", \"Executive, Admin Support\", \"Senior / Accounts Executive\", \"Test Development Engineer (up to Staff Engineer)\", \"Sharepoint Developer\", \"Finance Executive\", \"Software Engineer\", \"Equipment Installation Manager\", \"Online/Social Media Research Staff (Part Time/Full Time) Needed!\", \"Videographer/Photographer Volunteer\", \"Equipment Installation Manager\", \"IT Engineer, Technical Support (5 days, Science Park 1)\", \"ERP Functional / Application Consultant\", \"Associate Post Producer\", \"Auditor(ISO9001)\", \"Project Manager\", \"Finance Executive\", \"ittechnicalsupport\", \"Software Engineer/ Senior (manufacturing industry)\", \"Research Assistant\", \"J3971CC Technical Consultant\", \"Cybersecurity Specialist\", \"Software support engineer\", \"Ecommerce Manager\", \"Data scientist\", \"Research Associate\", \"Product Support Specialist // Paya Lebar // 2500+ // IT solution\", \"Assistant System Consultant\", \"IT Manager (Up to $4500, East)\", \"Assistant System Consultant\", \"Cyber Security Engineer ($2500 \\u2013 3000, 5 Days, River Valley)\", \"Retail Assistant (Mobile Phones)\", \"Your fortes include:\", \"Analyst, IT Support (2500-3000, 5 days, Contract, Buona Vista)\", \"Service Engineer\", \"Technical Support Engineer\", \"Implementation Project Manager\", \"Consultant\", \"Service Manager\", \"UX Design Engineer // Changi South // IT // Engineer // 2500+\", \"Cyber Security Engineer ($2500 \\u2013 3000, 5 Days, River Valley)\", \"Technical Support Engineer\", \"Product Support Specialist // Paya Lebar // 2500+ // IT solution\", \"Product & Social Media Manager\", \"Radar Algorithm Intern\", \"Information Technology Officer\", \"IT Support Engineer // Outdoor // TaiSeng // 5 Days // Class 3\", \"Digital File Preparation Technician (6-month Renewable Contract)\", \"NW Engineer/Desktop Support\", \"Software Engineer (In House / 5 days)\", \"Freelance Trainer\", \"Analyst, IT Support (2500-3000, 5 days, Contract, Buona Vista)\", \"Videographer/Photographer Volunteer\", \"Audience Research Intern\", \"Desktop Support Engineer\", \"IT Professionals: Software+Hardware+Network - Banking+Insurance+IT+Telco+Manufacturing+Retail\", \"Information Technology Trainers\"], \"hoffset\": 10, \"voffset\": 10}, {\"type\": \"toptoolbar\"}, {\"type\": \"htmltooltip\", \"id\": \"el55722589516807136pts\", \"labels\": [\"IT Desktop Support | Local MNC | Central\", \"Cloud Architect | Local MNC | Central\", \"Network Architect | Local MNC | Central\", \"IT Customer Service Officer (UBI/UP to $2300/5 days\", \"System / Server Administrator\", \"Windows System Admin (RM6k - RM9k)\", \"SAP Security\", \"Desktop Technologist - SCCM Support\", \"Database Administrator / Engineer (Oracle / SQL, up to S$5000, MNC)\", \"Database Administrator (Ref 22888)\", \"Network System Engineer (Ref 22167)\", \"Senior / Network Engineer  (Ref 22271)\", \"IT Senior Manager (Infrastructure)\", \"Security Software Engineer\", \"Systems Engineer (IT Infrastructure)\", \"Network Consultant (Team lead)\", \"WINTEL SYSTEM ADMINISTRATOR\", \"Assistant Manager, Centre for Healthcare Simulation (2-year contract)\", \"Senior/Network Engineer(CCNA/CCNP)\", \"Information Technology Solutions Consultant\", \"SYSTEMS ENGINEER [Junior/ 5 days/ up to $2800]\", \"Project Manager - IFS/PM/LKS\", \"IT Solution Manager\", \"Project Manager - IFS/PM/LKS\", \"Lead Systems Engineer\", \"IT Executive\", \"Infrastructure Head\", \"Urgent [Up to $4.2k] IT Support Executive \\u2013 Swiss MNC (6-month contract)\", \"Specialist Associate, Corporate Services-IT\", \"Printer Level 2 support - Changi\", \"IT Security Analyst\", \"Senior Engineer, IT Networking\", \"TechOps Engineer\", \"Senior Boarding Executive / Boarding Executive (IT/AV) \\u2013 2 years contract\", \"VoIP Support\", \"Network Engineer\", \"System Administrator\", \"Consultant, Service Delivery\", \"IT Executive\", \"Lead Consultant, IT Security\", \"IT Network Engineer\", \"ASSOCIATE ENGINEERS\", \"Project Engineer / Project Executive (up to S$3500, MNC)\", \"Office Solutions Engineer\", \"Software Support Engineer\", \"Network Engineer\", \"IT Support / Executive\", \"Network Engineer\", \"IT Assistant\", \"Hardware Operations Site Manager\", \"IT Site Manager\", \"Technical Support Engineer\", \"Systems Administrator - REF16074R\", \"IT Solution Manager\", \"IT Officer\", \"Storage and Backup Administrator (Ref 22904)\", \"IT Manager // Bukit Batok //4000-5000 // Firewall // Server\", \"NOC Manager\", \"Network Engineer (Network Operations)\", \"Infrastructure Manager\", \"NOC Manager\", \"\\\"System Admin\\\"\", \"Unix Engineer\", \"System Engineer (IT-L3) - UP TO $4.5K/URGENT/IMMEDIATE\", \"Field Engineer, Information Technology (It)\", \"IT Onsite Support Engineer\"], \"hoffset\": 10, \"voffset\": 10}, {\"type\": \"toptoolbar\"}, {\"type\": \"htmltooltip\", \"id\": \"el55722589518913720pts\", \"labels\": [\"Data Scientist (Operation) | Local MNC | Central\", \"DevOps Engineer (up to RM14k)\", \"AM IT Singapore Head (IT Project Manager) , Asset Management IT\", \"Signalling Site Engineer\", \"Product Designer\", \"Associate Consultant\", \"Associate Product Manager\", \"Systems Analyst / Software Engineer\", \"Systems Analyst / Software Engineer\", \"Sr Lab Analyst I\", \"Software Engineer (Logistics, Backend)\", \"Senior Product Manager\", \"Project Manager (Internal Ref. 17000149)\", \"Enterprise Architect, ASEAN\", \"Marketing Executive\", \"Market Research Consultant\", \"Cryptocurrency Sales Broker - Singapore\", \"Project Manager (Internal Ref. 17000149)\", \"Channel Sales Manager \\u2013 Viet/Cambodia/Laos\", \"Biddable Media Analyst\", \"TECHNICAL CONSULTANT, INFO SOFTWARE\", \"App Store Solutions Manager\", \"I-TRADE LANE ANALYST - (JAPAN MARKET)\", \"Infocomm Officer / Senior Infocomm Officer [Infocomm Application/Infocomm Application Development Centre]\", \"Key Account Manager - Singapore\", \"Field Marketing Manager Asia\", \"Business Development Representative (Mandarin & English-Speaking)\", \"Inside Sales Account Manager\", \"Telco & Media Account Executive\", \"Software Engineer in Test\", \"SAP Concur - Technical Account Manager\", \"Back End Software Engineer\", \"APAC Payroll Coordinator\", \"Project Management Lead\", \"Software Engineer\", \"Graphic Design Intern\", \"Presales Engineer\", \"Product Manager\", \"Product Manager\", \"Senior Software Engineer, Engineering Productivity\", \"Commercial Manager, Oceania\", \"Cyber Security Business Development Manager\", \"Head of Regulation APAC\", \"CyberSecurity Consulting Systems Engineer, Singapore\", \"Data Scientist\", \"English speaking Azure Ranger\", \"Software Engineer in Test\", \"Management Trainee (Fintech)\", \"IT Help Desk Associates\", \"Software Engineer - Full Stack\", \"Project Manager\", \"APAC Payroll Coordinator\", \"New Graduate - Sales Finance Analyst - Asia Pacific Japan\", \"Magic: Head of Business Product\", \"Management Associate\", \"Inventory Technician\", \"Student Intern: HCM Sales Development Analyst\", \"Chief Technology Officer\", \"Applications Software Architecture and Engineer;\", \"Management Trainee (Fintech)\", \"Head of Pre-Sales, APJ\", \"Head of Pivotal Cloud Foundry Platform Services, APJ\", \"Account Manager, Client Success\", \"Supply Chain Engineering Program Manager\", \"Systems Reliability Engineering Manager, APAC\", \"Unified Communications Sales Director, APAC\", \"Data Engineer\", \"Talent & HR Coordinator\", \"Sr. Product Manager\", \"Fraud Operations Analyst Lead/ Program Manager\", \"Unified Communications Sales Director, APAC\", \"Business development manager\", \"Regional Manager, Professional Services\", \"Field Sales Manager- APAC\", \"Sales Manager - South Korea\", \"Business development manager\", \"HR Manager\", \"Sales Development Representative - APJ (Singapore)\", \"Project Manager\", \"Account Manager\", \"Solutions Consultant\", \"2019 Market Data Analyst\", \"ASEAN Government and Aerospace & Defense Market Development\", \"Research Intern\", \"Software Engineer, Machine Learning\", \"IT Analyst/ Software Developer\", \"Deputy Interactive Graphics Editor\", \"Experience Architect\", \"Solution Consultant\", \"Product Manager - Sales Trader\", \"Chief Technology Officer\", \"ADVERTISING AND SPONSORSHIP SALES ACCOUNT MANAGER\", \"Head of R&D on Blockchain -Smart Contract Security\", \"IT Engineer (Helpdesk)\", \"Engagement Consultant\", \"Operations Manager\", \"Section Manager, Information Technology\", \"Project Management Lead\", \"Specification Engineer\", \"Global Alliance Leader- DXC Asia\", \"Strategic Alliance Manager, Singapore\", \"Software Developer - Python\", \"Software Engineer, Smart Multi-Energy System\", \"Senior IT Specialist\", \"Strategy Officer\", \"Software Engineer (iOS)\", \"ITPS Specialist (Transport)\", \"Leonardo Center Manager, Singapore\", \"Strategic Account Manager, Singapore\", \"BUSINESS DEVELOPMENT MANAGER\", \"Major Account Manager\", \"Graduate Back End Software Engineer - Singapore\", \"Sales Account Manager (IT)\", \"Sales Development Representative\", \"Company Secretarial Executive/ Assistant Manager\", \"Senior Manager/Manager/Assistant Manager (ICT Industry Development, Ecosystem Development)\", \"Business Development Manager\", \"Project Manager\", \"Strategic Accounts Director\", \"Business Development Representative (Vietnamese & English Speaking)\", \"Sr. Manager, Business Development\", \"Product Manager\", \"Strategic Account Manager, Singapore\", \"Territory Manager, South Korea\", \"Full-stack Software Engineer\", \"Team Lead, Enterprise\", \"STAR Singapore Intern\", \"Policy Enforcement Manager, Disinformation, Trust and Safety, YouTube\", \"Business development manager\", \"Client Solutions Consulting III\", \"Account Manager, LE, GTS\", \"Leonardo Center Manager, Singapore\", \"Account Manager \\u2013 APAC\", \"Inside Opportunity Manager\", \"Business Development Manager, Enterprise\", \"Policy Enforcement Manager, Disinformation, Trust and Safety, YouTube\", \"Snr Executive Secretary & Administrative Manager\", \"MySQL APAC Partner Marketing Manager\", \"Business Solution Manager\", \"Senior Manager, Manufacturing SG SPE\", \"Marketing Manager- (APAC)\", \"TradeOps Developer - Singapore (Python)\", \"AM IT Singapore Head (IT Project Manager) , Asset Management IT\", \"Photographer / Senior Photographer\", \"Commercial Manager, Oceania\", \"Business Solution Manager\", \"Software Engineer\", \"3 months/6 months/12 months Internship: Coding & STEM Instructor\", \"Sales Development Representative - Japan\", \"Product Management Internship\", \"Digital Product Manager\", \"Sales Engineers (IT Solutions and Services)\", \"Commercial Manager, Oceania\", \"Sales Manager,Insurance, Singapore\", \"Marketing Manager- (APAC)\", \"Manager, Branding & Communications\", \"STAR Singapore Intern\", \"Sr Software Engineer\", \"Biddable Media Analyst\", \"Sales Engineer - APAC\", \"Industry Content Manager\", \"Project Manager\", \"Contract Manager\", \"Product Management Internship\", \"Asia Emerging Markets Partner Account Manager\", \"Data Scientist\", \"Software Engineer, Intern\", \"2019 Customer Support Representative (English/Korean Speaker) SG\", \"Associate, Application Engineering\", \"Office Manager (Singapore)\", \"VMware Cloud on AWS, Partner Manager \\u2013 ASEAN\"], \"hoffset\": 10, \"voffset\": 10}, {\"type\": \"toptoolbar\"}, {\"type\": \"htmltooltip\", \"id\": \"el55722589516834688pts\", \"labels\": [\"Application Engineer (IT Solution @ PJU1A - Up to RM6000)\", \"Performance Test Engineer (Up to $7500 / Python / Linux / US MNC)\", \"Software Engineer / Programmer| Up to $7k\", \"(SA) Software Engineer - JAVA [Ref: 43786] Cyberjaya, RM6k\", \"(SA) Software Engineer - C# [Ref: 43785] - Putrajaya/Cyberjaya\", \"Web Application Developer (.NET) Central, Kuala Lumpur\", \"Senior .Net Developer\", \"Software Engineer ( C#/ C++)\", \"System Analyst (Based in Kuala Lumpur)\", \"Software & QA Support Engineer (Based in Kuala Lumpur)\", \"Software Engineer (C++, MRT Project)\", \"Lead Software Engineer\", \"IT Manager - Java Applications\", \"Software Engineer - PE-JD-640\", \"DevOps Engineer\", \"Software and Applications Developer\", \"Artificial Intelligence Bot Engineer Intern\", \"Software Engineer - Web (JavaScript / React), Singapore\", \"Software and Applications Developer\", \"Software Developer (.Net / C#) (Up to 7K) (West) (IT MNC)\", \"Sr. Software Engineer\", \"Senior Software Developer - Tableau\", \"Software Configuration Analyst\", \"Senior Software Engineer (C#/.Net) - Immediate\", \"Software Test Engineer\", \"IT Analyst (Emerging Technologies) - Direct Contract\", \"Software Engineer (Java) (Ref 22716)\", \"Software Engineer (Web Frontend)\", \"Software Engineer\", \"Software Engineer (Java)\", \"Software Engineer\", \"Software Engineer (Java)\", \"Software Engineer - Web (JavaScript/ React)\", \"Javascript Software Engineering (Mid- Level)\", \"Software Developer\", \"R&D Test Software Developer\", \"Software Engineer (Java)\", \"Junior Software Engineer\", \"Associate Software Architect (.NET)\", \"Test Automation Engineer\", \"Test Automation Engineer\", \"Pega Developer (ITSR)\", \"Comsumer Suites Developer (ITSR)\", \"Software Engineer\", \"Senior IT Analyst\", \"Software Engineer\", \"Estate Manager (Car Parks)\", \"Estate Manager (Car Parks)\", \"Software Developer (.Net MVC, Telerik) - Based in KL, Malaysia\", \"Integration Consultant\", \"Software Developer (.Net MVC, Telerik) - Based in KL, Malaysia\", \"Operations Software Engineer (IT/Telecommunication Related Industry/Central Area/Up to 6K/Urgent)\", \"Software Development Lead\", \"Back-end Magento Software Engineer\"], \"hoffset\": 10, \"voffset\": 10}, {\"type\": \"toptoolbar\"}]});\n",
       "      });\n",
       "    });\n",
       "}else{\n",
       "    // require.js not available: dynamically load d3 & mpld3\n",
       "    mpld3_load_lib(\"https://mpld3.github.io/js/d3.v3.min.js\", function(){\n",
       "         mpld3_load_lib(\"https://mpld3.github.io/js/mpld3.v0.3.js\", function(){\n",
       "                 \n",
       "    mpld3.register_plugin(\"htmltooltip\", HtmlTooltipPlugin);\n",
       "    HtmlTooltipPlugin.prototype = Object.create(mpld3.Plugin.prototype);\n",
       "    HtmlTooltipPlugin.prototype.constructor = HtmlTooltipPlugin;\n",
       "    HtmlTooltipPlugin.prototype.requiredProps = [\"id\"];\n",
       "    HtmlTooltipPlugin.prototype.defaultProps = {labels:null,\n",
       "                                                hoffset:0,\n",
       "                                                voffset:10};\n",
       "    function HtmlTooltipPlugin(fig, props){\n",
       "        mpld3.Plugin.call(this, fig, props);\n",
       "    };\n",
       "\n",
       "    HtmlTooltipPlugin.prototype.draw = function(){\n",
       "       var obj = mpld3.get_element(this.props.id);\n",
       "       var labels = this.props.labels;\n",
       "       var tooltip = d3.select(\"body\").append(\"div\")\n",
       "                    .attr(\"class\", \"mpld3-tooltip\")\n",
       "                    .style(\"position\", \"absolute\")\n",
       "                    .style(\"z-index\", \"10\")\n",
       "                    .style(\"visibility\", \"hidden\");\n",
       "\n",
       "       obj.elements()\n",
       "           .on(\"mouseover\", function(d, i){\n",
       "                              tooltip.html(labels[i])\n",
       "                                     .style(\"visibility\", \"visible\");})\n",
       "           .on(\"mousemove\", function(d, i){\n",
       "                  tooltip\n",
       "                    .style(\"top\", d3.event.pageY + this.props.voffset + \"px\")\n",
       "                    .style(\"left\",d3.event.pageX + this.props.hoffset + \"px\");\n",
       "                 }.bind(this))\n",
       "           .on(\"mouseout\",  function(d, i){\n",
       "                           tooltip.style(\"visibility\", \"hidden\");});\n",
       "    };\n",
       "    \n",
       "    mpld3.register_plugin(\"toptoolbar\", TopToolbar);\n",
       "    TopToolbar.prototype = Object.create(mpld3.Plugin.prototype);\n",
       "    TopToolbar.prototype.constructor = TopToolbar;\n",
       "    function TopToolbar(fig, props){\n",
       "        mpld3.Plugin.call(this, fig, props);\n",
       "    };\n",
       "\n",
       "    TopToolbar.prototype.draw = function(){\n",
       "      // the toolbar svg doesn't exist\n",
       "      // yet, so first draw it\n",
       "      this.fig.toolbar.draw();\n",
       "\n",
       "      // then change the y position to be\n",
       "      // at the top of the figure\n",
       "      this.fig.toolbar.toolbar.attr(\"x\", 150);\n",
       "      this.fig.toolbar.toolbar.attr(\"y\", 400);\n",
       "\n",
       "      // then remove the draw function,\n",
       "      // so that it is not called again\n",
       "      this.fig.toolbar.draw = function() {}\n",
       "    }\n",
       "    \n",
       "    mpld3.register_plugin(\"htmltooltip\", HtmlTooltipPlugin);\n",
       "    HtmlTooltipPlugin.prototype = Object.create(mpld3.Plugin.prototype);\n",
       "    HtmlTooltipPlugin.prototype.constructor = HtmlTooltipPlugin;\n",
       "    HtmlTooltipPlugin.prototype.requiredProps = [\"id\"];\n",
       "    HtmlTooltipPlugin.prototype.defaultProps = {labels:null,\n",
       "                                                hoffset:0,\n",
       "                                                voffset:10};\n",
       "    function HtmlTooltipPlugin(fig, props){\n",
       "        mpld3.Plugin.call(this, fig, props);\n",
       "    };\n",
       "\n",
       "    HtmlTooltipPlugin.prototype.draw = function(){\n",
       "       var obj = mpld3.get_element(this.props.id);\n",
       "       var labels = this.props.labels;\n",
       "       var tooltip = d3.select(\"body\").append(\"div\")\n",
       "                    .attr(\"class\", \"mpld3-tooltip\")\n",
       "                    .style(\"position\", \"absolute\")\n",
       "                    .style(\"z-index\", \"10\")\n",
       "                    .style(\"visibility\", \"hidden\");\n",
       "\n",
       "       obj.elements()\n",
       "           .on(\"mouseover\", function(d, i){\n",
       "                              tooltip.html(labels[i])\n",
       "                                     .style(\"visibility\", \"visible\");})\n",
       "           .on(\"mousemove\", function(d, i){\n",
       "                  tooltip\n",
       "                    .style(\"top\", d3.event.pageY + this.props.voffset + \"px\")\n",
       "                    .style(\"left\",d3.event.pageX + this.props.hoffset + \"px\");\n",
       "                 }.bind(this))\n",
       "           .on(\"mouseout\",  function(d, i){\n",
       "                           tooltip.style(\"visibility\", \"hidden\");});\n",
       "    };\n",
       "    \n",
       "    mpld3.register_plugin(\"toptoolbar\", TopToolbar);\n",
       "    TopToolbar.prototype = Object.create(mpld3.Plugin.prototype);\n",
       "    TopToolbar.prototype.constructor = TopToolbar;\n",
       "    function TopToolbar(fig, props){\n",
       "        mpld3.Plugin.call(this, fig, props);\n",
       "    };\n",
       "\n",
       "    TopToolbar.prototype.draw = function(){\n",
       "      // the toolbar svg doesn't exist\n",
       "      // yet, so first draw it\n",
       "      this.fig.toolbar.draw();\n",
       "\n",
       "      // then change the y position to be\n",
       "      // at the top of the figure\n",
       "      this.fig.toolbar.toolbar.attr(\"x\", 150);\n",
       "      this.fig.toolbar.toolbar.attr(\"y\", 400);\n",
       "\n",
       "      // then remove the draw function,\n",
       "      // so that it is not called again\n",
       "      this.fig.toolbar.draw = function() {}\n",
       "    }\n",
       "    \n",
       "    mpld3.register_plugin(\"htmltooltip\", HtmlTooltipPlugin);\n",
       "    HtmlTooltipPlugin.prototype = Object.create(mpld3.Plugin.prototype);\n",
       "    HtmlTooltipPlugin.prototype.constructor = HtmlTooltipPlugin;\n",
       "    HtmlTooltipPlugin.prototype.requiredProps = [\"id\"];\n",
       "    HtmlTooltipPlugin.prototype.defaultProps = {labels:null,\n",
       "                                                hoffset:0,\n",
       "                                                voffset:10};\n",
       "    function HtmlTooltipPlugin(fig, props){\n",
       "        mpld3.Plugin.call(this, fig, props);\n",
       "    };\n",
       "\n",
       "    HtmlTooltipPlugin.prototype.draw = function(){\n",
       "       var obj = mpld3.get_element(this.props.id);\n",
       "       var labels = this.props.labels;\n",
       "       var tooltip = d3.select(\"body\").append(\"div\")\n",
       "                    .attr(\"class\", \"mpld3-tooltip\")\n",
       "                    .style(\"position\", \"absolute\")\n",
       "                    .style(\"z-index\", \"10\")\n",
       "                    .style(\"visibility\", \"hidden\");\n",
       "\n",
       "       obj.elements()\n",
       "           .on(\"mouseover\", function(d, i){\n",
       "                              tooltip.html(labels[i])\n",
       "                                     .style(\"visibility\", \"visible\");})\n",
       "           .on(\"mousemove\", function(d, i){\n",
       "                  tooltip\n",
       "                    .style(\"top\", d3.event.pageY + this.props.voffset + \"px\")\n",
       "                    .style(\"left\",d3.event.pageX + this.props.hoffset + \"px\");\n",
       "                 }.bind(this))\n",
       "           .on(\"mouseout\",  function(d, i){\n",
       "                           tooltip.style(\"visibility\", \"hidden\");});\n",
       "    };\n",
       "    \n",
       "    mpld3.register_plugin(\"toptoolbar\", TopToolbar);\n",
       "    TopToolbar.prototype = Object.create(mpld3.Plugin.prototype);\n",
       "    TopToolbar.prototype.constructor = TopToolbar;\n",
       "    function TopToolbar(fig, props){\n",
       "        mpld3.Plugin.call(this, fig, props);\n",
       "    };\n",
       "\n",
       "    TopToolbar.prototype.draw = function(){\n",
       "      // the toolbar svg doesn't exist\n",
       "      // yet, so first draw it\n",
       "      this.fig.toolbar.draw();\n",
       "\n",
       "      // then change the y position to be\n",
       "      // at the top of the figure\n",
       "      this.fig.toolbar.toolbar.attr(\"x\", 150);\n",
       "      this.fig.toolbar.toolbar.attr(\"y\", 400);\n",
       "\n",
       "      // then remove the draw function,\n",
       "      // so that it is not called again\n",
       "      this.fig.toolbar.draw = function() {}\n",
       "    }\n",
       "    \n",
       "    mpld3.register_plugin(\"htmltooltip\", HtmlTooltipPlugin);\n",
       "    HtmlTooltipPlugin.prototype = Object.create(mpld3.Plugin.prototype);\n",
       "    HtmlTooltipPlugin.prototype.constructor = HtmlTooltipPlugin;\n",
       "    HtmlTooltipPlugin.prototype.requiredProps = [\"id\"];\n",
       "    HtmlTooltipPlugin.prototype.defaultProps = {labels:null,\n",
       "                                                hoffset:0,\n",
       "                                                voffset:10};\n",
       "    function HtmlTooltipPlugin(fig, props){\n",
       "        mpld3.Plugin.call(this, fig, props);\n",
       "    };\n",
       "\n",
       "    HtmlTooltipPlugin.prototype.draw = function(){\n",
       "       var obj = mpld3.get_element(this.props.id);\n",
       "       var labels = this.props.labels;\n",
       "       var tooltip = d3.select(\"body\").append(\"div\")\n",
       "                    .attr(\"class\", \"mpld3-tooltip\")\n",
       "                    .style(\"position\", \"absolute\")\n",
       "                    .style(\"z-index\", \"10\")\n",
       "                    .style(\"visibility\", \"hidden\");\n",
       "\n",
       "       obj.elements()\n",
       "           .on(\"mouseover\", function(d, i){\n",
       "                              tooltip.html(labels[i])\n",
       "                                     .style(\"visibility\", \"visible\");})\n",
       "           .on(\"mousemove\", function(d, i){\n",
       "                  tooltip\n",
       "                    .style(\"top\", d3.event.pageY + this.props.voffset + \"px\")\n",
       "                    .style(\"left\",d3.event.pageX + this.props.hoffset + \"px\");\n",
       "                 }.bind(this))\n",
       "           .on(\"mouseout\",  function(d, i){\n",
       "                           tooltip.style(\"visibility\", \"hidden\");});\n",
       "    };\n",
       "    \n",
       "    mpld3.register_plugin(\"toptoolbar\", TopToolbar);\n",
       "    TopToolbar.prototype = Object.create(mpld3.Plugin.prototype);\n",
       "    TopToolbar.prototype.constructor = TopToolbar;\n",
       "    function TopToolbar(fig, props){\n",
       "        mpld3.Plugin.call(this, fig, props);\n",
       "    };\n",
       "\n",
       "    TopToolbar.prototype.draw = function(){\n",
       "      // the toolbar svg doesn't exist\n",
       "      // yet, so first draw it\n",
       "      this.fig.toolbar.draw();\n",
       "\n",
       "      // then change the y position to be\n",
       "      // at the top of the figure\n",
       "      this.fig.toolbar.toolbar.attr(\"x\", 150);\n",
       "      this.fig.toolbar.toolbar.attr(\"y\", 400);\n",
       "\n",
       "      // then remove the draw function,\n",
       "      // so that it is not called again\n",
       "      this.fig.toolbar.draw = function() {}\n",
       "    }\n",
       "    \n",
       "    mpld3.register_plugin(\"htmltooltip\", HtmlTooltipPlugin);\n",
       "    HtmlTooltipPlugin.prototype = Object.create(mpld3.Plugin.prototype);\n",
       "    HtmlTooltipPlugin.prototype.constructor = HtmlTooltipPlugin;\n",
       "    HtmlTooltipPlugin.prototype.requiredProps = [\"id\"];\n",
       "    HtmlTooltipPlugin.prototype.defaultProps = {labels:null,\n",
       "                                                hoffset:0,\n",
       "                                                voffset:10};\n",
       "    function HtmlTooltipPlugin(fig, props){\n",
       "        mpld3.Plugin.call(this, fig, props);\n",
       "    };\n",
       "\n",
       "    HtmlTooltipPlugin.prototype.draw = function(){\n",
       "       var obj = mpld3.get_element(this.props.id);\n",
       "       var labels = this.props.labels;\n",
       "       var tooltip = d3.select(\"body\").append(\"div\")\n",
       "                    .attr(\"class\", \"mpld3-tooltip\")\n",
       "                    .style(\"position\", \"absolute\")\n",
       "                    .style(\"z-index\", \"10\")\n",
       "                    .style(\"visibility\", \"hidden\");\n",
       "\n",
       "       obj.elements()\n",
       "           .on(\"mouseover\", function(d, i){\n",
       "                              tooltip.html(labels[i])\n",
       "                                     .style(\"visibility\", \"visible\");})\n",
       "           .on(\"mousemove\", function(d, i){\n",
       "                  tooltip\n",
       "                    .style(\"top\", d3.event.pageY + this.props.voffset + \"px\")\n",
       "                    .style(\"left\",d3.event.pageX + this.props.hoffset + \"px\");\n",
       "                 }.bind(this))\n",
       "           .on(\"mouseout\",  function(d, i){\n",
       "                           tooltip.style(\"visibility\", \"hidden\");});\n",
       "    };\n",
       "    \n",
       "    mpld3.register_plugin(\"toptoolbar\", TopToolbar);\n",
       "    TopToolbar.prototype = Object.create(mpld3.Plugin.prototype);\n",
       "    TopToolbar.prototype.constructor = TopToolbar;\n",
       "    function TopToolbar(fig, props){\n",
       "        mpld3.Plugin.call(this, fig, props);\n",
       "    };\n",
       "\n",
       "    TopToolbar.prototype.draw = function(){\n",
       "      // the toolbar svg doesn't exist\n",
       "      // yet, so first draw it\n",
       "      this.fig.toolbar.draw();\n",
       "\n",
       "      // then change the y position to be\n",
       "      // at the top of the figure\n",
       "      this.fig.toolbar.toolbar.attr(\"x\", 150);\n",
       "      this.fig.toolbar.toolbar.attr(\"y\", 400);\n",
       "\n",
       "      // then remove the draw function,\n",
       "      // so that it is not called again\n",
       "      this.fig.toolbar.draw = function() {}\n",
       "    }\n",
       "    \n",
       "                 mpld3.draw_figure(\"fig_el557225895147717046976085338\", {\"width\": 1008.0, \"height\": 432.0, \"axes\": [{\"bbox\": [0.125, 0.125, 0.775, 0.755], \"xlim\": [-0.4678096720913266, 0.31607620901662287], \"ylim\": [-0.40056334129793303, 0.46586343301200817], \"xdomain\": [-0.4678096720913266, 0.31607620901662287], \"ydomain\": [-0.40056334129793303, 0.46586343301200817], \"xscale\": \"linear\", \"yscale\": \"linear\", \"axes\": [{\"position\": \"bottom\", \"nticks\": 0, \"tickvalues\": [], \"tickformat\": \"\", \"scale\": \"linear\", \"fontsize\": null, \"grid\": {\"gridOn\": false}, \"visible\": false}, {\"position\": \"left\", \"nticks\": 0, \"tickvalues\": [], \"tickformat\": \"\", \"scale\": \"linear\", \"fontsize\": null, \"grid\": {\"gridOn\": false}, \"visible\": false}], \"axesbg\": \"#FFFFFF\", \"axesbgalpha\": null, \"zoomable\": true, \"id\": \"el55722589518792464\", \"lines\": [], \"paths\": [{\"data\": \"data07\", \"xindex\": 0, \"yindex\": 1, \"coordinates\": \"axes\", \"pathcodes\": [\"M\", \"L\", \"S\", \"L\", \"S\", \"L\", \"S\", \"L\", \"S\", \"Z\"], \"id\": \"el55722589519008656\", \"dasharray\": \"none\", \"alpha\": 0.8, \"facecolor\": \"#FFFFFF\", \"edgecolor\": \"#CCCCCC\", \"edgewidth\": 1.0, \"zorder\": 1000000.0}], \"markers\": [{\"data\": \"data01\", \"xindex\": 0, \"yindex\": 1, \"coordinates\": \"data\", \"id\": \"el55722589516805792pts\", \"facecolor\": \"#950080\", \"edgecolor\": \"none\", \"edgewidth\": 1.0, \"alpha\": 1, \"zorder\": 2, \"markerpath\": [[[0.0, 3.5], [0.9282108500000001, 3.5], [1.8185295477469872, 3.131217920558846], [2.4748737341529163, 2.4748737341529163], [3.131217920558846, 1.8185295477469872], [3.5, 0.9282108500000001], [3.5, 0.0], [3.5, -0.9282108500000001], [3.131217920558846, -1.8185295477469872], [2.4748737341529163, -2.4748737341529163], [1.8185295477469872, -3.131217920558846], [0.9282108500000001, -3.5], [0.0, -3.5], [-0.9282108500000001, -3.5], [-1.8185295477469872, -3.131217920558846], [-2.4748737341529163, -2.4748737341529163], [-3.131217920558846, -1.8185295477469872], [-3.5, -0.9282108500000001], [-3.5, 0.0], [-3.5, 0.9282108500000001], [-3.131217920558846, 1.8185295477469872], [-2.4748737341529163, 2.4748737341529163], [-1.8185295477469872, 3.131217920558846], [-0.9282108500000001, 3.5], [0.0, 3.5]], [\"M\", \"C\", \"C\", \"C\", \"C\", \"C\", \"C\", \"C\", \"C\", \"Z\"]]}, {\"data\": \"data02\", \"xindex\": 0, \"yindex\": 1, \"coordinates\": \"data\", \"id\": \"el55722589519008824pts\", \"facecolor\": \"#DB3F9F\", \"edgecolor\": \"none\", \"edgewidth\": 1.0, \"alpha\": 1, \"zorder\": 2, \"markerpath\": [[[0.0, 3.5], [0.9282108500000001, 3.5], [1.8185295477469872, 3.131217920558846], [2.4748737341529163, 2.4748737341529163], [3.131217920558846, 1.8185295477469872], [3.5, 0.9282108500000001], [3.5, 0.0], [3.5, -0.9282108500000001], [3.131217920558846, -1.8185295477469872], [2.4748737341529163, -2.4748737341529163], [1.8185295477469872, -3.131217920558846], [0.9282108500000001, -3.5], [0.0, -3.5], [-0.9282108500000001, -3.5], [-1.8185295477469872, -3.131217920558846], [-2.4748737341529163, -2.4748737341529163], [-3.131217920558846, -1.8185295477469872], [-3.5, -0.9282108500000001], [-3.5, 0.0], [-3.5, 0.9282108500000001], [-3.131217920558846, 1.8185295477469872], [-2.4748737341529163, 2.4748737341529163], [-1.8185295477469872, 3.131217920558846], [-0.9282108500000001, 3.5], [0.0, 3.5]], [\"M\", \"C\", \"C\", \"C\", \"C\", \"C\", \"C\", \"C\", \"C\", \"Z\"]]}, {\"data\": \"data03\", \"xindex\": 0, \"yindex\": 1, \"coordinates\": \"data\", \"id\": \"el55722589516807136pts\", \"facecolor\": \"#A27159\", \"edgecolor\": \"none\", \"edgewidth\": 1.0, \"alpha\": 1, \"zorder\": 2, \"markerpath\": [[[0.0, 3.5], [0.9282108500000001, 3.5], [1.8185295477469872, 3.131217920558846], [2.4748737341529163, 2.4748737341529163], [3.131217920558846, 1.8185295477469872], [3.5, 0.9282108500000001], [3.5, 0.0], [3.5, -0.9282108500000001], [3.131217920558846, -1.8185295477469872], [2.4748737341529163, -2.4748737341529163], [1.8185295477469872, -3.131217920558846], [0.9282108500000001, -3.5], [0.0, -3.5], [-0.9282108500000001, -3.5], [-1.8185295477469872, -3.131217920558846], [-2.4748737341529163, -2.4748737341529163], [-3.131217920558846, -1.8185295477469872], [-3.5, -0.9282108500000001], [-3.5, 0.0], [-3.5, 0.9282108500000001], [-3.131217920558846, 1.8185295477469872], [-2.4748737341529163, 2.4748737341529163], [-1.8185295477469872, 3.131217920558846], [-0.9282108500000001, 3.5], [0.0, 3.5]], [\"M\", \"C\", \"C\", \"C\", \"C\", \"C\", \"C\", \"C\", \"C\", \"Z\"]]}, {\"data\": \"data04\", \"xindex\": 0, \"yindex\": 1, \"coordinates\": \"data\", \"id\": \"el55722589518913720pts\", \"facecolor\": \"#BBBA18\", \"edgecolor\": \"none\", \"edgewidth\": 1.0, \"alpha\": 1, \"zorder\": 2, \"markerpath\": [[[0.0, 3.5], [0.9282108500000001, 3.5], [1.8185295477469872, 3.131217920558846], [2.4748737341529163, 2.4748737341529163], [3.131217920558846, 1.8185295477469872], [3.5, 0.9282108500000001], [3.5, 0.0], [3.5, -0.9282108500000001], [3.131217920558846, -1.8185295477469872], [2.4748737341529163, -2.4748737341529163], [1.8185295477469872, -3.131217920558846], [0.9282108500000001, -3.5], [0.0, -3.5], [-0.9282108500000001, -3.5], [-1.8185295477469872, -3.131217920558846], [-2.4748737341529163, -2.4748737341529163], [-3.131217920558846, -1.8185295477469872], [-3.5, -0.9282108500000001], [-3.5, 0.0], [-3.5, 0.9282108500000001], [-3.131217920558846, 1.8185295477469872], [-2.4748737341529163, 2.4748737341529163], [-1.8185295477469872, 3.131217920558846], [-0.9282108500000001, 3.5], [0.0, 3.5]], [\"M\", \"C\", \"C\", \"C\", \"C\", \"C\", \"C\", \"C\", \"C\", \"Z\"]]}, {\"data\": \"data05\", \"xindex\": 0, \"yindex\": 1, \"coordinates\": \"data\", \"id\": \"el55722589516834688pts\", \"facecolor\": \"#5F1042\", \"edgecolor\": \"none\", \"edgewidth\": 1.0, \"alpha\": 1, \"zorder\": 2, \"markerpath\": [[[0.0, 3.5], [0.9282108500000001, 3.5], [1.8185295477469872, 3.131217920558846], [2.4748737341529163, 2.4748737341529163], [3.131217920558846, 1.8185295477469872], [3.5, 0.9282108500000001], [3.5, 0.0], [3.5, -0.9282108500000001], [3.131217920558846, -1.8185295477469872], [2.4748737341529163, -2.4748737341529163], [1.8185295477469872, -3.131217920558846], [0.9282108500000001, -3.5], [0.0, -3.5], [-0.9282108500000001, -3.5], [-1.8185295477469872, -3.131217920558846], [-2.4748737341529163, -2.4748737341529163], [-3.131217920558846, -1.8185295477469872], [-3.5, -0.9282108500000001], [-3.5, 0.0], [-3.5, 0.9282108500000001], [-3.131217920558846, 1.8185295477469872], [-2.4748737341529163, 2.4748737341529163], [-1.8185295477469872, 3.131217920558846], [-0.9282108500000001, 3.5], [0.0, 3.5]], [\"M\", \"C\", \"C\", \"C\", \"C\", \"C\", \"C\", \"C\", \"C\", \"Z\"]]}, {\"data\": \"data06\", \"xindex\": 0, \"yindex\": 1, \"coordinates\": \"axes\", \"id\": \"el55722589519081656pts\", \"facecolor\": \"#950080\", \"edgecolor\": \"none\", \"edgewidth\": 1.0, \"alpha\": 1, \"zorder\": 1000002.0, \"markerpath\": [[[0.0, 3.5], [0.9282108500000001, 3.5], [1.8185295477469872, 3.131217920558846], [2.4748737341529163, 2.4748737341529163], [3.131217920558846, 1.8185295477469872], [3.5, 0.9282108500000001], [3.5, 0.0], [3.5, -0.9282108500000001], [3.131217920558846, -1.8185295477469872], [2.4748737341529163, -2.4748737341529163], [1.8185295477469872, -3.131217920558846], [0.9282108500000001, -3.5], [0.0, -3.5], [-0.9282108500000001, -3.5], [-1.8185295477469872, -3.131217920558846], [-2.4748737341529163, -2.4748737341529163], [-3.131217920558846, -1.8185295477469872], [-3.5, -0.9282108500000001], [-3.5, 0.0], [-3.5, 0.9282108500000001], [-3.131217920558846, 1.8185295477469872], [-2.4748737341529163, 2.4748737341529163], [-1.8185295477469872, 3.131217920558846], [-0.9282108500000001, 3.5], [0.0, 3.5]], [\"M\", \"C\", \"C\", \"C\", \"C\", \"C\", \"C\", \"C\", \"C\", \"Z\"]]}, {\"data\": \"data06\", \"xindex\": 0, \"yindex\": 2, \"coordinates\": \"axes\", \"id\": \"el55722589519083168pts\", \"facecolor\": \"#DB3F9F\", \"edgecolor\": \"none\", \"edgewidth\": 1.0, \"alpha\": 1, \"zorder\": 1000002.0, \"markerpath\": [[[0.0, 3.5], [0.9282108500000001, 3.5], [1.8185295477469872, 3.131217920558846], [2.4748737341529163, 2.4748737341529163], [3.131217920558846, 1.8185295477469872], [3.5, 0.9282108500000001], [3.5, 0.0], [3.5, -0.9282108500000001], [3.131217920558846, -1.8185295477469872], [2.4748737341529163, -2.4748737341529163], [1.8185295477469872, -3.131217920558846], [0.9282108500000001, -3.5], [0.0, -3.5], [-0.9282108500000001, -3.5], [-1.8185295477469872, -3.131217920558846], [-2.4748737341529163, -2.4748737341529163], [-3.131217920558846, -1.8185295477469872], [-3.5, -0.9282108500000001], [-3.5, 0.0], [-3.5, 0.9282108500000001], [-3.131217920558846, 1.8185295477469872], [-2.4748737341529163, 2.4748737341529163], [-1.8185295477469872, 3.131217920558846], [-0.9282108500000001, 3.5], [0.0, 3.5]], [\"M\", \"C\", \"C\", \"C\", \"C\", \"C\", \"C\", \"C\", \"C\", \"Z\"]]}, {\"data\": \"data06\", \"xindex\": 0, \"yindex\": 3, \"coordinates\": \"axes\", \"id\": \"el55722589519084680pts\", \"facecolor\": \"#A27159\", \"edgecolor\": \"none\", \"edgewidth\": 1.0, \"alpha\": 1, \"zorder\": 1000002.0, \"markerpath\": [[[0.0, 3.5], [0.9282108500000001, 3.5], [1.8185295477469872, 3.131217920558846], [2.4748737341529163, 2.4748737341529163], [3.131217920558846, 1.8185295477469872], [3.5, 0.9282108500000001], [3.5, 0.0], [3.5, -0.9282108500000001], [3.131217920558846, -1.8185295477469872], [2.4748737341529163, -2.4748737341529163], [1.8185295477469872, -3.131217920558846], [0.9282108500000001, -3.5], [0.0, -3.5], [-0.9282108500000001, -3.5], [-1.8185295477469872, -3.131217920558846], [-2.4748737341529163, -2.4748737341529163], [-3.131217920558846, -1.8185295477469872], [-3.5, -0.9282108500000001], [-3.5, 0.0], [-3.5, 0.9282108500000001], [-3.131217920558846, 1.8185295477469872], [-2.4748737341529163, 2.4748737341529163], [-1.8185295477469872, 3.131217920558846], [-0.9282108500000001, 3.5], [0.0, 3.5]], [\"M\", \"C\", \"C\", \"C\", \"C\", \"C\", \"C\", \"C\", \"C\", \"Z\"]]}, {\"data\": \"data06\", \"xindex\": 0, \"yindex\": 4, \"coordinates\": \"axes\", \"id\": \"el55722589519119024pts\", \"facecolor\": \"#BBBA18\", \"edgecolor\": \"none\", \"edgewidth\": 1.0, \"alpha\": 1, \"zorder\": 1000002.0, \"markerpath\": [[[0.0, 3.5], [0.9282108500000001, 3.5], [1.8185295477469872, 3.131217920558846], [2.4748737341529163, 2.4748737341529163], [3.131217920558846, 1.8185295477469872], [3.5, 0.9282108500000001], [3.5, 0.0], [3.5, -0.9282108500000001], [3.131217920558846, -1.8185295477469872], [2.4748737341529163, -2.4748737341529163], [1.8185295477469872, -3.131217920558846], [0.9282108500000001, -3.5], [0.0, -3.5], [-0.9282108500000001, -3.5], [-1.8185295477469872, -3.131217920558846], [-2.4748737341529163, -2.4748737341529163], [-3.131217920558846, -1.8185295477469872], [-3.5, -0.9282108500000001], [-3.5, 0.0], [-3.5, 0.9282108500000001], [-3.131217920558846, 1.8185295477469872], [-2.4748737341529163, 2.4748737341529163], [-1.8185295477469872, 3.131217920558846], [-0.9282108500000001, 3.5], [0.0, 3.5]], [\"M\", \"C\", \"C\", \"C\", \"C\", \"C\", \"C\", \"C\", \"C\", \"Z\"]]}, {\"data\": \"data06\", \"xindex\": 0, \"yindex\": 5, \"coordinates\": \"axes\", \"id\": \"el55722589519120536pts\", \"facecolor\": \"#5F1042\", \"edgecolor\": \"none\", \"edgewidth\": 1.0, \"alpha\": 1, \"zorder\": 1000002.0, \"markerpath\": [[[0.0, 3.5], [0.9282108500000001, 3.5], [1.8185295477469872, 3.131217920558846], [2.4748737341529163, 2.4748737341529163], [3.131217920558846, 1.8185295477469872], [3.5, 0.9282108500000001], [3.5, 0.0], [3.5, -0.9282108500000001], [3.131217920558846, -1.8185295477469872], [2.4748737341529163, -2.4748737341529163], [1.8185295477469872, -3.131217920558846], [0.9282108500000001, -3.5], [0.0, -3.5], [-0.9282108500000001, -3.5], [-1.8185295477469872, -3.131217920558846], [-2.4748737341529163, -2.4748737341529163], [-3.131217920558846, -1.8185295477469872], [-3.5, -0.9282108500000001], [-3.5, 0.0], [-3.5, 0.9282108500000001], [-3.131217920558846, 1.8185295477469872], [-2.4748737341529163, 2.4748737341529163], [-1.8185295477469872, 3.131217920558846], [-0.9282108500000001, 3.5], [0.0, 3.5]], [\"M\", \"C\", \"C\", \"C\", \"C\", \"C\", \"C\", \"C\", \"C\", \"Z\"]]}], \"texts\": [{\"text\": \"Concept 0\", \"position\": [0.04736303123399899, 0.9478783419180772], \"coordinates\": \"axes\", \"h_anchor\": \"start\", \"v_baseline\": \"auto\", \"rotation\": -0.0, \"fontsize\": 10.0, \"color\": \"#000000\", \"alpha\": 1, \"zorder\": 1000003.0, \"id\": \"el55722589519010392\"}, {\"text\": \"Concept 1\", \"position\": [0.04736303123399899, 0.901888643610498], \"coordinates\": \"axes\", \"h_anchor\": \"start\", \"v_baseline\": \"auto\", \"rotation\": -0.0, \"fontsize\": 10.0, \"color\": \"#000000\", \"alpha\": 1, \"zorder\": 1000003.0, \"id\": \"el55722589519082664\"}, {\"text\": \"Concept 2\", \"position\": [0.04736303123399899, 0.8558989453029189], \"coordinates\": \"axes\", \"h_anchor\": \"start\", \"v_baseline\": \"auto\", \"rotation\": -0.0, \"fontsize\": 10.0, \"color\": \"#000000\", \"alpha\": 1, \"zorder\": 1000003.0, \"id\": \"el55722589519084176\"}, {\"text\": \"Concept 4\", \"position\": [0.04736303123399899, 0.8099092469953398], \"coordinates\": \"axes\", \"h_anchor\": \"start\", \"v_baseline\": \"auto\", \"rotation\": -0.0, \"fontsize\": 10.0, \"color\": \"#000000\", \"alpha\": 1, \"zorder\": 1000003.0, \"id\": \"el55722589519118520\"}, {\"text\": \"Concept 6\", \"position\": [0.04736303123399899, 0.7639195486877607], \"coordinates\": \"axes\", \"h_anchor\": \"start\", \"v_baseline\": \"auto\", \"rotation\": -0.0, \"fontsize\": 10.0, \"color\": \"#000000\", \"alpha\": 1, \"zorder\": 1000003.0, \"id\": \"el55722589519120032\"}], \"collections\": [], \"images\": [], \"sharex\": [], \"sharey\": []}], \"data\": {\"data01\": [[-0.109273089490467, -0.11384594944739145], [-0.027146224254697402, -0.09239921526533726], [0.051234057708396265, -0.024370021572637304], [-0.14711862214626983, 0.007551049804205232], [-0.15143331262376233, 0.13283192475380123], [-0.1590730405253187, -0.09044610076698945], [-0.07690166600598908, 0.04370053102585239], [-0.01043431462948677, -0.12780714640325042], [-0.07690166600598909, 0.04370053102585238], [-0.138459029249222, -0.09035063797272674], [-0.23478198452746935, -0.03865607772974379], [-0.23469520376913158, -0.03865669063345452], [-0.040633440005114825, -0.10226753452425322], [0.04571372774343992, 0.050434995687034016], [-0.11794797192351328, -0.2062142375390064], [0.04884173139723259, 0.0015870787781111229], [0.015170926254783959, 0.0814086759264454], [0.10630237942162399, -0.03606699823786377], [0.18983588141864713, 0.09014084186775717], [-0.044814454099040835, 0.04241035466896658], [0.08951333943470702, 0.047073868159283806], [-0.14430545224509458, -0.038773291082837946], [0.012543445326203256, -0.018043818119944648], [-0.12820854101484264, 0.024557327477074613], [-0.0751793483204784, -0.05427720027461235], [-0.07856997451189905, -0.17209336590999236], [-0.06106689539134417, -0.07749210691466243], [0.011569419937230496, -0.1319174911720811], [-0.11772621745507432, -0.20515813976632363], [-0.01823502552851735, -0.06050097564802324], [0.09021904765895415, -0.05321440386966995], [-0.08081933074468518, 0.02514554794085886], [-0.14371607498213432, -0.07640853780381268], [-0.05811458236254045, 0.008936267643856705], [-0.1439205629376299, -0.007615719266969309], [-0.17777313254555208, -0.07855457770208898], [-0.06048576952481415, -0.12062934626068214], [-0.171534466221058, -0.12609465270876286], [-0.18478115631177724, -0.00707553254543902], [0.026339940457095395, -0.022981776528168733], [-0.049526590527464, -0.08802594120162165], [0.16523064180047764, 0.06595980141219288], [-0.24098110417473817, -0.06345875777437955], [-0.10331601426202203, -0.17766688779524595], [-0.15616212196055354, -0.021106035627199555], [-0.10928983833060332, -0.12945635267814876], [-0.1407475366211265, -0.1821013584481803], [-0.06597084983551402, -0.12506227205054618], [-0.1039528458846291, -0.11987741060882448], [-0.23320150147618526, -0.026702790549212492], [-0.10445929475991435, -0.11941897937597155], [-0.06463078582291953, 0.053570769796110224], [-0.08587746460724356, -0.10520145583522518], [-0.1278810970415689, 0.02453121644063496], [-0.05799315516524798, 0.010936208667708839], [0.03942885892469568, -0.11909553268704721], [-0.0037706520700439426, -0.05445918695117882], [-0.09931276217315059, -0.07963121380165426], [0.05454853884903616, -0.05390154107535548], [-0.015372170451057177, -0.11957481241917683], [-0.04650289478142738, -0.03332109813712518], [-0.15928485172788318, -0.04185032872679819], [-0.0227646474105849, -0.08913584092691738], [-0.1197946466961219, -0.0503182038715151], [-0.00573517193035191, -0.02941134757994164], [-0.038844127463022876, -0.04423467195853754], [0.0162289781040701, -0.06149117116401002], [-0.15557176418476643, -0.022579616782698736], [-0.039724413306250546, -0.049750092402179404], [-0.015372170451057142, -0.11957481241917689], [0.0016267301330270825, -0.1467392395737862], [-0.11544058096445246, -0.12019663593220771], [-0.1401672370597983, -0.07590623052534164], [-0.24880218172419677, -0.050303873198145506], [-0.22359501046757793, -0.06438664205992725], [-0.11205158935025408, -0.0824120437373446], [-0.17476743390377536, -0.1103411397458832], [-0.16580983963471527, -0.019538305151539016], [-0.22359501046757807, -0.06438664205992731], [0.0016267301330270794, -0.14673923957378615], [-0.04484008765581992, -0.1470030443400423], [-0.12948540277361953, 0.00488930225125484], [-0.1643512247888211, -0.1003381246664997], [-0.12912293837893604, 0.005132413838384796], [-0.16417269819432306, -0.0071814480989670516], [-0.05466022779211897, -0.17110616231695108], [0.04392296865373839, -0.1496998992887239], [-0.07053220719048561, -0.047783727605700384], [0.08691363920988136, 0.011689887182256739]], \"data02\": [[-0.07968147033743533, -0.09615035166865289], [0.08456665682821636, -0.1391999574669672], [0.09396727430550582, -0.06826400837525178], [-0.07298507220354353, -0.11605390055105914], [-0.24945864734571174, -0.0932839769114866], [-0.12438079231044355, 0.22516798225699056], [-0.10973672214666373, 0.1400080827141075], [-0.012975066687679513, 0.16880754860214617], [-0.07501268550771137, 0.2168199374016818], [-0.130349901578553, 0.30127252842741775], [0.008846938301207016, 0.2039113857405823], [-0.032354226203581485, 0.35575119411709505], [-0.13281216436242796, -0.05147876072509362], [-0.043125006065813175, 0.06610976185915544], [-0.1589395644890891, 0.2761661684518376], [-0.12087392905415152, 0.07139158788955942], [-0.10912555374209248, 0.2871255787459109], [0.015146705505114693, 0.08377653874908815], [0.14534967299824103, 0.11163670727504706], [0.2090811441496284, 0.0029152680870233147], [0.06283869390785086, 0.1521230899133832], [-0.11807923734412921, -0.032382635282580785], [0.1725041127611885, -0.031962011298765566], [-0.27375860535807484, 0.21856644716702994], [-0.12836231745847543, 0.040285253561418315], [0.012168139909529398, 0.004830113332885467], [-0.0605287796594688, 0.1987250241259152], [-0.07420309992653529, -0.11813326894420531], [0.2651792424309325, 0.28943603432773796], [0.13786911873045546, 0.39132690818801275], [0.09973946455298209, 0.037317139414277514], [0.001313926667464045, 0.06503350993180501], [-0.11156941428172786, -0.14545848382216928], [0.03241659583639093, -0.0035445803547835774], [-0.05477873219029249, -0.11167094973629232], [-0.14399386921080468, 0.2960591503301071], [-0.2410696106240932, -0.132261631964067], [0.03985273612788299, 0.12803776315854], [-0.3350894505791257, 0.1784575381252707], [-0.3316254396415418, 0.17731601543085845], [-0.13849926964952786, -0.275050369777829], [0.0068396583411132975, -0.05648527974515473], [-0.4456242226260073, 0.0852828525517768], [-0.2516237904837337, 0.17354414131738555], [-0.14081049537186952, 0.2930872763189857], [-0.1839812850667915, 0.04567653314091887], [-0.030420224936915388, -0.10637846128445076], [0.13965952821710376, 0.0901146460996414], [-0.2598369956415006, -0.0559210970312551], [-0.14480998608769832, -0.0016401176383270513], [-0.2043216631645108, 0.17606994761184888], [-0.14442005014906562, 0.02183878016583955], [0.08072058641833357, -0.015296169760191942], [0.008081045835820904, 0.06917157704719566], [-0.04372470738979133, 0.13336086282817866], [-0.2558560978760148, 0.02001000257018196], [-0.169618850260878, 0.11024807083995995], [-0.24636094599223518, -0.0007792637001822739], [-0.01760250880594036, -0.10949155144661395], [-0.2558560978760149, 0.02001000257018201], [-0.043724707389791284, 0.13336086282817872], [0.006875496212225023, 0.07716373924602923], [-0.20432166316451034, 0.17606994761184916], [-0.10386598192187123, -0.265380770346768], [-0.2645073809592232, 0.09537292225980347], [-0.26104074669124766, 0.1128257155701838], [0.10615414526053199, 0.08398984526889026], [0.06624871413045215, 0.06856244304840331], [-0.2314427281027135, 0.13417335172400913], [0.1560599721016378, 0.2236702765628878], [-0.06805465117806679, -0.011591382329834402], [-0.10392395297841249, -0.2662388729544358], [0.002531348229706432, 0.0984347928939644], [-0.0680546511780668, -0.011591382329834407], [-0.11893407882972114, 0.32873403320684436], [-0.18516235416057422, -0.07659563980627879], [-0.10515095927994353, -0.09412020735588807], [-0.08916876206066998, 0.031309040064724195], [0.0035710455351588228, -0.14164889163793035], [-0.23004741368846618, 0.1277575067214095], [-0.15157008012288384, 0.24044920008552523], [0.15031933842564, 0.20098327733788823], [-0.12719718768372876, -0.13563108906033777], [0.1214861550587569, -3.774208588611494e-05], [-0.0007980168307354693, -0.15271952614589246], [0.054443202896160066, 0.2501012386193261], [-0.12938749036999073, -0.11634061429946843], [-0.009984679788170366, -0.24754938236483967], [0.012837229022781118, -0.06631972186805017], [-0.16961885026087792, 0.11024807083995986], [-0.08137320719395943, 0.187830825392372], [-0.01669511342881297, 0.07624665482807483], [-0.08897733526249986, 0.17155144592774133], [0.007605947524884419, 0.28767314290898505], [-0.16508334532014518, 0.07364201391166003], [-0.23153457998741686, -0.015092077791075131], [-0.1683621200415756, 0.2673031184884454], [-0.1523810255275191, 0.044944275279832115], [-0.20092797511339558, 0.13984714263096806], [0.02640160986536369, 0.02682761419584026], [-0.037251419192204656, -0.06840480750694557], [-0.09167778505205501, 0.049172967404246454], [0.13508127882269347, 0.16823007886300156], [0.007605947524884419, 0.28767314290898494], [-0.2009872090109656, 0.13581900242821623], [-0.16607164246684022, 0.10566590953499339], [-0.035140572035592114, -0.287527074532263], [0.1398983625176377, -0.15241244088016553], [-0.043933614902683486, 0.14308124597440075], [-0.11253280866491058, 0.3468897838245436], [-0.08455767157127853, -0.018618943806157653], [0.056108561976575, 0.18257705904203417], [0.09167849738877117, 0.17894221627900223], [-0.03826968507046727, 0.1336042157903143], [-0.16836212004148907, 0.26730311848849136], [0.0025313482297064254, 0.0984347928939643], [-0.15922388754483263, -0.18903980477337323], [-0.17482035347120645, 0.25258752119480365], [0.023457081668660094, 0.0900026775819594], [-0.09747599033186408, -0.037352669775618574]], \"data03\": [[-0.20650639385353842, 0.3476871776595418], [0.04449660030065124, -0.1298260816279053], [-0.1468591932067086, 0.0623862625768373], [-0.1953488913669606, 0.26397894326457655], [-0.0029095980573595366, 0.23220434442939003], [-0.24970176384071538, 0.252545791229967], [-0.12829824145386692, 0.1689974196042842], [-0.2455180758797927, 0.2619724644151037], [-0.061397906163565094, 0.10071517852404482], [0.025562171108843887, 0.24941635463272713], [-0.11260337854670187, 0.2483986471720266], [-0.13463283596936482, 0.12118851505426748], [-0.20088386755768514, 0.1701757947816489], [-0.36020929578065874, 0.3603181983814857], [-0.13472884693581383, 0.14691184296969395], [-0.1578697887478312, 0.1743033535656546], [-0.19690718912043653, 0.44134192053153815], [-0.136886384565346, 0.04935327074701363], [-0.1408872868178059, 0.39714066164786943], [-0.0764117914857536, 0.029420737516856012], [-0.12963142403548064, 0.21637126112078223], [-0.12502163307206893, 0.2799536143421215], [-0.10786729264540329, -0.008955550932463894], [-0.11837365255568505, 0.29048306232392374], [-0.1634426602238565, 0.23451499926806574], [-0.21270711037671067, 0.28192337819373], [-0.07562937558645871, 0.09584852927912131], [-0.1549977499700702, 0.17996999638221198], [-0.14042861444939214, 0.16188679588755253], [-0.210156636057618, 0.20905292053960353], [-0.32329655695147697, 0.22970736997878435], [-0.23732878056193846, 0.15950184306436713], [-0.04522506948108592, -0.02825287048302786], [-0.188248876967956, 0.14163083947165775], [-0.13555712465736627, -0.018884038623084756], [-0.2322191559721619, 0.2606886182037264], [-0.27479814464979485, 0.29816190206053067], [-0.15386934439871633, 0.19298936749920861], [-0.2722620692741232, 0.3238141194719967], [-0.30806874231375386, 0.23930335906018385], [-0.06852124056032675, 0.18247615829166966], [-0.09352310067888815, 0.18913069135187624], [-0.148065287564705, 0.12824445583665495], [-0.1875265613642286, 0.315338562149193], [-0.0690929784981221, 0.01944736086369089], [-0.23221915597216164, 0.26068861820372685], [-0.1750904422364928, 0.22857416375472084], [-0.21281658871929285, 0.2709942650746685], [-0.23274072024716425, 0.309890261869718], [-0.17260302142268946, -0.029939941220961976], [-0.19764985752608888, 0.060541717937734774], [-0.06684371176176784, 0.288435989299991], [-0.10863954979177703, 0.19028383986891895], [-0.1081225935681897, -0.00844381411483215], [-0.16768626254856914, 0.04297737894090162], [-0.18877401438042318, 0.3939033457172841], [-0.21695447932805348, 0.16292448962281192], [-0.09179915254593027, 0.14722784584392462], [-0.16812168052513946, 0.06570571327925671], [-0.11972965180951879, 0.003817873282270852], [-0.09055669059711002, 0.14637622384104756], [-0.23719381571012, 0.2908969945303325], [-0.18090312555757773, 0.38850310590737497], [-0.264955828780116, 0.34960571481955816], [-0.28480065940133675, 0.2977618994489365], [-0.16862712557422477, 0.3918435397456835]], \"data04\": [[0.039956827531493926, -0.14256056670496545], [0.05583152673456576, -0.17973576185085757], [-0.08767634445815005, -0.28354523373250684], [-0.09674721037550563, -0.053117933736897945], [0.01583972186093033, -0.2892719519997773], [-0.08103216815997437, -0.3355670272674199], [-0.007133406771734331, -0.21143447291550094], [-0.011172455055114796, -0.15313404868115746], [-0.01117523348180334, -0.15308113126673908], [-0.12703148051877858, -0.17807559129886122], [0.07587141236561197, -0.30188023692548915], [-0.043912712258657324, -0.16600196075382728], [-0.11674589917083708, -0.11426804575165336], [-0.09648018971369551, -0.2177217088977677], [-0.12980866680528289, -0.1689474228589226], [-0.10857982136922206, -0.15611113899301599], [-0.14382752701539722, -0.2932805354984432], [-0.11674589917083715, -0.11426804575165343], [-0.18883109017203903, -0.2565739702769551], [-0.14107563947286206, -0.3070059469419353], [-0.04141085503202653, -0.09284196395675305], [-0.06239684326852874, -0.1860225103901638], [-0.16994615858171275, -0.12578532142304094], [0.06051047953091882, -0.1442328930844054], [-0.09130753325900993, -0.32437324438778065], [-0.09609358055375992, -0.23433940889382424], [-0.17475220825391702, -0.26877894716441536], [-0.11949598990734653, -0.11264493889472053], [-0.17540192325837245, -0.31458309205896384], [0.029188379944499077, -0.31425717974149775], [-0.1631896484334957, -0.157124373839988], [0.10541301636743648, -0.304555180695495], [-0.16021252681711265, -0.10065617640663999], [-0.09417132474363264, -0.21423340394938203], [-0.027617628490888214, -0.34357059770237125], [-0.021009838901027797, -0.2721377062371442], [-0.10714452722695757, -0.13304525472645917], [-0.06460767113830455, -0.27301557724585496], [-0.14657694651581787, -0.22332546577315485], [0.06598727994770459, -0.3142131422259123], [-0.17063609066433202, -0.2763780834953271], [-0.15966347187104396, -0.22502910026271233], [-0.19459381888387975, -0.18448617998047326], [-0.09545880936170759, -0.23036254931206326], [-0.0031558668303664603, -0.12246021921946697], [-0.03316402896110552, -0.23410506562580372], [0.029188379944499108, -0.31425717974149786], [-0.1512878363417207, -0.22679218537016066], [-0.24424614118846488, -0.1516172050077414], [0.041126249618228944, -0.199532121062934], [-0.09208901622595758, -0.26099371654921955], [-0.16021252681711265, -0.10065617640663997], [-0.11971798628386034, -0.19896125178529528], [-0.07992438418552013, -0.2543729795453033], [-0.16275269893237168, -0.3396715408013446], [-0.24194535872482575, -0.07443510873835903], [-0.1871022848810782, -0.27302079049971356], [0.04892244832800056, -0.22558393304856533], [0.10926896313731782, -0.3060243885606027], [-0.15128783634172066, -0.2267921853701606], [-0.11344421141861999, -0.2650269534643976], [-0.11861705321678646, -0.29530286798817273], [-0.18718425881908438, -0.29151796809709307], [-0.0880768197597117, -0.17246780001697773], [-0.11729159289661878, -0.26300512150861227], [-0.20291144714956755, -0.2706463467606489], [0.046943519612255305, -0.29577701668338235], [-0.16817317264193454, -0.12661156971747317], [-0.11492636674758193, -0.2433831666912407], [-0.11390615990661478, -0.13957531219203528], [-0.20291144714956785, -0.27064634676064836], [-0.1730909768463524, -0.2736912283821111], [-0.1435854000100477, -0.17264738998117915], [-0.13038119630865574, -0.023066807026906822], [-0.15462236764565568, -0.1723303235666515], [-0.17309097684635238, -0.2736912283821111], [-0.131652539156819, -0.16805902597278674], [-0.11618698797224478, -0.31742638034779586], [-0.08544518431816922, -0.0847145713978957], [-0.1829208109728856, -0.2587233311874963], [-0.1418328439920466, -0.19856498549929774], [-0.12256180269507401, -0.2157194773838895], [-0.1324301677306336, -0.19194211211962897], [-0.015026079596088964, -0.32552456152892034], [0.03406247029229694, -0.2250282115875198], [0.04048621097688385, -0.12617756343719433], [-0.0030850767739492232, -0.22353953182825734], [-0.11445298478768473, -0.2571342679270204], [-0.08650694124728127, -0.08837696170928702], [-0.19372968016602188, -0.14806408474457997], [-0.014868173139368678, -0.2254653409247604], [-0.24248745080671505, -0.26734555770260604], [-0.01995883373399499, -0.16314632882573113], [-0.17538955528397676, -0.10238921026974888], [-0.1333528859072105, -0.2386366949088107], [-0.07623900257345656, -0.22020327003782048], [-0.13224049691413492, -0.11353381280793778], [-0.09417132474363259, -0.21423340394938195], [-0.13042509964725496, -0.2659987604943638], [-0.186204539993799, -0.3390373911031643], [-0.18146666708769785, -0.35164378262631457], [0.10795642486589181, -0.21406636638003532], [0.03869833608100629, -0.24420525841029847], [-0.09860061813278329, -0.2499309893457834], [-0.10965685036806741, -0.2727227358046981], [0.0562179966545214, -0.26481030267408184], [-0.05548906232684925, -0.08890552181454733], [-0.11780835574250592, -0.27954422685440267], [-0.13959492851521685, -0.2903732839194398], [-0.13798324405480344, -0.24884873294426918], [-0.18286114653996416, -0.2872045119122705], [0.0003881729682711835, -0.3677971910086952], [-0.15182202736192416, -0.13794885313257055], [-0.19754135217912963, -0.25615827405622804], [-0.1683505037436785, -0.12254351370322206], [-0.07648613740467211, -0.12572868504714657], [-0.17693272502896434, -0.327281024623388], [-0.08902564739522995, -0.22629059093477785], [-0.17275710353549262, -0.298480886037496], [-0.17430170960354113, -0.2741305532548725], [-0.16394063040110873, -0.22224305816067635], [-0.03242154306912937, -0.1977533944426396], [-0.13980358447034913, -0.2903828734616259], [-0.18157386095901215, -0.20476117233707103], [0.02542085968177245, -0.12728613015170867], [-0.11246869488486039, -0.34214108045814107], [-0.04386382286310159, -0.25377574167057615], [-0.1269290330632227, -0.3163482391607664], [-0.17309097684635247, -0.2736912283821115], [-0.14328199883999518, -0.23941564117324218], [-0.18888511510816153, -0.30245700612723814], [-0.11780835574250591, -0.27954422685440267], [-0.22207483714045104, -0.20527522247257116], [-0.18404662137985306, -0.15788178608652537], [-0.18301126639974424, -0.376041828817463], [-0.12692903306322284, -0.3163482391607664], [-0.16856536932325564, -0.10859969061025637], [-0.14952345882586526, -0.18181005227687258], [-0.13646186063205762, -0.3225180105197709], [-0.1480959130222143, -0.155386009755589], [-0.13457113281077557, -0.17219887113278493], [0.0336642091162004, -0.20258086869473016], [-0.08767634445815006, -0.28354523373250673], [-0.11173619564506378, -0.23452816854274672], [-0.17063609066433186, -0.2763780834953273], [-0.13642095828770637, -0.3224140268871126], [0.08497179087279609, -0.2514470229533083], [0.031391352705148826, -0.30679394277654626], [-0.0969814821294174, -0.2391504244820398], [-0.10384762725686174, -0.3225467230435419], [-0.09270211766418655, -0.32211552148553313], [-0.17185832943619744, -0.2022049472281024], [-0.17063609066433194, -0.2763780834953273], [-0.20326664605922945, -0.17543663664728287], [-0.13457113281077557, -0.17219887113278498], [-0.11470771721172485, -0.2087537463188817], [-0.04386382286310159, -0.25377574167057615], [0.08479100884045696, -0.18941178235950368], [-0.13945517152121206, -0.30817529557313106], [-0.10336945121162484, -0.21997934598493574], [-0.15540486924588517, -0.22246987397670906], [-0.1451728280940902, -0.20524640498455116], [-0.13983039269870334, -0.14184734566635906], [-0.10374722696586669, -0.322408404162881], [-0.16171826892880317, -0.2778520602215341], [-0.00298064953388312, -0.14012334409193156], [0.050641572938584484, -0.20208744093974534], [-0.2125638895766912, -0.28243993393068045], [0.03040528420704378, -0.19739973346445902], [-0.18294073323525803, -0.1868862952771703], [-0.14925014580169113, -0.28554139956024277]], \"data05\": [[0.11517659525650545, 0.10154546560335771], [0.06433245467199786, -0.01681776802394167], [0.10140973731026433, -0.0019154796406926759], [0.02768497288355025, -0.009213575132357543], [0.030575627037841478, 0.0040668034708805385], [0.13077942226110936, 0.06462559794763177], [0.1636664362423245, -0.06180940118325931], [0.13321612499051774, 0.11316033657220374], [0.15964031573633256, 0.07139019704061529], [0.14315722548442536, 0.09171350021454336], [0.14840393979378064, 0.02183032658154628], [0.11010413000914969, -0.057930974645010395], [0.08880597410896997, -0.02541652607824655], [0.13629099909081524, -0.12236095596066641], [0.17501756411736977, -0.09398514022136775], [0.0833517091347419, 0.08395940897060601], [0.15231254214779222, -0.1555174821809773], [0.2065977939959084, -0.2055556672658712], [0.14940565622041038, -0.19953515008904896], [0.13641995101823146, -0.0010394427017663523], [0.21123687862582263, -0.18071123139989878], [0.0590673190020411, -0.08363445684347232], [0.11007533797622034, 0.01875664421916531], [0.1368991026743873, -0.060828698652746746], [0.04085208284680355, -0.10402719508431814], [0.07013954648823499, -0.13702356262441512], [0.24736778224669778, -0.03112913813642539], [0.21511197012524452, -0.10856133970531717], [0.062035446146199734, -0.01999430232232746], [0.20051714002001952, -0.18401901448591004], [0.29389075955130356, -0.0495608722993911], [0.15154185480011143, 0.05315079189655731], [0.20559715030250392, -0.2063795850835778], [0.18362034108259292, -0.11358786060652334], [0.12700019446070318, 0.1101028576882656], [0.1540134467260543, -0.011634477218431449], [0.12387417141242384, -0.13199455081310843], [0.11494207362492946, -0.07471239466620788], [0.09573902323039082, -0.029015712167955142], [0.17178156254816193, -0.19142863372978303], [0.17178156254816193, -0.191428633729783], [0.06431814460557836, -0.03201328323490418], [0.1398739153523365, 0.022843758064105196], [0.20733277043974593, -0.2631164761302511], [0.12676424540003006, 0.04744025879745137], [0.07841998740929748, -0.1188702234182015], [0.057963437301368076, -0.009554232510758109], [0.0612304464563225, -0.005743678103476731], [0.16443595580212989, 0.07310169387079321], [0.07649541121162673, -0.07844935696191203], [0.16443595580212997, 0.07310169387079322], [0.16633784640937477, 0.015518447247291437], [0.19891670223021937, -0.08347059863240383], [0.17031238611492966, -0.23314332862975934]], \"data06\": [[0.024321556579621102, 0.958609271523179, 0.9126195732155998, 0.8666298749080207, 0.8206401766004416, 0.7746504782928625]], \"data07\": [[0.00896057347670251, 0.745523669364729], [0.11456733230926777, 0.745523669364729], [0.11712749615975424, 0.745523669364729], [0.11712749615975424, 0.7516556291390729], [0.11712749615975424, 0.9785381407897964], [0.11712749615975424, 0.9846701005641403], [0.11456733230926777, 0.9846701005641403], [0.00896057347670251, 0.9846701005641403], [0.006400409626216075, 0.9846701005641403], [0.006400409626216075, 0.9785381407897964], [0.006400409626216075, 0.7516556291390729], [0.006400409626216075, 0.745523669364729], [0.00896057347670251, 0.745523669364729]]}, \"id\": \"el55722589514771704\", \"plugins\": [{\"type\": \"reset\"}, {\"type\": \"zoom\", \"button\": true, \"enabled\": false}, {\"type\": \"boxzoom\", \"button\": true, \"enabled\": false}, {\"type\": \"htmltooltip\", \"id\": \"el55722589516805792pts\", \"labels\": [\"SAP Manager and Senior Consultants\", \"IT Sharepoint Analyst- SharePoint Developer\", \"Data Analyst\", \"Head, Infrastructure\", \"Senior Software Developer\", \"Junior Project Manager (1 year contract)\", \"Assistant / Security Manager (Planning & Projects)\", \"Technical Project Manager / Technical Lead\", \"Assistant / Security Manager (Planning & Projects)\", \"Project Manager - APAC\", \"Project Manager\", \"Project Manager\", \"Project Manager\", \"QA Analysts\", \"Regional Retail Manager\", \"Senior Software Developer\", \"Technology Consultant III\", \"Software Quality Assurance Engineer\", \"Associate Consultant, Apps\", \"Lead/ Software Developer (MS Sharepoint)\", \"Consultant, Application\", \"Commercial Support Coordinator II\", \"Programmer (Testing)\", \"Control Room Operator (CRO)\", \"BIM COORDINATORS\", \"Project Manager\", \"Technical Business Analyst\", \"Digital Commence Architect\", \"Regional Retail Manager\", \"ID- Engineer, Software Requirement\", \"Outsystem developer\", \"Assistant Manager\", \"Scientist II\", \"Application Support Analyst\", \"Field Technical Spt Cons I\", \"Department Director (Telecom)\", \"Group IT - Solution Designer\", \"IT project manager\", \"SR Clinical Research Associate | Singapore\", \"Singleview Software Consultant\", \"ERM Consultant\", \"Dotnet Developer (Singapore based candidates)\", \"Project Manager (Pegasystems)\", \"Product Manager\", \"Customer Support Supervisor\", \"Business Intelligence - Senior Program Manager\", \"Senior Project Manager\", \"Product Manager\", \"Project Manager\", \"Assistant Project Manager\", \"Project Manager\", \"Assistant Manager - IT Project\", \"Professional Services Consultant: Financials\", \"Control Room Operator (CRO)\", \"IT Solutions Engineer\", \"Manager (L5)- Cybersecurity Architecture Specialist\", \"System Analyst \\u2013 EDW\", \"Project Manager (HR Software) Up to $9k\", \"Incident Engineer\", \"Infrastructure Solutions Architect\", \"IT Business Analyst\", \"Customer Service Officer\", \"Software Engineer\", \"Senior Systems Engineer (Citrix Lead)\", \"Qliksense/BI Developer\", \"Business Manager\", \"Manager/Senior Manager, Data Management (1 year contract)\", \"Assistant Project Manager Interns\", \"IT Business Analyst\", \"Infrastructure Solutions Architect\", \"Senior Manager \\u2013 Digital\", \"IT Project Manager\", \"Project Manager cum Business Analyst\", \"Information Technology Project Manager\", \"Relationship Manager\", \"Project Manager - Cloud Services\", \"Application Delivery Specialist\", \"SR Site Start-up & Regulatory Specialist | Singapore\", \"Relationship Manager\", \"Senior Manager \\u2013 Digital\", \"Programme Manager (IT)\", \"HOTEL SYSTEMS MANAGER\", \"Project / Account Manager\", \"HOTEL SYSTEMS MANAGER\", \"Assistant IT Project Manager Intern\", \"Senior Product Manager\", \"Group IT - Staff Solution Designer\", \"DOCUMENT AUTOMATION SPECIALIST\", \"System Analyst (IT Apps)\"], \"hoffset\": 10, \"voffset\": 10}, {\"type\": \"toptoolbar\"}, {\"type\": \"htmltooltip\", \"id\": \"el55722589519008824pts\", \"labels\": [\"Business Process Engineer | Local MNC | Central\", \"Data Scientist (M&R;) | Local MNC | Central\", \"Data Scientist (Optimization) | Local MNC | Central\", \"Game Producer | Up to $7000 basic | MNC\", \"Video Algorithm Engineer (AI/Streaming/C++/High Pay/Multiple openings)\", \"[Govt Sector] IT Software Trainer - up to $2500/ Mon to Fri\", \"VMware Engineer\", \"Business / Systems Analyst (Logistics / UP $8000 / West / 5 Days / 5-8 Yrs Exp)\", \"System Engineer (VCAP/ VMware/ up to $5.5K)\", \"Presales Network Engineer x 2 (West/ SI/ CCNA/ CCNP/Cisco/ Up to 4.5K)\", \"Business / System Analyst Leader (Up $8000 / 5 Days / 4-8 Yrs Exp / AWS+VB)\", \"Technical Engineer ( Desktop cum Network support )\", \"SAP BPC Functional Consultant\", \"[SA] Project Assistant Manager for service industry (ref:44850), 7k - 8k\", \"IT SUPPORT/HELPDESK OFFICER $2800+BONUS, TROUBLESHOOT DESKTOP/OS @SIMEI/EAST\", \"BROADCAST MOTION GRAPHIC DESIGNER -VIDEO EDITING&3D $2500+ALLOWANCE+AWS\", \"Business Analyst | IT Executive | ERP| SAP | Up to $4.5k\", \"RF DEVELOPMENT ENGINEER  ( UP TO 6K / PUBLIC LISTED / WEST )\", \"[SA] Java Software / Application Engineer [Ref 44191] RM 6k - 10k\", \"Web / Front End Developer (up to S$7000, Proficient in VUE, Angular, React)\", \"Vision Software Engineer - [Attractive Salary / WPF / Deep Learning / OpenCV]\", \"Salesforce Administrator\", \"PHP Developer / Software Engineer (KL)\", \"IT Trainer for MOE Schools (Education / $2500 per month / Perm)\", \"UNIX / Linux Engineer (RM6k - RM8k)\", \"Performance Test Engineer (Up to $7500/ Python Language/ Linux Environment/ SQL)\", \"IT Network Engineer ( AS400 - Spore Tuas)\", \"Senior Game Producer | Up to $8000 basic | MNC\", \"SAP ABAP Consultant/ Programmer\", \"SAP MM Consultant\", \"IT Assistant Manager @ Kuala Lumpur [REF: SY]\", \"Associate / System Engineer (Communication Systems) (Ref 22166)\", \"Customer Account Manager/ Account executive\", \"Regional IT System Analyst (2 Positions)\", \"Creative Director\", \"Device Engineer [Army Camps / $2.4k+AWS / IT exp / Immediate]\", \"Enterprise Account Manager, Sales Manager\", \"Senior Test Analyst / Test Lead\", \"IT Support (Assistant/Executive)\", \"IT Support (Assistant/Executive)\", \"Homepage Design/ Video Creation (3 Months)\", \"Embedded Software Developer (m/f)\", \"ACCOUNTS ASSISTANT\", \"MNC: Regional IT Security and Network Engineer (CCNA)\", \"Device Engineer [Army Camps / $2.4k+AWS / IT exp / Immediate]\", \"Sales Support Assistant (102780)\", \"Senior IT Business Analyst cum Project Manager-Fluent in Russian\", \"System Analyst\", \"Receptionist and Office Assistant\", \"Customer Service Representative (Yishun)\", \"IT Teacher (E-Lesson System) - $2500 per month/ Mon to Fri/ 8am-5pm\", \"Accounts Associate\", \"Engineer (Development) | Up to $3.6k\", \"Software Test & Support Intern for an AI Company\", \"Freelance Trainer\", \"Guest Services Officer, Telephone\", \"Product Support Specialist // Paya Lebar // 2500+ // IT solution\", \"IT Specialists (AV / VC)\", \"IT Project Manager - (HG181019 024/1)\", \"Guest Services Officer, Telephone\", \"Freelance Trainer\", \"Software Test & Support Intern for an AI Company\", \"IT Teacher (E-Lesson System) - $2500 per month/ Mon to Fri/ 8am-5pm\", \"Online/Social Media Research Staff (Part Time/Full Time) Needed!\", \"Executive, Admin Support\", \"Senior / Accounts Executive\", \"Test Development Engineer (up to Staff Engineer)\", \"Sharepoint Developer\", \"Finance Executive\", \"Software Engineer\", \"Equipment Installation Manager\", \"Online/Social Media Research Staff (Part Time/Full Time) Needed!\", \"Videographer/Photographer Volunteer\", \"Equipment Installation Manager\", \"IT Engineer, Technical Support (5 days, Science Park 1)\", \"ERP Functional / Application Consultant\", \"Associate Post Producer\", \"Auditor(ISO9001)\", \"Project Manager\", \"Finance Executive\", \"ittechnicalsupport\", \"Software Engineer/ Senior (manufacturing industry)\", \"Research Assistant\", \"J3971CC Technical Consultant\", \"Cybersecurity Specialist\", \"Software support engineer\", \"Ecommerce Manager\", \"Data scientist\", \"Research Associate\", \"Product Support Specialist // Paya Lebar // 2500+ // IT solution\", \"Assistant System Consultant\", \"IT Manager (Up to $4500, East)\", \"Assistant System Consultant\", \"Cyber Security Engineer ($2500 \\u2013 3000, 5 Days, River Valley)\", \"Retail Assistant (Mobile Phones)\", \"Your fortes include:\", \"Analyst, IT Support (2500-3000, 5 days, Contract, Buona Vista)\", \"Service Engineer\", \"Technical Support Engineer\", \"Implementation Project Manager\", \"Consultant\", \"Service Manager\", \"UX Design Engineer // Changi South // IT // Engineer // 2500+\", \"Cyber Security Engineer ($2500 \\u2013 3000, 5 Days, River Valley)\", \"Technical Support Engineer\", \"Product Support Specialist // Paya Lebar // 2500+ // IT solution\", \"Product & Social Media Manager\", \"Radar Algorithm Intern\", \"Information Technology Officer\", \"IT Support Engineer // Outdoor // TaiSeng // 5 Days // Class 3\", \"Digital File Preparation Technician (6-month Renewable Contract)\", \"NW Engineer/Desktop Support\", \"Software Engineer (In House / 5 days)\", \"Freelance Trainer\", \"Analyst, IT Support (2500-3000, 5 days, Contract, Buona Vista)\", \"Videographer/Photographer Volunteer\", \"Audience Research Intern\", \"Desktop Support Engineer\", \"IT Professionals: Software+Hardware+Network - Banking+Insurance+IT+Telco+Manufacturing+Retail\", \"Information Technology Trainers\"], \"hoffset\": 10, \"voffset\": 10}, {\"type\": \"toptoolbar\"}, {\"type\": \"htmltooltip\", \"id\": \"el55722589516807136pts\", \"labels\": [\"IT Desktop Support | Local MNC | Central\", \"Cloud Architect | Local MNC | Central\", \"Network Architect | Local MNC | Central\", \"IT Customer Service Officer (UBI/UP to $2300/5 days\", \"System / Server Administrator\", \"Windows System Admin (RM6k - RM9k)\", \"SAP Security\", \"Desktop Technologist - SCCM Support\", \"Database Administrator / Engineer (Oracle / SQL, up to S$5000, MNC)\", \"Database Administrator (Ref 22888)\", \"Network System Engineer (Ref 22167)\", \"Senior / Network Engineer  (Ref 22271)\", \"IT Senior Manager (Infrastructure)\", \"Security Software Engineer\", \"Systems Engineer (IT Infrastructure)\", \"Network Consultant (Team lead)\", \"WINTEL SYSTEM ADMINISTRATOR\", \"Assistant Manager, Centre for Healthcare Simulation (2-year contract)\", \"Senior/Network Engineer(CCNA/CCNP)\", \"Information Technology Solutions Consultant\", \"SYSTEMS ENGINEER [Junior/ 5 days/ up to $2800]\", \"Project Manager - IFS/PM/LKS\", \"IT Solution Manager\", \"Project Manager - IFS/PM/LKS\", \"Lead Systems Engineer\", \"IT Executive\", \"Infrastructure Head\", \"Urgent [Up to $4.2k] IT Support Executive \\u2013 Swiss MNC (6-month contract)\", \"Specialist Associate, Corporate Services-IT\", \"Printer Level 2 support - Changi\", \"IT Security Analyst\", \"Senior Engineer, IT Networking\", \"TechOps Engineer\", \"Senior Boarding Executive / Boarding Executive (IT/AV) \\u2013 2 years contract\", \"VoIP Support\", \"Network Engineer\", \"System Administrator\", \"Consultant, Service Delivery\", \"IT Executive\", \"Lead Consultant, IT Security\", \"IT Network Engineer\", \"ASSOCIATE ENGINEERS\", \"Project Engineer / Project Executive (up to S$3500, MNC)\", \"Office Solutions Engineer\", \"Software Support Engineer\", \"Network Engineer\", \"IT Support / Executive\", \"Network Engineer\", \"IT Assistant\", \"Hardware Operations Site Manager\", \"IT Site Manager\", \"Technical Support Engineer\", \"Systems Administrator - REF16074R\", \"IT Solution Manager\", \"IT Officer\", \"Storage and Backup Administrator (Ref 22904)\", \"IT Manager // Bukit Batok //4000-5000 // Firewall // Server\", \"NOC Manager\", \"Network Engineer (Network Operations)\", \"Infrastructure Manager\", \"NOC Manager\", \"\\\"System Admin\\\"\", \"Unix Engineer\", \"System Engineer (IT-L3) - UP TO $4.5K/URGENT/IMMEDIATE\", \"Field Engineer, Information Technology (It)\", \"IT Onsite Support Engineer\"], \"hoffset\": 10, \"voffset\": 10}, {\"type\": \"toptoolbar\"}, {\"type\": \"htmltooltip\", \"id\": \"el55722589518913720pts\", \"labels\": [\"Data Scientist (Operation) | Local MNC | Central\", \"DevOps Engineer (up to RM14k)\", \"AM IT Singapore Head (IT Project Manager) , Asset Management IT\", \"Signalling Site Engineer\", \"Product Designer\", \"Associate Consultant\", \"Associate Product Manager\", \"Systems Analyst / Software Engineer\", \"Systems Analyst / Software Engineer\", \"Sr Lab Analyst I\", \"Software Engineer (Logistics, Backend)\", \"Senior Product Manager\", \"Project Manager (Internal Ref. 17000149)\", \"Enterprise Architect, ASEAN\", \"Marketing Executive\", \"Market Research Consultant\", \"Cryptocurrency Sales Broker - Singapore\", \"Project Manager (Internal Ref. 17000149)\", \"Channel Sales Manager \\u2013 Viet/Cambodia/Laos\", \"Biddable Media Analyst\", \"TECHNICAL CONSULTANT, INFO SOFTWARE\", \"App Store Solutions Manager\", \"I-TRADE LANE ANALYST - (JAPAN MARKET)\", \"Infocomm Officer / Senior Infocomm Officer [Infocomm Application/Infocomm Application Development Centre]\", \"Key Account Manager - Singapore\", \"Field Marketing Manager Asia\", \"Business Development Representative (Mandarin & English-Speaking)\", \"Inside Sales Account Manager\", \"Telco & Media Account Executive\", \"Software Engineer in Test\", \"SAP Concur - Technical Account Manager\", \"Back End Software Engineer\", \"APAC Payroll Coordinator\", \"Project Management Lead\", \"Software Engineer\", \"Graphic Design Intern\", \"Presales Engineer\", \"Product Manager\", \"Product Manager\", \"Senior Software Engineer, Engineering Productivity\", \"Commercial Manager, Oceania\", \"Cyber Security Business Development Manager\", \"Head of Regulation APAC\", \"CyberSecurity Consulting Systems Engineer, Singapore\", \"Data Scientist\", \"English speaking Azure Ranger\", \"Software Engineer in Test\", \"Management Trainee (Fintech)\", \"IT Help Desk Associates\", \"Software Engineer - Full Stack\", \"Project Manager\", \"APAC Payroll Coordinator\", \"New Graduate - Sales Finance Analyst - Asia Pacific Japan\", \"Magic: Head of Business Product\", \"Management Associate\", \"Inventory Technician\", \"Student Intern: HCM Sales Development Analyst\", \"Chief Technology Officer\", \"Applications Software Architecture and Engineer;\", \"Management Trainee (Fintech)\", \"Head of Pre-Sales, APJ\", \"Head of Pivotal Cloud Foundry Platform Services, APJ\", \"Account Manager, Client Success\", \"Supply Chain Engineering Program Manager\", \"Systems Reliability Engineering Manager, APAC\", \"Unified Communications Sales Director, APAC\", \"Data Engineer\", \"Talent & HR Coordinator\", \"Sr. Product Manager\", \"Fraud Operations Analyst Lead/ Program Manager\", \"Unified Communications Sales Director, APAC\", \"Business development manager\", \"Regional Manager, Professional Services\", \"Field Sales Manager- APAC\", \"Sales Manager - South Korea\", \"Business development manager\", \"HR Manager\", \"Sales Development Representative - APJ (Singapore)\", \"Project Manager\", \"Account Manager\", \"Solutions Consultant\", \"2019 Market Data Analyst\", \"ASEAN Government and Aerospace & Defense Market Development\", \"Research Intern\", \"Software Engineer, Machine Learning\", \"IT Analyst/ Software Developer\", \"Deputy Interactive Graphics Editor\", \"Experience Architect\", \"Solution Consultant\", \"Product Manager - Sales Trader\", \"Chief Technology Officer\", \"ADVERTISING AND SPONSORSHIP SALES ACCOUNT MANAGER\", \"Head of R&D on Blockchain -Smart Contract Security\", \"IT Engineer (Helpdesk)\", \"Engagement Consultant\", \"Operations Manager\", \"Section Manager, Information Technology\", \"Project Management Lead\", \"Specification Engineer\", \"Global Alliance Leader- DXC Asia\", \"Strategic Alliance Manager, Singapore\", \"Software Developer - Python\", \"Software Engineer, Smart Multi-Energy System\", \"Senior IT Specialist\", \"Strategy Officer\", \"Software Engineer (iOS)\", \"ITPS Specialist (Transport)\", \"Leonardo Center Manager, Singapore\", \"Strategic Account Manager, Singapore\", \"BUSINESS DEVELOPMENT MANAGER\", \"Major Account Manager\", \"Graduate Back End Software Engineer - Singapore\", \"Sales Account Manager (IT)\", \"Sales Development Representative\", \"Company Secretarial Executive/ Assistant Manager\", \"Senior Manager/Manager/Assistant Manager (ICT Industry Development, Ecosystem Development)\", \"Business Development Manager\", \"Project Manager\", \"Strategic Accounts Director\", \"Business Development Representative (Vietnamese & English Speaking)\", \"Sr. Manager, Business Development\", \"Product Manager\", \"Strategic Account Manager, Singapore\", \"Territory Manager, South Korea\", \"Full-stack Software Engineer\", \"Team Lead, Enterprise\", \"STAR Singapore Intern\", \"Policy Enforcement Manager, Disinformation, Trust and Safety, YouTube\", \"Business development manager\", \"Client Solutions Consulting III\", \"Account Manager, LE, GTS\", \"Leonardo Center Manager, Singapore\", \"Account Manager \\u2013 APAC\", \"Inside Opportunity Manager\", \"Business Development Manager, Enterprise\", \"Policy Enforcement Manager, Disinformation, Trust and Safety, YouTube\", \"Snr Executive Secretary & Administrative Manager\", \"MySQL APAC Partner Marketing Manager\", \"Business Solution Manager\", \"Senior Manager, Manufacturing SG SPE\", \"Marketing Manager- (APAC)\", \"TradeOps Developer - Singapore (Python)\", \"AM IT Singapore Head (IT Project Manager) , Asset Management IT\", \"Photographer / Senior Photographer\", \"Commercial Manager, Oceania\", \"Business Solution Manager\", \"Software Engineer\", \"3 months/6 months/12 months Internship: Coding & STEM Instructor\", \"Sales Development Representative - Japan\", \"Product Management Internship\", \"Digital Product Manager\", \"Sales Engineers (IT Solutions and Services)\", \"Commercial Manager, Oceania\", \"Sales Manager,Insurance, Singapore\", \"Marketing Manager- (APAC)\", \"Manager, Branding & Communications\", \"STAR Singapore Intern\", \"Sr Software Engineer\", \"Biddable Media Analyst\", \"Sales Engineer - APAC\", \"Industry Content Manager\", \"Project Manager\", \"Contract Manager\", \"Product Management Internship\", \"Asia Emerging Markets Partner Account Manager\", \"Data Scientist\", \"Software Engineer, Intern\", \"2019 Customer Support Representative (English/Korean Speaker) SG\", \"Associate, Application Engineering\", \"Office Manager (Singapore)\", \"VMware Cloud on AWS, Partner Manager \\u2013 ASEAN\"], \"hoffset\": 10, \"voffset\": 10}, {\"type\": \"toptoolbar\"}, {\"type\": \"htmltooltip\", \"id\": \"el55722589516834688pts\", \"labels\": [\"Application Engineer (IT Solution @ PJU1A - Up to RM6000)\", \"Performance Test Engineer (Up to $7500 / Python / Linux / US MNC)\", \"Software Engineer / Programmer| Up to $7k\", \"(SA) Software Engineer - JAVA [Ref: 43786] Cyberjaya, RM6k\", \"(SA) Software Engineer - C# [Ref: 43785] - Putrajaya/Cyberjaya\", \"Web Application Developer (.NET) Central, Kuala Lumpur\", \"Senior .Net Developer\", \"Software Engineer ( C#/ C++)\", \"System Analyst (Based in Kuala Lumpur)\", \"Software & QA Support Engineer (Based in Kuala Lumpur)\", \"Software Engineer (C++, MRT Project)\", \"Lead Software Engineer\", \"IT Manager - Java Applications\", \"Software Engineer - PE-JD-640\", \"DevOps Engineer\", \"Software and Applications Developer\", \"Artificial Intelligence Bot Engineer Intern\", \"Software Engineer - Web (JavaScript / React), Singapore\", \"Software and Applications Developer\", \"Software Developer (.Net / C#) (Up to 7K) (West) (IT MNC)\", \"Sr. Software Engineer\", \"Senior Software Developer - Tableau\", \"Software Configuration Analyst\", \"Senior Software Engineer (C#/.Net) - Immediate\", \"Software Test Engineer\", \"IT Analyst (Emerging Technologies) - Direct Contract\", \"Software Engineer (Java) (Ref 22716)\", \"Software Engineer (Web Frontend)\", \"Software Engineer\", \"Software Engineer (Java)\", \"Software Engineer\", \"Software Engineer (Java)\", \"Software Engineer - Web (JavaScript/ React)\", \"Javascript Software Engineering (Mid- Level)\", \"Software Developer\", \"R&D Test Software Developer\", \"Software Engineer (Java)\", \"Junior Software Engineer\", \"Associate Software Architect (.NET)\", \"Test Automation Engineer\", \"Test Automation Engineer\", \"Pega Developer (ITSR)\", \"Comsumer Suites Developer (ITSR)\", \"Software Engineer\", \"Senior IT Analyst\", \"Software Engineer\", \"Estate Manager (Car Parks)\", \"Estate Manager (Car Parks)\", \"Software Developer (.Net MVC, Telerik) - Based in KL, Malaysia\", \"Integration Consultant\", \"Software Developer (.Net MVC, Telerik) - Based in KL, Malaysia\", \"Operations Software Engineer (IT/Telecommunication Related Industry/Central Area/Up to 6K/Urgent)\", \"Software Development Lead\", \"Back-end Magento Software Engineer\"], \"hoffset\": 10, \"voffset\": 10}, {\"type\": \"toptoolbar\"}]});\n",
       "            })\n",
       "         });\n",
       "}\n",
       "</script>"
      ],
      "text/plain": [
       "<IPython.core.display.HTML object>"
      ]
     },
     "execution_count": 20,
     "metadata": {},
     "output_type": "execute_result"
    }
   ],
   "source": [
    "\n",
    "\n",
    "\n",
    "num_of_plots = 500\n",
    "#create data frame that has the result of the MDS plus the cluster numbers and titles\n",
    "df = pd.DataFrame(dict(x=xs[:num_of_plots], y=ys[:num_of_plots], \n",
    "                       label=clusters[:num_of_plots], \n",
    "                       title=job_adverts_title[:num_of_plots]))\n",
    "\n",
    "#group by cluster\n",
    "groups = df.groupby('label')\n",
    "\n",
    "#define custom css to format the font and to remove the axis labeling\n",
    "css = \"\"\"\n",
    "text.mpld3-text, div.mpld3-tooltip {\n",
    "  font-family:Arial, Helvetica, sans-serif;\n",
    "}\n",
    "\n",
    "g.mpld3-xaxis, g.mpld3-yaxis {\n",
    "display: none; }\n",
    "\n",
    "svg.mpld3-figure {\n",
    "margin-left: -100px;\n",
    "}\n",
    "\n",
    "\"\"\"\n",
    "\n",
    "# Plot \n",
    "fig, ax = plt.subplots(figsize=(14,6)) #set plot size\n",
    "ax.margins(0.03) # Optional, just adds 5% padding to the autoscaling\n",
    "\n",
    "#iterate through groups to layer the plot\n",
    "#note that I use the cluster_name and cluster_color dicts with the 'name' lookup to return the appropriate color/label\n",
    "for name, group in groups:\n",
    "    points = ax.plot(group.x, group.y, marker='o', linestyle='', ms=7, \n",
    "                     label=cluster_names[name], mec='none', \n",
    "                     color=cluster_colors[name])\n",
    "    ax.set_aspect('auto')\n",
    "    labels = [i for i in group.title]\n",
    "    \n",
    "    #set tooltip using points, labels and the already defined 'css'\n",
    "    tooltip = mpld3.plugins.PointHTMLTooltip(points[0], labels,\n",
    "                                       voffset=10, hoffset=10, css=css)\n",
    "    #connect tooltip to fig\n",
    "    mpld3.plugins.connect(fig, tooltip, TopToolbar())    \n",
    "    \n",
    "    #set tick marks as blank\n",
    "    ax.axes.get_xaxis().set_ticks([])\n",
    "    ax.axes.get_yaxis().set_ticks([])\n",
    "    \n",
    "    #set axis as blank\n",
    "    ax.axes.get_xaxis().set_visible(False)\n",
    "    ax.axes.get_yaxis().set_visible(False)\n",
    "\n",
    "    \n",
    "ax.legend(numpoints=1) #show legend with only one dot\n",
    "\n",
    "mpld3.display() #show the plot\n",
    "\n",
    "#uncomment the below to export to html\n",
    "#html = mpld3.fig_to_html(fig)\n",
    "#print(html)"
   ]
  },
  {
   "cell_type": "code",
   "execution_count": null,
   "metadata": {},
   "outputs": [],
   "source": []
  }
 ],
 "metadata": {
  "kernelspec": {
   "display_name": "Python 3",
   "language": "python",
   "name": "python3"
  },
  "language_info": {
   "codemirror_mode": {
    "name": "ipython",
    "version": 3
   },
   "file_extension": ".py",
   "mimetype": "text/x-python",
   "name": "python",
   "nbconvert_exporter": "python",
   "pygments_lexer": "ipython3",
   "version": "3.6.5"
  }
 },
 "nbformat": 4,
 "nbformat_minor": 2
}
