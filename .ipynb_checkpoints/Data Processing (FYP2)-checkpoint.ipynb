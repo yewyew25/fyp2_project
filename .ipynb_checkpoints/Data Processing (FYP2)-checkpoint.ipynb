{
 "cells": [
  {
   "cell_type": "markdown",
   "metadata": {},
   "source": [
    "<font size=\"30\">---------------</font>\n",
    "<font size=\"30\">Data processing</font>\n",
    "<font size=\"30\">---------------</font>"
   ]
  },
  {
   "cell_type": "markdown",
   "metadata": {},
   "source": [
    "<font size=\"30\">1.0 Prepare data</font>"
   ]
  },
  {
   "cell_type": "code",
   "execution_count": 134,
   "metadata": {},
   "outputs": [
    {
     "name": "stdout",
     "output_type": "stream",
     "text": [
      "Connected successfully!!!\n"
     ]
    }
   ],
   "source": [
    "from pymongo import MongoClient\n",
    "\n",
    "try: \n",
    "    client = MongoClient()\n",
    "    print(\"Connected successfully!!!\") \n",
    "except:\n",
    "    print(\"Could not connect to MongoDB\") \n",
    "\n",
    "db = client.job_advert_db #select database\n",
    "collection = db.job_advert #select collection to insert"
   ]
  },
  {
   "cell_type": "code",
   "execution_count": 135,
   "metadata": {},
   "outputs": [],
   "source": [
    " from bson.json_util import dumps"
   ]
  },
  {
   "cell_type": "code",
   "execution_count": 136,
   "metadata": {
    "scrolled": false
   },
   "outputs": [
    {
     "name": "stdout",
     "output_type": "stream",
     "text": [
      "Amount of data collected: 4827\n"
     ]
    },
    {
     "name": "stderr",
     "output_type": "stream",
     "text": [
      "C:\\Users\\uSER\\Anaconda3\\lib\\site-packages\\ipykernel_launcher.py:2: DeprecationWarning: count is deprecated. Use Collection.count_documents instead.\n",
      "  \n"
     ]
    }
   ],
   "source": [
    "job_advert_collection = collection.find({})\n",
    "print(\"Amount of data collected:\" , job_advert_collection.count())\n",
    "\n",
    "job_adverts = []\n",
    "\n",
    "for ja in job_advert_collection:\n",
    "    job_adverts.append(ja['desc'])"
   ]
  },
  {
   "cell_type": "markdown",
   "metadata": {},
   "source": [
    "<font size=\"30\">2.0 Data Preprocessing</font>"
   ]
  },
  {
   "cell_type": "code",
   "execution_count": 137,
   "metadata": {},
   "outputs": [],
   "source": [
    "import re, string, unicodedata\n",
    "import nltk\n",
    "import contractions #expand the contractions \"you're -> you are\"\n",
    "import inflect #convert plural to singular nouns\n",
    "from bs4 import BeautifulSoup\n",
    "from nltk import word_tokenize, sent_tokenize \n",
    "from nltk.corpus import stopwords #filter english words \"is\", \"this\", \"there\", etc.\n",
    "from nltk.stem import LancasterStemmer, WordNetLemmatizer\n",
    "import tqdm"
   ]
  },
  {
   "cell_type": "code",
   "execution_count": 144,
   "metadata": {},
   "outputs": [
    {
     "name": "stdout",
     "output_type": "stream",
     "text": [
      "[nltk_data] Downloading package punkt to\n",
      "[nltk_data]     C:\\Users\\uSER\\AppData\\Roaming\\nltk_data...\n",
      "[nltk_data]   Unzipping tokenizers\\punkt.zip.\n"
     ]
    },
    {
     "data": {
      "text/plain": [
       "True"
      ]
     },
     "execution_count": 144,
     "metadata": {},
     "output_type": "execute_result"
    }
   ],
   "source": [
    "nltk.download('punkt')"
   ]
  },
  {
   "cell_type": "markdown",
   "metadata": {},
   "source": [
    "2.1 Denoise Job Descriptions"
   ]
  },
  {
   "cell_type": "code",
   "execution_count": 138,
   "metadata": {},
   "outputs": [],
   "source": [
    "def strip_html(text):\n",
    "    soup = BeautifulSoup(text, \"html.parser\")\n",
    "    return soup.get_text()\n",
    "\n",
    "def remove_between_square_brackets(text):\n",
    "    return re.sub('\\[[^]]*\\]', '', text)\n",
    "\n",
    "def denoise_text(text):\n",
    "    processed_text = []\n",
    "    pbar = tqdm.tqdm(len(text))\n",
    "    for t in text:\n",
    "        text = strip_html(t)\n",
    "        text = remove_between_square_brackets(t)\n",
    "        processed_text.append(text)\n",
    "        pbar.update(1)\n",
    "    pbar.close()\n",
    "    return processed_text"
   ]
  },
  {
   "cell_type": "code",
   "execution_count": 139,
   "metadata": {},
   "outputs": [],
   "source": [
    "job_adverts = denoise_text(job_adverts)"
   ]
  },
  {
   "cell_type": "markdown",
   "metadata": {},
   "source": [
    "2.2 Replace contractions in string"
   ]
  },
  {
   "cell_type": "code",
   "execution_count": 140,
   "metadata": {},
   "outputs": [],
   "source": [
    "def replace_contractions(text):\n",
    "    \"\"\"Replace contractions in string of text\"\"\"\n",
    "    text_arr = []\n",
    "    pbar = tqdm.tqdm(len(text))\n",
    "    for t in text:\n",
    "        t = contractions.fix(t)\n",
    "        text_arr.append(t)\n",
    "        pbar.update(1)\n",
    "    pbar.close()\n",
    "    return text_arr"
   ]
  },
  {
   "cell_type": "code",
   "execution_count": 142,
   "metadata": {
    "collapsed": true
   },
   "outputs": [
    {
     "name": "stdout",
     "output_type": "stream",
     "text": [
      "['Leading Local EnterpriseUnderstand current processes and valuable outcomesAble to structure a large amount of information within a process frameworkJob scopeMapping/Reviewing existing business processes and “re-imagine” improved ones by maximizing customer value while minimizing waste and incorporating automation.Facilitate/lead process workshops that involve eliciting process requirements and liaising with usersAbility to interpret business requirements into digital solution.Create project plans that contain project goals, milestones, and resourcesMonitor, measure and provide feedback on process performanceLiaise with management to coordinate process improvement project activitiesRequirements:Enjoys variety at work as this is a wide-ranging role immersing in a variety of different projects, and able see the big picture.Work with other business teams and Digital Department to figure out the best way to design new processes and solve process-related problems.Strong analytical background, be a problem solver and have good diagramming and communication skillsKnowledge of process mapping and business process reengineering.Performed analysis of business processes and workflows with the objective of finding out how they can be improved or automated.Knowledge in business process modeling notations (BPMN, EPC, etc) and Business Process tools (ARIS).Interested candidates who wish to apply for the advertised position, please email us at\\xa0 an updated copy of your resume in Ms word format.\\xa0We regret that only shortlisted candidates will be notified.EA Licence No 18C9228 Registration No. R1770238 (Jimmy Low)', 'Leading Local EnterpriseStrong knowledge in enterprise IT hardware and softwareMicrosoft Certified Systems Engineer (MCSE), ITIL V3 will advantageResponsibilitiesProvide IT support to end user included enterprises hardware and softwareProvide IT administration & service desk support for internal customer.Provide solution to end user requests / problems via multiple channel (phone, email, remote service, IT Service Management System etc.)Supporting teleconference, audio/visual infrastructure and services.Participate in projects when required.RequirementExcellent technical knowledge and skills of Windows OS.Deep understanding of IT hardware and software (Microsoft Office Suite, Visio, etc.)Experience administering Active Directory domain, Group Policy, Microsoft Office 365.Knowledge in enterprise software installation, networking system troubleshooting, security patching, etc.Experienced in support the following application is a plusMobile Device ManagementMicrosoft System Centre Configuration ManagerMicrosoft Lync/SkypeMicrosoft BitLockerMicrosoft Certified Systems Engineer (MCSE), ITIL V3 will be a plusInterested candidates who wish to apply for the advertised position, please email us at\\xa0\\xa0an updated copy of your resume in Ms word format.\\xa0We regret that only shortlisted candidates will be notified.\\xa0EA Licence No 18C9228 Registration No. R1770238 (Jimmy Low)', 'Leading Local EnterpriseStrong knowledge of AI/ML/Mathematical modelsStrong in Python, R, C++Exposure to High-Performance Computing & Natural Language ProcessingResponsibilitiesAnalyzing global energy markets to identify significant patterns and understanding and forecast trendsStrong understanding of AI/ML/ Statistical & mathematical modelsEnsure the developed models are of the highest standards of qualityResearch and develop AI/ML/ Statistical & mathematical models which are better suited for the energy market analysis, energy trading and related areasWork with different individuals from various M&are team across a wide range of regionsCollecting, analyzing, screening and manipulating different data sets required for analysis and build a M&are data lake to support all decision making processWork with Cloud based Big Data platforms and tools to design and deploy applications in collaboration with a global IT teamConduct testing / validation of Machine Learning models, model tuning and parameter optimizationRequirementPhD, Master’s degree in Computer Science, Engineering, Statistics or other related fieldsMore than 5 years of experience in machine learning solutions developmentExperienced in applying analytics/ML modeling for energy/utilities market analysis / trading applicationsStrong skills in Python/R/C++ or any other related programming languagesDeep understanding of AI/ML/Mathematical models with hands-on capability of building models and solutions for the end userExperienced in scalable solutions using R/Python/Scala/Spark/Hadoop on batch & real-time data and deploying on Cloud platforms using different PAAS servicesExperienced in identifying, accessing and data handling various data sources using a wide variety of tools (API/SQL/Web Scrapping, etc.)Exposure to High-Performance Computing and/or Natural Language Processing is a plusDemonstrable experience in delivering end-to-end data science projects collaborating directly with both technical and business stakeholdersInterested candidates who wish to apply for the advertised position, please email us at\\xa0 an updated copy of your resume in Ms word format.\\xa0We regret that only shortlisted candidates will be notified.\\xa0EA Licence No 18C9228 Registration No. R1770238 (Jimmy Low)', 'Leading Local EnterpriseHands-on experience in Hadoop, SparkFamiliar with ML techniques, AI based modelHands-on experience working with cloud based big data platformsResponsibilitiesBuild solutions which generate unique insights & knowledge to the core business users within energy and utilities operationsExhibit deep knowledge in advanced analytics, including knowing how to transform complex data into easily understandable action items within a business contextDeep understanding of ML techniques, time-series/AI based forecasting, feature engineering, dimensionality reduction, optimization and deep learning techniquesWork closely with business stakeholders in automating and building appropriate process visualizations for operational supportCollect, analyse, screen and manipulate different exogenous/ related data sets and tags required for modelling and support all decision making processWork with Cloud based Big Data platforms and tools to design and deploy applications in collaboration with a global IT teamConduct testing / validation of Machine Learning models, model tuning and parameter optimizationExhibit interpersonal /communication skills to communicate effectively in a multifunctional leadership teamRequirementPhD, Master’s degree in Computer Science or Engineering Statistics or other related fields.Minimum 5 years of experience as Data Scientist with proven record of building ML models applied to asset management topics, within the energy/utility or a related industry, and embedding these solutions into business processesDemonstrate effective knowledge of industrial asset management principles such as predictive maintenance, asset failure modes and apply these principles directly to build statistical/ML modelsExperienced in implementing scalable ML solutions by Python or are on cloud platforms with different PAAS servicesProficient in advanced statistical methods and building ML models including Regression, classification, forecasting, function approximation, optimization and deep learning having a strong understanding of mathematical background of various modelling approachesHands-on experience working with cloud based big data platforms and tools such as Hadoop and Spark to deploy and productionize ML solutionsDemonstrable experience in delivering end-to-end data science projects collaborating directly with both technical and business stakeholdersExperience in formalizing business problems as machine learning solutions and translating into actionable insights and foresightsInterested candidates who wish to apply for the advertised position, please email us at\\xa0 an updated copy of your resume in Ms word format.\\xa0We regret that only shortlisted candidates will be notified.\\xa0EA Licence No 18C9228 Registration No. R1770238 (Jimmy Low)', 'Leading Local EnterpriseCloud based Big Data PlatformSolving large-scale complex problemsExperience in optimization algorithms development and softwareResponsibilitiesIdentifying business-wide problems and be responsible for guiding the project team in solving problemsManaging of multiple concurrent projects and drive them to successful completionCommunicate problem formulation, solution, analyses and insights to team members and stakeholdersBuild, validate, test, and deploy models and algorithms using proven and experimental techniquesDefine hypotheses, develop and execute necessary tests, experiments, and analyses to prove or disprove themWork with Cloud based Big Data platforms and tools to design and deploy applications in collaboration with a global IT teamApply state-of-the-art techniques in optimization algorithms such as ILP, MILP, Heuristics/Meta-heuristics(SA,GA,PSO), and tools such as Cplex, Gurobi, MATLAB to build robust business solutionsRequirementPh.D. or at least an MSc in Mathematics, Operations Research, Computer Science will be advantageMinimum 5 years of relevant experience in solving large-scale complex problemsExperienced in implementing scalable software systems and knowledge of the principles of fault-tolerance, reliability and durabilityDetail-oriented and efficient time manager who thrives in a dynamic and fast-paced working environmentAble to present complex subjects clearly and coherently to non-domain expertsGood knowledge with exact and heuristic methods in optimization and hybridizing them for good quality solutions and computing performanceExperience with formulating and solving problems in an optimization frameworkExperience with standard types of optimization problems (linear programming, convex optimization, integer programming, discrete, nonlinear, or stochastic mathematical optimization, etc.)Experience in optimization algorithms development (e.g. supply chain optimization, operations research, network design, machine learning, etc.)Experience in optimization software such as GAMS, and optimization modelling language (e.g. AMPL,AIMMS, OPL, etc.)Familiarity with experimental design and causal inferenceInterested candidates who wish to apply for the advertised position, please email us at\\xa0 an updated copy of your resume in Ms word format.\\xa0We regret that only shortlisted candidates will be notified.\\xa0EA Licence No 18C9228 Registration No. R1770238 (Jimmy Low)', 'Leading Local MNCStrong knowledge and experience in Cloud technologiesDepth technical skills in large enterprise Cloud infrastructureResponsibilitiesDeveloping strategies and technology landscape for Cloud suitability, developing business case and Cloud adoption roadmap.Cloud adoption driving at enterprise level. Defining the roadmap for cloud transformation at portfolio level.Identify and define processes suitable for cloud adoption across portfolios within the organization and measure the performance of the processes on periodically.Improvement in existing infrastructure operations, architecture design as well as delivery processes, overall infrastructure, cloud, & network architectureDefining deployment standards for development team & reviewing delivered build packages for validating the required standards.Work together with other IT sub-function heads to deep understand user requirements across the IT services and recommend new technologies to meet the business needs. Improving the efficiency by reviewing the delivery or current services and assess ways.Supervise infrastructure deployment and conduct post release reviews and provide in-depth technical advice & level 3 support to resolve complicated technical issues to maintain service availability and improve service levels.Conduct market research and deep understand of industry latest trends and define newer solutions to institutionalize Cloud practices at enterprise level.Design, setup and maintain Cloud Management Platform, orchestration tools, Infrastructure Monitoring Tools for proactive monitoring of IT Infrastructure and application performance to ensure optimal IT Services delivery.Advising on new technologies to improve service quality, cost saving based on understanding the requirements from business stakeholder. Advise on capabilities and constraints of the infrastructure environment and communicate about implementation and expansions of infrastructure strategy, architecture, and delivery processes.Ensure SLA always meet the business requirement. Ensure good security posture of computer resources. Manage on IT expenses to ensure within budgets.Develop the IT manuals, operational SOPs, technical architecture documentations and etc.Ensure high availability of IT service & network infrastructure in line with the stipulated service level agreements (SLAs). Manage recovery process and prepare incident reports in cases of system outages.Support and remote overseasoffice IT infrastructure setup.In charge of cloud and infrastructure related projects.Provide monthly and yearly reports on IT Service SLA achievements, IT systems, networking and cloud capacity, trending, cost utilization, planning to Senior Executive ManagementRequirementDegree in Computer Science/Information Technology or equivalent with at least 4-year experience in Architecture solution leveraging Azure IaaS services, DevSecOps, ASR with 10+ years of experience of hard-core infrastructure consulting, design, setup, and operations.MUST Azure Certification:Architecting Microsoft Azure Solutions/DevOps Engineering Professional/DeveloperMinimum 3 years hands-on experience on multiple domains of Cloud based technologiesPaaS, IaaS, Cloud Infrastructure, Cloud based development, Docker, Kubernetes, Python, Pivotal Cloud FoundryDeep understanding of Cloud Services (AWS, Google Compute Engine, Private/Hybrid CloudsStrong knowledge and a large experience on a broad range of infrastructure technologies such as Public & Hybrid Clouds platforms (Azure, Office 365, AWS, etc.) Networking, Windows/Susie/Red Hat Server platforms, Windows Desktop platforms, Directory Services, High Availability configurations, Virtualization (VMware, Hyper-V, Citrix), storage technologies, cloud services, collaboration tools and trends.In depth knowledge of key Azure services -VM, Storage, Azure SQL, VNet, Redis Cache, Resource Manager, Azure Diagnostics/ OMS, Traffic Manager, Azure CDN, Azure Notification Hubs, Azure Identity and Access Management, Azure Data Lake / Data Factory, Infrastructure as Code, Azure IaaS – Microsoft and Linux based VMs, databases, storage, Azure Virtual networks, firewalls, resource groups, Azure Application Insights, Microsoft VSTS DevOps platform, Microsoft Cloud security architecture, and etc.Key Skills: CI (Continuous Integration) and CD (Continuous Deployment/Delivery) using Jenkins, Ansible, Kubernetes, Python, GitHub, she will scripting, Change management, Azure Cloud knowledge and prod support activities.Deep experience in platform integration/architecture technical skillsSOA, API-centric, microservices, containerization, serverless, managed file transfer, messaging protocols, etc.Experience on handling of servers (IIS, Tomcat, Apache).Strong knowledge of leading Cloud Management Platform and orchestration tools.Strong knowledge of evaluating the Azure hosting consumption charges and optimization of the charges.Knowledge inMicrosoft Windows, Linux based Operating Systems, Open Source, VMware & Hyper-V hypervisors & WhatsUp Gold.Understanding of TOGAF or other formal architecture frameworks is desired.Interested candidates who wish to apply for the advertised position, please email us at\\xa0 an updated copy of your resume in Ms word format.\\xa0We regret that only shortlisted candidates will be notified.\\xa0EA Licence No 18C9228 Registration No. R1770238 (Jimmy Low)', 'One of the Leading Local EnterpriseLead a team, overseas travel requiredDepth technical skills in large enterprise network & operational network designResponsibilitiesDeveloping strategies and technology landscape for global network (data, video & voice, IoT) suitability develop business case and networking infrastructure adoption roadmap.Networking infrastructure driving at enterprise level. Defining roadmap for voice & video services, networking.Define solutions with cloud as an enablerIdentifying and define processes suitable for cloud adoption across portfolios within the organization and measure the performance of the processes on periodically.Improvement in existing infrastructure operations, architecture design as well as delivery processes, overall infrastructure, cloud & networking architectureDefining deployment standards for development team & reviewing delivered build packages for validating the required standards.Work together with other IT sub-function heads to deep understand user requirements across the IT services and recommend new technologies to meet the business needs. Improving the efficiency by reviewing the delivery of current services and assess ways.Supervise infrastructure deployment and conduct post release reviews and provide in-depth technical advice & level 3 support to resolve complicated technical issues to maintain service availability and improve service levels.Research the industry latest trends and define a newer solutions to institutionalize video & voice, networking practices at enterprise level.Design, setup and maintain Infrastructure Management Platform, orchestration tools, Infrastructure Monitoring Tools for proactive monitoring of IT Infrastructure and application performance to ensure optimal IT Services delivery.Understand the requirements from business stakeholder and advise new technologies for service quality improvement, and cost savings. Advise on capabilities and constraints of the infrastructure environment and communicate about implementation and expansions of infrastructure strategy, architecture, and delivery processes;Ensure that SLA and uptime meet business requirement. Ensure good security posture of computer resources. Manage on IT expenses to ensure within budgets.Operations staffing: recruitment, supervise, schedule, develop the team, set clear direction and objectiveDevelop the IT manuals, technical architecture documentations, operation SOPs and etc.Ensure service level agreements (SLAs) are met by manage support to meet business need.Support and remote overseas office IT infrastructure setupIn charge of company cloud and infrastructure related projectsProvide monthly and yearly reports on IT Service SLA achievements, IT systems, networking and cloud capacity management, planning, cost utilization, trending to Senior Executive ManagementRequirementDegree in Computer Science/Information Technology or equivalent with minimum 3-year experience in Network Architecture solution for data, video & voice, cloud and IoT with 10+ years of experience of hard-core infrastructure consulting, design, setup, and operations.3-5 years of experience in leading a team of engineers on providing global infrastructure supportCisco CCIE/CCIE-SP, Aruba, PMP/PRINCE2, ITIL V3, AWS Certified Solutions Architect, Azure Solutions Architect will be a PLUSDeep understanding on Cloud services (AWS, Google Compute Engine, Private/Hybrid Clouds)Knowledge to provide customer satisfactionStrong knowledge and a large experience on a broad range of infrastructure technologies such as Public & Hybrid Clouds platforms (Azure, Office 365, AWS, etc.) Networking, Windows/Susie/Red Hat Server platforms, Windows Desktop platforms, Directory Services, High Availability configurations, Virtualization (VMware, Hyper-V, Citrix), storage technologies, cloud services, collaboration tools and trends.Deep experience in enterprise architecture design, managing and support the following applications/systems –Cisco & Aruba networking & WiFi solutions, 802.1x, 802.1q, NAC/NAP technologies, MPLS/IPSec/SDN/SD-WAN/Internet, Hybrid Cloud Networking Computing Platforms & Technologies (Office365, Azure, AWS,etc) and AAA technologies (TACACS+ and RADIUS), Video & Audio conferencing services (BlueJeans, Zoom, etc.), Virtual PBX systems, and etc.Good knowledge in Microsoft Windows, Linux based Operating Systems, Open Source, VMware & Hyper-V hypervisors & WhatsUp Gold will be advantage.Understanding of TOGAF or other formal architecture frameworks is desired.Interested candidates who wish to apply for the advertised position, please email us at\\xa0 an updated copy of your resume in Ms word format.\\xa0We regret that only shortlisted candidates will be notified.\\xa0EA Licence No 18C9228 Registration No. R1770238 (Jimmy Low)', 'MNCAttractive remunerationsVibrant working environmentResponsibilitiesOversee the development of game production from concept to live online operations (end to end)Manage diverse team of artists, game designers, programmers and external vendorsCollect estimates from design, art, programming, and QA leads to generate project schedules and set release datesRun daily meetings to ensure all tasks are on trackCollaborate with team leads to ensure that all deadlines are being met and alleviating dependencies that block developmentReview schedules with management and team leads, defining what is expected in each milestone/sprintProvide regular reports on the game’s performance and make recommendations & adjustmentsAnalyze data metrics and recommend improvements to the product in order to improve the revenue model, marketing, new user acquisition, and existing user retentionRequirementsMinimum Degree/Diploma in a related field with at least\\xa08 years of relevant experience, with 2 published titlesPossess great communication and presentation skillsPossess the leadership skills to lead a team of 12 or more staffHave a strong interest in social gamesProven ability to identify, understand, prioritize, plan and articulate market & customer requirementsStrong analytic skills and experience with metrics driven decision makingA passionate, performance-driven individual with a strong business acumenReliability, ability to work under tight deadlines\\xa0Interested candidates please send an updated CV in Ms Word format to  or call Patricia Ng (Reg no: R1331229) @ 63260106 for a confidential discussion', 'Responsibilities:- To provide 1st level of support via hotline calls and emails with SLA.- To log all customer requests into internal ticketing system.- To monitor Linux & Windows system on AWS and Azure cloud.- To provide efficient and timely technical support to end-user.- To escalate any unresolved issue to 2nd and 3rd level engineers for further resolution.- To follow up on the progress of all outstanding issues until closure.- To perform other IT related duties when assigned by the management.\\xa0\\xa0Requirements:- NiTEC / Diploma in IT with at least 2 years of relevant experience- Familiar with Windows OS- Possess the strong sense of responsibility, initiative and commitment to customer service- Meticulous and a team player with pro-active and good attitude- Experience in Linux /cloud computing will be an advantage.', 'Location\\xa0\\xa0\\xa0\\xa0\\xa0\\xa0\\xa0 :CentralWorking days\\xa0\\xa0\\xa0 : 5 day work weekSalary\\xa0\\xa0\\xa0\\xa0\\xa0\\xa0\\xa0\\xa0\\xa0 : Up to $15,000 (salary will commensurate according to experience & qualifications)The Company strives to achieve employee satisfaction by providing attractive staff benefits, welfare & training programmes to all staff.\\xa0Our client, a global brand in Mobile Internet and Video Technology, is inviting dynamic individuals to join their team.\\xa0Responsibilities:Research and development in computer graphics and video contents editingLook into new video editing/processing algorithms for our short video and live streaming pipelineFollow up the development works in related fields and keep improving overall performance of the platformPerform algorithm optimisationReview video coding as and when neededRequirements:Minimum Masters in Video related/Computer Graphics/Computer Vision or equivalentPhD candidate is highly sought afterSolid knowledge/experience in image/video processing algorithmMachine Learning tech application in video editing and graphics processing is a big plusFamiliar with frameworks such as MXnNet, Tensorflow etc. is a big bonusTeam player and positive working attitudeAbility to work independently, organise and meticulousRemuneration will be accorded based on relevant work experience and technical skillsetsMust have good command of Chinese language to work with China HQ and clientsHow to Apply:If you are organised, meticulous, adapt well to changes and more importantly, believe that YOU CAN MAKE A DIFFERENCE, we would like to hear from you.Simply submit your application by emailing your updated résumé (in MS Word format) to Wills Heng Wei He (EA Personnel Registration No: R1549842) at\\xa0\\xa0Click the \"Apply Now\" button at the bottom of the page orCall your friendly Consultant, Wills Heng Wei He, at 6590 9874 for a confidential discussion. I will be glad to assist you!FOR IMMEDIATE CONSIDERATION:\\xa0\\xa0\\xa0\\xa0Please indicate the below information in your resume:Current & Expected salaryReason(s) for leaving\\xa0\\xa0\\xa0\\xa0Availability to commence workWe regret only short listed candidate will be notified. All applications will be treated with the strictest confidence.By submitting any application or résumé to us, you will be deemed to have agreed and consented to us collecting, using, retaining and disclosing your personal information to prospective employers for their consideration.', '• Great exposure teaching under MOE Schools• Coach and teaching primary school childrens• Possess strong passion in teaching\\xa0Location: Multiple location, islandwideWorking hours:\\xa0Office hours (Depend on School operating hours)Salary: up to $2500 + Bonuses + Benefits\\xa0Job Scope:To develop and conduct IT based customized training to students and institution staff based on institution requirement.To provide software and partial technical assistance, including Learning Management System (LMS) to students and institution staff.To assist and update institution website and intranet.To support institution Head of IT Department in spearheading IT initiatives.To support any other adhoc tasks as required by institution HOD IT and/or school management.To submit monthly performance report to institution and company.Requirements:At least a Diploma in Multimedia/Information Technology/Computer Studies, and or any related field.At least one-year experience in teaching/training.Possess basic photography/videography skills.Possess basic coding skills.Proficient in Microsoft Office and Adobe suites.How to apply:Send your updated resume to \"\" or Click \"apply now\".Subject stated: IT Software Trainer\\xa0*By submitting any application or resume to us, you will be deemed to have agreed & consented to us collecting, using, retaining & disclosing your personal information to prospective employers for their consideration*\\xa0Tan Guo Wei (Isaac) | R1655144ScienTec Consulting Pte Ltd (ScienTec Personnel) | EA 11C5781', 'IT Risk Management / Software Security Integrated Solution Provider\\xa0Job Description\\xa0Developing software solutions according to requirements and designPerform software application maintenance, development, testing & debugging assignmentsConducting unit test, integration test, system test, etc to ensure that project/product requirements are metProduce project/product related documentationProvides system support to customer (troubleshooting and problem resolution) upon escalated by L2 support teamDevelop and maintain an in-depth working knowledge of all products and services offered by the CompanyWorking closely with colleagues to provide solution in the event of critical software issueLeadership skills is required for senior roleAble to provide software solution guidance to the team for senior roleTravelling is requiredRequirements:\\xa0Candidate must possess at least Diploma or Bachelors Degree in Software Engineering or equivalent.Mandatory skill(s): 2-5 years working experience in JAVA and J2EERequired skill(s): Java, C/C++, Visual C++, .NET, PL/SQL.Preferred skill(s): she will Scripting (Linux, Unix), Oracle, MySQL, Crystal Reports, Web Services, Perl, Microsoft Technologies (MFC, WCF, WPF, CSLA.NET, MSMQ, Prism and etc), Hibernate, Oracle/MySQL DB Administration.Willing to take up challenge of engineering the unknown.5 working days / Week job.\\xa01 Full time position is available.', 'Job DescriptionAdminister, support and monitor whole VMware landscapeTroubleshoot and fix issues in a timely and efficient mannerCoordination of hardware repair and maintenanceMaintain the list of VMware inventoryPerform industry standard server implementation, upgrades and troubleshootingPerform Virtualization projects on hyper converge infrastructurePerform AD/Messaging Solution and Microsoft CloudSetup of new Clusters, vCenters and other requirementsRequirementDegree in Computer Science or equivalent experienceMinimum 5 years of working experience in windows based environmentMinimum 2-4 years of working experience in large VMware environmentsIndustry recognized certification in server/storage management will be advantageousFlexible, self-motivated and able to work independently in a fast paced and multi-cultural organizationExcellent verbal and written communication skills, with a strong command of the English languageGood interpersonal skills and strong analytical skillsSelf-confident and able to take initiative in problem solving independentlyAble to work under pressure, critical situation and flexible working hour environmentAble to Design, Plan, Deploy, support and upgrade/migrate of MS Active Directory, MS Exchange Messaging Solution, MS Clusters, MS Hyper-V, Systems Center Suite and Cloud SolutionRequired Skill Sets:MS Active Directory, MS Exchange, Messaging solution, MS Cluster, MS Hyper-V.VMware vSphere, vCentre, VRealize, Horizon view and cloud solutionCandidates will be required to travel overseas for project implementation as and when requiredDesirable certifications: Microsoft MCSE certificates, VMWare VCP\\\\VSP/VTSP certifications, Cisco UCS Certification (DCUCI)Please send your detailed resume in MS Word format including the following details to 1.Recent photograph2.Personal particulars3.Education Level4.Each employment background5.Working experience6.Reason for leaving each employment7.Last drawn salary8.Expected salary9.Date of availability', '☑ Mon – Fri (8.30am – 5.30pm)☑ West☑ UP $8000 + AWS + Variable Bonus☑ Electronics Industry\\xa0Responsibilities:Lead and implementation of short term Logistics information systems project (6–12 months)Oversees project progress and supervise a team of IT analystDevelop test plan and execute validation prior to releasing of new developmentPreparing of blueprints, providing application and 1st level technical support to end user regarding SAP functionsPerform testing and validation to ensure smooth delivery and implementation planEvaluate business flow and provide solutions to entities on improving system processes and work proceduresResponsible for new systems updates and upgrading\\xa0Requirements:Min. Diploma / Degree in Computer Science / Information Systems or equivalentMin. 5 – 8 years of relevant business / systems analyst experienceSound knowledge in SAP (MM, CSM, WM, PP, PM) with experience in upgrading and implementationWilling to travel overseas if required\\xa0Qualified or Interested candidates, please email your updated resume in MS format to: \\xa0\\xa0\\xa0We regret to inform that only shortlisted candidates would be notified.\\xa0Tua Yee Nee, ElaineSenior Consultant (Reg. No: R1657371)JTE Recruit Pte Ltd (EA License: 14C7215)', 'Job Requirements:Our client is looking for a Systems Engineer with a demonstrated ability to drive a project to completion with good time management skills. You must be highly self-motivated, an independent thinker, organized and detail-oriented, with the ability to prioritize and execute tasks in a high-pressure environment.Proven experience in overseeing the design, development, and implementation of VMware technologies and\\xa0 equipment in a Microsoft Windows environment to the specifications of client proposalsTroubleshoot and resolve Server and Storage related issues when contacted by clients by providing both on-site and remote supportFamiliar with Server, storage and backup solutionsManaging assigned projects and program components to deliver services in accordance with established objectivesQualifications:Degree or Diploma in Electronic Engineering / Computer scienceMinimum of 3 to 4 years working experienceMicrosoft and VMware certificationExperience with SAN hardware, specifically EMC, or NetappsVMware and Hyper-V ExperienceHOW TO APPLY:\\xa0Interested applicants, kindly send your resume in MS Word format to  or please click on “Apply Now” to submit your resume and providing the below details in your resume.\\xa0We regret only shortlisted candidates will be notified.\\xa0Stafflink Services Pte LtdEA License No.: 04C4294EA Personnel: Steven Tan Eng FooEA Personnel Reg. No.: R1873987', 'Job Responsibilities:Design, plan and implementation of enterprise network infrastructure based on Cisco products and solutions.Responsible for design, configuration, and implementation of Cisco routers, switches, firewall and other products such as Riverbed steelhead, F5 and Trend Micro\\xa0 products.Provide Pre-sales and Post-sales technical supportStrong troubleshooting skillsResponsible for Problem Solving,\\xa0 Service Contract , change\\xa0 and\\xa0 maintenance managementCreate and maintain documentation as it relates to network configuration, process and service records.Qualifications:Degree\\xa0 or Diploma in Electronic Engineering / Computer ScienceExcellent knowledge of TCP/IP protocolCCNP / CCNA certification will be added advantageHOW TO APPLY:Interested applicants, please click on “Apply Now” or email to \\xa0to submit your resume.We regret that only shortlisted applicants will be notified.Stafflink Services Pte LtdEA Licence No.: 04C4294EA Personnel: Steven Tan Eng FooEA Personnel Reg. No.: R1873987', '☑ 5 Working Days, Office Hours☑ Joo Koon☑ Up $8000 Basic + AWS + Variable Bonus☑ Electronics Manufacturer - MNC\\xa0Responsibilities:\\xa0Oversee overall SAP projects / modules for upgradation, implementation and completionUnderstand and gather information for the company’s requirementsLiaise with internal team and perform first level technical support for SAP system issuesInvolve in reviewing of business requirements for new development and develop test planningProvide recommendations for relevant entities for enhancing for system processingProvide training for end-users on new SAP functions and new business processesResponsible for documentation filling for all the SAP projects planning / business requirements\\xa0Requirements:\\xa0Min. Degree in Computer Science / Information Technology or equivalentMin. 4-8 years of relevant experience in dealing with SAP system, preferably from electronics manufacturing environmentPossess knowledge in SAP PP, MM, WM, PM systemBilingual in English and Mandarin to liaise with Mandarin speaking associates\\xa0Qualified or Interested candidates, please email your updated resume in MS format to: \\xa0\\xa0\\xa0We regret to inform that only shortlisted candidates would be notified.\\xa0Lee Wan Fang, CarolSenior Consultant (Reg. No: R1660377)JTE Recruit Pte Ltd (EA License No: 14C7215)', 'Job Description:Desktop support for end userNetwork supportRequirement\\xa01 to 3 years of experience in IT industry.Recognized degree or higher in Engineering, Computer Science, or Information Systems or equivalenthands-on experience with Storage/Infrastructure/Network projectsFollowing technology experience;\\xa0 \\xa0Network : CISCO, Fortigate, HP\\xa0 \\xa0Security : AV,IDS/IPS\\xa0 \\xa0Windows 2003, 2008, 2012 Server\\xa0 \\xa0Windows 7, 8, 10\\xa0 \\xa0Storage and Server hardware\\xa0 \\xa0SQL Server skill is advantages\\xa0 \\xa0Other Microsoft Server Skill are advantages\\xa0 \\xa0Various cloud solutionStrong documentation skillDemonstrated communication and presentation skillsITIL Fundamental is advantages.Programing Skill and/or application development skill is advantages\\xa0Interested parties, please send your resume to  ; \\xa0Only shortlisted applicants will be notified by our consultants.\\xa0Capita Pte Ltd | EA license no.: 08C2893Tay Su Lynn, May | REG No : R1875900', '►US MNC, Top industry leader in secure file sharing and enterprise cloud solutions►We are open to candidates with no experience but willing to be trained►Possess strong experience in Python & she will Scripting is highly advantageous for a more senior role►Possess experience with open source load test frameworks like locust►Possess hands on experience in Linux►5 days’ work week with flexible work culture and excellent dynamic working environment►Excellent benefits provided\\xa0\\xa0\\xa0This Performance Engineer position is based in Singapore. This role is required to implement the test strategy for performance benchmarking and application profiling by working closely with the engineering group.\\xa0\\xa0\\xa0\\xa0RESPONSIBILITIES:Understand performance problems from the customer perspective and implement performance measurement and profiling strategies based on issues found on deployed systemsCoordinate with the development team to ensure performance guidelines and standards are followedSet up performance tests to be part of the CI (Continuous Integration) to ensure that the product is meeting performance standardsConduct performance acceptance tests that include reliability, stress, load and performance testingWork with other QA engineers to define performance benchmarks and testsREQUIREMENTS:At least 3 years of experience in performance testing is highly advantageousDeep interest in front end profiling and best practices for making websites fasterExperience with open source load test frameworks like locustDatabase skills including query profiling, schema analysis and tuningHands on with Linux, AWS and virtualization platforms like VMwareExpert in Python and she will ScriptingExperience with Jenkins, Jira, Git would be preferredExposure to Agile practices like Scrum, Kanban and TDDBS in Computer Science, Electrical Engineering or related field, or equivalent experience.\\xa0OTHER KEY INFORMATION:►Office hour, Monday to Fri 9 to 6pm►Bedok work location\\xa0\\xa0HOW TO APPLY:Interested applicants, kindly send your resume in MS Word format to \\xa0\\xa0\\xa0\\xa0\\xa0\\xa0Stafflink Services Pte LtdEA Licence No.: 04C4294EA Personnel: Marcus Liu SongboEA Personnel Reg. No.: R1107940\\xa0\\xa0We regret only shortlisted candidates will be notified.\\xa0By submitting any application or resume to us, you will be deemed to have agreed and consented to us collecting, using, retaining and disclosing your personal information to prospective employers for their consideration.', 'Responsibilities:Lead workshops to gather the information needed for fit-gap analysis or blueprints;-Document functional requirements related to Business Planning business processes;-Advise clients on solution directions and the move to the new technologies (S4 HANA)-Development of Prototypes/Proof-of-Concepts;-Customizing of the SAP S4 HANA BP modules;-Coordinate, communicate and assign tasks within the team;-Define and execute tests scenarios;-Training of key-users and or business users;\\xa0Qualifications:- Proven experience in SAP HANA BP implementation projects of at least 5 years and 2 full implementations.-A subject matter expert for the business in the area of SAP ERP Business Planning (BPC) and its business processes-Successfully completed a bachelor or master studies in IT or Economics;If you are interested to hear more on this opportunity, send me your CV for a confidential discussion to ¬ogden.com for more information. Please indidate the following as well\\xa0Candidate Name :Date of birth :Contact Number :Email ID :Total IT Experience :Relevant Experience :Current/Last Company :Current Location :Last Drawn Monthly Basic :Expected Monthly Basic :Notice Required :Current Visa Status :Work Pass Required :\\xa0Reg no. R1328976EA License 13C6321']\n"
     ]
    }
   ],
   "source": [
    "job_adverts = replace_contractions(job_adverts)"
   ]
  },
  {
   "cell_type": "markdown",
   "metadata": {},
   "source": [
    "2.3 Tokenization"
   ]
  },
  {
   "cell_type": "code",
   "execution_count": 146,
   "metadata": {},
   "outputs": [],
   "source": [
    "#temp_arr = []\n",
    "#pbar = tqdm.tqdm(len(job_adverts))\n",
    "#for ja in job_adverts:\n",
    "#    temp_arr.append(nltk.word_tokenize(ja))\n",
    "#    pbar.update(1)\n",
    "#job_adverts = temp_arr\n",
    "#pbar.close()"
   ]
  },
  {
   "cell_type": "code",
   "execution_count": 152,
   "metadata": {
    "scrolled": true
   },
   "outputs": [
    {
     "name": "stdout",
     "output_type": "stream",
     "text": [
      "[['Leading', 'Local', 'EnterpriseUnderstand', 'current', 'processes', 'and', 'valuable', 'outcomesAble', 'to', 'structure', 'a', 'large', 'amount', 'of', 'information', 'within', 'a', 'process', 'frameworkJob', 'scopeMapping/Reviewing', 'existing', 'business', 'processes', 'and', '“', 're-imagine', '”', 'improved', 'ones', 'by', 'maximizing', 'customer', 'value', 'while', 'minimizing', 'waste', 'and', 'incorporating', 'automation.Facilitate/lead', 'process', 'workshops', 'that', 'involve', 'eliciting', 'process', 'requirements', 'and', 'liaising', 'with', 'usersAbility', 'to', 'interpret', 'business', 'requirements', 'into', 'digital', 'solution.Create', 'project', 'plans', 'that', 'contain', 'project', 'goals', ',', 'milestones', ',', 'and', 'resourcesMonitor', ',', 'measure', 'and', 'provide', 'feedback', 'on', 'process', 'performanceLiaise', 'with', 'management', 'to', 'coordinate', 'process', 'improvement', 'project', 'activitiesRequirements', ':', 'Enjoys', 'variety', 'at', 'work', 'as', 'this', 'is', 'a', 'wide-ranging', 'role', 'immersing', 'in', 'a', 'variety', 'of', 'different', 'projects', ',', 'and', 'able', 'see', 'the', 'big', 'picture.Work', 'with', 'other', 'business', 'teams', 'and', 'Digital', 'Department', 'to', 'figure', 'out', 'the', 'best', 'way', 'to', 'design', 'new', 'processes', 'and', 'solve', 'process-related', 'problems.Strong', 'analytical', 'background', ',', 'be', 'a', 'problem', 'solver', 'and', 'have', 'good', 'diagramming', 'and', 'communication', 'skillsKnowledge', 'of', 'process', 'mapping', 'and', 'business', 'process', 'reengineering.Performed', 'analysis', 'of', 'business', 'processes', 'and', 'workflows', 'with', 'the', 'objective', 'of', 'finding', 'out', 'how', 'they', 'can', 'be', 'improved', 'or', 'automated.Knowledge', 'in', 'business', 'process', 'modeling', 'notations', '(', 'BPMN', ',', 'EPC', ',', 'etc', ')', 'and', 'Business', 'Process', 'tools', '(', 'ARIS', ')', '.Interested', 'candidates', 'who', 'wish', 'to', 'apply', 'for', 'the', 'advertised', 'position', ',', 'please', 'email', 'us', 'at', 'an', 'updated', 'copy', 'of', 'your', 'resume', 'in', 'Ms', 'word', 'format', '.', 'We', 'regret', 'that', 'only', 'shortlisted', 'candidates', 'will', 'be', 'notified.EA', 'Licence', 'No', '18C9228', 'Registration', 'No', '.', 'R1770238', '(', 'Jimmy', 'Low', ')'], ['Leading', 'Local', 'EnterpriseStrong', 'knowledge', 'in', 'enterprise', 'IT', 'hardware', 'and', 'softwareMicrosoft', 'Certified', 'Systems', 'Engineer', '(', 'MCSE', ')', ',', 'ITIL', 'V3', 'will', 'advantageResponsibilitiesProvide', 'IT', 'support', 'to', 'end', 'user', 'included', 'enterprises', 'hardware', 'and', 'softwareProvide', 'IT', 'administration', '&', 'service', 'desk', 'support', 'for', 'internal', 'customer.Provide', 'solution', 'to', 'end', 'user', 'requests', '/', 'problems', 'via', 'multiple', 'channel', '(', 'phone', ',', 'email', ',', 'remote', 'service', ',', 'IT', 'Service', 'Management', 'System', 'etc', '.', ')', 'Supporting', 'teleconference', ',', 'audio/visual', 'infrastructure', 'and', 'services.Participate', 'in', 'projects', 'when', 'required.RequirementExcellent', 'technical', 'knowledge', 'and', 'skills', 'of', 'Windows', 'OS.Deep', 'understanding', 'of', 'IT', 'hardware', 'and', 'software', '(', 'Microsoft', 'Office', 'Suite', ',', 'Visio', ',', 'etc', '.', ')', 'Experience', 'administering', 'Active', 'Directory', 'domain', ',', 'Group', 'Policy', ',', 'Microsoft', 'Office', '365.Knowledge', 'in', 'enterprise', 'software', 'installation', ',', 'networking', 'system', 'troubleshooting', ',', 'security', 'patching', ',', 'etc.Experienced', 'in', 'support', 'the', 'following', 'application', 'is', 'a', 'plusMobile', 'Device', 'ManagementMicrosoft', 'System', 'Centre', 'Configuration', 'ManagerMicrosoft', 'Lync/SkypeMicrosoft', 'BitLockerMicrosoft', 'Certified', 'Systems', 'Engineer', '(', 'MCSE', ')', ',', 'ITIL', 'V3', 'will', 'be', 'a', 'plusInterested', 'candidates', 'who', 'wish', 'to', 'apply', 'for', 'the', 'advertised', 'position', ',', 'please', 'email', 'us', 'at', 'an', 'updated', 'copy', 'of', 'your', 'resume', 'in', 'Ms', 'word', 'format', '.', 'We', 'regret', 'that', 'only', 'shortlisted', 'candidates', 'will', 'be', 'notified', '.', 'EA', 'Licence', 'No', '18C9228', 'Registration', 'No', '.', 'R1770238', '(', 'Jimmy', 'Low', ')']]\n"
     ]
    }
   ],
   "source": [
    "len(job_adverts)\n",
    "print(job_adverts[:2])"
   ]
  },
  {
   "cell_type": "markdown",
   "metadata": {},
   "source": [
    "2.4 Normalization ((1) stemming, (2) lemmatization, and (3) everything else)"
   ]
  },
  {
   "cell_type": "code",
   "execution_count": 153,
   "metadata": {},
   "outputs": [],
   "source": [
    "def remove_non_ascii(words):\n",
    "    \"\"\"Remove non-ASCII characters from list of tokenized words\"\"\"\n",
    "    new_words = []\n",
    "    for word in words:\n",
    "        new_word = unicodedata.normalize('NFKD', word).encode('ascii', 'ignore').decode('utf-8', 'ignore')\n",
    "        new_words.append(new_word)\n",
    "    return new_words\n",
    "\n",
    "def to_lowercase(words):\n",
    "    \"\"\"Convert all characters to lowercase from list of tokenized words\"\"\"\n",
    "    new_words = []\n",
    "    for word in words:\n",
    "        new_word = word.lower()\n",
    "        new_words.append(new_word)\n",
    "    return new_words\n",
    "\n",
    "def remove_punctuation(words):\n",
    "    \"\"\"Remove punctuation from list of tokenized words\"\"\"\n",
    "    new_words = []\n",
    "    for word in words:\n",
    "        new_word = re.sub(r'[^\\w\\s]', '', word)\n",
    "        if new_word != '':\n",
    "            new_words.append(new_word)\n",
    "    return new_words\n",
    "\n",
    "def replace_numbers(words):\n",
    "    \"\"\"Replace all interger occurrences in list of tokenized words with textual representation\"\"\"\n",
    "    p = inflect.engine()\n",
    "    new_words = []\n",
    "    for word in words:\n",
    "        if word.isdigit():\n",
    "            new_word = p.number_to_words(word)\n",
    "            new_words.append(new_word)\n",
    "        else:\n",
    "            new_words.append(word)\n",
    "    return new_words\n",
    "\n",
    "def remove_stopwords(words):\n",
    "    \"\"\"Remove stop words from list of tokenized words\"\"\"\n",
    "    new_words = []\n",
    "    for word in words:\n",
    "        if word not in stopwords.words('english'):\n",
    "            new_words.append(word)\n",
    "    return new_words\n",
    "\n",
    "def stem_words(words):\n",
    "    \"\"\"Stem words in list of tokenized words\"\"\"\n",
    "    stemmer = LancasterStemmer()\n",
    "    stems = []\n",
    "    for word in words:\n",
    "        stem = stemmer.stem(word)\n",
    "        stems.append(stem)\n",
    "    return stems\n",
    "\n",
    "def lemmatize_verbs(words):\n",
    "    \"\"\"Lemmatize verbs in list of tokenized words\"\"\"\n",
    "    lemmatizer = WordNetLemmatizer()\n",
    "    lemmas = []\n",
    "    for word in words:\n",
    "        lemma = lemmatizer.lemmatize(word, pos='v')\n",
    "        lemmas.append(lemma)\n",
    "    return lemmas\n",
    "\n",
    "def normalize(words):\n",
    "    pbar = tqdm.tqdm(len(words))\n",
    "    word_arr = []\n",
    "    for word in words:\n",
    "        word = remove_non_ascii(word)\n",
    "        word = to_lowercase(word)\n",
    "        word = remove_punctuation(word)\n",
    "        word = replace_numbers(word)\n",
    "        word = remove_stopwords(word)\n",
    "        word_arr.append(word)\n",
    "        pbar.update(1)\n",
    "    pbar.close()\n",
    "    return word_arr"
   ]
  },
  {
   "cell_type": "code",
   "execution_count": 154,
   "metadata": {},
   "outputs": [],
   "source": [
    "job_adverts = normalize(job_adverts)"
   ]
  },
  {
   "cell_type": "code",
   "execution_count": 158,
   "metadata": {},
   "outputs": [
    {
     "name": "stdout",
     "output_type": "stream",
     "text": [
      "[['leading', 'local', 'enterpriseunderstand', 'current', 'processes', 'valuable', 'outcomesable', 'structure', 'large', 'amount', 'information', 'within', 'process', 'frameworkjob', 'scopemappingreviewing', 'existing', 'business', 'processes', 'reimagine', 'improved', 'ones', 'maximizing', 'customer', 'value', 'minimizing', 'waste', 'incorporating', 'automationfacilitatelead', 'process', 'workshops', 'involve', 'eliciting', 'process', 'requirements', 'liaising', 'usersability', 'interpret', 'business', 'requirements', 'digital', 'solutioncreate', 'project', 'plans', 'contain', 'project', 'goals', 'milestones', 'resourcesmonitor', 'measure', 'provide', 'feedback', 'process', 'performanceliaise', 'management', 'coordinate', 'process', 'improvement', 'project', 'activitiesrequirements', 'enjoys', 'variety', 'work', 'wideranging', 'role', 'immersing', 'variety', 'different', 'projects', 'able', 'see', 'big', 'picturework', 'business', 'teams', 'digital', 'department', 'figure', 'best', 'way', 'design', 'new', 'processes', 'solve', 'processrelated', 'problemsstrong', 'analytical', 'background', 'problem', 'solver', 'good', 'diagramming', 'communication', 'skillsknowledge', 'process', 'mapping', 'business', 'process', 'reengineeringperformed', 'analysis', 'business', 'processes', 'workflows', 'objective', 'finding', 'improved', 'automatedknowledge', 'business', 'process', 'modeling', 'notations', 'bpmn', 'epc', 'etc', 'business', 'process', 'tools', 'aris', 'interested', 'candidates', 'wish', 'apply', 'advertised', 'position', 'please', 'email', 'us', 'updated', 'copy', 'resume', 'ms', 'word', 'format', 'regret', 'shortlisted', 'candidates', 'notifiedea', 'licence', '18c9228', 'registration', 'r1770238', 'jimmy', 'low']]\n"
     ]
    }
   ],
   "source": [
    "len(job_adverts)\n",
    "print(job_adverts[:1])"
   ]
  },
  {
   "cell_type": "markdown",
   "metadata": {},
   "source": [
    "<font size=\"30\">3.0 Data Clustering</font>"
   ]
  },
  {
   "cell_type": "code",
   "execution_count": 165,
   "metadata": {},
   "outputs": [
    {
     "ename": "TypeError",
     "evalue": "__init__() got an unexpected keyword argument 'verbose'",
     "output_type": "error",
     "traceback": [
      "\u001b[1;31m---------------------------------------------------------------------------\u001b[0m",
      "\u001b[1;31mTypeError\u001b[0m                                 Traceback (most recent call last)",
      "\u001b[1;32m<ipython-input-165-866d363c4707>\u001b[0m in \u001b[0;36m<module>\u001b[1;34m()\u001b[0m\n\u001b[0;32m      4\u001b[0m     \u001b[1;32mreturn\u001b[0m \u001b[0mtext\u001b[0m\u001b[1;33m\u001b[0m\u001b[0m\n\u001b[0;32m      5\u001b[0m \u001b[1;33m\u001b[0m\u001b[0m\n\u001b[1;32m----> 6\u001b[1;33m \u001b[0mvectorizer\u001b[0m \u001b[1;33m=\u001b[0m \u001b[0mTfidfVectorizer\u001b[0m\u001b[1;33m(\u001b[0m\u001b[0mtokenizer\u001b[0m\u001b[1;33m=\u001b[0m\u001b[0midentity_tokenizer\u001b[0m\u001b[1;33m,\u001b[0m \u001b[0mstop_words\u001b[0m\u001b[1;33m=\u001b[0m\u001b[1;34m'english'\u001b[0m\u001b[1;33m,\u001b[0m \u001b[0mlowercase\u001b[0m\u001b[1;33m=\u001b[0m\u001b[1;32mFalse\u001b[0m\u001b[1;33m,\u001b[0m\u001b[0mverbose\u001b[0m\u001b[1;33m=\u001b[0m\u001b[1;32mTrue\u001b[0m\u001b[1;33m)\u001b[0m\u001b[1;33m\u001b[0m\u001b[0m\n\u001b[0m\u001b[0;32m      7\u001b[0m \u001b[0mx\u001b[0m \u001b[1;33m=\u001b[0m \u001b[0mvectorizer\u001b[0m\u001b[1;33m.\u001b[0m\u001b[0mfit_transform\u001b[0m\u001b[1;33m(\u001b[0m\u001b[0mjob_adverts\u001b[0m\u001b[1;33m)\u001b[0m\u001b[1;33m\u001b[0m\u001b[0m\n\u001b[0;32m      8\u001b[0m \u001b[0mprint\u001b[0m\u001b[1;33m(\u001b[0m\u001b[1;34m\"shape : \"\u001b[0m\u001b[1;33m,\u001b[0m\u001b[0mx\u001b[0m\u001b[1;33m.\u001b[0m\u001b[0mshape\u001b[0m\u001b[1;33m)\u001b[0m\u001b[1;33m\u001b[0m\u001b[0m\n",
      "\u001b[1;31mTypeError\u001b[0m: __init__() got an unexpected keyword argument 'verbose'"
     ]
    }
   ],
   "source": [
    "from sklearn.feature_extraction.text import TfidfVectorizer\n",
    "\n",
    "def identity_tokenizer(text):\n",
    "    return text\n",
    "\n",
    "vectorizer = TfidfVectorizer(tokenizer=identity_tokenizer, stop_words='english', lowercase=False)  \n",
    "x = vectorizer.fit_transform(job_adverts)\n",
    "print(\"shape : \",x.shape)"
   ]
  },
  {
   "cell_type": "code",
   "execution_count": 164,
   "metadata": {},
   "outputs": [
    {
     "name": "stdout",
     "output_type": "stream",
     "text": [
      "Initialization complete\n",
      "Iteration  0, inertia 8276.943\n",
      "Iteration  1, inertia 4441.220\n",
      "Iteration  2, inertia 4421.228\n",
      "Iteration  3, inertia 4414.083\n",
      "Iteration  4, inertia 4409.464\n",
      "Iteration  5, inertia 4406.367\n",
      "Iteration  6, inertia 4403.508\n",
      "Iteration  7, inertia 4401.445\n",
      "Iteration  8, inertia 4399.873\n",
      "Iteration  9, inertia 4399.028\n",
      "Iteration 10, inertia 4398.562\n",
      "Iteration 11, inertia 4398.286\n",
      "Iteration 12, inertia 4398.109\n",
      "Iteration 13, inertia 4397.994\n",
      "Iteration 14, inertia 4397.933\n",
      "Iteration 15, inertia 4397.849\n",
      "Iteration 16, inertia 4397.692\n",
      "Iteration 17, inertia 4397.663\n",
      "Iteration 18, inertia 4397.661\n",
      "Converged at iteration 18: center shift 0.000000e+00 within tolerance 2.269238e-09\n"
     ]
    },
    {
     "data": {
      "text/plain": [
       "KMeans(algorithm='auto', copy_x=True, init='k-means++', max_iter=100,\n",
       "    n_clusters=10, n_init=1, n_jobs=1, precompute_distances='auto',\n",
       "    random_state=None, tol=0.0001, verbose=True)"
      ]
     },
     "execution_count": 164,
     "metadata": {},
     "output_type": "execute_result"
    }
   ],
   "source": [
    "from sklearn.cluster import KMeans\n",
    "\n",
    "true_k = 10\n",
    "model = KMeans(n_clusters=true_k, init='k-means++', max_iter=100, n_init=1, verbose=True)\n",
    "model.fit(x)"
   ]
  },
  {
   "cell_type": "code",
   "execution_count": 169,
   "metadata": {},
   "outputs": [
    {
     "name": "stdout",
     "output_type": "stream",
     "text": [
      "Cluster 0:\n",
      " marketing\n",
      " media\n",
      " content\n",
      " mindvalley\n",
      " social\n",
      " digital\n",
      " campaigns\n",
      " brand\n",
      " creative\n",
      " product\n",
      " work\n",
      " experience\n",
      " online\n",
      " video\n",
      " team\n",
      "Cluster 1:\n",
      " data\n",
      " analytics\n",
      " business\n",
      " experience\n",
      " big\n",
      " team\n",
      " machine\n",
      " learning\n",
      " etl\n",
      " management\n",
      " skills\n",
      " intelligence\n",
      " architecture\n",
      " hadoop\n",
      " models\n",
      "Cluster 2:\n",
      " experience\n",
      " work\n",
      " software\n",
      " team\n",
      " skills\n",
      " business\n",
      " years\n",
      " support\n",
      " knowledge\n",
      " working\n",
      " development\n",
      " design\n",
      " job\n",
      " management\n",
      " technical\n",
      "Cluster 3:\n",
      " project\n",
      " test\n",
      " business\n",
      " sap\n",
      " management\n",
      " experience\n",
      " requirements\n",
      " testing\n",
      " team\n",
      " development\n",
      " work\n",
      " projects\n",
      " ensure\n",
      " skills\n",
      " technical\n",
      "Cluster 4:\n",
      " experience\n",
      " development\n",
      " design\n",
      " web\n",
      " java\n",
      " software\n",
      " spring\n",
      " applications\n",
      " knowledge\n",
      " mobile\n",
      " code\n",
      " team\n",
      " working\n",
      " using\n",
      " test\n",
      "Cluster 5:\n",
      " security\n",
      " cyber\n",
      " soc\n",
      " job\n",
      " information\n",
      " penetration\n",
      " advertisement\n",
      " threat\n",
      " incident\n",
      " cybersecurity\n",
      " assessment\n",
      " client\n",
      " vulnerability\n",
      " services\n",
      " compliance\n",
      "Cluster 6:\n",
      " development\n",
      " net\n",
      " software\n",
      " experience\n",
      " c\n",
      " design\n",
      " programming\n",
      " sql\n",
      " application\n",
      " web\n",
      " database\n",
      " skills\n",
      " knowledge\n",
      " requirements\n",
      " good\n",
      "Cluster 7:\n",
      " sales\n",
      " business\n",
      " customer\n",
      " customers\n",
      " product\n",
      " account\n",
      " experience\n",
      " team\n",
      " solutions\n",
      " management\n",
      " services\n",
      " ability\n",
      " work\n",
      " skills\n",
      " new\n",
      "Cluster 8:\n",
      " infotech\n",
      " pleased\n",
      " openings\n",
      " greetings\n",
      " inform\n",
      " regarding\n",
      " infotechposition\n",
      " singaporecompany\n",
      " monthjd\n",
      " based\n",
      " yearslocation\n",
      " client\n",
      " payrolls\n",
      " renewable\n",
      " singaporeemployer\n",
      "Cluster 9:\n",
      " support\n",
      " network\n",
      " hardware\n",
      " infrastructure\n",
      " service\n",
      " systems\n",
      " server\n",
      " experience\n",
      " windows\n",
      " security\n",
      " provide\n",
      " management\n",
      " technical\n",
      " software\n",
      " troubleshooting\n"
     ]
    }
   ],
   "source": [
    "order_centroids = model.cluster_centers_.argsort()[:, ::-1]\n",
    "terms = vectorizer.get_feature_names()\n",
    "\n",
    "for i in range(true_k):\n",
    "    print('Cluster %d:' % i),\n",
    "    for ind in order_centroids[i, :15]:\n",
    "        print(' %s' % terms[ind])"
   ]
  },
  {
   "cell_type": "code",
   "execution_count": null,
   "metadata": {},
   "outputs": [],
   "source": []
  }
 ],
 "metadata": {
  "kernelspec": {
   "display_name": "Python 3",
   "language": "python",
   "name": "python3"
  },
  "language_info": {
   "codemirror_mode": {
    "name": "ipython",
    "version": 3
   },
   "file_extension": ".py",
   "mimetype": "text/x-python",
   "name": "python",
   "nbconvert_exporter": "python",
   "pygments_lexer": "ipython3",
   "version": "3.6.5"
  }
 },
 "nbformat": 4,
 "nbformat_minor": 2
}
