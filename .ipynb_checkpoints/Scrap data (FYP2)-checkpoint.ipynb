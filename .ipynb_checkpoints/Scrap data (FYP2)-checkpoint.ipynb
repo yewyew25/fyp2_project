{
 "cells": [
  {
   "cell_type": "code",
   "execution_count": 1,
   "metadata": {},
   "outputs": [],
   "source": [
    "from bs4 import BeautifulSoup as bs\n",
    "from urllib.request import Request, urlopen\n",
    "import datetime\n",
    "import tqdm"
   ]
  },
  {
   "cell_type": "markdown",
   "metadata": {},
   "source": [
    "<font size=\"30\">Set Up MongoDB for data storage</font>"
   ]
  },
  {
   "cell_type": "code",
   "execution_count": 2,
   "metadata": {},
   "outputs": [
    {
     "name": "stdout",
     "output_type": "stream",
     "text": [
      "Connected successfully!!!\n"
     ]
    }
   ],
   "source": [
    "from pymongo import MongoClient\n",
    "\n",
    "try: \n",
    "    client = MongoClient()\n",
    "    print(\"Connected successfully!!!\") \n",
    "except:\n",
    "    print(\"Could not connect to MongoDB\") \n",
    "\n",
    "db = client.job_advert_db #select database\n",
    "collection = db.job_advert #select collection to insert"
   ]
  },
  {
   "cell_type": "markdown",
   "metadata": {},
   "source": [
    "<font size=\"30\">-------------</font>\n",
    "<font size=\"30\">JobStreet Scraping</font>\n",
    "<font size=\"30\">-------------</font>"
   ]
  },
  {
   "cell_type": "code",
   "execution_count": 3,
   "metadata": {
    "collapsed": true
   },
   "outputs": [
    {
     "name": "stderr",
     "output_type": "stream",
     "text": [
      "\r",
      "  0%|                                                                                           | 0/49 [00:00<?, ?it/s]"
     ]
    },
    {
     "name": "stdout",
     "output_type": "stream",
     "text": [
      "\n",
      "\t\t\tSingapore - Central\t\t\n"
     ]
    },
    {
     "name": "stderr",
     "output_type": "stream",
     "text": [
      "\r",
      "  2%|█▋                                                                                 | 1/49 [00:01<01:19,  1.66s/it]"
     ]
    },
    {
     "name": "stdout",
     "output_type": "stream",
     "text": [
      "48\n",
      "47\n",
      "\n",
      "\t\t\tSingapore - Central\t\t\n"
     ]
    },
    {
     "name": "stderr",
     "output_type": "stream",
     "text": [
      "\r",
      "  6%|█████                                                                              | 3/49 [00:01<00:54,  1.19s/it]"
     ]
    },
    {
     "name": "stdout",
     "output_type": "stream",
     "text": [
      "46\n",
      "\n",
      "\t\t\tSingapore - Central\t\t\n"
     ]
    },
    {
     "name": "stderr",
     "output_type": "stream",
     "text": [
      "\r",
      "  8%|██████▊                                                                            | 4/49 [00:02<00:40,  1.12it/s]"
     ]
    },
    {
     "name": "stdout",
     "output_type": "stream",
     "text": [
      "45\n",
      "\n",
      "\t\t\tSingapore - Central\t\t\n"
     ]
    },
    {
     "name": "stderr",
     "output_type": "stream",
     "text": [
      "\r",
      " 10%|████████▍                                                                          | 5/49 [00:02<00:30,  1.46it/s]"
     ]
    },
    {
     "name": "stdout",
     "output_type": "stream",
     "text": [
      "44\n",
      "\n",
      "\t\t\tSingapore - Central\t\t\n"
     ]
    },
    {
     "name": "stderr",
     "output_type": "stream",
     "text": [
      "\r",
      " 12%|██████████▏                                                                        | 6/49 [00:02<00:23,  1.83it/s]"
     ]
    },
    {
     "name": "stdout",
     "output_type": "stream",
     "text": [
      "43\n",
      "\n",
      "\t\t\tSingapore - Central\t\t\n"
     ]
    },
    {
     "name": "stderr",
     "output_type": "stream",
     "text": [
      "\r",
      " 14%|███████████▊                                                                       | 7/49 [00:02<00:18,  2.25it/s]"
     ]
    },
    {
     "name": "stdout",
     "output_type": "stream",
     "text": [
      "42\n",
      "\n",
      "\t\t\tSingapore - Central\t\t\n"
     ]
    },
    {
     "name": "stderr",
     "output_type": "stream",
     "text": [
      "\r",
      " 16%|█████████████▌                                                                     | 8/49 [00:02<00:15,  2.67it/s]"
     ]
    },
    {
     "name": "stdout",
     "output_type": "stream",
     "text": [
      "41\n",
      "\n",
      "\t\t\tSingapore - Central\t\t\n"
     ]
    },
    {
     "name": "stderr",
     "output_type": "stream",
     "text": [
      "\r",
      " 18%|███████████████▏                                                                   | 9/49 [00:03<00:13,  2.97it/s]"
     ]
    },
    {
     "name": "stdout",
     "output_type": "stream",
     "text": [
      "40\n",
      "\n",
      "\t\t\tSingapore - East\t\t\n"
     ]
    },
    {
     "name": "stderr",
     "output_type": "stream",
     "text": [
      "\r",
      " 20%|████████████████▋                                                                 | 10/49 [00:03<00:18,  2.06it/s]"
     ]
    },
    {
     "name": "stdout",
     "output_type": "stream",
     "text": [
      "39\n",
      "\n",
      "\t\t\tSingapore - Central\t\t\n"
     ]
    },
    {
     "name": "stderr",
     "output_type": "stream",
     "text": [
      "\r",
      " 22%|██████████████████▍                                                               | 11/49 [00:04<00:15,  2.44it/s]"
     ]
    },
    {
     "name": "stdout",
     "output_type": "stream",
     "text": [
      "38\n",
      "\n",
      "\t\t\tSingapore - Central\t\t\n"
     ]
    },
    {
     "name": "stderr",
     "output_type": "stream",
     "text": [
      "\r",
      " 24%|████████████████████                                                              | 12/49 [00:04<00:17,  2.17it/s]"
     ]
    },
    {
     "name": "stdout",
     "output_type": "stream",
     "text": [
      "37\n",
      "\n"
     ]
    },
    {
     "name": "stderr",
     "output_type": "stream",
     "text": [
      "\r",
      " 27%|█████████████████████▊                                                            | 13/49 [00:05<00:20,  1.79it/s]"
     ]
    },
    {
     "name": "stdout",
     "output_type": "stream",
     "text": [
      "36\n",
      "\n",
      "\t\t\tSingapore - Across Singapore\t\t\n"
     ]
    },
    {
     "name": "stderr",
     "output_type": "stream",
     "text": [
      "\r",
      " 29%|███████████████████████▍                                                          | 14/49 [00:05<00:15,  2.21it/s]"
     ]
    },
    {
     "name": "stdout",
     "output_type": "stream",
     "text": [
      "35\n",
      "\n",
      "\t\t\tSingapore - West\t\t\n"
     ]
    },
    {
     "name": "stderr",
     "output_type": "stream",
     "text": [
      "\r",
      " 31%|█████████████████████████                                                         | 15/49 [00:06<00:13,  2.50it/s]"
     ]
    },
    {
     "name": "stdout",
     "output_type": "stream",
     "text": [
      "34\n",
      "\n",
      "\t\t\tSingapore - Across Singapore\t\t\n"
     ]
    },
    {
     "name": "stderr",
     "output_type": "stream",
     "text": [
      "\r",
      " 33%|██████████████████████████▊                                                       | 16/49 [00:06<00:11,  2.85it/s]"
     ]
    },
    {
     "name": "stdout",
     "output_type": "stream",
     "text": [
      "33\n",
      "\n",
      "\t\t\tSingapore - Across Singapore\t\t\n"
     ]
    },
    {
     "name": "stderr",
     "output_type": "stream",
     "text": [
      "\r",
      " 35%|████████████████████████████▍                                                     | 17/49 [00:06<00:10,  3.19it/s]"
     ]
    },
    {
     "name": "stdout",
     "output_type": "stream",
     "text": [
      "32\n",
      "\n",
      "\t\t\tSingapore - West\t\t\n"
     ]
    },
    {
     "name": "stderr",
     "output_type": "stream",
     "text": [
      "\r",
      " 37%|██████████████████████████████                                                    | 18/49 [00:07<00:13,  2.21it/s]"
     ]
    },
    {
     "name": "stdout",
     "output_type": "stream",
     "text": [
      "31\n",
      "\n",
      "\t\t\tSingapore - Central\t\t\n"
     ]
    },
    {
     "name": "stderr",
     "output_type": "stream",
     "text": [
      "\r",
      " 39%|███████████████████████████████▊                                                  | 19/49 [00:07<00:11,  2.53it/s]"
     ]
    },
    {
     "name": "stdout",
     "output_type": "stream",
     "text": [
      "30\n",
      "\n",
      "\t\t\tSingapore - East\t\t\n"
     ]
    },
    {
     "name": "stderr",
     "output_type": "stream",
     "text": [
      "\r",
      " 41%|█████████████████████████████████▍                                                | 20/49 [00:08<00:13,  2.12it/s]"
     ]
    },
    {
     "name": "stdout",
     "output_type": "stream",
     "text": [
      "29\n",
      "\n"
     ]
    },
    {
     "name": "stderr",
     "output_type": "stream",
     "text": [
      "\r",
      " 43%|███████████████████████████████████▏                                              | 21/49 [00:08<00:10,  2.66it/s]"
     ]
    },
    {
     "name": "stdout",
     "output_type": "stream",
     "text": [
      "28\n",
      "\n",
      "\t\t\tSingapore - Central\t\t\n"
     ]
    },
    {
     "name": "stderr",
     "output_type": "stream",
     "text": [
      "\r",
      " 45%|████████████████████████████████████▊                                             | 22/49 [00:09<00:15,  1.78it/s]"
     ]
    },
    {
     "name": "stdout",
     "output_type": "stream",
     "text": [
      "27\n",
      "26\n",
      "\n",
      "\t\t\tMalaysia - Kuala Lumpur - Putrajaya / Cyberjaya\t\t\n"
     ]
    },
    {
     "name": "stderr",
     "output_type": "stream",
     "text": [
      "\r",
      " 49%|████████████████████████████████████████▏                                         | 24/49 [00:09<00:10,  2.36it/s]"
     ]
    },
    {
     "name": "stdout",
     "output_type": "stream",
     "text": [
      "25\n",
      "\n",
      "\t\t\tSingapore - East - Tampines - SIMEI\t\t\n"
     ]
    },
    {
     "name": "stderr",
     "output_type": "stream",
     "text": [
      "\r",
      " 51%|█████████████████████████████████████████▊                                        | 25/49 [00:09<00:08,  2.72it/s]"
     ]
    },
    {
     "name": "stdout",
     "output_type": "stream",
     "text": [
      "24\n",
      "\n",
      "\t\t\tSingapore - North\t\t\n"
     ]
    },
    {
     "name": "stderr",
     "output_type": "stream",
     "text": [
      "\r",
      " 53%|███████████████████████████████████████████▌                                      | 26/49 [00:10<00:07,  3.15it/s]"
     ]
    },
    {
     "name": "stdout",
     "output_type": "stream",
     "text": [
      "23\n",
      "\n",
      "\t\t\tSingapore - West - South\t\t\n"
     ]
    },
    {
     "name": "stderr",
     "output_type": "stream",
     "text": [
      "\r",
      " 55%|█████████████████████████████████████████████▏                                    | 27/49 [00:10<00:06,  3.51it/s]"
     ]
    },
    {
     "name": "stdout",
     "output_type": "stream",
     "text": [
      "22\n",
      "\n",
      "\t\t\tSingapore - West - Jurong East\t\t\n"
     ]
    },
    {
     "name": "stderr",
     "output_type": "stream",
     "text": [
      "\r",
      " 57%|██████████████████████████████████████████████▊                                   | 28/49 [00:10<00:05,  3.55it/s]"
     ]
    },
    {
     "name": "stdout",
     "output_type": "stream",
     "text": [
      "21\n",
      "\n",
      "\t\t\tMalaysia - Selangor - Cyberjaya\t\t\n"
     ]
    },
    {
     "name": "stderr",
     "output_type": "stream",
     "text": [
      "\r",
      " 59%|████████████████████████████████████████████████▌                                 | 29/49 [00:10<00:05,  3.87it/s]"
     ]
    },
    {
     "name": "stdout",
     "output_type": "stream",
     "text": [
      "20\n",
      "\n",
      "\t\t\tMalaysia - Putrajaya\t\t\n"
     ]
    },
    {
     "name": "stderr",
     "output_type": "stream",
     "text": [
      "\r",
      " 61%|██████████████████████████████████████████████████▏                               | 30/49 [00:10<00:04,  4.02it/s]"
     ]
    },
    {
     "name": "stdout",
     "output_type": "stream",
     "text": [
      "19\n",
      "\n",
      "\t\t\tSingapore - West\t\t\n"
     ]
    },
    {
     "name": "stderr",
     "output_type": "stream",
     "text": [
      "\r",
      " 63%|███████████████████████████████████████████████████▉                              | 31/49 [00:11<00:04,  4.14it/s]"
     ]
    },
    {
     "name": "stdout",
     "output_type": "stream",
     "text": [
      "18\n",
      "\n",
      "\t\t\tMalaysia - Kuala Lumpur - Bukit Bintang\t\t\n"
     ]
    },
    {
     "name": "stderr",
     "output_type": "stream",
     "text": [
      "\r",
      " 65%|█████████████████████████████████████████████████████▌                            | 32/49 [00:12<00:09,  1.82it/s]"
     ]
    },
    {
     "name": "stdout",
     "output_type": "stream",
     "text": [
      "17\n",
      "\n",
      "\t\t\tSingapore - Central\t\t\n"
     ]
    },
    {
     "name": "stderr",
     "output_type": "stream",
     "text": [
      "\r",
      " 67%|███████████████████████████████████████████████████████▏                          | 33/49 [00:12<00:07,  2.14it/s]"
     ]
    },
    {
     "name": "stdout",
     "output_type": "stream",
     "text": [
      "16\n",
      "\n",
      "\t\t\tSingapore - Across Singapore\t\t\n"
     ]
    },
    {
     "name": "stderr",
     "output_type": "stream",
     "text": [
      "\r",
      " 69%|████████████████████████████████████████████████████████▉                         | 34/49 [00:13<00:08,  1.74it/s]"
     ]
    },
    {
     "name": "stdout",
     "output_type": "stream",
     "text": [
      "15\n",
      "\n"
     ]
    },
    {
     "name": "stderr",
     "output_type": "stream",
     "text": [
      "\r",
      " 71%|██████████████████████████████████████████████████████████▌                       | 35/49 [00:13<00:06,  2.16it/s]"
     ]
    },
    {
     "name": "stdout",
     "output_type": "stream",
     "text": [
      "14\n",
      "\n",
      "\t\t\tMalaysia - Kuala Lumpur - KL Eco CIty\t\t\n"
     ]
    },
    {
     "name": "stderr",
     "output_type": "stream",
     "text": [
      "\r",
      " 73%|████████████████████████████████████████████████████████████▏                     | 36/49 [00:13<00:04,  2.65it/s]"
     ]
    },
    {
     "name": "stdout",
     "output_type": "stream",
     "text": [
      "13\n",
      "\n",
      "\t\t\tMalaysia - Kuala Lumpur\t\t\n"
     ]
    },
    {
     "name": "stderr",
     "output_type": "stream",
     "text": [
      "\r",
      " 76%|█████████████████████████████████████████████████████████████▉                    | 37/49 [00:14<00:03,  3.14it/s]"
     ]
    },
    {
     "name": "stdout",
     "output_type": "stream",
     "text": [
      "12\n",
      "\n"
     ]
    },
    {
     "name": "stderr",
     "output_type": "stream",
     "text": [
      "\r",
      " 78%|███████████████████████████████████████████████████████████████▌                  | 38/49 [00:14<00:03,  3.45it/s]"
     ]
    },
    {
     "name": "stdout",
     "output_type": "stream",
     "text": [
      "11\n",
      "\n",
      "\t\t\tMalaysia - Kuala Lumpur\t\t\n"
     ]
    },
    {
     "name": "stderr",
     "output_type": "stream",
     "text": [
      "\r",
      " 80%|█████████████████████████████████████████████████████████████████▎                | 39/49 [00:14<00:03,  2.79it/s]"
     ]
    },
    {
     "name": "stdout",
     "output_type": "stream",
     "text": [
      "10\n",
      "\n",
      "\t\t\tSingapore - Central - Central, Kuala Lumpur\t\t\n"
     ]
    },
    {
     "name": "stderr",
     "output_type": "stream",
     "text": [
      "\r",
      " 82%|██████████████████████████████████████████████████████████████████▉               | 40/49 [00:15<00:02,  3.25it/s]"
     ]
    },
    {
     "name": "stdout",
     "output_type": "stream",
     "text": [
      "9\n",
      "\n",
      "\t\t\tSingapore - Central\t\t\n"
     ]
    },
    {
     "name": "stderr",
     "output_type": "stream",
     "text": [
      "\r",
      " 84%|████████████████████████████████████████████████████████████████████▌             | 41/49 [00:15<00:03,  2.49it/s]"
     ]
    },
    {
     "name": "stdout",
     "output_type": "stream",
     "text": [
      "8\n",
      "\n",
      "\t\t\tMalaysia - Kuala Lumpur - Kuala Lumpur\t\t\n"
     ]
    },
    {
     "name": "stderr",
     "output_type": "stream",
     "text": [
      "\r",
      " 86%|██████████████████████████████████████████████████████████████████████▎           | 42/49 [00:16<00:03,  1.98it/s]"
     ]
    },
    {
     "name": "stdout",
     "output_type": "stream",
     "text": [
      "7\n",
      "\n",
      "\t\t\tMalaysia - Kuala Lumpur - Kuala Lumpur\t\t\n"
     ]
    },
    {
     "name": "stderr",
     "output_type": "stream",
     "text": [
      "\r",
      " 88%|███████████████████████████████████████████████████████████████████████▉          | 43/49 [00:17<00:04,  1.37it/s]"
     ]
    },
    {
     "name": "stdout",
     "output_type": "stream",
     "text": [
      "6\n",
      "5\n",
      "\n",
      "\t\t\tMalaysia - Kuala Lumpur - Kuala Lumpur\t\t\n"
     ]
    },
    {
     "name": "stderr",
     "output_type": "stream",
     "text": [
      "\r",
      " 92%|███████████████████████████████████████████████████████████████████████████▎      | 45/49 [00:17<00:02,  1.84it/s]"
     ]
    },
    {
     "name": "stdout",
     "output_type": "stream",
     "text": [
      "4\n",
      "\n",
      "\t\t\tMalaysia - Kuala Lumpur - Kuala Lumpur\t\t\n"
     ]
    },
    {
     "name": "stderr",
     "output_type": "stream",
     "text": [
      "\r",
      " 94%|████████████████████████████████████████████████████████████████████████████▉     | 46/49 [00:18<00:01,  2.22it/s]"
     ]
    },
    {
     "name": "stdout",
     "output_type": "stream",
     "text": [
      "3\n",
      "\n",
      "\t\t\tSingapore - East\t\t\n"
     ]
    },
    {
     "name": "stderr",
     "output_type": "stream",
     "text": [
      "\r",
      " 96%|██████████████████████████████████████████████████████████████████████████████▋   | 47/49 [00:18<00:00,  2.60it/s]"
     ]
    },
    {
     "name": "stdout",
     "output_type": "stream",
     "text": [
      "2\n",
      "\n",
      "\t\t\tSingapore - East\t\t\n"
     ]
    },
    {
     "name": "stderr",
     "output_type": "stream",
     "text": [
      "\r",
      " 98%|████████████████████████████████████████████████████████████████████████████████▎ | 48/49 [00:18<00:00,  2.86it/s]"
     ]
    },
    {
     "name": "stdout",
     "output_type": "stream",
     "text": [
      "1\n",
      "\n",
      "\t\t\tSingapore - West\t\t\n"
     ]
    },
    {
     "name": "stderr",
     "output_type": "stream",
     "text": [
      "\r",
      "100%|██████████████████████████████████████████████████████████████████████████████████| 49/49 [00:18<00:00,  3.20it/s]"
     ]
    },
    {
     "name": "stdout",
     "output_type": "stream",
     "text": [
      "0\n",
      "\n",
      "\t\t\tSingapore - Across Singapore\t\t\n"
     ]
    },
    {
     "name": "stderr",
     "output_type": "stream",
     "text": [
      "\r",
      "50it [00:19,  3.50it/s]                                                                                                "
     ]
    },
    {
     "name": "stdout",
     "output_type": "stream",
     "text": [
      "-1\n",
      "\n",
      "\t\t\tSingapore - Across Singapore\t\t\n",
      "\n",
      "\t\t\tSingapore - Central\t\t\n",
      "\n",
      "\t\t\tMalaysia - Kuala Lumpur\t\t\n",
      "\n",
      "\t\t\tMalaysia - Kuala Lumpur\t\t\n",
      "\n",
      "\t\t\tSingapore - North-East\t\t\n",
      "\n",
      "\t\t\tMalaysia - Kuala Lumpur\t\t\n",
      "\n",
      "\t\t\tMalaysia - Kuala Lumpur - KL Eco CIty\t\t\n",
      "\n",
      "\t\t\tSingapore - Central\t\t\n",
      "\n",
      "\t\t\tMalaysia - Kuala Lumpur - Jalan Raja Chulan\t\t\n",
      "\n",
      "\n",
      "\n",
      "\n"
     ]
    },
    {
     "name": "stderr",
     "output_type": "stream",
     "text": [
      "\n"
     ]
    }
   ],
   "source": [
    "#timestamping\n",
    "timestamp = datetime.datetime.now().date()\n",
    "###textFile = open('D:/jobstreet_data_' + timestamp + '.txt', 'a', encoding=\"utf-8\")\n",
    "###textFile.write('Data scraped at >> ' + str(timestamp) + 'on Jobstreet')\n",
    "#we have to specify the headers to prevent https security 403 error occurs\n",
    "total_paging = 982\n",
    "advert_per_page = 20\n",
    "pbar = tqdm.tqdm(total=int(total_paging/advert_per_page))\n",
    "paging = int(total_paging/advert_per_page)\n",
    "decrement = 1\n",
    "\n",
    "#scraped area is whole malaysia and singapore (all location) because jobstreet doesn't cover much other areas\n",
    "while paging > -1 :\n",
    "    req = Request('https://www.jobstreet.com.my/en/job-search/job-vacancy.php?area=1&option=1&location=&specialization=191%2C192%2C193&job-source=3%2C64&classified=1&job-posted=0&sort=1&order=0&src=16&srcr=90&ojs=4&pg='+ str(paging), headers={'User-Agent': 'Chrome/60.0.3112.90'})\n",
    "    webpage = urlopen(req)\n",
    "    html_webpage = webpage.read()\n",
    "    soup_page = bs(html_webpage, 'html.parser')\n",
    "    #scrap all the texts from the job description div element, <div class=\"unselectable wrap-text\" id=\"job_description\">\n",
    "    for div in soup_page.findAll('a', {'class':'position-title-link'}):\n",
    "        #remove the redundant link\n",
    "        #open the job details link\n",
    "        if div.get('href') != 'https://www.jobstreet.com.my/en/job/1':\n",
    "            link = div.get('href')\n",
    "            accessible_link = link.split(\"?\")[0] #seperate out the link param that will make the site being forbid\n",
    "            req = Request(accessible_link, headers={'User-Agent': 'Chrome/59.0.3071.115'})\n",
    "            job_desc_page = urlopen(req)\n",
    "            html_job_desc_page = job_desc_page.read()\n",
    "            soup_job_desc_page = bs(html_job_desc_page, 'html.parser')\n",
    "            \n",
    "            #scraping job title and job description\n",
    "            job_title_h1 = soup_job_desc_page.find('h1', {'id':'position_title'})\n",
    "            job_desc_div = soup_job_desc_page.find('div', {'id':'job_description'})\n",
    "            ###job_salary_span = soup_job_desc_page.find('span', {'id': 'salary_range'})\n",
    "            job_location_span = soup_job_desc_page.find('span', {'id': 'single_work_location'})\n",
    "            \n",
    "            if(job_location_span == None):\n",
    "                 job_location_span = \"\"\n",
    "            else:\n",
    "                job_location_span = job_location_span.text\n",
    "            #the html page contains none h1 element\n",
    "            ###textFile = open('D:/jobstreet_data_' + str(timestamp) + '.txt', 'a', encoding=\"utf-8\")\n",
    "            ###if job_desc_div != None:\n",
    "            ###    text_data = str(job_desc_div.text)\n",
    "            ###    textFile.write(text_data + '\\n**data**\\n')\n",
    "            ###textFile.close()\n",
    "            if job_desc_div != None:\n",
    "                job_advert_data = { \n",
    "                    \"title\": str(job_title_h1.text.strip()),\n",
    "                    \"desc\": str(job_desc_div.text.strip()),\n",
    "                    #\"salary\": str(job_salary_.text),\n",
    "                    \"location\": str(job_location_span.strip()),\n",
    "                    \"date_rec\": str(timestamp),\n",
    "                    \"source\": \"jobstreet\"\n",
    "                }\n",
    "                rec_data = collection.insert_one(job_advert_data)\n",
    "                \n",
    "        if paging > -1 :\n",
    "            paging = paging - decrement\n",
    "            pbar.update(decrement)\n",
    "            print(paging)\n",
    "pbar.close()"
   ]
  },
  {
   "cell_type": "markdown",
   "metadata": {},
   "source": [
    "<font size=\"30\">---------------</font>\n",
    "<font size=\"30\">Indeed Scraping</font>\n",
    "<font size=\"30\">---------------</font>"
   ]
  },
  {
   "cell_type": "code",
   "execution_count": null,
   "metadata": {},
   "outputs": [],
   "source": [
    "sg - 990\n",
    "my -990"
   ]
  },
  {
   "cell_type": "code",
   "execution_count": 5,
   "metadata": {
    "collapsed": true
   },
   "outputs": [
    {
     "name": "stderr",
     "output_type": "stream",
     "text": [
      "\n",
      "  0%|                                                                                                                | 0/160 [00:00<?, ?it/s]\n",
      "  6%|██████▍                                                                                                | 10/160 [00:45<11:16,  4.51s/it]"
     ]
    },
    {
     "name": "stdout",
     "output_type": "stream",
     "text": [
      "150\n"
     ]
    },
    {
     "name": "stderr",
     "output_type": "stream",
     "text": [
      "\n",
      " 12%|████████████▉                                                                                          | 20/160 [02:15<13:39,  5.86s/it]"
     ]
    },
    {
     "name": "stdout",
     "output_type": "stream",
     "text": [
      "140\n"
     ]
    },
    {
     "name": "stderr",
     "output_type": "stream",
     "text": [
      "\n",
      " 19%|███████████████████▎                                                                                   | 30/160 [03:25<13:25,  6.20s/it]"
     ]
    },
    {
     "name": "stdout",
     "output_type": "stream",
     "text": [
      "130\n"
     ]
    },
    {
     "name": "stderr",
     "output_type": "stream",
     "text": [
      "\n",
      " 25%|█████████████████████████▊                                                                             | 40/160 [04:14<11:39,  5.83s/it]"
     ]
    },
    {
     "name": "stdout",
     "output_type": "stream",
     "text": [
      "120\n"
     ]
    },
    {
     "name": "stderr",
     "output_type": "stream",
     "text": [
      "\n",
      " 31%|████████████████████████████████▏                                                                      | 50/160 [05:21<11:08,  6.08s/it]"
     ]
    },
    {
     "name": "stdout",
     "output_type": "stream",
     "text": [
      "110\n"
     ]
    },
    {
     "name": "stderr",
     "output_type": "stream",
     "text": [
      "\n",
      " 38%|██████████████████████████████████████▋                                                                | 60/160 [06:11<09:36,  5.77s/it]"
     ]
    },
    {
     "name": "stdout",
     "output_type": "stream",
     "text": [
      "100\n"
     ]
    },
    {
     "name": "stderr",
     "output_type": "stream",
     "text": [
      "\n",
      " 44%|█████████████████████████████████████████████                                                          | 70/160 [07:13<08:48,  5.88s/it]"
     ]
    },
    {
     "name": "stdout",
     "output_type": "stream",
     "text": [
      "90\n"
     ]
    },
    {
     "name": "stderr",
     "output_type": "stream",
     "text": [
      "\n",
      " 50%|███████████████████████████████████████████████████▌                                                   | 80/160 [08:03<07:29,  5.62s/it]"
     ]
    },
    {
     "name": "stdout",
     "output_type": "stream",
     "text": [
      "80\n"
     ]
    },
    {
     "name": "stderr",
     "output_type": "stream",
     "text": [
      "\n",
      " 56%|█████████████████████████████████████████████████████████▉                                             | 90/160 [08:58<06:31,  5.60s/it]"
     ]
    },
    {
     "name": "stdout",
     "output_type": "stream",
     "text": [
      "70\n"
     ]
    },
    {
     "name": "stderr",
     "output_type": "stream",
     "text": [
      "\n",
      " 62%|███████████████████████████████████████████████████████████████▊                                      | 100/160 [09:38<05:06,  5.11s/it]"
     ]
    },
    {
     "name": "stdout",
     "output_type": "stream",
     "text": [
      "60\n"
     ]
    },
    {
     "name": "stderr",
     "output_type": "stream",
     "text": [
      "\n",
      " 69%|██████████████████████████████████████████████████████████████████████▏                               | 110/160 [10:32<04:19,  5.20s/it]"
     ]
    },
    {
     "name": "stdout",
     "output_type": "stream",
     "text": [
      "50\n"
     ]
    },
    {
     "name": "stderr",
     "output_type": "stream",
     "text": [
      "\n",
      " 75%|████████████████████████████████████████████████████████████████████████████▌                         | 120/160 [11:27<03:31,  5.29s/it]"
     ]
    },
    {
     "name": "stdout",
     "output_type": "stream",
     "text": [
      "40\n"
     ]
    },
    {
     "name": "stderr",
     "output_type": "stream",
     "text": [
      "\n",
      " 81%|██████████████████████████████████████████████████████████████████████████████████▉                   | 130/160 [12:09<02:28,  4.95s/it]"
     ]
    },
    {
     "name": "stdout",
     "output_type": "stream",
     "text": [
      "30\n"
     ]
    },
    {
     "name": "stderr",
     "output_type": "stream",
     "text": [
      "\n",
      " 88%|█████████████████████████████████████████████████████████████████████████████████████████▎            | 140/160 [13:03<01:42,  5.11s/it]"
     ]
    },
    {
     "name": "stdout",
     "output_type": "stream",
     "text": [
      "20\n"
     ]
    },
    {
     "name": "stderr",
     "output_type": "stream",
     "text": [
      "\n",
      " 94%|███████████████████████████████████████████████████████████████████████████████████████████████▋      | 150/160 [13:48<00:49,  4.92s/it]"
     ]
    },
    {
     "name": "stdout",
     "output_type": "stream",
     "text": [
      "10\n"
     ]
    },
    {
     "name": "stderr",
     "output_type": "stream",
     "text": [
      "\n",
      "100%|██████████████████████████████████████████████████████████████████████████████████████████████████████| 160/160 [14:42<00:00,  5.07s/it]"
     ]
    },
    {
     "name": "stdout",
     "output_type": "stream",
     "text": [
      "0\n"
     ]
    },
    {
     "name": "stderr",
     "output_type": "stream",
     "text": [
      "\n",
      "170it [15:34,  5.11s/it]                                                                                                                     "
     ]
    },
    {
     "name": "stdout",
     "output_type": "stream",
     "text": [
      "-10\n"
     ]
    }
   ],
   "source": [
    "#timestamping\n",
    "timestamp = datetime.datetime.now().date()\n",
    "###textFile = open('D:/indeed_data_' + timestamp + '.txt', 'a', encoding=\"utf-8\")\n",
    "###textFile.write('\\nData scraped at >> ' + str(timestamp) + ' on Indeed\\n')\n",
    "###textFile.close()\n",
    "\n",
    "pbar = tqdm.tqdm(total=990)\n",
    "paging = 990\n",
    "decrement = 10\n",
    "#href links from 1st page of jobstreet\n",
    "#scrap all the texts from the job description a element, <a class=\"unselectable wrap-text\" id=\"job_description\">\n",
    "while paging > -1 :\n",
    "    #req = Request('https://www.indeed.com.sg/jobs?q=IT+Software&l=Singapore&start=' + str(int(paging)), headers={'User-Agent': 'Chrome/59.0.3071.115'})\n",
    "    req = Request('https://www.indeed.com.my/jobs?q=IT+Software&l=malaysia&start=' + str(int(paging)), headers={'User-Agent': 'Chrome/59.0.3071.115'})\n",
    "    webpage = urlopen(req)\n",
    "    html_webpage = webpage.read()\n",
    "    soup_page = bs(html_webpage, 'html.parser')\n",
    "    for h2 in soup_page.findAll('h2', {'class':'jobtitle'}):\n",
    "        #remove the redundant link & open the job details link\n",
    "        link = h2.a.get('href')\n",
    "        link = 'https://www.indeed.com.my' + link\n",
    "        req = Request(link, headers={'User-Agent': 'Chrome/59.0.3071.115'})\n",
    "        job_desc_page = urlopen(req)\n",
    "        html_job_desc_page = job_desc_page.read()\n",
    "        soup_job_desc_page = bs(html_job_desc_page, 'html.parser')\n",
    "        #scraping job title and job description\n",
    "        job_title_h3 = soup_job_desc_page.find('h3', {'class':'jobsearch-JobInfoHeader-title'})\n",
    "        job_desc_div = soup_job_desc_page.find('div', {'class':'jobsearch-JobComponent-description'})\n",
    "        job_salary_div = soup_job_desc_page.find('div', {'class':'jobsearch-JobMetadataHeader-item'})\n",
    "        job_location_div = soup_job_desc_page.find('div', {'class': 'jobsearch-InlineCompanyRating'})\n",
    "        \n",
    "        if(job_location_div == None):\n",
    "            job_location_div == \"\"\n",
    "        else:\n",
    "            job_location_div = job_location_div.text\n",
    "        #the html page contains none h1 element\n",
    "        ###textFile = open('D:/indeed_data_' + str(timestamp) + '.txt', 'a', encoding=\"utf-8\")\n",
    "        ###if job_desc_div != None:\n",
    "        ###    text_data = str(job_desc_div.text)\n",
    "        ###   textFile.write(text_data)\n",
    "        ###textFile.close()\n",
    "        if job_desc_div != None:\n",
    "            job_advert_data = { \n",
    "                \"title\": str(job_title_h3.text.strip()),\n",
    "                \"desc\": str(job_desc_div.text.strip()),\n",
    "                \"salary\": str(job_salary_div.text.strip()) if job_salary_div != None else \"\",\n",
    "                \"location\": str(job_location_div.strip()),\n",
    "                \"date_rec\": str(timestamp),\n",
    "                \"source\": \"indeed\"\n",
    "            }\n",
    "            rec_data = collection.insert_one(job_advert_data) \n",
    "            \n",
    "    if paging > -1 :\n",
    "        paging = paging - decrement\n",
    "        pbar.update(decrement)\n",
    "        print(paging)\n",
    "pbar.close()"
   ]
  },
  {
   "cell_type": "markdown",
   "metadata": {},
   "source": [
    "<font size=\"30\">---------------</font>\n",
    "<font size=\"30\">Monster Scraping</font>\n",
    "<font size=\"30\">---------------</font>"
   ]
  },
  {
   "cell_type": "code",
   "execution_count": null,
   "metadata": {},
   "outputs": [],
   "source": [
    "sg - 2458\n",
    "my - 678 "
   ]
  },
  {
   "cell_type": "code",
   "execution_count": 6,
   "metadata": {
    "collapsed": true
   },
   "outputs": [
    {
     "name": "stderr",
     "output_type": "stream",
     "text": [
      "\n",
      "  0%|                                                                                                                 | 0/61 [00:00<?, ?it/s]\n",
      "  2%|█▋                                                                                                    | 1/61 [02:53<2:53:57, 173.95s/it]"
     ]
    },
    {
     "name": "stdout",
     "output_type": "stream",
     "text": [
      "60\n"
     ]
    },
    {
     "name": "stderr",
     "output_type": "stream",
     "text": [
      "\n",
      "  3%|███▎                                                                                                  | 2/61 [05:46<2:50:32, 173.43s/it]"
     ]
    },
    {
     "name": "stdout",
     "output_type": "stream",
     "text": [
      "59\n"
     ]
    },
    {
     "name": "stderr",
     "output_type": "stream",
     "text": [
      "\n",
      "  5%|█████                                                                                                 | 3/61 [08:32<2:45:30, 171.21s/it]"
     ]
    },
    {
     "name": "stdout",
     "output_type": "stream",
     "text": [
      "58\n"
     ]
    },
    {
     "name": "stderr",
     "output_type": "stream",
     "text": [
      "\n",
      "  7%|██████▋                                                                                               | 4/61 [11:35<2:46:05, 174.84s/it]"
     ]
    },
    {
     "name": "stdout",
     "output_type": "stream",
     "text": [
      "57\n"
     ]
    },
    {
     "name": "stderr",
     "output_type": "stream",
     "text": [
      "\n",
      "  8%|████████▎                                                                                             | 5/61 [14:30<2:43:07, 174.78s/it]"
     ]
    },
    {
     "name": "stdout",
     "output_type": "stream",
     "text": [
      "56\n"
     ]
    },
    {
     "name": "stderr",
     "output_type": "stream",
     "text": [
      "\n",
      " 10%|██████████                                                                                            | 6/61 [17:18<2:38:23, 172.78s/it]"
     ]
    },
    {
     "name": "stdout",
     "output_type": "stream",
     "text": [
      "55\n"
     ]
    },
    {
     "name": "stderr",
     "output_type": "stream",
     "text": [
      "\n",
      " 11%|███████████▋                                                                                          | 7/61 [20:15<2:36:42, 174.13s/it]"
     ]
    },
    {
     "name": "stdout",
     "output_type": "stream",
     "text": [
      "54\n"
     ]
    },
    {
     "name": "stderr",
     "output_type": "stream",
     "text": [
      "\n",
      " 13%|█████████████▍                                                                                        | 8/61 [23:08<2:33:35, 173.88s/it]"
     ]
    },
    {
     "name": "stdout",
     "output_type": "stream",
     "text": [
      "53\n"
     ]
    },
    {
     "name": "stderr",
     "output_type": "stream",
     "text": [
      "\n",
      " 15%|███████████████                                                                                       | 9/61 [26:10<2:32:49, 176.35s/it]"
     ]
    },
    {
     "name": "stdout",
     "output_type": "stream",
     "text": [
      "52\n"
     ]
    },
    {
     "name": "stderr",
     "output_type": "stream",
     "text": [
      "\n",
      " 16%|████████████████▌                                                                                    | 10/61 [29:18<2:32:41, 179.64s/it]"
     ]
    },
    {
     "name": "stdout",
     "output_type": "stream",
     "text": [
      "51\n"
     ]
    },
    {
     "name": "stderr",
     "output_type": "stream",
     "text": [
      "\n",
      " 18%|██████████████████▏                                                                                  | 11/61 [32:24<2:31:18, 181.57s/it]"
     ]
    },
    {
     "name": "stdout",
     "output_type": "stream",
     "text": [
      "50\n"
     ]
    },
    {
     "name": "stderr",
     "output_type": "stream",
     "text": [
      "\n",
      " 20%|███████████████████▊                                                                                 | 12/61 [35:27<2:28:34, 181.94s/it]"
     ]
    },
    {
     "name": "stdout",
     "output_type": "stream",
     "text": [
      "49\n"
     ]
    },
    {
     "name": "stderr",
     "output_type": "stream",
     "text": [
      "\n",
      " 21%|█████████████████████▌                                                                               | 13/61 [38:29<2:25:41, 182.12s/it]"
     ]
    },
    {
     "name": "stdout",
     "output_type": "stream",
     "text": [
      "48\n"
     ]
    },
    {
     "name": "stderr",
     "output_type": "stream",
     "text": [
      "\n",
      " 23%|███████████████████████▏                                                                             | 14/61 [41:27<2:21:37, 180.79s/it]"
     ]
    },
    {
     "name": "stdout",
     "output_type": "stream",
     "text": [
      "47\n"
     ]
    },
    {
     "name": "stderr",
     "output_type": "stream",
     "text": [
      "\n",
      " 25%|████████████████████████▊                                                                            | 15/61 [44:16<2:15:58, 177.35s/it]"
     ]
    },
    {
     "name": "stdout",
     "output_type": "stream",
     "text": [
      "46\n"
     ]
    },
    {
     "name": "stderr",
     "output_type": "stream",
     "text": [
      "\n",
      " 26%|██████████████████████████▍                                                                          | 16/61 [47:07<2:11:33, 175.42s/it]"
     ]
    },
    {
     "name": "stdout",
     "output_type": "stream",
     "text": [
      "45\n"
     ]
    },
    {
     "name": "stderr",
     "output_type": "stream",
     "text": [
      "\n",
      " 28%|████████████████████████████▏                                                                        | 17/61 [49:52<2:06:17, 172.21s/it]"
     ]
    },
    {
     "name": "stdout",
     "output_type": "stream",
     "text": [
      "44\n"
     ]
    },
    {
     "name": "stderr",
     "output_type": "stream",
     "text": [
      "\n",
      " 30%|█████████████████████████████▊                                                                       | 18/61 [52:56<2:05:55, 175.70s/it]"
     ]
    },
    {
     "name": "stdout",
     "output_type": "stream",
     "text": [
      "43\n"
     ]
    },
    {
     "name": "stderr",
     "output_type": "stream",
     "text": [
      "\n",
      " 31%|███████████████████████████████▍                                                                     | 19/61 [56:01<2:05:00, 178.59s/it]"
     ]
    },
    {
     "name": "stdout",
     "output_type": "stream",
     "text": [
      "42\n"
     ]
    },
    {
     "name": "stderr",
     "output_type": "stream",
     "text": [
      "\n",
      " 33%|█████████████████████████████████                                                                    | 20/61 [58:42<1:58:28, 173.39s/it]"
     ]
    },
    {
     "name": "stdout",
     "output_type": "stream",
     "text": [
      "41\n"
     ]
    },
    {
     "name": "stderr",
     "output_type": "stream",
     "text": [
      "\n",
      " 34%|██████████████████████████████████                                                                 | 21/61 [1:01:36<1:55:42, 173.56s/it]"
     ]
    },
    {
     "name": "stdout",
     "output_type": "stream",
     "text": [
      "40\n"
     ]
    },
    {
     "name": "stderr",
     "output_type": "stream",
     "text": [
      "\n",
      " 36%|███████████████████████████████████▋                                                               | 22/61 [1:04:20<1:50:50, 170.53s/it]"
     ]
    },
    {
     "name": "stdout",
     "output_type": "stream",
     "text": [
      "39\n"
     ]
    },
    {
     "name": "stderr",
     "output_type": "stream",
     "text": [
      "\n",
      " 38%|█████████████████████████████████████▎                                                             | 23/61 [1:07:13<1:48:35, 171.46s/it]"
     ]
    },
    {
     "name": "stdout",
     "output_type": "stream",
     "text": [
      "38\n"
     ]
    },
    {
     "name": "stderr",
     "output_type": "stream",
     "text": [
      "\n",
      " 39%|██████████████████████████████████████▉                                                            | 24/61 [1:09:50<1:43:01, 167.07s/it]"
     ]
    },
    {
     "name": "stdout",
     "output_type": "stream",
     "text": [
      "37\n"
     ]
    },
    {
     "name": "stderr",
     "output_type": "stream",
     "text": [
      "\n",
      " 41%|████████████████████████████████████████▌                                                          | 25/61 [1:12:15<1:36:20, 160.56s/it]"
     ]
    },
    {
     "name": "stdout",
     "output_type": "stream",
     "text": [
      "36\n"
     ]
    },
    {
     "name": "stderr",
     "output_type": "stream",
     "text": [
      "\n",
      " 43%|██████████████████████████████████████████▏                                                        | 26/61 [1:15:09<1:36:00, 164.58s/it]"
     ]
    },
    {
     "name": "stdout",
     "output_type": "stream",
     "text": [
      "35\n"
     ]
    },
    {
     "name": "stderr",
     "output_type": "stream",
     "text": [
      "\n",
      " 44%|███████████████████████████████████████████▊                                                       | 27/61 [1:18:02<1:34:34, 166.90s/it]"
     ]
    },
    {
     "name": "stdout",
     "output_type": "stream",
     "text": [
      "34\n"
     ]
    },
    {
     "name": "stderr",
     "output_type": "stream",
     "text": [
      "\n",
      " 46%|█████████████████████████████████████████████▍                                                     | 28/61 [1:20:49<1:31:47, 166.90s/it]"
     ]
    },
    {
     "name": "stdout",
     "output_type": "stream",
     "text": [
      "33\n"
     ]
    },
    {
     "name": "stderr",
     "output_type": "stream",
     "text": [
      "\n",
      " 48%|███████████████████████████████████████████████                                                    | 29/61 [1:23:09<1:24:47, 158.97s/it]"
     ]
    },
    {
     "name": "stdout",
     "output_type": "stream",
     "text": [
      "32\n"
     ]
    },
    {
     "name": "stderr",
     "output_type": "stream",
     "text": [
      "\n",
      " 49%|████████████████████████████████████████████████▋                                                  | 30/61 [1:25:48<1:22:04, 158.85s/it]"
     ]
    },
    {
     "name": "stdout",
     "output_type": "stream",
     "text": [
      "31\n"
     ]
    },
    {
     "name": "stderr",
     "output_type": "stream",
     "text": [
      "\n",
      " 51%|██████████████████████████████████████████████████▎                                                | 31/61 [1:28:49<1:22:48, 165.60s/it]"
     ]
    },
    {
     "name": "stdout",
     "output_type": "stream",
     "text": [
      "30\n"
     ]
    },
    {
     "name": "stderr",
     "output_type": "stream",
     "text": [
      "\n",
      " 52%|███████████████████████████████████████████████████▉                                               | 32/61 [1:31:27<1:18:59, 163.42s/it]"
     ]
    },
    {
     "name": "stdout",
     "output_type": "stream",
     "text": [
      "29\n"
     ]
    },
    {
     "name": "stderr",
     "output_type": "stream",
     "text": [
      "\n",
      " 54%|█████████████████████████████████████████████████████▌                                             | 33/61 [1:33:58<1:14:30, 159.67s/it]"
     ]
    },
    {
     "name": "stdout",
     "output_type": "stream",
     "text": [
      "28\n"
     ]
    },
    {
     "name": "stderr",
     "output_type": "stream",
     "text": [
      "\n",
      " 56%|███████████████████████████████████████████████████████▏                                           | 34/61 [1:36:27<1:10:25, 156.51s/it]"
     ]
    },
    {
     "name": "stdout",
     "output_type": "stream",
     "text": [
      "27\n"
     ]
    },
    {
     "name": "stderr",
     "output_type": "stream",
     "text": [
      "\n",
      " 57%|████████████████████████████████████████████████████████▊                                          | 35/61 [1:39:08<1:08:17, 157.58s/it]"
     ]
    },
    {
     "name": "stdout",
     "output_type": "stream",
     "text": [
      "26\n"
     ]
    },
    {
     "name": "stderr",
     "output_type": "stream",
     "text": [
      "\n",
      " 59%|██████████████████████████████████████████████████████████▍                                        | 36/61 [1:41:52<1:06:28, 159.54s/it]"
     ]
    },
    {
     "name": "stdout",
     "output_type": "stream",
     "text": [
      "25\n"
     ]
    },
    {
     "name": "stderr",
     "output_type": "stream",
     "text": [
      "\n",
      " 61%|████████████████████████████████████████████████████████████                                       | 37/61 [1:44:42<1:05:04, 162.70s/it]"
     ]
    },
    {
     "name": "stdout",
     "output_type": "stream",
     "text": [
      "24\n"
     ]
    },
    {
     "name": "stderr",
     "output_type": "stream",
     "text": [
      "\n",
      " 62%|█████████████████████████████████████████████████████████████▋                                     | 38/61 [1:47:24<1:02:17, 162.50s/it]"
     ]
    },
    {
     "name": "stdout",
     "output_type": "stream",
     "text": [
      "23\n"
     ]
    },
    {
     "name": "stderr",
     "output_type": "stream",
     "text": [
      "\n",
      " 64%|████████████████████████████████████████████████████████████████▌                                    | 39/61 [1:49:38<56:31, 154.16s/it]"
     ]
    },
    {
     "name": "stdout",
     "output_type": "stream",
     "text": [
      "22\n"
     ]
    },
    {
     "name": "stderr",
     "output_type": "stream",
     "text": [
      "\n",
      " 66%|██████████████████████████████████████████████████████████████████▏                                  | 40/61 [1:52:12<53:55, 154.05s/it]"
     ]
    },
    {
     "name": "stdout",
     "output_type": "stream",
     "text": [
      "21\n"
     ]
    },
    {
     "name": "stderr",
     "output_type": "stream",
     "text": [
      "\n",
      " 67%|███████████████████████████████████████████████████████████████████▉                                 | 41/61 [1:54:45<51:12, 153.65s/it]"
     ]
    },
    {
     "name": "stdout",
     "output_type": "stream",
     "text": [
      "20\n"
     ]
    },
    {
     "name": "stderr",
     "output_type": "stream",
     "text": [
      "\n",
      " 69%|█████████████████████████████████████████████████████████████████████▌                               | 42/61 [1:57:21<48:52, 154.34s/it]"
     ]
    },
    {
     "name": "stdout",
     "output_type": "stream",
     "text": [
      "19\n"
     ]
    },
    {
     "name": "stderr",
     "output_type": "stream",
     "text": [
      "\n",
      " 70%|███████████████████████████████████████████████████████████████████████▏                             | 43/61 [1:59:38<44:43, 149.11s/it]"
     ]
    },
    {
     "name": "stdout",
     "output_type": "stream",
     "text": [
      "18\n"
     ]
    },
    {
     "name": "stderr",
     "output_type": "stream",
     "text": [
      "\n",
      " 72%|████████████████████████████████████████████████████████████████████████▊                            | 44/61 [2:02:11<42:34, 150.24s/it]"
     ]
    },
    {
     "name": "stdout",
     "output_type": "stream",
     "text": [
      "17\n"
     ]
    },
    {
     "name": "stderr",
     "output_type": "stream",
     "text": [
      "\n",
      " 74%|██████████████████████████████████████████████████████████████████████████▌                          | 45/61 [2:05:04<41:53, 157.08s/it]"
     ]
    },
    {
     "name": "stdout",
     "output_type": "stream",
     "text": [
      "16\n"
     ]
    },
    {
     "name": "stderr",
     "output_type": "stream",
     "text": [
      "\n",
      " 75%|████████████████████████████████████████████████████████████████████████████▏                        | 46/61 [2:07:49<39:54, 159.62s/it]"
     ]
    },
    {
     "name": "stdout",
     "output_type": "stream",
     "text": [
      "15\n"
     ]
    },
    {
     "name": "stderr",
     "output_type": "stream",
     "text": [
      "\n",
      " 77%|█████████████████████████████████████████████████████████████████████████████▊                       | 47/61 [2:10:26<37:04, 158.89s/it]"
     ]
    },
    {
     "name": "stdout",
     "output_type": "stream",
     "text": [
      "14\n"
     ]
    },
    {
     "name": "stderr",
     "output_type": "stream",
     "text": [
      "\n",
      " 79%|███████████████████████████████████████████████████████████████████████████████▍                     | 48/61 [2:13:22<35:29, 163.79s/it]"
     ]
    },
    {
     "name": "stdout",
     "output_type": "stream",
     "text": [
      "13\n"
     ]
    },
    {
     "name": "stderr",
     "output_type": "stream",
     "text": [
      "\n",
      " 80%|█████████████████████████████████████████████████████████████████████████████████▏                   | 49/61 [2:16:10<33:00, 165.03s/it]"
     ]
    },
    {
     "name": "stdout",
     "output_type": "stream",
     "text": [
      "12\n"
     ]
    },
    {
     "name": "stderr",
     "output_type": "stream",
     "text": [
      "\n",
      " 82%|██████████████████████████████████████████████████████████████████████████████████▊                  | 50/61 [2:18:58<30:24, 165.91s/it]"
     ]
    },
    {
     "name": "stdout",
     "output_type": "stream",
     "text": [
      "11\n"
     ]
    },
    {
     "name": "stderr",
     "output_type": "stream",
     "text": [
      "\n",
      " 84%|████████████████████████████████████████████████████████████████████████████████████▍                | 51/61 [2:21:34<27:11, 163.19s/it]"
     ]
    },
    {
     "name": "stdout",
     "output_type": "stream",
     "text": [
      "10\n"
     ]
    },
    {
     "name": "stderr",
     "output_type": "stream",
     "text": [
      "\n",
      " 85%|██████████████████████████████████████████████████████████████████████████████████████               | 52/61 [2:24:19<24:32, 163.64s/it]"
     ]
    },
    {
     "name": "stdout",
     "output_type": "stream",
     "text": [
      "9\n"
     ]
    },
    {
     "name": "stderr",
     "output_type": "stream",
     "text": [
      "\n",
      " 87%|███████████████████████████████████████████████████████████████████████████████████████▊             | 53/61 [2:27:10<22:07, 165.97s/it]"
     ]
    },
    {
     "name": "stdout",
     "output_type": "stream",
     "text": [
      "8\n"
     ]
    },
    {
     "name": "stderr",
     "output_type": "stream",
     "text": [
      "\n",
      " 89%|█████████████████████████████████████████████████████████████████████████████████████████▍           | 54/61 [2:30:03<19:34, 167.85s/it]"
     ]
    },
    {
     "name": "stdout",
     "output_type": "stream",
     "text": [
      "7\n"
     ]
    },
    {
     "name": "stderr",
     "output_type": "stream",
     "text": [
      "\n",
      " 90%|███████████████████████████████████████████████████████████████████████████████████████████          | 55/61 [2:32:36<16:19, 163.33s/it]"
     ]
    },
    {
     "name": "stdout",
     "output_type": "stream",
     "text": [
      "6\n"
     ]
    },
    {
     "name": "stderr",
     "output_type": "stream",
     "text": [
      "\n",
      " 92%|████████████████████████████████████████████████████████████████████████████████████████████▋        | 56/61 [2:35:26<13:46, 165.38s/it]"
     ]
    },
    {
     "name": "stdout",
     "output_type": "stream",
     "text": [
      "5\n"
     ]
    },
    {
     "name": "stderr",
     "output_type": "stream",
     "text": [
      "\n",
      " 93%|██████████████████████████████████████████████████████████████████████████████████████████████▍      | 57/61 [2:38:00<10:47, 161.94s/it]"
     ]
    },
    {
     "name": "stdout",
     "output_type": "stream",
     "text": [
      "4\n"
     ]
    },
    {
     "name": "stderr",
     "output_type": "stream",
     "text": [
      "\n",
      " 95%|████████████████████████████████████████████████████████████████████████████████████████████████     | 58/61 [2:40:58<08:20, 166.73s/it]"
     ]
    },
    {
     "name": "stdout",
     "output_type": "stream",
     "text": [
      "3\n"
     ]
    },
    {
     "name": "stderr",
     "output_type": "stream",
     "text": [
      "\n",
      " 97%|█████████████████████████████████████████████████████████████████████████████████████████████████▋   | 59/61 [2:43:45<05:33, 166.91s/it]"
     ]
    },
    {
     "name": "stdout",
     "output_type": "stream",
     "text": [
      "2\n"
     ]
    },
    {
     "name": "stderr",
     "output_type": "stream",
     "text": [
      "\n",
      " 98%|███████████████████████████████████████████████████████████████████████████████████████████████████▎ | 60/61 [2:45:39<02:30, 150.99s/it]"
     ]
    },
    {
     "name": "stdout",
     "output_type": "stream",
     "text": [
      "1\n"
     ]
    },
    {
     "name": "stderr",
     "output_type": "stream",
     "text": [
      "\n",
      "100%|█████████████████████████████████████████████████████████████████████████████████████████████████████| 61/61 [2:47:01<00:00, 130.25s/it]"
     ]
    },
    {
     "name": "stdout",
     "output_type": "stream",
     "text": [
      "0\n"
     ]
    }
   ],
   "source": [
    "#timestamping\n",
    "timestamp = datetime.datetime.now().date()\n",
    "###textFile = open('D:/monster_data_' + str(timestamp) + '.txt', 'a', encoding=\"utf-8\")\n",
    "###textFile.write('\\nData scraped at >> ' + str(timestamp) + ' on Monster\\n')\n",
    "###textFile.close()\n",
    "\n",
    "import tqdm\n",
    "total_paging = 2458\n",
    "advert_per_page = 40\n",
    "pbar = tqdm.tqdm(total=int(total_paging/advert_per_page))\n",
    "paging = int(total_paging/advert_per_page)\n",
    "decrement = 1\n",
    "#href links from 1st page of jobstreet\n",
    "#scrap all the texts from the job description a element, <a class=\"unselectable wrap-text\" id=\"job_description\">\n",
    "while paging > 0 :\n",
    "    req = Request('https://www.monster.com.my/it-computers-software-jobs-in-singapore-'+ str(paging) +'.html', headers={'User-Agent': 'Chrome/59.0.3071.115'})\n",
    "    #req = Request('https://www.monster.com.my/it-computers-software-jobs-in-malaysia-'+ str(paging) +'.html', headers={'User-Agent': 'Chrome/59.0.3071.115'})\n",
    "    webpage = urlopen(req)\n",
    "    html_webpage = webpage.read()\n",
    "    soup_page = bs(html_webpage, 'html.parser')\n",
    "    for h2 in soup_page.findAll('h2', {'class':'seotitle'}):\n",
    "        #remove the redundant link & open the job details link\n",
    "        link = h2.a.get('href')\n",
    "        link = 'https:' + str(link)\n",
    "        req = Request(link, headers={'User-Agent': 'Chrome/59.0.3071.115'})\n",
    "        job_desc_page = urlopen(req)\n",
    "        html_job_desc_page = job_desc_page.read()\n",
    "        soup_job_desc_page = bs(html_job_desc_page, 'html.parser')\n",
    "        \n",
    "        #scraping job title and job description\n",
    "        job_title_h1 = soup_job_desc_page.find('h1', {'class':'job_title_seo'})\n",
    "        job_desc_div = soup_job_desc_page.find('div', {'class':'desc'})\n",
    "        job_salary_h1 = job_title_h1 #salary located with title together\n",
    "        job_location_div = soup_job_desc_page.find('div', {'class': 'joblnk'})\n",
    "        \n",
    "        if(job_location_div == None):\n",
    "            job_location_div = \"\"\n",
    "        else:\n",
    "            job_location_div = job_location_div.a.text\n",
    "\n",
    "        ###textFile = open('D:/monster_data_' + str(timestamp) + '.txt', 'a', encoding=\"utf-8\")\n",
    "        ###if job_desc_div != None:\n",
    "        ###    text_data = str(job_desc_div.text)\n",
    "        ###    textFile.write(text_data)\n",
    "        ###textFile.close()\n",
    "        if job_title_h1 != None:\n",
    "            job_advert_data = { \n",
    "                \"title\": str(job_title_h1.text.strip()),\n",
    "                \"desc\": str(job_desc_div.text.strip()),\n",
    "                \"salary\": str(job_salary_h1.text.strip()),\n",
    "                \"location\": str(job_location_div.strip()),\n",
    "                \"date_rec\": str(timestamp),\n",
    "                \"source\": \"monster\"\n",
    "            }\n",
    "            rec_data = collection.insert_one(job_advert_data) \n",
    "            \n",
    "    if paging > 0 :\n",
    "        paging = paging - decrement\n",
    "        pbar.update(decrement)\n",
    "        print(paging)\n",
    "pbar.close()"
   ]
  },
  {
   "cell_type": "code",
   "execution_count": null,
   "metadata": {},
   "outputs": [],
   "source": []
  },
  {
   "cell_type": "code",
   "execution_count": null,
   "metadata": {},
   "outputs": [],
   "source": []
  }
 ],
 "metadata": {
  "kernelspec": {
   "display_name": "Python 3",
   "language": "python",
   "name": "python3"
  },
  "language_info": {
   "codemirror_mode": {
    "name": "ipython",
    "version": 3
   },
   "file_extension": ".py",
   "mimetype": "text/x-python",
   "name": "python",
   "nbconvert_exporter": "python",
   "pygments_lexer": "ipython3",
   "version": "3.6.5"
  }
 },
 "nbformat": 4,
 "nbformat_minor": 2
}
