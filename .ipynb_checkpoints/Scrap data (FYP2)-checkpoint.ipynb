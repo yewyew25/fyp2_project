{
 "cells": [
  {
   "cell_type": "code",
   "execution_count": 1,
   "metadata": {},
   "outputs": [],
   "source": [
    "from bs4 import BeautifulSoup as bs\n",
    "from urllib.request import Request, urlopen\n",
    "import datetime\n",
    "import tqdm"
   ]
  },
  {
   "cell_type": "markdown",
   "metadata": {},
   "source": [
    "<font size=\"30\">Set Up MongoDB for data storage</font>"
   ]
  },
  {
   "cell_type": "code",
   "execution_count": 2,
   "metadata": {},
   "outputs": [
    {
     "name": "stdout",
     "output_type": "stream",
     "text": [
      "Connected successfully!!!\n"
     ]
    }
   ],
   "source": [
    "from pymongo import MongoClient\n",
    "\n",
    "try: \n",
    "    client = MongoClient()\n",
    "    print(\"Connected successfully!!!\") \n",
    "except:\n",
    "    print(\"Could not connect to MongoDB\") \n",
    "\n",
    "db = client.job_advert_db #select database\n",
    "collection = db.job_advert #select collection to insert"
   ]
  },
  {
   "cell_type": "markdown",
   "metadata": {},
   "source": [
    "<font size=\"30\">-------------</font>\n",
    "<font size=\"30\">JobStreet Scraping</font>\n",
    "<font size=\"30\">-------------</font>"
   ]
  },
  {
   "cell_type": "code",
   "execution_count": 3,
   "metadata": {
    "scrolled": true
   },
   "outputs": [
    {
     "name": "stderr",
     "output_type": "stream",
     "text": [
      "\r",
      "  0%|                                                                                           | 0/49 [00:00<?, ?it/s]"
     ]
    },
    {
     "name": "stdout",
     "output_type": "stream",
     "text": [
      "\n",
      "\t\t\tSingapore - Central\t\t\n"
     ]
    },
    {
     "name": "stderr",
     "output_type": "stream",
     "text": [
      "\r",
      "  2%|█▋                                                                                 | 1/49 [00:01<01:19,  1.66s/it]"
     ]
    },
    {
     "name": "stdout",
     "output_type": "stream",
     "text": [
      "48\n",
      "47\n",
      "\n",
      "\t\t\tSingapore - Central\t\t\n"
     ]
    },
    {
     "name": "stderr",
     "output_type": "stream",
     "text": [
      "\r",
      "  6%|█████                                                                              | 3/49 [00:01<00:54,  1.19s/it]"
     ]
    },
    {
     "name": "stdout",
     "output_type": "stream",
     "text": [
      "46\n",
      "\n",
      "\t\t\tSingapore - Central\t\t\n"
     ]
    },
    {
     "name": "stderr",
     "output_type": "stream",
     "text": [
      "\r",
      "  8%|██████▊                                                                            | 4/49 [00:02<00:40,  1.12it/s]"
     ]
    },
    {
     "name": "stdout",
     "output_type": "stream",
     "text": [
      "45\n",
      "\n",
      "\t\t\tSingapore - Central\t\t\n"
     ]
    },
    {
     "name": "stderr",
     "output_type": "stream",
     "text": [
      "\r",
      " 10%|████████▍                                                                          | 5/49 [00:02<00:30,  1.46it/s]"
     ]
    },
    {
     "name": "stdout",
     "output_type": "stream",
     "text": [
      "44\n",
      "\n",
      "\t\t\tSingapore - Central\t\t\n"
     ]
    },
    {
     "name": "stderr",
     "output_type": "stream",
     "text": [
      "\r",
      " 12%|██████████▏                                                                        | 6/49 [00:02<00:23,  1.83it/s]"
     ]
    },
    {
     "name": "stdout",
     "output_type": "stream",
     "text": [
      "43\n",
      "\n",
      "\t\t\tSingapore - Central\t\t\n"
     ]
    },
    {
     "name": "stderr",
     "output_type": "stream",
     "text": [
      "\r",
      " 14%|███████████▊                                                                       | 7/49 [00:02<00:18,  2.25it/s]"
     ]
    },
    {
     "name": "stdout",
     "output_type": "stream",
     "text": [
      "42\n",
      "\n",
      "\t\t\tSingapore - Central\t\t\n"
     ]
    },
    {
     "name": "stderr",
     "output_type": "stream",
     "text": [
      "\r",
      " 16%|█████████████▌                                                                     | 8/49 [00:02<00:15,  2.67it/s]"
     ]
    },
    {
     "name": "stdout",
     "output_type": "stream",
     "text": [
      "41\n",
      "\n",
      "\t\t\tSingapore - Central\t\t\n"
     ]
    },
    {
     "name": "stderr",
     "output_type": "stream",
     "text": [
      "\r",
      " 18%|███████████████▏                                                                   | 9/49 [00:03<00:13,  2.97it/s]"
     ]
    },
    {
     "name": "stdout",
     "output_type": "stream",
     "text": [
      "40\n",
      "\n",
      "\t\t\tSingapore - East\t\t\n"
     ]
    },
    {
     "name": "stderr",
     "output_type": "stream",
     "text": [
      "\r",
      " 20%|████████████████▋                                                                 | 10/49 [00:03<00:18,  2.06it/s]"
     ]
    },
    {
     "name": "stdout",
     "output_type": "stream",
     "text": [
      "39\n",
      "\n",
      "\t\t\tSingapore - Central\t\t\n"
     ]
    },
    {
     "name": "stderr",
     "output_type": "stream",
     "text": [
      "\r",
      " 22%|██████████████████▍                                                               | 11/49 [00:04<00:15,  2.44it/s]"
     ]
    },
    {
     "name": "stdout",
     "output_type": "stream",
     "text": [
      "38\n",
      "\n",
      "\t\t\tSingapore - Central\t\t\n"
     ]
    },
    {
     "name": "stderr",
     "output_type": "stream",
     "text": [
      "\r",
      " 24%|████████████████████                                                              | 12/49 [00:04<00:17,  2.17it/s]"
     ]
    },
    {
     "name": "stdout",
     "output_type": "stream",
     "text": [
      "37\n",
      "\n"
     ]
    },
    {
     "name": "stderr",
     "output_type": "stream",
     "text": [
      "\r",
      " 27%|█████████████████████▊                                                            | 13/49 [00:05<00:20,  1.79it/s]"
     ]
    },
    {
     "name": "stdout",
     "output_type": "stream",
     "text": [
      "36\n",
      "\n",
      "\t\t\tSingapore - Across Singapore\t\t\n"
     ]
    },
    {
     "name": "stderr",
     "output_type": "stream",
     "text": [
      "\r",
      " 29%|███████████████████████▍                                                          | 14/49 [00:05<00:15,  2.21it/s]"
     ]
    },
    {
     "name": "stdout",
     "output_type": "stream",
     "text": [
      "35\n",
      "\n",
      "\t\t\tSingapore - West\t\t\n"
     ]
    },
    {
     "name": "stderr",
     "output_type": "stream",
     "text": [
      "\r",
      " 31%|█████████████████████████                                                         | 15/49 [00:06<00:13,  2.50it/s]"
     ]
    },
    {
     "name": "stdout",
     "output_type": "stream",
     "text": [
      "34\n",
      "\n",
      "\t\t\tSingapore - Across Singapore\t\t\n"
     ]
    },
    {
     "name": "stderr",
     "output_type": "stream",
     "text": [
      "\r",
      " 33%|██████████████████████████▊                                                       | 16/49 [00:06<00:11,  2.85it/s]"
     ]
    },
    {
     "name": "stdout",
     "output_type": "stream",
     "text": [
      "33\n",
      "\n",
      "\t\t\tSingapore - Across Singapore\t\t\n"
     ]
    },
    {
     "name": "stderr",
     "output_type": "stream",
     "text": [
      "\r",
      " 35%|████████████████████████████▍                                                     | 17/49 [00:06<00:10,  3.19it/s]"
     ]
    },
    {
     "name": "stdout",
     "output_type": "stream",
     "text": [
      "32\n",
      "\n",
      "\t\t\tSingapore - West\t\t\n"
     ]
    },
    {
     "name": "stderr",
     "output_type": "stream",
     "text": [
      "\r",
      " 37%|██████████████████████████████                                                    | 18/49 [00:07<00:13,  2.21it/s]"
     ]
    },
    {
     "name": "stdout",
     "output_type": "stream",
     "text": [
      "31\n",
      "\n",
      "\t\t\tSingapore - Central\t\t\n"
     ]
    },
    {
     "name": "stderr",
     "output_type": "stream",
     "text": [
      "\r",
      " 39%|███████████████████████████████▊                                                  | 19/49 [00:07<00:11,  2.53it/s]"
     ]
    },
    {
     "name": "stdout",
     "output_type": "stream",
     "text": [
      "30\n",
      "\n",
      "\t\t\tSingapore - East\t\t\n"
     ]
    },
    {
     "name": "stderr",
     "output_type": "stream",
     "text": [
      "\r",
      " 41%|█████████████████████████████████▍                                                | 20/49 [00:08<00:13,  2.12it/s]"
     ]
    },
    {
     "name": "stdout",
     "output_type": "stream",
     "text": [
      "29\n",
      "\n"
     ]
    },
    {
     "name": "stderr",
     "output_type": "stream",
     "text": [
      "\r",
      " 43%|███████████████████████████████████▏                                              | 21/49 [00:08<00:10,  2.66it/s]"
     ]
    },
    {
     "name": "stdout",
     "output_type": "stream",
     "text": [
      "28\n",
      "\n",
      "\t\t\tSingapore - Central\t\t\n"
     ]
    },
    {
     "name": "stderr",
     "output_type": "stream",
     "text": [
      "\r",
      " 45%|████████████████████████████████████▊                                             | 22/49 [00:09<00:15,  1.78it/s]"
     ]
    },
    {
     "name": "stdout",
     "output_type": "stream",
     "text": [
      "27\n",
      "26\n",
      "\n",
      "\t\t\tMalaysia - Kuala Lumpur - Putrajaya / Cyberjaya\t\t\n"
     ]
    },
    {
     "name": "stderr",
     "output_type": "stream",
     "text": [
      "\r",
      " 49%|████████████████████████████████████████▏                                         | 24/49 [00:09<00:10,  2.36it/s]"
     ]
    },
    {
     "name": "stdout",
     "output_type": "stream",
     "text": [
      "25\n",
      "\n",
      "\t\t\tSingapore - East - Tampines - SIMEI\t\t\n"
     ]
    },
    {
     "name": "stderr",
     "output_type": "stream",
     "text": [
      "\r",
      " 51%|█████████████████████████████████████████▊                                        | 25/49 [00:09<00:08,  2.72it/s]"
     ]
    },
    {
     "name": "stdout",
     "output_type": "stream",
     "text": [
      "24\n",
      "\n",
      "\t\t\tSingapore - North\t\t\n"
     ]
    },
    {
     "name": "stderr",
     "output_type": "stream",
     "text": [
      "\r",
      " 53%|███████████████████████████████████████████▌                                      | 26/49 [00:10<00:07,  3.15it/s]"
     ]
    },
    {
     "name": "stdout",
     "output_type": "stream",
     "text": [
      "23\n",
      "\n",
      "\t\t\tSingapore - West - South\t\t\n"
     ]
    },
    {
     "name": "stderr",
     "output_type": "stream",
     "text": [
      "\r",
      " 55%|█████████████████████████████████████████████▏                                    | 27/49 [00:10<00:06,  3.51it/s]"
     ]
    },
    {
     "name": "stdout",
     "output_type": "stream",
     "text": [
      "22\n",
      "\n",
      "\t\t\tSingapore - West - Jurong East\t\t\n"
     ]
    },
    {
     "name": "stderr",
     "output_type": "stream",
     "text": [
      "\r",
      " 57%|██████████████████████████████████████████████▊                                   | 28/49 [00:10<00:05,  3.55it/s]"
     ]
    },
    {
     "name": "stdout",
     "output_type": "stream",
     "text": [
      "21\n",
      "\n",
      "\t\t\tMalaysia - Selangor - Cyberjaya\t\t\n"
     ]
    },
    {
     "name": "stderr",
     "output_type": "stream",
     "text": [
      "\r",
      " 59%|████████████████████████████████████████████████▌                                 | 29/49 [00:10<00:05,  3.87it/s]"
     ]
    },
    {
     "name": "stdout",
     "output_type": "stream",
     "text": [
      "20\n",
      "\n",
      "\t\t\tMalaysia - Putrajaya\t\t\n"
     ]
    },
    {
     "name": "stderr",
     "output_type": "stream",
     "text": [
      "\r",
      " 61%|██████████████████████████████████████████████████▏                               | 30/49 [00:10<00:04,  4.02it/s]"
     ]
    },
    {
     "name": "stdout",
     "output_type": "stream",
     "text": [
      "19\n",
      "\n",
      "\t\t\tSingapore - West\t\t\n"
     ]
    },
    {
     "name": "stderr",
     "output_type": "stream",
     "text": [
      "\r",
      " 63%|███████████████████████████████████████████████████▉                              | 31/49 [00:11<00:04,  4.14it/s]"
     ]
    },
    {
     "name": "stdout",
     "output_type": "stream",
     "text": [
      "18\n",
      "\n",
      "\t\t\tMalaysia - Kuala Lumpur - Bukit Bintang\t\t\n"
     ]
    },
    {
     "name": "stderr",
     "output_type": "stream",
     "text": [
      "\r",
      " 65%|█████████████████████████████████████████████████████▌                            | 32/49 [00:12<00:09,  1.82it/s]"
     ]
    },
    {
     "name": "stdout",
     "output_type": "stream",
     "text": [
      "17\n",
      "\n",
      "\t\t\tSingapore - Central\t\t\n"
     ]
    },
    {
     "name": "stderr",
     "output_type": "stream",
     "text": [
      "\r",
      " 67%|███████████████████████████████████████████████████████▏                          | 33/49 [00:12<00:07,  2.14it/s]"
     ]
    },
    {
     "name": "stdout",
     "output_type": "stream",
     "text": [
      "16\n",
      "\n",
      "\t\t\tSingapore - Across Singapore\t\t\n"
     ]
    },
    {
     "name": "stderr",
     "output_type": "stream",
     "text": [
      "\r",
      " 69%|████████████████████████████████████████████████████████▉                         | 34/49 [00:13<00:08,  1.74it/s]"
     ]
    },
    {
     "name": "stdout",
     "output_type": "stream",
     "text": [
      "15\n",
      "\n"
     ]
    },
    {
     "name": "stderr",
     "output_type": "stream",
     "text": [
      "\r",
      " 71%|██████████████████████████████████████████████████████████▌                       | 35/49 [00:13<00:06,  2.16it/s]"
     ]
    },
    {
     "name": "stdout",
     "output_type": "stream",
     "text": [
      "14\n",
      "\n",
      "\t\t\tMalaysia - Kuala Lumpur - KL Eco CIty\t\t\n"
     ]
    },
    {
     "name": "stderr",
     "output_type": "stream",
     "text": [
      "\r",
      " 73%|████████████████████████████████████████████████████████████▏                     | 36/49 [00:13<00:04,  2.65it/s]"
     ]
    },
    {
     "name": "stdout",
     "output_type": "stream",
     "text": [
      "13\n",
      "\n",
      "\t\t\tMalaysia - Kuala Lumpur\t\t\n"
     ]
    },
    {
     "name": "stderr",
     "output_type": "stream",
     "text": [
      "\r",
      " 76%|█████████████████████████████████████████████████████████████▉                    | 37/49 [00:14<00:03,  3.14it/s]"
     ]
    },
    {
     "name": "stdout",
     "output_type": "stream",
     "text": [
      "12\n",
      "\n"
     ]
    },
    {
     "name": "stderr",
     "output_type": "stream",
     "text": [
      "\r",
      " 78%|███████████████████████████████████████████████████████████████▌                  | 38/49 [00:14<00:03,  3.45it/s]"
     ]
    },
    {
     "name": "stdout",
     "output_type": "stream",
     "text": [
      "11\n",
      "\n",
      "\t\t\tMalaysia - Kuala Lumpur\t\t\n"
     ]
    },
    {
     "name": "stderr",
     "output_type": "stream",
     "text": [
      "\r",
      " 80%|█████████████████████████████████████████████████████████████████▎                | 39/49 [00:14<00:03,  2.79it/s]"
     ]
    },
    {
     "name": "stdout",
     "output_type": "stream",
     "text": [
      "10\n",
      "\n",
      "\t\t\tSingapore - Central - Central, Kuala Lumpur\t\t\n"
     ]
    },
    {
     "name": "stderr",
     "output_type": "stream",
     "text": [
      "\r",
      " 82%|██████████████████████████████████████████████████████████████████▉               | 40/49 [00:15<00:02,  3.25it/s]"
     ]
    },
    {
     "name": "stdout",
     "output_type": "stream",
     "text": [
      "9\n",
      "\n",
      "\t\t\tSingapore - Central\t\t\n"
     ]
    },
    {
     "name": "stderr",
     "output_type": "stream",
     "text": [
      "\r",
      " 84%|████████████████████████████████████████████████████████████████████▌             | 41/49 [00:15<00:03,  2.49it/s]"
     ]
    },
    {
     "name": "stdout",
     "output_type": "stream",
     "text": [
      "8\n",
      "\n",
      "\t\t\tMalaysia - Kuala Lumpur - Kuala Lumpur\t\t\n"
     ]
    },
    {
     "name": "stderr",
     "output_type": "stream",
     "text": [
      "\r",
      " 86%|██████████████████████████████████████████████████████████████████████▎           | 42/49 [00:16<00:03,  1.98it/s]"
     ]
    },
    {
     "name": "stdout",
     "output_type": "stream",
     "text": [
      "7\n",
      "\n",
      "\t\t\tMalaysia - Kuala Lumpur - Kuala Lumpur\t\t\n"
     ]
    },
    {
     "name": "stderr",
     "output_type": "stream",
     "text": [
      "\r",
      " 88%|███████████████████████████████████████████████████████████████████████▉          | 43/49 [00:17<00:04,  1.37it/s]"
     ]
    },
    {
     "name": "stdout",
     "output_type": "stream",
     "text": [
      "6\n",
      "5\n",
      "\n",
      "\t\t\tMalaysia - Kuala Lumpur - Kuala Lumpur\t\t\n"
     ]
    },
    {
     "name": "stderr",
     "output_type": "stream",
     "text": [
      "\r",
      " 92%|███████████████████████████████████████████████████████████████████████████▎      | 45/49 [00:17<00:02,  1.84it/s]"
     ]
    },
    {
     "name": "stdout",
     "output_type": "stream",
     "text": [
      "4\n",
      "\n",
      "\t\t\tMalaysia - Kuala Lumpur - Kuala Lumpur\t\t\n"
     ]
    },
    {
     "name": "stderr",
     "output_type": "stream",
     "text": [
      "\r",
      " 94%|████████████████████████████████████████████████████████████████████████████▉     | 46/49 [00:18<00:01,  2.22it/s]"
     ]
    },
    {
     "name": "stdout",
     "output_type": "stream",
     "text": [
      "3\n",
      "\n",
      "\t\t\tSingapore - East\t\t\n"
     ]
    },
    {
     "name": "stderr",
     "output_type": "stream",
     "text": [
      "\r",
      " 96%|██████████████████████████████████████████████████████████████████████████████▋   | 47/49 [00:18<00:00,  2.60it/s]"
     ]
    },
    {
     "name": "stdout",
     "output_type": "stream",
     "text": [
      "2\n",
      "\n",
      "\t\t\tSingapore - East\t\t\n"
     ]
    },
    {
     "name": "stderr",
     "output_type": "stream",
     "text": [
      "\r",
      " 98%|████████████████████████████████████████████████████████████████████████████████▎ | 48/49 [00:18<00:00,  2.86it/s]"
     ]
    },
    {
     "name": "stdout",
     "output_type": "stream",
     "text": [
      "1\n",
      "\n",
      "\t\t\tSingapore - West\t\t\n"
     ]
    },
    {
     "name": "stderr",
     "output_type": "stream",
     "text": [
      "\r",
      "100%|██████████████████████████████████████████████████████████████████████████████████| 49/49 [00:18<00:00,  3.20it/s]"
     ]
    },
    {
     "name": "stdout",
     "output_type": "stream",
     "text": [
      "0\n",
      "\n",
      "\t\t\tSingapore - Across Singapore\t\t\n"
     ]
    },
    {
     "name": "stderr",
     "output_type": "stream",
     "text": [
      "\r",
      "50it [00:19,  3.50it/s]                                                                                                "
     ]
    },
    {
     "name": "stdout",
     "output_type": "stream",
     "text": [
      "-1\n",
      "\n",
      "\t\t\tSingapore - Across Singapore\t\t\n",
      "\n",
      "\t\t\tSingapore - Central\t\t\n",
      "\n",
      "\t\t\tMalaysia - Kuala Lumpur\t\t\n",
      "\n",
      "\t\t\tMalaysia - Kuala Lumpur\t\t\n",
      "\n",
      "\t\t\tSingapore - North-East\t\t\n",
      "\n",
      "\t\t\tMalaysia - Kuala Lumpur\t\t\n",
      "\n",
      "\t\t\tMalaysia - Kuala Lumpur - KL Eco CIty\t\t\n",
      "\n",
      "\t\t\tSingapore - Central\t\t\n",
      "\n",
      "\t\t\tMalaysia - Kuala Lumpur - Jalan Raja Chulan\t\t\n",
      "\n",
      "\n",
      "\n",
      "\n"
     ]
    },
    {
     "name": "stderr",
     "output_type": "stream",
     "text": [
      "\n"
     ]
    }
   ],
   "source": [
    "#timestamping\n",
    "timestamp = datetime.datetime.now().date()\n",
    "###textFile = open('D:/jobstreet_data_' + timestamp + '.txt', 'a', encoding=\"utf-8\")\n",
    "###textFile.write('Data scraped at >> ' + str(timestamp) + 'on Jobstreet')\n",
    "#we have to specify the headers to prevent https security 403 error occurs\n",
    "total_paging = 982\n",
    "advert_per_page = 20\n",
    "pbar = tqdm.tqdm(total=int(total_paging/advert_per_page))\n",
    "paging = int(total_paging/advert_per_page)\n",
    "decrement = 1\n",
    "\n",
    "#scraped area is whole malaysia and singapore (all location) because jobstreet doesn't cover much other areas\n",
    "while paging > -1 :\n",
    "    req = Request('https://www.jobstreet.com.my/en/job-search/job-vacancy.php?area=1&option=1&location=&specialization=191%2C192%2C193&job-source=3%2C64&classified=1&job-posted=0&sort=1&order=0&src=16&srcr=90&ojs=4&pg='+ str(paging), headers={'User-Agent': 'Chrome/60.0.3112.90'})\n",
    "    webpage = urlopen(req)\n",
    "    html_webpage = webpage.read()\n",
    "    soup_page = bs(html_webpage, 'html.parser')\n",
    "    #scrap all the texts from the job description div element, <div class=\"unselectable wrap-text\" id=\"job_description\">\n",
    "    for div in soup_page.findAll('a', {'class':'position-title-link'}):\n",
    "        #remove the redundant link\n",
    "        #open the job details link\n",
    "        if div.get('href') != 'https://www.jobstreet.com.my/en/job/1':\n",
    "            link = div.get('href')\n",
    "            accessible_link = link.split(\"?\")[0] #seperate out the link param that will make the site being forbid\n",
    "            req = Request(accessible_link, headers={'User-Agent': 'Chrome/59.0.3071.115'})\n",
    "            job_desc_page = urlopen(req)\n",
    "            html_job_desc_page = job_desc_page.read()\n",
    "            soup_job_desc_page = bs(html_job_desc_page, 'html.parser')\n",
    "            \n",
    "            #scraping job title and job description\n",
    "            job_title_h1 = soup_job_desc_page.find('h1', {'id':'position_title'})\n",
    "            job_desc_div = soup_job_desc_page.find('div', {'id':'job_description'})\n",
    "            ###job_salary_span = soup_job_desc_page.find('span', {'id': 'salary_range'})\n",
    "            job_location_span = soup_job_desc_page.find('span', {'id': 'single_work_location'})\n",
    "            \n",
    "            if(job_location_span == None):\n",
    "                 job_location_span = \"\"\n",
    "            else:\n",
    "                job_location_span = job_location_span.text\n",
    "            #the html page contains none h1 element\n",
    "            ###textFile = open('D:/jobstreet_data_' + str(timestamp) + '.txt', 'a', encoding=\"utf-8\")\n",
    "            ###if job_desc_div != None:\n",
    "            ###    text_data = str(job_desc_div.text)\n",
    "            ###    textFile.write(text_data + '\\n**data**\\n')\n",
    "            ###textFile.close()\n",
    "            print(job_location_span)\n",
    "            if job_desc_div != None:\n",
    "                job_advert_data = { \n",
    "                    \"title\": str(job_title_h1.text.strip()),\n",
    "                    \"desc\": str(job_desc_div.text.strip()),\n",
    "                    #\"salary\": str(job_salary_.text),\n",
    "                    \"location\": str(job_location_span.strip()),\n",
    "                    \"date_rec\": str(timestamp),\n",
    "                    \"source\": \"jobstreet\"\n",
    "                }\n",
    "                rec_data = collection.insert_one(job_advert_data)\n",
    "                \n",
    "        if paging > -1 :\n",
    "            paging = paging - decrement\n",
    "            pbar.update(decrement)\n",
    "            print(paging)\n",
    "pbar.close()"
   ]
  },
  {
   "cell_type": "markdown",
   "metadata": {},
   "source": [
    "<font size=\"30\">---------------</font>\n",
    "<font size=\"30\">Indeed Scraping</font>\n",
    "<font size=\"30\">---------------</font>"
   ]
  },
  {
   "cell_type": "code",
   "execution_count": null,
   "metadata": {},
   "outputs": [],
   "source": [
    "sg - 990\n",
    "my -990"
   ]
  },
  {
   "cell_type": "code",
   "execution_count": null,
   "metadata": {
    "scrolled": true
   },
   "outputs": [
    {
     "name": "stderr",
     "output_type": "stream",
     "text": [
      "  1%|▊                                                                              | 10/990 [00:44<1:12:43,  4.45s/it]"
     ]
    },
    {
     "name": "stdout",
     "output_type": "stream",
     "text": [
      "980\n"
     ]
    },
    {
     "name": "stderr",
     "output_type": "stream",
     "text": [
      "\r",
      "  2%|█▌                                                                             | 20/990 [01:57<1:25:44,  5.30s/it]"
     ]
    },
    {
     "name": "stdout",
     "output_type": "stream",
     "text": [
      "970\n"
     ]
    },
    {
     "name": "stderr",
     "output_type": "stream",
     "text": [
      "\r",
      "  3%|██▍                                                                            | 30/990 [02:57<1:28:25,  5.53s/it]"
     ]
    },
    {
     "name": "stdout",
     "output_type": "stream",
     "text": [
      "960\n"
     ]
    },
    {
     "name": "stderr",
     "output_type": "stream",
     "text": [
      "\r",
      "  4%|███▏                                                                           | 40/990 [03:51<1:26:32,  5.47s/it]"
     ]
    },
    {
     "name": "stdout",
     "output_type": "stream",
     "text": [
      "950\n"
     ]
    },
    {
     "name": "stderr",
     "output_type": "stream",
     "text": [
      "\r",
      "  5%|███▉                                                                           | 50/990 [04:48<1:26:54,  5.55s/it]"
     ]
    },
    {
     "name": "stdout",
     "output_type": "stream",
     "text": [
      "940\n"
     ]
    },
    {
     "name": "stderr",
     "output_type": "stream",
     "text": [
      "\r",
      "  6%|████▊                                                                          | 60/990 [05:50<1:29:06,  5.75s/it]"
     ]
    },
    {
     "name": "stdout",
     "output_type": "stream",
     "text": [
      "930\n"
     ]
    },
    {
     "name": "stderr",
     "output_type": "stream",
     "text": [
      "\r",
      "  7%|█████▌                                                                         | 70/990 [06:53<1:30:37,  5.91s/it]"
     ]
    },
    {
     "name": "stdout",
     "output_type": "stream",
     "text": [
      "920\n"
     ]
    },
    {
     "name": "stderr",
     "output_type": "stream",
     "text": [
      "\r",
      "  8%|██████▍                                                                        | 80/990 [07:35<1:21:52,  5.40s/it]"
     ]
    },
    {
     "name": "stdout",
     "output_type": "stream",
     "text": [
      "910\n"
     ]
    },
    {
     "name": "stderr",
     "output_type": "stream",
     "text": [
      "\r",
      "  9%|███████▏                                                                       | 90/990 [08:31<1:21:54,  5.46s/it]"
     ]
    },
    {
     "name": "stdout",
     "output_type": "stream",
     "text": [
      "900\n"
     ]
    },
    {
     "name": "stderr",
     "output_type": "stream",
     "text": [
      "\r",
      " 10%|███████▉                                                                      | 100/990 [09:19<1:18:01,  5.26s/it]"
     ]
    },
    {
     "name": "stdout",
     "output_type": "stream",
     "text": [
      "890\n"
     ]
    },
    {
     "name": "stderr",
     "output_type": "stream",
     "text": [
      "\r",
      " 11%|████████▋                                                                     | 110/990 [10:27<1:23:39,  5.70s/it]"
     ]
    },
    {
     "name": "stdout",
     "output_type": "stream",
     "text": [
      "880\n"
     ]
    },
    {
     "name": "stderr",
     "output_type": "stream",
     "text": [
      "\r",
      " 12%|█████████▍                                                                    | 120/990 [11:46<1:32:19,  6.37s/it]"
     ]
    },
    {
     "name": "stdout",
     "output_type": "stream",
     "text": [
      "870\n"
     ]
    },
    {
     "name": "stderr",
     "output_type": "stream",
     "text": [
      "\r",
      " 13%|██████████▏                                                                   | 130/990 [12:53<1:32:59,  6.49s/it]"
     ]
    },
    {
     "name": "stdout",
     "output_type": "stream",
     "text": [
      "860\n"
     ]
    },
    {
     "name": "stderr",
     "output_type": "stream",
     "text": [
      "\r",
      " 14%|███████████                                                                   | 140/990 [14:08<1:36:12,  6.79s/it]"
     ]
    },
    {
     "name": "stdout",
     "output_type": "stream",
     "text": [
      "850\n"
     ]
    },
    {
     "name": "stderr",
     "output_type": "stream",
     "text": [
      "\r",
      " 15%|███████████▊                                                                  | 150/990 [15:08<1:31:45,  6.55s/it]"
     ]
    },
    {
     "name": "stdout",
     "output_type": "stream",
     "text": [
      "840\n"
     ]
    },
    {
     "name": "stderr",
     "output_type": "stream",
     "text": [
      "\r",
      " 16%|████████████▌                                                                 | 160/990 [16:19<1:32:52,  6.71s/it]"
     ]
    },
    {
     "name": "stdout",
     "output_type": "stream",
     "text": [
      "830\n"
     ]
    },
    {
     "name": "stderr",
     "output_type": "stream",
     "text": [
      "\r",
      " 17%|█████████████▍                                                                | 170/990 [17:06<1:23:20,  6.10s/it]"
     ]
    },
    {
     "name": "stdout",
     "output_type": "stream",
     "text": [
      "820\n"
     ]
    },
    {
     "name": "stderr",
     "output_type": "stream",
     "text": [
      "\r",
      " 18%|██████████████▏                                                               | 180/990 [18:10<1:23:33,  6.19s/it]"
     ]
    },
    {
     "name": "stdout",
     "output_type": "stream",
     "text": [
      "810\n"
     ]
    },
    {
     "name": "stderr",
     "output_type": "stream",
     "text": [
      "\r",
      " 19%|██████████████▉                                                               | 190/990 [18:56<1:16:14,  5.72s/it]"
     ]
    },
    {
     "name": "stdout",
     "output_type": "stream",
     "text": [
      "800\n"
     ]
    },
    {
     "name": "stderr",
     "output_type": "stream",
     "text": [
      "\r",
      " 20%|███████████████▊                                                              | 200/990 [19:45<1:12:08,  5.48s/it]"
     ]
    },
    {
     "name": "stdout",
     "output_type": "stream",
     "text": [
      "790\n"
     ]
    }
   ],
   "source": [
    "#timestamping\n",
    "timestamp = datetime.datetime.now().date()\n",
    "###textFile = open('D:/indeed_data_' + timestamp + '.txt', 'a', encoding=\"utf-8\")\n",
    "###textFile.write('\\nData scraped at >> ' + str(timestamp) + ' on Indeed\\n')\n",
    "###textFile.close()\n",
    "\n",
    "pbar = tqdm.tqdm(total=990)\n",
    "paging = 990\n",
    "decrement = 10\n",
    "#href links from 1st page of jobstreet\n",
    "#scrap all the texts from the job description a element, <a class=\"unselectable wrap-text\" id=\"job_description\">\n",
    "while paging > -1 :\n",
    "    req = Request('https://www.indeed.com.sg/jobs?q=IT+Software&l=Singapore&start=' + str(int(paging)), headers={'User-Agent': 'Chrome/59.0.3071.115'})\n",
    "    #req = Request('https://www.indeed.com.my/jobs?q=IT+Software&l=malaysia&start=' + str(int(paging)), headers={'User-Agent': 'Chrome/59.0.3071.115'})\n",
    "    webpage = urlopen(req)\n",
    "    html_webpage = webpage.read()\n",
    "    soup_page = bs(html_webpage, 'html.parser')\n",
    "    for h2 in soup_page.findAll('h2', {'class':'jobtitle'}):\n",
    "        #remove the redundant link & open the job details link\n",
    "        link = h2.a.get('href')\n",
    "        link = 'https://www.indeed.com.my' + link\n",
    "        req = Request(link, headers={'User-Agent': 'Chrome/59.0.3071.115'})\n",
    "        job_desc_page = urlopen(req)\n",
    "        html_job_desc_page = job_desc_page.read()\n",
    "        soup_job_desc_page = bs(html_job_desc_page, 'html.parser')\n",
    "        #scraping job title and job description\n",
    "        job_title_h3 = soup_job_desc_page.find('h3', {'class':'jobsearch-JobInfoHeader-title'})\n",
    "        job_desc_div = soup_job_desc_page.find('div', {'class':'jobsearch-JobComponent-description'})\n",
    "        job_salary_div = soup_job_desc_page.find('div', {'class':'jobsearch-JobMetadataHeader-item'})\n",
    "        job_location_div = soup_job_desc_page.find('div', {'class': 'jobsearch-InlineCompanyRating'})\n",
    "        \n",
    "        if(job_location_div == None):\n",
    "            job_location_div == \"\"\n",
    "        else:\n",
    "            job_location_div = job_location_div.text\n",
    "        #the html page contains none h1 element\n",
    "        ###textFile = open('D:/indeed_data_' + str(timestamp) + '.txt', 'a', encoding=\"utf-8\")\n",
    "        ###if job_desc_div != None:\n",
    "        ###    text_data = str(job_desc_div.text)\n",
    "        ###   textFile.write(text_data)\n",
    "        ###textFile.close()\n",
    "        if job_desc_div != None:\n",
    "            job_advert_data = { \n",
    "                \"title\": str(job_title_h3.text.strip()),\n",
    "                \"desc\": str(job_desc_div.text.strip()),\n",
    "                \"salary\": str(job_salary_div.text.strip()) if job_salary_div != None else \"\",\n",
    "                \"location\": str(job_location_div.strip()),\n",
    "                \"date_rec\": str(timestamp),\n",
    "                \"source\": \"indeed\"\n",
    "            }\n",
    "            rec_data = collection.insert_one(job_advert_data) \n",
    "            \n",
    "    if paging > -1 :\n",
    "        paging = paging - decrement\n",
    "        pbar.update(decrement)\n",
    "        print(paging)\n",
    "pbar.close()"
   ]
  },
  {
   "cell_type": "markdown",
   "metadata": {},
   "source": [
    "<font size=\"30\">---------------</font>\n",
    "<font size=\"30\">Monster Scraping</font>\n",
    "<font size=\"30\">---------------</font>"
   ]
  },
  {
   "cell_type": "code",
   "execution_count": null,
   "metadata": {},
   "outputs": [],
   "source": [
    "sg - 2458\n",
    "my - 678 "
   ]
  },
  {
   "cell_type": "code",
   "execution_count": null,
   "metadata": {},
   "outputs": [],
   "source": [
    "#timestamping\n",
    "timestamp = datetime.datetime.now().date()\n",
    "###textFile = open('D:/monster_data_' + str(timestamp) + '.txt', 'a', encoding=\"utf-8\")\n",
    "###textFile.write('\\nData scraped at >> ' + str(timestamp) + ' on Monster\\n')\n",
    "###textFile.close()\n",
    "\n",
    "import tqdm\n",
    "total_paging = 2458\n",
    "advert_per_page = 40\n",
    "pbar = tqdm.tqdm(total=int(total_paging/advert_per_page))\n",
    "paging = int(total_paging/advert_per_page)\n",
    "decrement = 1\n",
    "#href links from 1st page of jobstreet\n",
    "#scrap all the texts from the job description a element, <a class=\"unselectable wrap-text\" id=\"job_description\">\n",
    "while paging > 0 :\n",
    "    req = Request('https://www.monster.com.my/it-computers-software-jobs-in-singapore-'+ str(paging) +'.html', headers={'User-Agent': 'Chrome/59.0.3071.115'})\n",
    "    #req = Request('https://www.monster.com.my/it-computers-software-jobs-in-malaysia-'+ str(paging) +'.html', headers={'User-Agent': 'Chrome/59.0.3071.115'})\n",
    "    webpage = urlopen(req)\n",
    "    html_webpage = webpage.read()\n",
    "    soup_page = bs(html_webpage, 'html.parser')\n",
    "    for h2 in soup_page.findAll('h2', {'class':'seotitle'}):\n",
    "        #remove the redundant link & open the job details link\n",
    "        link = h2.a.get('href')\n",
    "        link = 'https:' + str(link)\n",
    "        req = Request(link, headers={'User-Agent': 'Chrome/59.0.3071.115'})\n",
    "        job_desc_page = urlopen(req)\n",
    "        html_job_desc_page = job_desc_page.read()\n",
    "        soup_job_desc_page = bs(html_job_desc_page, 'html.parser')\n",
    "        \n",
    "        #scraping job title and job description\n",
    "        job_title_h1 = soup_job_desc_page.find('h1', {'class':'job_title_seo'})\n",
    "        job_desc_div = soup_job_desc_page.find('div', {'class':'desc'})\n",
    "        job_salary_h1 = job_title_h1 #salary located with title together\n",
    "        job_location_div = soup_job_desc_page.find('div', {'class': 'joblnk'})\n",
    "        \n",
    "        if(job_location_div == None):\n",
    "            job_location_div = \"\"\n",
    "        else:\n",
    "            job_location_div = job_location_div.a.text\n",
    "\n",
    "        ###textFile = open('D:/monster_data_' + str(timestamp) + '.txt', 'a', encoding=\"utf-8\")\n",
    "        ###if job_desc_div != None:\n",
    "        ###    text_data = str(job_desc_div.text)\n",
    "        ###    textFile.write(text_data)\n",
    "        ###textFile.close()\n",
    "        if job_title_h1 != None:\n",
    "            job_advert_data = { \n",
    "                \"title\": str(job_title_h1.text.strip()),\n",
    "                \"desc\": str(job_desc_div.text.strip()),\n",
    "                \"salary\": str(job_salary_h1.text.strip()),\n",
    "                \"location\": str(job_location_div.strip()),\n",
    "                \"date_rec\": str(timestamp),\n",
    "                \"source\": \"monster\"\n",
    "            }\n",
    "            rec_data = collection.insert_one(job_advert_data) \n",
    "            \n",
    "    if paging > 0 :\n",
    "        paging = paging - decrement\n",
    "        pbar.update(decrement)\n",
    "        print(paging)\n",
    "pbar.close()"
   ]
  },
  {
   "cell_type": "code",
   "execution_count": null,
   "metadata": {},
   "outputs": [],
   "source": []
  },
  {
   "cell_type": "code",
   "execution_count": null,
   "metadata": {},
   "outputs": [],
   "source": []
  }
 ],
 "metadata": {
  "kernelspec": {
   "display_name": "Python 3",
   "language": "python",
   "name": "python3"
  },
  "language_info": {
   "codemirror_mode": {
    "name": "ipython",
    "version": 3
   },
   "file_extension": ".py",
   "mimetype": "text/x-python",
   "name": "python",
   "nbconvert_exporter": "python",
   "pygments_lexer": "ipython3",
   "version": "3.6.5"
  }
 },
 "nbformat": 4,
 "nbformat_minor": 2
}
